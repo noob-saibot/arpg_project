{
 "cells": [
  {
   "cell_type": "code",
   "execution_count": 1,
   "metadata": {},
   "outputs": [],
   "source": [
    "import torch\n",
    "import torch.nn as nn\n",
    "import torch.nn.functional as F\n",
    "import torch.optim as optim\n",
    "from torch.distributions import Categorical\n",
    "\n",
    "import gym\n",
    "from tqdm.notebook import tqdm\n",
    "import numpy as np\n",
    "from typing import NamedTuple\n",
    "from itertools import chain"
   ]
  },
  {
   "cell_type": "code",
   "execution_count": 2,
   "metadata": {},
   "outputs": [],
   "source": [
    "from policy_generator.policy_instances.envs.simple_arena import ActionSpace"
   ]
  },
  {
   "cell_type": "code",
   "execution_count": 3,
   "metadata": {},
   "outputs": [],
   "source": [
    "#device to run model on \n",
    "DEVICE = \"cuda\" if torch.cuda.is_available() else \"cpu\"\n",
    "# DEVICE = 'cpu'"
   ]
  },
  {
   "cell_type": "code",
   "execution_count": 4,
   "metadata": {},
   "outputs": [],
   "source": [
    "class ObsSpace(NamedTuple):\n",
    "    agent: np.ndarray\n",
    "    agent_direction: int\n",
    "    target: np.ndarray\n",
    "    velocity: int"
   ]
  },
  {
   "cell_type": "code",
   "execution_count": 5,
   "metadata": {},
   "outputs": [],
   "source": [
    "class PolicyNetwork(nn.Module):\n",
    "    #Takes in observations and outputs actions\n",
    "    def __init__(self, observation_space, action_space, shape):\n",
    "        super(PolicyNetwork, self).__init__()\n",
    "        self.model = nn.Sequential(\n",
    "            nn.Linear(observation_space, shape),\n",
    "            nn.ReLU(),\n",
    "            nn.Linear(shape, shape),\n",
    "            nn.ReLU(),\n",
    "            nn.Linear(shape, shape),\n",
    "            nn.ReLU(),\n",
    "            nn.Linear(shape, action_space)\n",
    "        )\n",
    "    \n",
    "    #forward pass\n",
    "    def forward(self, x):\n",
    "        actions = self.model(x)\n",
    "        action_probs = F.softmax(actions, dim=1)\n",
    "        return action_probs\n",
    "\n",
    "class PGBot:\n",
    "    def __init__(self):\n",
    "        self.model = None\n",
    "        self.train_config = None\n",
    "        \n",
    "    def training_config(self, **kwargs):\n",
    "        if kwargs:\n",
    "            self.train_config = kwargs\n",
    "        else:\n",
    "            self.train_config = {\n",
    "                'discount_factor': 0.96,\n",
    "                'max_steps': 1000,\n",
    "                'learning_rate': 1e-5,\n",
    "                'num_episodes': 10000,\n",
    "                'network_shape': 128,\n",
    "                }\n",
    "#             b_params = {'discount_factor': 0.9589431748343439,\n",
    "#                         'learning_rate': 0.09167455769715335,\n",
    "#                         'network_shape': 39}\n",
    "            \n",
    "    def _init_environment(self):\n",
    "        #Make environment\n",
    "        env = gym.make(\"policy_instances/SimpleArena-v0\")\n",
    "\n",
    "        #Init network\n",
    "        network = PolicyNetwork(env.shape, env.action_space.n, self.train_config['network_shape']).to(DEVICE)\n",
    "\n",
    "        #Init optimizer\n",
    "        optimizer = optim.Adam(network.parameters(), lr=self.train_config['learning_rate'])\n",
    "        return env, network, optimizer\n",
    "    \n",
    "    def train(self, verbose=0):\n",
    "        env, network, optimizer = self._init_environment()\n",
    "        \n",
    "        #track scores\n",
    "        scores = []\n",
    "\n",
    "        #iterate through episodes\n",
    "        for episode in tqdm(range(self.train_config['num_episodes'])):\n",
    "\n",
    "            #reset environment, initiable variables\n",
    "            state = env.reset()\n",
    "            rewards = []\n",
    "            log_probs = []\n",
    "            score = 0\n",
    "            actions_dist = []\n",
    "\n",
    "            #generate episode\n",
    "            for step in range(self.train_config['max_steps']):\n",
    "                env.render()\n",
    "\n",
    "                #select action\n",
    "                action, lp = select_action(network, state)\n",
    "                actions_dist.append(action)\n",
    "\n",
    "                #execute action\n",
    "                new_state, reward, done, _, _ = env.step(action)\n",
    "\n",
    "                #track episode score\n",
    "                score += reward\n",
    "\n",
    "                #store reward and log probability\n",
    "                rewards.append(reward)\n",
    "                log_probs.append(lp)\n",
    "\n",
    "                #end episode\n",
    "                if done:\n",
    "                    break\n",
    "\n",
    "                #move into new state\n",
    "                state = new_state\n",
    "\n",
    "            #append score\n",
    "            scores.append(score)\n",
    "            if verbose > 0:\n",
    "                print('Score:', score)\n",
    "\n",
    "            #Calculate Gt (cumulative discounted rewards)\n",
    "            discounted_rewards = []\n",
    "\n",
    "            #track cumulative reward\n",
    "            total_r = .0\n",
    "\n",
    "            #iterate rewards from Gt to G0\n",
    "            for r in reversed(rewards):\n",
    "                # print(type(r), type(total_r), type(DISCOUNT_FACTOR), type(total_r ** DISCOUNT_FACTOR))\n",
    "                # print(r, total_r, DISCOUNT_FACTOR, total_r ** DISCOUNT_FACTOR)\n",
    "\n",
    "                #Base case: G(T) = r(T)\n",
    "                #Recursive: G(t) = r(t) + G(t+1)^DISCOUNT\n",
    "                if total_r < 0:\n",
    "                    total_r = r - np.abs(total_r) ** self.train_config['discount_factor']\n",
    "                else:\n",
    "                    total_r = r + total_r ** self.train_config['discount_factor']\n",
    "\n",
    "                #append to discounted rewards\n",
    "                discounted_rewards.append(total_r)\n",
    "\n",
    "            #reverse discounted rewards\n",
    "            rewards = torch.tensor(discounted_rewards).to(DEVICE)\n",
    "            rewards = torch.flip(rewards, [0])\n",
    "\n",
    "            #adjusting policy parameters with gradient ascent\n",
    "            loss = []\n",
    "            for r, lp in zip(rewards, log_probs):\n",
    "                #we add a negative sign since network will perform gradient descent and we are doing gradient ascent with REINFORCE\n",
    "                loss.append(-r * lp)\n",
    "\n",
    "\n",
    "            #Backpropagation\n",
    "            optimizer.zero_grad()\n",
    "            sum(loss).backward()\n",
    "            # print('Loss:', sum(loss))\n",
    "            if verbose > 0:\n",
    "                print(list(zip(*np.unique(actions_dist, return_counts=True))))\n",
    "            optimizer.step()\n",
    "\n",
    "        env.close()\n",
    "        return scores\n",
    "\n",
    "            \n",
    "def select_action(network, state):\n",
    "    ''' Selects an action given current state\n",
    "    Args:\n",
    "    - network (Torch NN): network to process state\n",
    "    - state (Array): Array of action space in an environment\n",
    "    \n",
    "    Return:\n",
    "    - (int): action that is selected\n",
    "    - (float): log probability of selecting that action given state and network\n",
    "    '''\n",
    "    #convert state to float tensor, add 1 dimension, allocate tensor on device\n",
    "    state = ObsSpace(**state[0] if isinstance(state, tuple) else state)\n",
    "    unpack_state = list(chain(state.agent, state.target, [state.velocity, state.agent_direction]))\n",
    "    state = torch.Tensor(unpack_state).float().unsqueeze(0).to(DEVICE)\n",
    "    \n",
    "    #use network to predict action probabilities\n",
    "    action_probs = network(state)\n",
    "    \n",
    "    #sample an action using the probability distribution\n",
    "    m = Categorical(action_probs)\n",
    "    action = m.sample()\n",
    "    # print(m, action)\n",
    "    \n",
    "    #return action\n",
    "    return action.item(), m.log_prob(action)"
   ]
  },
  {
   "cell_type": "code",
   "execution_count": null,
   "metadata": {
    "scrolled": true
   },
   "outputs": [
    {
     "data": {
      "application/vnd.jupyter.widget-view+json": {
       "model_id": "b6155aa5809a40f18a3d3b26ae6aae9b",
       "version_major": 2,
       "version_minor": 0
      },
      "text/plain": [
       "  0%|          | 0/10000 [00:00<?, ?it/s]"
      ]
     },
     "metadata": {},
     "output_type": "display_data"
    },
    {
     "name": "stderr",
     "output_type": "stream",
     "text": [
      "/home/beast/.local/lib/python3.8/site-packages/gym/utils/passive_env_checker.py:165: UserWarning: \u001b[33mWARN: The obs returned by the `reset()` method is not within the observation space.\u001b[0m\n",
      "  logger.warn(f\"{pre} is not within the observation space.\")\n",
      "/home/beast/.local/lib/python3.8/site-packages/gym/utils/passive_env_checker.py:165: UserWarning: \u001b[33mWARN: The obs returned by the `step()` method is not within the observation space.\u001b[0m\n",
      "  logger.warn(f\"{pre} is not within the observation space.\")\n"
     ]
    },
    {
     "name": "stdout",
     "output_type": "stream",
     "text": [
      "Score: -76\n",
      "[(0, 3), (1, 11), (2, 11), (3, 47), (4, 28)]\n",
      "Score: -46\n",
      "[(0, 2), (1, 13), (2, 10), (3, 47), (4, 28)]\n",
      "Score: -66\n",
      "[(0, 3), (1, 15), (2, 7), (3, 33), (4, 42)]\n",
      "Score: 158\n",
      "[(0, 1), (1, 1), (2, 1), (3, 4), (4, 4)]\n",
      "Score: -60\n",
      "[(0, 4), (1, 11), (2, 14), (3, 42), (4, 29)]\n",
      "Score: -62\n",
      "[(0, 3), (1, 18), (2, 7), (3, 46), (4, 26)]\n",
      "Score: -66\n",
      "[(0, 4), (1, 15), (2, 9), (3, 37), (4, 35)]\n",
      "Score: -67\n",
      "[(0, 3), (1, 13), (2, 10), (3, 33), (4, 41)]\n",
      "Score: -74\n",
      "[(1, 14), (2, 5), (3, 42), (4, 39)]\n",
      "Score: -58\n",
      "[(0, 4), (1, 19), (2, 5), (3, 29), (4, 43)]\n",
      "Score: -68\n",
      "[(0, 1), (1, 11), (2, 3), (3, 48), (4, 37)]\n",
      "Score: -46\n",
      "[(0, 3), (1, 13), (2, 15), (3, 41), (4, 28)]\n",
      "Score: -86\n",
      "[(0, 5), (1, 10), (2, 5), (3, 51), (4, 29)]\n",
      "Score: -56\n",
      "[(0, 2), (1, 18), (2, 6), (3, 47), (4, 27)]\n",
      "Score: -64\n",
      "[(0, 2), (1, 15), (2, 10), (3, 40), (4, 33)]\n",
      "Score: -50\n",
      "[(0, 1), (1, 20), (2, 10), (3, 39), (4, 30)]\n",
      "Score: -8\n",
      "[(0, 7), (1, 20), (2, 3), (3, 45), (4, 25)]\n",
      "Score: -68\n",
      "[(0, 2), (1, 19), (2, 6), (3, 42), (4, 31)]\n",
      "Score: -72\n",
      "[(0, 1), (1, 13), (2, 3), (3, 40), (4, 43)]\n",
      "Score: -74\n",
      "[(0, 3), (1, 16), (2, 6), (3, 43), (4, 32)]\n",
      "Score: -66\n",
      "[(0, 1), (1, 14), (2, 5), (3, 39), (4, 41)]\n",
      "Score: -76\n",
      "[(0, 8), (1, 16), (2, 12), (3, 30), (4, 34)]\n",
      "Score: -70\n",
      "[(0, 6), (1, 15), (2, 3), (3, 39), (4, 37)]\n",
      "Score: -66\n",
      "[(0, 1), (1, 15), (2, 6), (3, 39), (4, 39)]\n",
      "Score: -86\n",
      "[(0, 1), (1, 10), (2, 2), (3, 45), (4, 42)]\n",
      "Score: -70\n",
      "[(0, 4), (1, 19), (2, 6), (3, 39), (4, 32)]\n",
      "Score: -76\n",
      "[(1, 14), (2, 7), (3, 46), (4, 33)]\n",
      "Score: -69\n",
      "[(0, 6), (1, 13), (2, 10), (3, 36), (4, 35)]\n",
      "Score: -51\n",
      "[(0, 3), (1, 17), (2, 13), (3, 37), (4, 30)]\n",
      "Score: -70\n",
      "[(0, 6), (1, 14), (2, 7), (3, 46), (4, 27)]\n",
      "Score: -68\n",
      "[(0, 3), (1, 16), (2, 5), (3, 31), (4, 45)]\n",
      "Score: -68\n",
      "[(0, 2), (1, 18), (2, 9), (3, 40), (4, 31)]\n",
      "Score: -70\n",
      "[(0, 1), (1, 18), (2, 4), (3, 47), (4, 30)]\n",
      "Score: -62\n",
      "[(0, 4), (1, 15), (2, 9), (3, 40), (4, 32)]\n",
      "Score: -70\n",
      "[(0, 2), (1, 15), (2, 10), (3, 40), (4, 33)]\n",
      "Score: -66\n",
      "[(0, 6), (1, 15), (2, 11), (3, 48), (4, 20)]\n",
      "Score: -48\n",
      "[(0, 4), (1, 16), (2, 3), (3, 52), (4, 25)]\n",
      "Score: -74\n",
      "[(0, 4), (1, 15), (2, 10), (3, 37), (4, 34)]\n",
      "Score: -56\n",
      "[(0, 2), (1, 18), (2, 11), (3, 44), (4, 25)]\n",
      "Score: -70\n",
      "[(0, 1), (1, 12), (2, 6), (3, 40), (4, 41)]\n",
      "Score: -66\n",
      "[(0, 6), (1, 21), (2, 11), (3, 33), (4, 29)]\n",
      "Score: -52\n",
      "[(0, 2), (1, 16), (2, 9), (3, 46), (4, 27)]\n",
      "Score: -66\n",
      "[(0, 5), (1, 17), (2, 5), (3, 38), (4, 35)]\n",
      "Score: -80\n",
      "[(0, 4), (1, 15), (2, 8), (3, 38), (4, 35)]\n",
      "Score: -14\n",
      "[(0, 3), (1, 19), (2, 6), (3, 42), (4, 30)]\n",
      "Score: -24\n",
      "[(0, 2), (1, 18), (2, 4), (3, 50), (4, 26)]\n",
      "Score: -14\n",
      "[(0, 1), (1, 22), (2, 9), (3, 33), (4, 35)]\n",
      "Score: -64\n",
      "[(0, 4), (1, 15), (2, 9), (3, 38), (4, 34)]\n",
      "Score: -46\n",
      "[(0, 2), (1, 26), (2, 15), (3, 26), (4, 31)]\n",
      "Score: 108\n",
      "[(0, 1), (1, 4), (2, 3), (3, 9), (4, 10)]\n",
      "Score: -84\n",
      "[(0, 5), (1, 19), (2, 2), (3, 41), (4, 33)]\n",
      "Score: 179\n",
      "[(1, 4), (2, 3), (3, 8), (4, 7)]\n",
      "Score: -50\n",
      "[(0, 3), (1, 24), (2, 8), (3, 34), (4, 31)]\n",
      "Score: 186\n",
      "[(0, 2), (1, 17), (2, 7), (3, 39), (4, 25)]\n",
      "Score: -50\n",
      "[(0, 2), (1, 25), (2, 11), (3, 31), (4, 31)]\n",
      "Score: -56\n",
      "[(0, 4), (1, 27), (2, 6), (3, 36), (4, 27)]\n",
      "Score: -64\n",
      "[(0, 5), (1, 23), (2, 7), (3, 29), (4, 36)]\n",
      "Score: -52\n",
      "[(0, 5), (1, 23), (2, 6), (3, 46), (4, 20)]\n",
      "Score: -55\n",
      "[(0, 3), (1, 31), (2, 11), (3, 28), (4, 27)]\n",
      "Score: -54\n",
      "[(0, 7), (1, 26), (2, 7), (3, 34), (4, 26)]\n",
      "Score: -58\n",
      "[(0, 4), (1, 28), (2, 12), (3, 29), (4, 27)]\n",
      "Score: -68\n",
      "[(0, 2), (1, 22), (2, 6), (3, 35), (4, 35)]\n",
      "Score: -48\n",
      "[(0, 4), (1, 19), (2, 12), (3, 46), (4, 19)]\n",
      "Score: 186\n",
      "[(0, 2), (1, 12), (2, 7), (3, 23), (4, 14)]\n",
      "Score: -54\n",
      "[(0, 5), (1, 26), (2, 9), (3, 34), (4, 26)]\n",
      "Score: -56\n",
      "[(0, 1), (1, 24), (2, 13), (3, 37), (4, 25)]\n",
      "Score: -70\n",
      "[(0, 2), (1, 23), (2, 7), (3, 42), (4, 26)]\n",
      "Score: 202\n",
      "[(0, 2), (1, 15), (2, 7), (3, 20), (4, 16)]\n",
      "Score: -64\n",
      "[(0, 5), (1, 21), (2, 10), (3, 30), (4, 34)]\n",
      "Score: -53\n",
      "[(0, 5), (1, 24), (2, 7), (3, 37), (4, 27)]\n",
      "Score: 180\n",
      "[(0, 1), (1, 12), (2, 2), (3, 12), (4, 4)]\n",
      "Score: -40\n",
      "[(0, 5), (1, 26), (2, 14), (3, 31), (4, 24)]\n",
      "Score: -39\n",
      "[(0, 5), (1, 24), (2, 12), (3, 35), (4, 24)]\n",
      "Score: 9\n",
      "[(0, 5), (1, 24), (2, 10), (3, 40), (4, 21)]\n",
      "Score: -58\n",
      "[(0, 4), (1, 23), (2, 8), (3, 41), (4, 24)]\n",
      "Score: -54\n",
      "[(0, 4), (1, 28), (2, 10), (3, 33), (4, 25)]\n",
      "Score: -48\n",
      "[(0, 5), (1, 32), (2, 9), (3, 29), (4, 25)]\n",
      "Score: -56\n",
      "[(0, 5), (1, 28), (2, 9), (3, 29), (4, 29)]\n",
      "Score: -44\n",
      "[(0, 5), (1, 33), (2, 5), (3, 31), (4, 26)]\n",
      "Score: -50\n",
      "[(0, 8), (1, 19), (2, 13), (3, 43), (4, 17)]\n",
      "Score: 25\n",
      "[(0, 3), (1, 29), (2, 9), (3, 38), (4, 21)]\n",
      "Score: -44\n",
      "[(0, 3), (1, 26), (2, 11), (3, 37), (4, 23)]\n",
      "Score: -26\n",
      "[(0, 8), (1, 31), (2, 6), (3, 39), (4, 16)]\n",
      "Score: -38\n",
      "[(0, 5), (1, 40), (2, 6), (3, 22), (4, 27)]\n",
      "Score: -17\n",
      "[(0, 12), (1, 31), (2, 11), (3, 37), (4, 9)]\n",
      "Score: -54\n",
      "[(0, 6), (1, 25), (2, 8), (3, 32), (4, 29)]\n",
      "Score: -32\n",
      "[(0, 4), (1, 24), (2, 8), (3, 42), (4, 22)]\n",
      "Score: -40\n",
      "[(0, 1), (1, 31), (2, 10), (3, 39), (4, 19)]\n",
      "Score: -66\n",
      "[(0, 8), (1, 21), (2, 9), (3, 42), (4, 20)]\n",
      "Score: -62\n",
      "[(0, 8), (1, 22), (2, 11), (3, 32), (4, 27)]\n",
      "Score: -56\n",
      "[(0, 2), (1, 31), (2, 6), (3, 35), (4, 26)]\n",
      "Score: -26\n",
      "[(0, 3), (1, 34), (2, 6), (3, 42), (4, 15)]\n",
      "Score: -39\n",
      "[(0, 5), (1, 25), (2, 11), (3, 36), (4, 23)]\n",
      "Score: -54\n",
      "[(0, 11), (1, 18), (2, 7), (3, 38), (4, 26)]\n",
      "Score: -48\n",
      "[(0, 5), (1, 28), (2, 15), (3, 40), (4, 12)]\n",
      "Score: -50\n",
      "[(0, 4), (1, 18), (2, 10), (3, 44), (4, 24)]\n",
      "Score: -48\n",
      "[(0, 6), (1, 21), (2, 5), (3, 44), (4, 24)]\n",
      "Score: -56\n",
      "[(0, 4), (1, 31), (2, 13), (3, 32), (4, 20)]\n",
      "Score: -42\n",
      "[(0, 4), (1, 32), (2, 9), (3, 34), (4, 21)]\n",
      "Score: -52\n",
      "[(0, 7), (1, 24), (2, 9), (3, 37), (4, 23)]\n",
      "Score: -52\n",
      "[(0, 7), (1, 25), (2, 10), (3, 38), (4, 20)]\n",
      "Score: -42\n",
      "[(0, 6), (1, 34), (2, 6), (3, 36), (4, 18)]\n",
      "Score: -46\n",
      "[(0, 4), (1, 32), (2, 11), (3, 36), (4, 17)]\n",
      "Score: -38\n",
      "[(0, 1), (1, 27), (2, 18), (3, 35), (4, 19)]\n",
      "Score: -34\n",
      "[(0, 6), (1, 33), (2, 6), (3, 32), (4, 23)]\n",
      "Score: -35\n",
      "[(0, 4), (1, 32), (2, 14), (3, 29), (4, 21)]\n",
      "Score: -38\n",
      "[(0, 4), (1, 35), (2, 11), (3, 25), (4, 25)]\n",
      "Score: -54\n",
      "[(0, 8), (1, 27), (2, 6), (3, 38), (4, 21)]\n",
      "Score: -44\n",
      "[(0, 4), (1, 35), (2, 12), (3, 27), (4, 22)]\n",
      "Score: -40\n",
      "[(0, 5), (1, 34), (2, 12), (3, 20), (4, 29)]\n",
      "Score: -52\n",
      "[(0, 5), (1, 30), (2, 6), (3, 35), (4, 24)]\n",
      "Score: -66\n",
      "[(0, 7), (1, 29), (2, 12), (3, 31), (4, 21)]\n",
      "Score: -40\n",
      "[(0, 4), (1, 42), (2, 8), (3, 22), (4, 24)]\n",
      "Score: -46\n",
      "[(0, 2), (1, 27), (2, 10), (3, 41), (4, 20)]\n",
      "Score: -34\n",
      "[(0, 3), (1, 31), (2, 10), (3, 38), (4, 18)]\n",
      "Score: -32\n",
      "[(0, 7), (1, 29), (2, 5), (3, 36), (4, 23)]\n",
      "Score: -40\n",
      "[(0, 5), (1, 38), (2, 6), (3, 33), (4, 18)]\n",
      "Score: -28\n",
      "[(0, 9), (1, 26), (2, 12), (3, 35), (4, 18)]\n",
      "Score: -44\n",
      "[(0, 5), (1, 29), (2, 13), (3, 33), (4, 20)]\n",
      "Score: -54\n",
      "[(0, 3), (1, 26), (2, 11), (3, 42), (4, 18)]\n",
      "Score: -37\n",
      "[(0, 3), (1, 23), (2, 17), (3, 34), (4, 23)]\n",
      "Score: -38\n",
      "[(0, 6), (1, 35), (2, 9), (3, 25), (4, 25)]\n",
      "Score: -44\n",
      "[(0, 4), (1, 31), (2, 9), (3, 34), (4, 22)]\n",
      "Score: -31\n",
      "[(0, 5), (1, 25), (2, 10), (3, 40), (4, 20)]\n",
      "Score: -37\n",
      "[(0, 6), (1, 27), (2, 19), (3, 32), (4, 16)]\n",
      "Score: -2\n",
      "[(0, 4), (1, 31), (2, 9), (3, 33), (4, 23)]\n",
      "Score: -42\n",
      "[(0, 3), (1, 24), (2, 10), (3, 41), (4, 22)]\n",
      "Score: -56\n",
      "[(0, 1), (1, 24), (2, 16), (3, 35), (4, 24)]\n",
      "Score: -42\n",
      "[(0, 4), (1, 27), (2, 3), (3, 43), (4, 23)]\n",
      "Score: -54\n",
      "[(0, 9), (1, 28), (2, 13), (3, 28), (4, 22)]\n",
      "Score: 1\n",
      "[(0, 4), (1, 23), (2, 8), (3, 40), (4, 25)]\n",
      "Score: -68\n",
      "[(0, 1), (1, 22), (2, 5), (3, 47), (4, 25)]\n",
      "Score: -2\n",
      "[(0, 6), (1, 21), (2, 1), (3, 45), (4, 27)]\n",
      "Score: 202\n",
      "[(0, 4), (1, 21), (2, 12), (3, 40), (4, 19)]\n",
      "Score: -54\n",
      "[(0, 10), (1, 31), (2, 9), (3, 23), (4, 27)]\n",
      "Score: -38\n",
      "[(0, 8), (1, 24), (2, 11), (3, 30), (4, 27)]\n",
      "Score: -41\n",
      "[(0, 3), (1, 33), (2, 8), (3, 38), (4, 18)]\n",
      "Score: -42\n",
      "[(0, 9), (1, 31), (2, 7), (3, 33), (4, 20)]\n",
      "Score: -34\n",
      "[(0, 3), (1, 32), (2, 10), (3, 30), (4, 25)]\n",
      "Score: -30\n",
      "[(0, 11), (1, 23), (2, 11), (3, 37), (4, 18)]\n",
      "Score: -56\n",
      "[(0, 3), (1, 20), (2, 14), (3, 33), (4, 30)]\n",
      "Score: -40\n",
      "[(0, 6), (1, 23), (2, 10), (3, 36), (4, 25)]\n",
      "Score: 150\n",
      "[(0, 2), (1, 2), (3, 1), (4, 1)]\n",
      "Score: -54\n",
      "[(0, 4), (1, 30), (2, 4), (3, 36), (4, 26)]\n",
      "Score: -52\n",
      "[(0, 8), (1, 27), (2, 16), (3, 24), (4, 25)]\n",
      "Score: -54\n",
      "[(0, 2), (1, 30), (2, 10), (3, 32), (4, 26)]\n",
      "Score: 182\n",
      "[(0, 3), (1, 18), (2, 4), (3, 21), (4, 12)]\n",
      "Score: -34\n",
      "[(0, 5), (1, 25), (2, 10), (3, 31), (4, 29)]\n",
      "Score: -46\n",
      "[(0, 3), (1, 27), (2, 8), (3, 42), (4, 20)]\n",
      "Score: -42\n",
      "[(0, 7), (1, 33), (2, 9), (3, 20), (4, 31)]\n"
     ]
    },
    {
     "name": "stdout",
     "output_type": "stream",
     "text": [
      "Score: -58\n",
      "[(0, 7), (1, 25), (2, 11), (3, 42), (4, 15)]\n",
      "Score: -54\n",
      "[(0, 6), (1, 32), (2, 7), (3, 39), (4, 16)]\n",
      "Score: -42\n",
      "[(0, 3), (1, 32), (2, 8), (3, 33), (4, 24)]\n",
      "Score: -54\n",
      "[(0, 8), (1, 26), (2, 9), (3, 34), (4, 23)]\n",
      "Score: -52\n",
      "[(0, 5), (1, 35), (2, 8), (3, 35), (4, 17)]\n",
      "Score: -43\n",
      "[(0, 4), (1, 27), (2, 11), (3, 30), (4, 28)]\n",
      "Score: -50\n",
      "[(0, 5), (1, 23), (2, 5), (3, 41), (4, 26)]\n",
      "Score: -32\n",
      "[(0, 8), (1, 34), (2, 7), (3, 27), (4, 24)]\n",
      "Score: -44\n",
      "[(0, 2), (1, 31), (2, 4), (3, 32), (4, 31)]\n",
      "Score: -42\n",
      "[(0, 7), (1, 33), (2, 11), (3, 31), (4, 18)]\n",
      "Score: -66\n",
      "[(0, 4), (1, 19), (2, 12), (3, 42), (4, 23)]\n",
      "Score: -48\n",
      "[(0, 8), (1, 27), (2, 5), (3, 36), (4, 24)]\n",
      "Score: -38\n",
      "[(0, 1), (1, 26), (2, 7), (3, 43), (4, 23)]\n",
      "Score: -50\n",
      "[(0, 6), (1, 26), (2, 11), (3, 41), (4, 16)]\n",
      "Score: -52\n",
      "[(0, 2), (1, 25), (2, 9), (3, 38), (4, 26)]\n",
      "Score: -62\n",
      "[(0, 5), (1, 29), (2, 13), (3, 23), (4, 30)]\n",
      "Score: -56\n",
      "[(0, 3), (1, 22), (2, 4), (3, 51), (4, 20)]\n",
      "Score: -29\n",
      "[(0, 3), (1, 36), (2, 10), (3, 30), (4, 21)]\n",
      "Score: -4\n",
      "[(0, 3), (1, 23), (2, 9), (3, 49), (4, 16)]\n",
      "Score: -38\n",
      "[(0, 9), (1, 25), (2, 9), (3, 37), (4, 20)]\n",
      "Score: -38\n",
      "[(0, 8), (1, 25), (2, 6), (3, 44), (4, 17)]\n",
      "Score: -52\n",
      "[(0, 6), (1, 26), (2, 7), (3, 36), (4, 25)]\n",
      "Score: -36\n",
      "[(0, 7), (1, 31), (2, 13), (3, 24), (4, 25)]\n",
      "Score: -64\n",
      "[(0, 10), (1, 22), (2, 13), (3, 35), (4, 20)]\n",
      "Score: -41\n",
      "[(0, 7), (1, 20), (2, 15), (3, 40), (4, 18)]\n",
      "Score: -50\n",
      "[(0, 2), (1, 33), (2, 2), (3, 30), (4, 33)]\n",
      "Score: -66\n",
      "[(1, 23), (2, 3), (3, 43), (4, 31)]\n",
      "Score: -56\n",
      "[(0, 1), (1, 24), (2, 9), (3, 35), (4, 31)]\n",
      "Score: -39\n",
      "[(0, 2), (1, 24), (2, 12), (3, 35), (4, 27)]\n",
      "Score: -46\n",
      "[(0, 4), (1, 33), (2, 5), (3, 28), (4, 30)]\n",
      "Score: -46\n",
      "[(0, 5), (1, 23), (2, 10), (3, 35), (4, 27)]\n",
      "Score: -62\n",
      "[(0, 3), (1, 24), (2, 8), (3, 33), (4, 32)]\n",
      "Score: -68\n",
      "[(0, 2), (1, 27), (2, 9), (3, 31), (4, 31)]\n",
      "Score: 12\n",
      "[(0, 7), (1, 28), (2, 5), (3, 37), (4, 23)]\n",
      "Score: 196\n",
      "[(0, 3), (1, 26), (2, 4), (3, 31), (4, 29)]\n",
      "Score: -52\n",
      "[(0, 6), (1, 28), (2, 8), (3, 29), (4, 29)]\n",
      "Score: -60\n",
      "[(0, 6), (1, 25), (2, 5), (3, 31), (4, 33)]\n",
      "Score: -44\n",
      "[(0, 2), (1, 31), (2, 8), (3, 32), (4, 27)]\n",
      "Score: -48\n",
      "[(0, 4), (1, 29), (2, 4), (3, 31), (4, 32)]\n",
      "Score: -44\n",
      "[(0, 7), (1, 29), (2, 9), (3, 20), (4, 35)]\n",
      "Score: -46\n",
      "[(0, 5), (1, 30), (2, 4), (3, 28), (4, 33)]\n",
      "Score: -23\n",
      "[(0, 4), (1, 25), (2, 16), (3, 28), (4, 27)]\n",
      "Score: -48\n",
      "[(0, 4), (1, 27), (2, 5), (3, 40), (4, 24)]\n",
      "Score: -66\n",
      "[(0, 2), (1, 19), (2, 4), (3, 31), (4, 44)]\n",
      "Score: 134\n",
      "[(0, 4), (1, 18), (2, 10), (3, 18), (4, 16)]\n",
      "Score: -52\n",
      "[(0, 4), (1, 21), (2, 7), (3, 33), (4, 35)]\n",
      "Score: -40\n",
      "[(0, 1), (1, 34), (2, 8), (3, 26), (4, 31)]\n",
      "Score: -36\n",
      "[(0, 5), (1, 31), (2, 7), (3, 35), (4, 22)]\n",
      "Score: -64\n"
     ]
    }
   ],
   "source": [
    "bot = PGBot()\n",
    "bot.training_config()\n",
    "bot.train(1)"
   ]
  },
  {
   "cell_type": "code",
   "execution_count": 7,
   "metadata": {},
   "outputs": [
    {
     "name": "stderr",
     "output_type": "stream",
     "text": [
      "\u001b[32m[I 2022-09-19 12:21:36,972]\u001b[0m A new study created in memory with name: no-name-66e47096-aae4-4c0a-9082-e926e2d906e2\u001b[0m\n"
     ]
    },
    {
     "data": {
      "application/vnd.jupyter.widget-view+json": {
       "model_id": "16070a6ca4d348a9840fef3383757e80",
       "version_major": 2,
       "version_minor": 0
      },
      "text/plain": [
       "  0%|          | 0/100 [00:00<?, ?it/s]"
      ]
     },
     "metadata": {},
     "output_type": "display_data"
    },
    {
     "name": "stderr",
     "output_type": "stream",
     "text": [
      "\u001b[32m[I 2022-09-19 12:22:00,781]\u001b[0m Trial 0 finished with value: 446.48 and parameters: {'discount_factor': 0.9873970997044688, 'learning_rate': 0.08556202411794087, 'network_shape': 125}. Best is trial 0 with value: 446.48.\u001b[0m\n"
     ]
    },
    {
     "data": {
      "application/vnd.jupyter.widget-view+json": {
       "model_id": "8b4e3c4b14e4412d9f182bef495125f2",
       "version_major": 2,
       "version_minor": 0
      },
      "text/plain": [
       "  0%|          | 0/100 [00:00<?, ?it/s]"
      ]
     },
     "metadata": {},
     "output_type": "display_data"
    },
    {
     "name": "stderr",
     "output_type": "stream",
     "text": [
      "\u001b[32m[I 2022-09-19 12:22:24,002]\u001b[0m Trial 1 finished with value: 446.11 and parameters: {'discount_factor': 0.9683505979911465, 'learning_rate': 0.08508350136598532, 'network_shape': 114}. Best is trial 1 with value: 446.11.\u001b[0m\n"
     ]
    },
    {
     "data": {
      "application/vnd.jupyter.widget-view+json": {
       "model_id": "12b3e118ed184b5d81de77915f89f2ea",
       "version_major": 2,
       "version_minor": 0
      },
      "text/plain": [
       "  0%|          | 0/100 [00:00<?, ?it/s]"
      ]
     },
     "metadata": {},
     "output_type": "display_data"
    },
    {
     "name": "stderr",
     "output_type": "stream",
     "text": [
      "\u001b[32m[I 2022-09-19 12:22:46,899]\u001b[0m Trial 2 finished with value: 633.87 and parameters: {'discount_factor': 0.9715472135461904, 'learning_rate': 0.07453155766986909, 'network_shape': 83}. Best is trial 1 with value: 446.11.\u001b[0m\n"
     ]
    },
    {
     "data": {
      "application/vnd.jupyter.widget-view+json": {
       "model_id": "740a7f9f54c043f2bac592c647c1be75",
       "version_major": 2,
       "version_minor": 0
      },
      "text/plain": [
       "  0%|          | 0/100 [00:00<?, ?it/s]"
      ]
     },
     "metadata": {},
     "output_type": "display_data"
    },
    {
     "name": "stderr",
     "output_type": "stream",
     "text": [
      "\u001b[32m[I 2022-09-19 12:23:10,485]\u001b[0m Trial 3 finished with value: 259.48 and parameters: {'discount_factor': 0.9419679548377589, 'learning_rate': 0.05278112073870399, 'network_shape': 33}. Best is trial 3 with value: 259.48.\u001b[0m\n"
     ]
    },
    {
     "data": {
      "application/vnd.jupyter.widget-view+json": {
       "model_id": "9e08d192e0e948ceb8e7a41bb47b634f",
       "version_major": 2,
       "version_minor": 0
      },
      "text/plain": [
       "  0%|          | 0/100 [00:00<?, ?it/s]"
      ]
     },
     "metadata": {},
     "output_type": "display_data"
    },
    {
     "name": "stderr",
     "output_type": "stream",
     "text": [
      "\u001b[32m[I 2022-09-19 12:23:33,305]\u001b[0m Trial 4 finished with value: 251.68 and parameters: {'discount_factor': 0.9491430056860483, 'learning_rate': 0.05115451977203845, 'network_shape': 33}. Best is trial 4 with value: 251.68.\u001b[0m\n"
     ]
    },
    {
     "data": {
      "application/vnd.jupyter.widget-view+json": {
       "model_id": "67e1da8b3966475b98c6278439b5d72b",
       "version_major": 2,
       "version_minor": 0
      },
      "text/plain": [
       "  0%|          | 0/100 [00:00<?, ?it/s]"
      ]
     },
     "metadata": {},
     "output_type": "display_data"
    },
    {
     "name": "stderr",
     "output_type": "stream",
     "text": [
      "\u001b[32m[I 2022-09-19 12:23:56,515]\u001b[0m Trial 5 finished with value: 433.73 and parameters: {'discount_factor': 0.941183808418448, 'learning_rate': 0.06482851105698001, 'network_shape': 82}. Best is trial 4 with value: 251.68.\u001b[0m\n"
     ]
    },
    {
     "data": {
      "application/vnd.jupyter.widget-view+json": {
       "model_id": "a4cce8e20f3244658726ee039223a195",
       "version_major": 2,
       "version_minor": 0
      },
      "text/plain": [
       "  0%|          | 0/100 [00:00<?, ?it/s]"
      ]
     },
     "metadata": {},
     "output_type": "display_data"
    },
    {
     "name": "stderr",
     "output_type": "stream",
     "text": [
      "\u001b[32m[I 2022-09-19 12:24:19,322]\u001b[0m Trial 6 finished with value: 251.04 and parameters: {'discount_factor': 0.9095903315725034, 'learning_rate': 0.037178235067303535, 'network_shape': 59}. Best is trial 6 with value: 251.04.\u001b[0m\n"
     ]
    },
    {
     "data": {
      "application/vnd.jupyter.widget-view+json": {
       "model_id": "6275748487b444f6a2d41fde95e49051",
       "version_major": 2,
       "version_minor": 0
      },
      "text/plain": [
       "  0%|          | 0/100 [00:00<?, ?it/s]"
      ]
     },
     "metadata": {},
     "output_type": "display_data"
    },
    {
     "name": "stderr",
     "output_type": "stream",
     "text": [
      "\u001b[32m[I 2022-09-19 12:24:42,710]\u001b[0m Trial 7 finished with value: 443.63 and parameters: {'discount_factor': 0.9460186677204487, 'learning_rate': 0.05250708636727375, 'network_shape': 20}. Best is trial 6 with value: 251.04.\u001b[0m\n"
     ]
    },
    {
     "data": {
      "application/vnd.jupyter.widget-view+json": {
       "model_id": "86234e81db8f42d08b372eb3e9912be6",
       "version_major": 2,
       "version_minor": 0
      },
      "text/plain": [
       "  0%|          | 0/100 [00:00<?, ?it/s]"
      ]
     },
     "metadata": {},
     "output_type": "display_data"
    },
    {
     "name": "stderr",
     "output_type": "stream",
     "text": [
      "\u001b[32m[I 2022-09-19 12:25:04,766]\u001b[0m Trial 8 finished with value: 449.53 and parameters: {'discount_factor': 0.9016091427064585, 'learning_rate': 0.08106647308826846, 'network_shape': 118}. Best is trial 6 with value: 251.04.\u001b[0m\n"
     ]
    },
    {
     "data": {
      "application/vnd.jupyter.widget-view+json": {
       "model_id": "2885ca23df2148b399d98a014ddc7801",
       "version_major": 2,
       "version_minor": 0
      },
      "text/plain": [
       "  0%|          | 0/100 [00:00<?, ?it/s]"
      ]
     },
     "metadata": {},
     "output_type": "display_data"
    },
    {
     "name": "stderr",
     "output_type": "stream",
     "text": [
      "\u001b[32m[I 2022-09-19 12:25:25,689]\u001b[0m Trial 9 finished with value: 293.92 and parameters: {'discount_factor': 0.9066745677178728, 'learning_rate': 0.02014866957773309, 'network_shape': 104}. Best is trial 6 with value: 251.04.\u001b[0m\n"
     ]
    },
    {
     "data": {
      "application/vnd.jupyter.widget-view+json": {
       "model_id": "0c6eefda32ff4a1f8342177c22f57dcb",
       "version_major": 2,
       "version_minor": 0
      },
      "text/plain": [
       "  0%|          | 0/100 [00:00<?, ?it/s]"
      ]
     },
     "metadata": {},
     "output_type": "display_data"
    },
    {
     "name": "stderr",
     "output_type": "stream",
     "text": [
      "/home/beast/.local/lib/python3.8/site-packages/gym/utils/passive_env_checker.py:165: UserWarning: \u001b[33mWARN: The obs returned by the `reset()` method is not within the observation space.\u001b[0m\n",
      "  logger.warn(f\"{pre} is not within the observation space.\")\n",
      "/home/beast/.local/lib/python3.8/site-packages/gym/utils/passive_env_checker.py:165: UserWarning: \u001b[33mWARN: The obs returned by the `step()` method is not within the observation space.\u001b[0m\n",
      "  logger.warn(f\"{pre} is not within the observation space.\")\n",
      "\u001b[32m[I 2022-09-19 12:25:46,223]\u001b[0m Trial 10 finished with value: 251.62 and parameters: {'discount_factor': 0.9206253043319347, 'learning_rate': 0.0199617402923913, 'network_shape': 60}. Best is trial 6 with value: 251.04.\u001b[0m\n"
     ]
    },
    {
     "data": {
      "application/vnd.jupyter.widget-view+json": {
       "model_id": "bf7f9a4995674519816866f5c8e7e2ac",
       "version_major": 2,
       "version_minor": 0
      },
      "text/plain": [
       "  0%|          | 0/100 [00:00<?, ?it/s]"
      ]
     },
     "metadata": {},
     "output_type": "display_data"
    },
    {
     "name": "stderr",
     "output_type": "stream",
     "text": [
      "\u001b[32m[I 2022-09-19 12:26:06,589]\u001b[0m Trial 11 finished with value: 297.48 and parameters: {'discount_factor': 0.9221166219427774, 'learning_rate': 0.019596597525475948, 'network_shape': 57}. Best is trial 6 with value: 251.04.\u001b[0m\n"
     ]
    },
    {
     "data": {
      "application/vnd.jupyter.widget-view+json": {
       "model_id": "f43cd6f7b6d04744880caa1f698835e1",
       "version_major": 2,
       "version_minor": 0
      },
      "text/plain": [
       "  0%|          | 0/100 [00:00<?, ?it/s]"
      ]
     },
     "metadata": {},
     "output_type": "display_data"
    },
    {
     "name": "stderr",
     "output_type": "stream",
     "text": [
      "\u001b[32m[I 2022-09-19 12:26:26,944]\u001b[0m Trial 12 finished with value: 464.48 and parameters: {'discount_factor': 0.9226212043965255, 'learning_rate': 0.0011932578864452328, 'network_shape': 59}. Best is trial 6 with value: 251.04.\u001b[0m\n"
     ]
    },
    {
     "data": {
      "application/vnd.jupyter.widget-view+json": {
       "model_id": "9b19d0adad5143a9a238a100c415bd1a",
       "version_major": 2,
       "version_minor": 0
      },
      "text/plain": [
       "  0%|          | 0/100 [00:00<?, ?it/s]"
      ]
     },
     "metadata": {},
     "output_type": "display_data"
    },
    {
     "name": "stderr",
     "output_type": "stream",
     "text": [
      "\u001b[32m[I 2022-09-19 12:26:46,431]\u001b[0m Trial 13 finished with value: 446.9 and parameters: {'discount_factor': 0.9196457461822, 'learning_rate': 0.03327022536000832, 'network_shape': 58}. Best is trial 6 with value: 251.04.\u001b[0m\n"
     ]
    },
    {
     "data": {
      "application/vnd.jupyter.widget-view+json": {
       "model_id": "d767f5cc7e5146e18a2fa0c224b21a3f",
       "version_major": 2,
       "version_minor": 0
      },
      "text/plain": [
       "  0%|          | 0/100 [00:00<?, ?it/s]"
      ]
     },
     "metadata": {},
     "output_type": "display_data"
    },
    {
     "name": "stderr",
     "output_type": "stream",
     "text": [
      "\u001b[32m[I 2022-09-19 12:27:06,726]\u001b[0m Trial 14 finished with value: 453.89 and parameters: {'discount_factor': 0.9131990535653417, 'learning_rate': 0.031987424764183744, 'network_shape': 69}. Best is trial 6 with value: 251.04.\u001b[0m\n"
     ]
    },
    {
     "data": {
      "application/vnd.jupyter.widget-view+json": {
       "model_id": "1647d3f5ab334d55b95546942e3f749d",
       "version_major": 2,
       "version_minor": 0
      },
      "text/plain": [
       "  0%|          | 0/100 [00:00<?, ?it/s]"
      ]
     },
     "metadata": {},
     "output_type": "display_data"
    },
    {
     "name": "stderr",
     "output_type": "stream",
     "text": [
      "\u001b[32m[I 2022-09-19 12:27:26,971]\u001b[0m Trial 15 finished with value: 271.62 and parameters: {'discount_factor': 0.9321253122506212, 'learning_rate': 0.00252163780416155, 'network_shape': 42}. Best is trial 6 with value: 251.04.\u001b[0m\n"
     ]
    },
    {
     "data": {
      "application/vnd.jupyter.widget-view+json": {
       "model_id": "ef93e5cde2154fa180a3cb643eac9a31",
       "version_major": 2,
       "version_minor": 0
      },
      "text/plain": [
       "  0%|          | 0/100 [00:00<?, ?it/s]"
      ]
     },
     "metadata": {},
     "output_type": "display_data"
    },
    {
     "name": "stderr",
     "output_type": "stream",
     "text": [
      "\u001b[32m[I 2022-09-19 12:27:47,329]\u001b[0m Trial 16 finished with value: 256.55 and parameters: {'discount_factor': 0.9287377736293256, 'learning_rate': 0.036543807465853506, 'network_shape': 88}. Best is trial 6 with value: 251.04.\u001b[0m\n"
     ]
    },
    {
     "data": {
      "application/vnd.jupyter.widget-view+json": {
       "model_id": "78d158f25248422398fba87596c1c985",
       "version_major": 2,
       "version_minor": 0
      },
      "text/plain": [
       "  0%|          | 0/100 [00:00<?, ?it/s]"
      ]
     },
     "metadata": {},
     "output_type": "display_data"
    },
    {
     "name": "stderr",
     "output_type": "stream",
     "text": [
      "\u001b[32m[I 2022-09-19 12:28:07,558]\u001b[0m Trial 17 finished with value: 265.16 and parameters: {'discount_factor': 0.9103078791214686, 'learning_rate': 0.016818298652076243, 'network_shape': 46}. Best is trial 6 with value: 251.04.\u001b[0m\n"
     ]
    },
    {
     "data": {
      "application/vnd.jupyter.widget-view+json": {
       "model_id": "8d7680b53b564178828793a54827c926",
       "version_major": 2,
       "version_minor": 0
      },
      "text/plain": [
       "  0%|          | 0/100 [00:00<?, ?it/s]"
      ]
     },
     "metadata": {},
     "output_type": "display_data"
    },
    {
     "name": "stderr",
     "output_type": "stream",
     "text": [
      "\u001b[32m[I 2022-09-19 12:28:30,109]\u001b[0m Trial 18 finished with value: 253.62 and parameters: {'discount_factor': 0.9317880665655666, 'learning_rate': 0.09940096987295056, 'network_shape': 98}. Best is trial 6 with value: 251.04.\u001b[0m\n"
     ]
    },
    {
     "data": {
      "application/vnd.jupyter.widget-view+json": {
       "model_id": "70fa5963685841edbb0bd29376d5694c",
       "version_major": 2,
       "version_minor": 0
      },
      "text/plain": [
       "  0%|          | 0/100 [00:00<?, ?it/s]"
      ]
     },
     "metadata": {},
     "output_type": "display_data"
    },
    {
     "name": "stderr",
     "output_type": "stream",
     "text": [
      "\u001b[32m[I 2022-09-19 12:28:52,275]\u001b[0m Trial 19 finished with value: 626.16 and parameters: {'discount_factor': 0.9003709021403234, 'learning_rate': 0.04039183241769001, 'network_shape': 72}. Best is trial 6 with value: 251.04.\u001b[0m\n"
     ]
    },
    {
     "data": {
      "application/vnd.jupyter.widget-view+json": {
       "model_id": "d8ff79090cc24d4e84fcac258ea84c89",
       "version_major": 2,
       "version_minor": 0
      },
      "text/plain": [
       "  0%|          | 0/100 [00:00<?, ?it/s]"
      ]
     },
     "metadata": {},
     "output_type": "display_data"
    },
    {
     "name": "stderr",
     "output_type": "stream",
     "text": [
      "\u001b[32m[I 2022-09-19 12:29:13,659]\u001b[0m Trial 20 finished with value: 611.43 and parameters: {'discount_factor': 0.9137318916114743, 'learning_rate': 0.014175591934762675, 'network_shape': 66}. Best is trial 6 with value: 251.04.\u001b[0m\n"
     ]
    },
    {
     "data": {
      "application/vnd.jupyter.widget-view+json": {
       "model_id": "0b5382da8d0848af92d1112444e96fc7",
       "version_major": 2,
       "version_minor": 0
      },
      "text/plain": [
       "  0%|          | 0/100 [00:00<?, ?it/s]"
      ]
     },
     "metadata": {},
     "output_type": "display_data"
    },
    {
     "name": "stderr",
     "output_type": "stream",
     "text": [
      "\u001b[32m[I 2022-09-19 12:29:34,254]\u001b[0m Trial 21 finished with value: 250.91 and parameters: {'discount_factor': 0.9523557160787889, 'learning_rate': 0.04536864066756141, 'network_shape': 16}. Best is trial 21 with value: 250.91.\u001b[0m\n"
     ]
    },
    {
     "data": {
      "application/vnd.jupyter.widget-view+json": {
       "model_id": "0f4ffcfd1df14a80bf037da348a0698a",
       "version_major": 2,
       "version_minor": 0
      },
      "text/plain": [
       "  0%|          | 0/100 [00:00<?, ?it/s]"
      ]
     },
     "metadata": {},
     "output_type": "display_data"
    },
    {
     "name": "stderr",
     "output_type": "stream",
     "text": [
      "\u001b[32m[I 2022-09-19 12:29:54,522]\u001b[0m Trial 22 finished with value: 255.87 and parameters: {'discount_factor': 0.956016360736141, 'learning_rate': 0.027176043560765473, 'network_shape': 26}. Best is trial 21 with value: 250.91.\u001b[0m\n"
     ]
    },
    {
     "data": {
      "application/vnd.jupyter.widget-view+json": {
       "model_id": "f5ce679265a24203a3b2cf6c064d965a",
       "version_major": 2,
       "version_minor": 0
      },
      "text/plain": [
       "  0%|          | 0/100 [00:00<?, ?it/s]"
      ]
     },
     "metadata": {},
     "output_type": "display_data"
    },
    {
     "name": "stderr",
     "output_type": "stream",
     "text": [
      "\u001b[32m[I 2022-09-19 12:30:15,426]\u001b[0m Trial 23 finished with value: 609.24 and parameters: {'discount_factor': 0.9619847871389426, 'learning_rate': 0.04314869541182793, 'network_shape': 47}. Best is trial 21 with value: 250.91.\u001b[0m\n"
     ]
    },
    {
     "data": {
      "application/vnd.jupyter.widget-view+json": {
       "model_id": "1e907d3e34d64b50b105cb831dc9cd53",
       "version_major": 2,
       "version_minor": 0
      },
      "text/plain": [
       "  0%|          | 0/100 [00:00<?, ?it/s]"
      ]
     },
     "metadata": {},
     "output_type": "display_data"
    },
    {
     "name": "stderr",
     "output_type": "stream",
     "text": [
      "\u001b[32m[I 2022-09-19 12:30:35,362]\u001b[0m Trial 24 finished with value: 287.51 and parameters: {'discount_factor': 0.9348078555874145, 'learning_rate': 0.06160317865335659, 'network_shape': 17}. Best is trial 21 with value: 250.91.\u001b[0m\n"
     ]
    },
    {
     "data": {
      "application/vnd.jupyter.widget-view+json": {
       "model_id": "54234250321a451fae8fd98fdd761c73",
       "version_major": 2,
       "version_minor": 0
      },
      "text/plain": [
       "  0%|          | 0/100 [00:00<?, ?it/s]"
      ]
     },
     "metadata": {},
     "output_type": "display_data"
    },
    {
     "name": "stderr",
     "output_type": "stream",
     "text": [
      "\u001b[32m[I 2022-09-19 12:30:55,449]\u001b[0m Trial 25 finished with value: 625.73 and parameters: {'discount_factor': 0.9542277560867606, 'learning_rate': 0.025573884608561602, 'network_shape': 38}. Best is trial 21 with value: 250.91.\u001b[0m\n"
     ]
    },
    {
     "data": {
      "application/vnd.jupyter.widget-view+json": {
       "model_id": "e497f3b01e8c476b84eedb07e4682328",
       "version_major": 2,
       "version_minor": 0
      },
      "text/plain": [
       "  0%|          | 0/100 [00:00<?, ?it/s]"
      ]
     },
     "metadata": {},
     "output_type": "display_data"
    },
    {
     "name": "stderr",
     "output_type": "stream",
     "text": [
      "\u001b[32m[I 2022-09-19 12:31:15,424]\u001b[0m Trial 26 finished with value: 393.93 and parameters: {'discount_factor': 0.9815550392355353, 'learning_rate': 0.010010574812904755, 'network_shape': 77}. Best is trial 21 with value: 250.91.\u001b[0m\n"
     ]
    },
    {
     "data": {
      "application/vnd.jupyter.widget-view+json": {
       "model_id": "3c23ec1cec4040d597103f6f672ce09c",
       "version_major": 2,
       "version_minor": 0
      },
      "text/plain": [
       "  0%|          | 0/100 [00:00<?, ?it/s]"
      ]
     },
     "metadata": {},
     "output_type": "display_data"
    },
    {
     "name": "stderr",
     "output_type": "stream",
     "text": [
      "\u001b[32m[I 2022-09-19 12:31:35,879]\u001b[0m Trial 27 finished with value: 253.09 and parameters: {'discount_factor': 0.9189335634497927, 'learning_rate': 0.04503984410649697, 'network_shape': 52}. Best is trial 21 with value: 250.91.\u001b[0m\n"
     ]
    },
    {
     "data": {
      "application/vnd.jupyter.widget-view+json": {
       "model_id": "d7d4bcd26c58472a9b42e27b5d2a05f9",
       "version_major": 2,
       "version_minor": 0
      },
      "text/plain": [
       "  0%|          | 0/100 [00:00<?, ?it/s]"
      ]
     },
     "metadata": {},
     "output_type": "display_data"
    },
    {
     "name": "stderr",
     "output_type": "stream",
     "text": [
      "\u001b[32m[I 2022-09-19 12:31:57,109]\u001b[0m Trial 28 finished with value: 446.85 and parameters: {'discount_factor': 0.925770744920289, 'learning_rate': 0.02782442983796031, 'network_shape': 97}. Best is trial 21 with value: 250.91.\u001b[0m\n"
     ]
    },
    {
     "data": {
      "application/vnd.jupyter.widget-view+json": {
       "model_id": "56428e0d22b64da2bd8d0a1217c3f965",
       "version_major": 2,
       "version_minor": 0
      },
      "text/plain": [
       "  0%|          | 0/100 [00:00<?, ?it/s]"
      ]
     },
     "metadata": {},
     "output_type": "display_data"
    },
    {
     "name": "stderr",
     "output_type": "stream",
     "text": [
      "\u001b[32m[I 2022-09-19 12:32:18,421]\u001b[0m Trial 29 finished with value: 250.65 and parameters: {'discount_factor': 0.9896979858590563, 'learning_rate': 0.06039978512248087, 'network_shape': 64}. Best is trial 29 with value: 250.65.\u001b[0m\n"
     ]
    },
    {
     "data": {
      "application/vnd.jupyter.widget-view+json": {
       "model_id": "df02c81590194bb5ba6564abb96470c7",
       "version_major": 2,
       "version_minor": 0
      },
      "text/plain": [
       "  0%|          | 0/100 [00:00<?, ?it/s]"
      ]
     },
     "metadata": {},
     "output_type": "display_data"
    },
    {
     "name": "stderr",
     "output_type": "stream",
     "text": [
      "\u001b[32m[I 2022-09-19 12:32:39,326]\u001b[0m Trial 30 finished with value: 439.62 and parameters: {'discount_factor': 0.9868107545844677, 'learning_rate': 0.06297725992719815, 'network_shape': 90}. Best is trial 29 with value: 250.65.\u001b[0m\n"
     ]
    },
    {
     "data": {
      "application/vnd.jupyter.widget-view+json": {
       "model_id": "d535814a6a004fc88b77fe27558e4bc6",
       "version_major": 2,
       "version_minor": 0
      },
      "text/plain": [
       "  0%|          | 0/100 [00:00<?, ?it/s]"
      ]
     },
     "metadata": {},
     "output_type": "display_data"
    },
    {
     "name": "stderr",
     "output_type": "stream",
     "text": [
      "\u001b[32m[I 2022-09-19 12:33:00,314]\u001b[0m Trial 31 finished with value: 259.5 and parameters: {'discount_factor': 0.9770503511487627, 'learning_rate': 0.07035655353857151, 'network_shape': 64}. Best is trial 29 with value: 250.65.\u001b[0m\n"
     ]
    },
    {
     "data": {
      "application/vnd.jupyter.widget-view+json": {
       "model_id": "d922011e367e418c9bde7fa4b1eb71e2",
       "version_major": 2,
       "version_minor": 0
      },
      "text/plain": [
       "  0%|          | 0/100 [00:00<?, ?it/s]"
      ]
     },
     "metadata": {},
     "output_type": "display_data"
    },
    {
     "name": "stderr",
     "output_type": "stream",
     "text": [
      "\u001b[32m[I 2022-09-19 12:33:21,453]\u001b[0m Trial 32 finished with value: 261.4 and parameters: {'discount_factor': 0.9642959082452016, 'learning_rate': 0.05846767583119203, 'network_shape': 51}. Best is trial 29 with value: 250.65.\u001b[0m\n"
     ]
    },
    {
     "data": {
      "application/vnd.jupyter.widget-view+json": {
       "model_id": "7b1fc5c0111b4a098c83325399f55a66",
       "version_major": 2,
       "version_minor": 0
      },
      "text/plain": [
       "  0%|          | 0/100 [00:00<?, ?it/s]"
      ]
     },
     "metadata": {},
     "output_type": "display_data"
    },
    {
     "name": "stderr",
     "output_type": "stream",
     "text": [
      "\u001b[32m[I 2022-09-19 12:33:42,753]\u001b[0m Trial 33 finished with value: 250.44 and parameters: {'discount_factor': 0.9729764864945177, 'learning_rate': 0.04117221168020109, 'network_shape': 127}. Best is trial 33 with value: 250.44.\u001b[0m\n"
     ]
    },
    {
     "data": {
      "application/vnd.jupyter.widget-view+json": {
       "model_id": "b89f0b9d9f0f4f96a572868798312252",
       "version_major": 2,
       "version_minor": 0
      },
      "text/plain": [
       "  0%|          | 0/100 [00:00<?, ?it/s]"
      ]
     },
     "metadata": {},
     "output_type": "display_data"
    },
    {
     "name": "stderr",
     "output_type": "stream",
     "text": [
      "\u001b[32m[I 2022-09-19 12:34:03,750]\u001b[0m Trial 34 finished with value: 251.93 and parameters: {'discount_factor': 0.974795953656779, 'learning_rate': 0.04604687972471228, 'network_shape': 126}. Best is trial 33 with value: 250.44.\u001b[0m\n"
     ]
    },
    {
     "data": {
      "application/vnd.jupyter.widget-view+json": {
       "model_id": "ab794772e7594f70ab6f4f64709dab82",
       "version_major": 2,
       "version_minor": 0
      },
      "text/plain": [
       "  0%|          | 0/100 [00:00<?, ?it/s]"
      ]
     },
     "metadata": {},
     "output_type": "display_data"
    },
    {
     "name": "stderr",
     "output_type": "stream",
     "text": [
      "\u001b[32m[I 2022-09-19 12:34:25,219]\u001b[0m Trial 35 finished with value: 250.48 and parameters: {'discount_factor': 0.9863059339994901, 'learning_rate': 0.05718153091625511, 'network_shape': 114}. Best is trial 33 with value: 250.44.\u001b[0m\n"
     ]
    },
    {
     "data": {
      "application/vnd.jupyter.widget-view+json": {
       "model_id": "8f562bd0a1dc46208bfb6dda7aae86df",
       "version_major": 2,
       "version_minor": 0
      },
      "text/plain": [
       "  0%|          | 0/100 [00:00<?, ?it/s]"
      ]
     },
     "metadata": {},
     "output_type": "display_data"
    },
    {
     "name": "stderr",
     "output_type": "stream",
     "text": [
      "\u001b[32m[I 2022-09-19 12:34:46,752]\u001b[0m Trial 36 finished with value: 634.24 and parameters: {'discount_factor': 0.9857774233554408, 'learning_rate': 0.057619174603862455, 'network_shape': 119}. Best is trial 33 with value: 250.44.\u001b[0m\n"
     ]
    },
    {
     "data": {
      "application/vnd.jupyter.widget-view+json": {
       "model_id": "67e22f682bf84018a8db10d85c082cce",
       "version_major": 2,
       "version_minor": 0
      },
      "text/plain": [
       "  0%|          | 0/100 [00:00<?, ?it/s]"
      ]
     },
     "metadata": {},
     "output_type": "display_data"
    },
    {
     "name": "stderr",
     "output_type": "stream",
     "text": [
      "\u001b[32m[I 2022-09-19 12:35:07,034]\u001b[0m Trial 37 finished with value: 440.71 and parameters: {'discount_factor': 0.9808647108549718, 'learning_rate': 0.07406675394866075, 'network_shape': 128}. Best is trial 33 with value: 250.44.\u001b[0m\n"
     ]
    },
    {
     "data": {
      "application/vnd.jupyter.widget-view+json": {
       "model_id": "b2e3c2742b5a4755a582251deb808f39",
       "version_major": 2,
       "version_minor": 0
      },
      "text/plain": [
       "  0%|          | 0/100 [00:00<?, ?it/s]"
      ]
     },
     "metadata": {},
     "output_type": "display_data"
    },
    {
     "name": "stderr",
     "output_type": "stream",
     "text": [
      "\u001b[32m[I 2022-09-19 12:35:28,065]\u001b[0m Trial 38 finished with value: 448.2 and parameters: {'discount_factor': 0.9692731975724599, 'learning_rate': 0.049241788625750904, 'network_shape': 113}. Best is trial 33 with value: 250.44.\u001b[0m\n"
     ]
    },
    {
     "data": {
      "application/vnd.jupyter.widget-view+json": {
       "model_id": "e81ba5aa150e482c896c01186f985654",
       "version_major": 2,
       "version_minor": 0
      },
      "text/plain": [
       "  0%|          | 0/100 [00:00<?, ?it/s]"
      ]
     },
     "metadata": {},
     "output_type": "display_data"
    },
    {
     "name": "stderr",
     "output_type": "stream",
     "text": [
      "\u001b[32m[I 2022-09-19 12:35:49,327]\u001b[0m Trial 39 finished with value: 438.83 and parameters: {'discount_factor': 0.988834492032988, 'learning_rate': 0.06692528115754291, 'network_shape': 109}. Best is trial 33 with value: 250.44.\u001b[0m\n"
     ]
    },
    {
     "data": {
      "application/vnd.jupyter.widget-view+json": {
       "model_id": "7d73b99f0f984133bd1a621611e0a707",
       "version_major": 2,
       "version_minor": 0
      },
      "text/plain": [
       "  0%|          | 0/100 [00:00<?, ?it/s]"
      ]
     },
     "metadata": {},
     "output_type": "display_data"
    },
    {
     "name": "stderr",
     "output_type": "stream",
     "text": [
      "\u001b[32m[I 2022-09-19 12:36:09,730]\u001b[0m Trial 40 finished with value: 410.1 and parameters: {'discount_factor': 0.9732235467659385, 'learning_rate': 0.05737140130305035, 'network_shape': 105}. Best is trial 33 with value: 250.44.\u001b[0m\n"
     ]
    },
    {
     "data": {
      "application/vnd.jupyter.widget-view+json": {
       "model_id": "153ad84c67b04ec49d020cc0c98c322d",
       "version_major": 2,
       "version_minor": 0
      },
      "text/plain": [
       "  0%|          | 0/100 [00:00<?, ?it/s]"
      ]
     },
     "metadata": {},
     "output_type": "display_data"
    },
    {
     "name": "stderr",
     "output_type": "stream",
     "text": [
      "\u001b[32m[I 2022-09-19 12:36:30,843]\u001b[0m Trial 41 finished with value: 439.33 and parameters: {'discount_factor': 0.9811533156320017, 'learning_rate': 0.03910159428187657, 'network_shape': 120}. Best is trial 33 with value: 250.44.\u001b[0m\n"
     ]
    },
    {
     "data": {
      "application/vnd.jupyter.widget-view+json": {
       "model_id": "096fbbd982194794a7b57f14e6cd83d7",
       "version_major": 2,
       "version_minor": 0
      },
      "text/plain": [
       "  0%|          | 0/100 [00:00<?, ?it/s]"
      ]
     },
     "metadata": {},
     "output_type": "display_data"
    },
    {
     "name": "stderr",
     "output_type": "stream",
     "text": [
      "\u001b[32m[I 2022-09-19 12:36:51,984]\u001b[0m Trial 42 finished with value: 251.07 and parameters: {'discount_factor': 0.9898690085253273, 'learning_rate': 0.05252506925615607, 'network_shape': 79}. Best is trial 33 with value: 250.44.\u001b[0m\n"
     ]
    },
    {
     "data": {
      "application/vnd.jupyter.widget-view+json": {
       "model_id": "f0ea836745d34697980bf002128eb396",
       "version_major": 2,
       "version_minor": 0
      },
      "text/plain": [
       "  0%|          | 0/100 [00:00<?, ?it/s]"
      ]
     },
     "metadata": {},
     "output_type": "display_data"
    },
    {
     "name": "stderr",
     "output_type": "stream",
     "text": [
      "\u001b[32m[I 2022-09-19 12:37:13,222]\u001b[0m Trial 43 finished with value: 419.63 and parameters: {'discount_factor': 0.9382077266190219, 'learning_rate': 0.0489780847730535, 'network_shape': 122}. Best is trial 33 with value: 250.44.\u001b[0m\n"
     ]
    },
    {
     "data": {
      "application/vnd.jupyter.widget-view+json": {
       "model_id": "1a6444050c7e444cbb2bcde0471bd951",
       "version_major": 2,
       "version_minor": 0
      },
      "text/plain": [
       "  0%|          | 0/100 [00:00<?, ?it/s]"
      ]
     },
     "metadata": {},
     "output_type": "display_data"
    },
    {
     "name": "stderr",
     "output_type": "stream",
     "text": [
      "\u001b[32m[I 2022-09-19 12:37:33,879]\u001b[0m Trial 44 finished with value: 447.15 and parameters: {'discount_factor': 0.965816140981042, 'learning_rate': 0.034697482240982465, 'network_shape': 28}. Best is trial 33 with value: 250.44.\u001b[0m\n"
     ]
    },
    {
     "data": {
      "application/vnd.jupyter.widget-view+json": {
       "model_id": "0dc8fa775e4243e29c1bb00b6a123fe7",
       "version_major": 2,
       "version_minor": 0
      },
      "text/plain": [
       "  0%|          | 0/100 [00:00<?, ?it/s]"
      ]
     },
     "metadata": {},
     "output_type": "display_data"
    },
    {
     "name": "stderr",
     "output_type": "stream",
     "text": [
      "\u001b[32m[I 2022-09-19 12:37:54,250]\u001b[0m Trial 45 finished with value: 447.05 and parameters: {'discount_factor': 0.9516588664391419, 'learning_rate': 0.054145528882692376, 'network_shape': 114}. Best is trial 33 with value: 250.44.\u001b[0m\n"
     ]
    },
    {
     "data": {
      "application/vnd.jupyter.widget-view+json": {
       "model_id": "076814a75f5c461da2490cafd2352fc4",
       "version_major": 2,
       "version_minor": 0
      },
      "text/plain": [
       "  0%|          | 0/100 [00:00<?, ?it/s]"
      ]
     },
     "metadata": {},
     "output_type": "display_data"
    },
    {
     "name": "stderr",
     "output_type": "stream",
     "text": [
      "\u001b[32m[I 2022-09-19 12:38:15,197]\u001b[0m Trial 46 finished with value: 618.56 and parameters: {'discount_factor': 0.9601973219671591, 'learning_rate': 0.08467219325460416, 'network_shape': 85}. Best is trial 33 with value: 250.44.\u001b[0m\n"
     ]
    },
    {
     "data": {
      "application/vnd.jupyter.widget-view+json": {
       "model_id": "8389cf5f295c4300a004787dcfa6b1c7",
       "version_major": 2,
       "version_minor": 0
      },
      "text/plain": [
       "  0%|          | 0/100 [00:00<?, ?it/s]"
      ]
     },
     "metadata": {},
     "output_type": "display_data"
    },
    {
     "name": "stderr",
     "output_type": "stream",
     "text": [
      "\u001b[32m[I 2022-09-19 12:38:36,469]\u001b[0m Trial 47 finished with value: 631.54 and parameters: {'discount_factor': 0.9450343423713481, 'learning_rate': 0.041687485108676176, 'network_shape': 75}. Best is trial 33 with value: 250.44.\u001b[0m\n"
     ]
    },
    {
     "data": {
      "application/vnd.jupyter.widget-view+json": {
       "model_id": "dde54ac2473745298520ac0140fbe267",
       "version_major": 2,
       "version_minor": 0
      },
      "text/plain": [
       "  0%|          | 0/100 [00:00<?, ?it/s]"
      ]
     },
     "metadata": {},
     "output_type": "display_data"
    },
    {
     "name": "stderr",
     "output_type": "stream",
     "text": [
      "\u001b[32m[I 2022-09-19 12:38:56,758]\u001b[0m Trial 48 finished with value: 250.25 and parameters: {'discount_factor': 0.9846153521300025, 'learning_rate': 0.07883238407344675, 'network_shape': 36}. Best is trial 48 with value: 250.25.\u001b[0m\n"
     ]
    },
    {
     "data": {
      "application/vnd.jupyter.widget-view+json": {
       "model_id": "02176fe5f5a741afa86a3f0b01fd5071",
       "version_major": 2,
       "version_minor": 0
      },
      "text/plain": [
       "  0%|          | 0/100 [00:00<?, ?it/s]"
      ]
     },
     "metadata": {},
     "output_type": "display_data"
    },
    {
     "name": "stderr",
     "output_type": "stream",
     "text": [
      "\u001b[32m[I 2022-09-19 12:39:18,132]\u001b[0m Trial 49 finished with value: 635.28 and parameters: {'discount_factor': 0.9840402610365391, 'learning_rate': 0.09427429969180999, 'network_shape': 26}. Best is trial 48 with value: 250.25.\u001b[0m\n"
     ]
    },
    {
     "data": {
      "application/vnd.jupyter.widget-view+json": {
       "model_id": "78c1d435adf14741ab5da969e8bc135f",
       "version_major": 2,
       "version_minor": 0
      },
      "text/plain": [
       "  0%|          | 0/100 [00:00<?, ?it/s]"
      ]
     },
     "metadata": {},
     "output_type": "display_data"
    },
    {
     "name": "stderr",
     "output_type": "stream",
     "text": [
      "\u001b[32m[I 2022-09-19 12:39:38,513]\u001b[0m Trial 50 finished with value: 254.14 and parameters: {'discount_factor': 0.9766662989197502, 'learning_rate': 0.07269311335664694, 'network_shape': 34}. Best is trial 48 with value: 250.25.\u001b[0m\n"
     ]
    },
    {
     "data": {
      "application/vnd.jupyter.widget-view+json": {
       "model_id": "428175c5be4f40c884e3a49a8ec9d696",
       "version_major": 2,
       "version_minor": 0
      },
      "text/plain": [
       "  0%|          | 0/100 [00:00<?, ?it/s]"
      ]
     },
     "metadata": {},
     "output_type": "display_data"
    },
    {
     "name": "stderr",
     "output_type": "stream",
     "text": [
      "\u001b[32m[I 2022-09-19 12:39:59,014]\u001b[0m Trial 51 finished with value: 254.06 and parameters: {'discount_factor': 0.9696101277462477, 'learning_rate': 0.07719100083184863, 'network_shape': 16}. Best is trial 48 with value: 250.25.\u001b[0m\n"
     ]
    },
    {
     "data": {
      "application/vnd.jupyter.widget-view+json": {
       "model_id": "28ec04b2b1ef426bbe2ff68aa4861493",
       "version_major": 2,
       "version_minor": 0
      },
      "text/plain": [
       "  0%|          | 0/100 [00:00<?, ?it/s]"
      ]
     },
     "metadata": {},
     "output_type": "display_data"
    },
    {
     "name": "stderr",
     "output_type": "stream",
     "text": [
      "\u001b[32m[I 2022-09-19 12:40:19,408]\u001b[0m Trial 52 finished with value: 631.6 and parameters: {'discount_factor': 0.9789062502308988, 'learning_rate': 0.06766478612505478, 'network_shape': 22}. Best is trial 48 with value: 250.25.\u001b[0m\n"
     ]
    },
    {
     "data": {
      "application/vnd.jupyter.widget-view+json": {
       "model_id": "0b8f693413cb4dadb95e487276dc970c",
       "version_major": 2,
       "version_minor": 0
      },
      "text/plain": [
       "  0%|          | 0/100 [00:00<?, ?it/s]"
      ]
     },
     "metadata": {},
     "output_type": "display_data"
    },
    {
     "name": "stderr",
     "output_type": "stream",
     "text": [
      "\u001b[32m[I 2022-09-19 12:40:40,091]\u001b[0m Trial 53 finished with value: 630.89 and parameters: {'discount_factor': 0.9842292148379519, 'learning_rate': 0.09003242041922993, 'network_shape': 41}. Best is trial 48 with value: 250.25.\u001b[0m\n"
     ]
    },
    {
     "data": {
      "application/vnd.jupyter.widget-view+json": {
       "model_id": "249fa96d3c5b4dfeae50417cc8d9bc33",
       "version_major": 2,
       "version_minor": 0
      },
      "text/plain": [
       "  0%|          | 0/100 [00:00<?, ?it/s]"
      ]
     },
     "metadata": {},
     "output_type": "display_data"
    },
    {
     "name": "stderr",
     "output_type": "stream",
     "text": [
      "\u001b[32m[I 2022-09-19 12:41:00,310]\u001b[0m Trial 54 finished with value: 250.37 and parameters: {'discount_factor': 0.9483242011209138, 'learning_rate': 0.07869114548132751, 'network_shape': 54}. Best is trial 48 with value: 250.25.\u001b[0m\n"
     ]
    },
    {
     "data": {
      "application/vnd.jupyter.widget-view+json": {
       "model_id": "f735c86031254f8782f68a4e68d3fe9d",
       "version_major": 2,
       "version_minor": 0
      },
      "text/plain": [
       "  0%|          | 0/100 [00:00<?, ?it/s]"
      ]
     },
     "metadata": {},
     "output_type": "display_data"
    },
    {
     "name": "stderr",
     "output_type": "stream",
     "text": [
      "\u001b[32m[I 2022-09-19 12:41:20,872]\u001b[0m Trial 55 finished with value: 261.81 and parameters: {'discount_factor': 0.9400844177829022, 'learning_rate': 0.0785820449252718, 'network_shape': 52}. Best is trial 48 with value: 250.25.\u001b[0m\n"
     ]
    },
    {
     "data": {
      "application/vnd.jupyter.widget-view+json": {
       "model_id": "85ed55eca92d4cf180f69030712752d4",
       "version_major": 2,
       "version_minor": 0
      },
      "text/plain": [
       "  0%|          | 0/100 [00:00<?, ?it/s]"
      ]
     },
     "metadata": {},
     "output_type": "display_data"
    },
    {
     "name": "stderr",
     "output_type": "stream",
     "text": [
      "\u001b[32m[I 2022-09-19 12:41:41,021]\u001b[0m Trial 56 finished with value: 250.62 and parameters: {'discount_factor': 0.9473986099352328, 'learning_rate': 0.08462258182315043, 'network_shape': 33}. Best is trial 48 with value: 250.25.\u001b[0m\n"
     ]
    },
    {
     "data": {
      "application/vnd.jupyter.widget-view+json": {
       "model_id": "88dba67b30f04456970dd3657271f316",
       "version_major": 2,
       "version_minor": 0
      },
      "text/plain": [
       "  0%|          | 0/100 [00:00<?, ?it/s]"
      ]
     },
     "metadata": {},
     "output_type": "display_data"
    },
    {
     "name": "stderr",
     "output_type": "stream",
     "text": [
      "\u001b[32m[I 2022-09-19 12:42:02,072]\u001b[0m Trial 57 finished with value: 251.43 and parameters: {'discount_factor': 0.9475199142686161, 'learning_rate': 0.08186680064357825, 'network_shape': 33}. Best is trial 48 with value: 250.25.\u001b[0m\n"
     ]
    },
    {
     "data": {
      "application/vnd.jupyter.widget-view+json": {
       "model_id": "bedd14bb2ccb4bfaa87176df1a920778",
       "version_major": 2,
       "version_minor": 0
      },
      "text/plain": [
       "  0%|          | 0/100 [00:00<?, ?it/s]"
      ]
     },
     "metadata": {},
     "output_type": "display_data"
    },
    {
     "name": "stderr",
     "output_type": "stream",
     "text": [
      "\u001b[32m[I 2022-09-19 12:42:23,420]\u001b[0m Trial 58 finished with value: 627.22 and parameters: {'discount_factor': 0.9589326297285774, 'learning_rate': 0.08790840074562442, 'network_shape': 46}. Best is trial 48 with value: 250.25.\u001b[0m\n"
     ]
    },
    {
     "data": {
      "application/vnd.jupyter.widget-view+json": {
       "model_id": "1eb1a88d2f4f44d5bac1dbf2f8b3dbbf",
       "version_major": 2,
       "version_minor": 0
      },
      "text/plain": [
       "  0%|          | 0/100 [00:00<?, ?it/s]"
      ]
     },
     "metadata": {},
     "output_type": "display_data"
    },
    {
     "name": "stderr",
     "output_type": "stream",
     "text": [
      "\u001b[32m[I 2022-09-19 12:42:45,358]\u001b[0m Trial 59 finished with value: 267.43 and parameters: {'discount_factor': 0.9714092008149251, 'learning_rate': 0.09515783111274555, 'network_shape': 63}. Best is trial 48 with value: 250.25.\u001b[0m\n"
     ]
    },
    {
     "data": {
      "application/vnd.jupyter.widget-view+json": {
       "model_id": "401fc4b258f84e49909ad61a1f430d07",
       "version_major": 2,
       "version_minor": 0
      },
      "text/plain": [
       "  0%|          | 0/100 [00:00<?, ?it/s]"
      ]
     },
     "metadata": {},
     "output_type": "display_data"
    },
    {
     "name": "stderr",
     "output_type": "stream",
     "text": [
      "\u001b[32m[I 2022-09-19 12:43:05,791]\u001b[0m Trial 60 finished with value: 264.61 and parameters: {'discount_factor': 0.9834874881368572, 'learning_rate': 0.08300744930913903, 'network_shape': 69}. Best is trial 48 with value: 250.25.\u001b[0m\n"
     ]
    },
    {
     "data": {
      "application/vnd.jupyter.widget-view+json": {
       "model_id": "7cac642dfacd46ffbd05ce4d3d6141fe",
       "version_major": 2,
       "version_minor": 0
      },
      "text/plain": [
       "  0%|          | 0/100 [00:00<?, ?it/s]"
      ]
     },
     "metadata": {},
     "output_type": "display_data"
    },
    {
     "name": "stderr",
     "output_type": "stream",
     "text": [
      "\u001b[32m[I 2022-09-19 12:43:26,839]\u001b[0m Trial 61 finished with value: 252.42 and parameters: {'discount_factor': 0.9506603002249027, 'learning_rate': 0.07835655070873652, 'network_shape': 29}. Best is trial 48 with value: 250.25.\u001b[0m\n"
     ]
    },
    {
     "data": {
      "application/vnd.jupyter.widget-view+json": {
       "model_id": "4a428a87717c46c29cb19487238f44b2",
       "version_major": 2,
       "version_minor": 0
      },
      "text/plain": [
       "  0%|          | 0/100 [00:00<?, ?it/s]"
      ]
     },
     "metadata": {},
     "output_type": "display_data"
    },
    {
     "name": "stderr",
     "output_type": "stream",
     "text": [
      "\u001b[32m[I 2022-09-19 12:43:47,134]\u001b[0m Trial 62 finished with value: 275.53 and parameters: {'discount_factor': 0.941961119761315, 'learning_rate': 0.06976557236647818, 'network_shape': 22}. Best is trial 48 with value: 250.25.\u001b[0m\n"
     ]
    },
    {
     "data": {
      "application/vnd.jupyter.widget-view+json": {
       "model_id": "cd0f1157dead4a45b8d447f2ab341f3a",
       "version_major": 2,
       "version_minor": 0
      },
      "text/plain": [
       "  0%|          | 0/100 [00:00<?, ?it/s]"
      ]
     },
     "metadata": {},
     "output_type": "display_data"
    },
    {
     "name": "stderr",
     "output_type": "stream",
     "text": [
      "\u001b[32m[I 2022-09-19 12:44:07,726]\u001b[0m Trial 63 finished with value: 247.07 and parameters: {'discount_factor': 0.9543424451646368, 'learning_rate': 0.08808568968482207, 'network_shape': 39}. Best is trial 63 with value: 247.07.\u001b[0m\n"
     ]
    },
    {
     "data": {
      "application/vnd.jupyter.widget-view+json": {
       "model_id": "7fadee0a4ca2474ea050f20e334eb5cf",
       "version_major": 2,
       "version_minor": 0
      },
      "text/plain": [
       "  0%|          | 0/100 [00:00<?, ?it/s]"
      ]
     },
     "metadata": {},
     "output_type": "display_data"
    },
    {
     "name": "stderr",
     "output_type": "stream",
     "text": [
      "\u001b[32m[I 2022-09-19 12:44:35,096]\u001b[0m Trial 64 finished with value: 636.35 and parameters: {'discount_factor': 0.9565243196470933, 'learning_rate': 0.08857784601178295, 'network_shape': 40}. Best is trial 63 with value: 247.07.\u001b[0m\n"
     ]
    },
    {
     "data": {
      "application/vnd.jupyter.widget-view+json": {
       "model_id": "39b5ac82f5624b20a387810c6caf7842",
       "version_major": 2,
       "version_minor": 0
      },
      "text/plain": [
       "  0%|          | 0/100 [00:00<?, ?it/s]"
      ]
     },
     "metadata": {},
     "output_type": "display_data"
    },
    {
     "name": "stderr",
     "output_type": "stream",
     "text": [
      "\u001b[32m[I 2022-09-19 12:45:01,466]\u001b[0m Trial 65 finished with value: 636.39 and parameters: {'discount_factor': 0.9441490877089662, 'learning_rate': 0.09885889383117902, 'network_shape': 37}. Best is trial 63 with value: 247.07.\u001b[0m\n"
     ]
    },
    {
     "data": {
      "application/vnd.jupyter.widget-view+json": {
       "model_id": "a189cec08c4f4a17aa894d634e5f0e28",
       "version_major": 2,
       "version_minor": 0
      },
      "text/plain": [
       "  0%|          | 0/100 [00:00<?, ?it/s]"
      ]
     },
     "metadata": {},
     "output_type": "display_data"
    },
    {
     "name": "stderr",
     "output_type": "stream",
     "text": [
      "\u001b[32m[I 2022-09-19 12:45:26,352]\u001b[0m Trial 66 finished with value: 445.46 and parameters: {'discount_factor': 0.9367304939718274, 'learning_rate': 0.08043247212337576, 'network_shape': 55}. Best is trial 63 with value: 247.07.\u001b[0m\n"
     ]
    },
    {
     "data": {
      "application/vnd.jupyter.widget-view+json": {
       "model_id": "af0856e3e8224fab8fc8b6741c36c04a",
       "version_major": 2,
       "version_minor": 0
      },
      "text/plain": [
       "  0%|          | 0/100 [00:00<?, ?it/s]"
      ]
     },
     "metadata": {},
     "output_type": "display_data"
    },
    {
     "name": "stderr",
     "output_type": "stream",
     "text": [
      "\u001b[32m[I 2022-09-19 12:45:48,877]\u001b[0m Trial 67 finished with value: 259.33 and parameters: {'discount_factor': 0.9862240453198848, 'learning_rate': 0.0913317431249915, 'network_shape': 43}. Best is trial 63 with value: 247.07.\u001b[0m\n"
     ]
    },
    {
     "data": {
      "application/vnd.jupyter.widget-view+json": {
       "model_id": "4c2f33abe04744a7877d407dfd54da1e",
       "version_major": 2,
       "version_minor": 0
      },
      "text/plain": [
       "  0%|          | 0/100 [00:00<?, ?it/s]"
      ]
     },
     "metadata": {},
     "output_type": "display_data"
    },
    {
     "name": "stderr",
     "output_type": "stream",
     "text": [
      "\u001b[32m[I 2022-09-19 12:46:12,868]\u001b[0m Trial 68 finished with value: 250.51 and parameters: {'discount_factor': 0.9662846352149659, 'learning_rate': 0.06032670359415025, 'network_shape': 49}. Best is trial 63 with value: 247.07.\u001b[0m\n"
     ]
    },
    {
     "data": {
      "application/vnd.jupyter.widget-view+json": {
       "model_id": "7eb89ed18bde406baf8d29583a88a263",
       "version_major": 2,
       "version_minor": 0
      },
      "text/plain": [
       "  0%|          | 0/100 [00:00<?, ?it/s]"
      ]
     },
     "metadata": {},
     "output_type": "display_data"
    },
    {
     "name": "stderr",
     "output_type": "stream",
     "text": [
      "\u001b[32m[I 2022-09-19 12:46:40,300]\u001b[0m Trial 69 finished with value: 250.65 and parameters: {'discount_factor': 0.9538522102185588, 'learning_rate': 0.08582604190636056, 'network_shape': 36}. Best is trial 63 with value: 247.07.\u001b[0m\n"
     ]
    },
    {
     "data": {
      "application/vnd.jupyter.widget-view+json": {
       "model_id": "26d262cacc594e59966075777005c62e",
       "version_major": 2,
       "version_minor": 0
      },
      "text/plain": [
       "  0%|          | 0/100 [00:00<?, ?it/s]"
      ]
     },
     "metadata": {},
     "output_type": "display_data"
    },
    {
     "name": "stderr",
     "output_type": "stream",
     "text": [
      "\u001b[32m[I 2022-09-19 12:47:03,887]\u001b[0m Trial 70 finished with value: 255.36 and parameters: {'discount_factor': 0.9473905466491724, 'learning_rate': 0.07595846083697513, 'network_shape': 48}. Best is trial 63 with value: 247.07.\u001b[0m\n"
     ]
    },
    {
     "data": {
      "application/vnd.jupyter.widget-view+json": {
       "model_id": "ce13a9ff84bd4db69b5da31903f65d25",
       "version_major": 2,
       "version_minor": 0
      },
      "text/plain": [
       "  0%|          | 0/100 [00:00<?, ?it/s]"
      ]
     },
     "metadata": {},
     "output_type": "display_data"
    },
    {
     "name": "stderr",
     "output_type": "stream",
     "text": [
      "\u001b[32m[I 2022-09-19 12:47:27,118]\u001b[0m Trial 71 finished with value: 446.37 and parameters: {'discount_factor': 0.9653348205894724, 'learning_rate': 0.06344760766757507, 'network_shape': 55}. Best is trial 63 with value: 247.07.\u001b[0m\n"
     ]
    },
    {
     "data": {
      "application/vnd.jupyter.widget-view+json": {
       "model_id": "6706465de8e547479ad5fdcf2183c6ac",
       "version_major": 2,
       "version_minor": 0
      },
      "text/plain": [
       "  0%|          | 0/100 [00:00<?, ?it/s]"
      ]
     },
     "metadata": {},
     "output_type": "display_data"
    },
    {
     "name": "stderr",
     "output_type": "stream",
     "text": [
      "\u001b[32m[I 2022-09-19 12:47:51,008]\u001b[0m Trial 72 finished with value: 632.48 and parameters: {'discount_factor': 0.956144444718819, 'learning_rate': 0.08523655762390556, 'network_shape': 36}. Best is trial 63 with value: 247.07.\u001b[0m\n"
     ]
    },
    {
     "data": {
      "application/vnd.jupyter.widget-view+json": {
       "model_id": "9556116f622d49108bd9173befd141e6",
       "version_major": 2,
       "version_minor": 0
      },
      "text/plain": [
       "  0%|          | 0/100 [00:00<?, ?it/s]"
      ]
     },
     "metadata": {},
     "output_type": "display_data"
    },
    {
     "name": "stderr",
     "output_type": "stream",
     "text": [
      "\u001b[32m[I 2022-09-19 12:48:14,893]\u001b[0m Trial 73 finished with value: 447.76 and parameters: {'discount_factor': 0.9536164183115559, 'learning_rate': 0.09373299897033333, 'network_shape': 35}. Best is trial 63 with value: 247.07.\u001b[0m\n"
     ]
    },
    {
     "data": {
      "application/vnd.jupyter.widget-view+json": {
       "model_id": "56acb53872ab44ffa6b88ff428a440d3",
       "version_major": 2,
       "version_minor": 0
      },
      "text/plain": [
       "  0%|          | 0/100 [00:00<?, ?it/s]"
      ]
     },
     "metadata": {},
     "output_type": "display_data"
    },
    {
     "name": "stderr",
     "output_type": "stream",
     "text": [
      "\u001b[32m[I 2022-09-19 12:48:36,638]\u001b[0m Trial 74 finished with value: 252.9 and parameters: {'discount_factor': 0.9786884617765641, 'learning_rate': 0.06082255581174964, 'network_shape': 45}. Best is trial 63 with value: 247.07.\u001b[0m\n"
     ]
    },
    {
     "data": {
      "application/vnd.jupyter.widget-view+json": {
       "model_id": "511fb7a89b78491e96f8bda5fb7242a6",
       "version_major": 2,
       "version_minor": 0
      },
      "text/plain": [
       "  0%|          | 0/100 [00:00<?, ?it/s]"
      ]
     },
     "metadata": {},
     "output_type": "display_data"
    },
    {
     "name": "stderr",
     "output_type": "stream",
     "text": [
      "\u001b[32m[I 2022-09-19 12:48:58,874]\u001b[0m Trial 75 finished with value: 254.8 and parameters: {'discount_factor': 0.9495104091512413, 'learning_rate': 0.07303515697186638, 'network_shape': 32}. Best is trial 63 with value: 247.07.\u001b[0m\n"
     ]
    },
    {
     "data": {
      "application/vnd.jupyter.widget-view+json": {
       "model_id": "f681c2e6575b46c08ab06c38510d0720",
       "version_major": 2,
       "version_minor": 0
      },
      "text/plain": [
       "  0%|          | 0/100 [00:00<?, ?it/s]"
      ]
     },
     "metadata": {},
     "output_type": "display_data"
    },
    {
     "name": "stderr",
     "output_type": "stream",
     "text": [
      "\u001b[32m[I 2022-09-19 12:49:23,006]\u001b[0m Trial 76 finished with value: 629.01 and parameters: {'discount_factor': 0.9625715783386468, 'learning_rate': 0.08703830329955371, 'network_shape': 31}. Best is trial 63 with value: 247.07.\u001b[0m\n"
     ]
    },
    {
     "data": {
      "application/vnd.jupyter.widget-view+json": {
       "model_id": "07b0422d55b14781b34deda550b62135",
       "version_major": 2,
       "version_minor": 0
      },
      "text/plain": [
       "  0%|          | 0/100 [00:00<?, ?it/s]"
      ]
     },
     "metadata": {},
     "output_type": "display_data"
    },
    {
     "name": "stderr",
     "output_type": "stream",
     "text": [
      "\u001b[32m[I 2022-09-19 12:49:46,148]\u001b[0m Trial 77 finished with value: 446.34 and parameters: {'discount_factor': 0.9673639137065293, 'learning_rate': 0.08043401765626924, 'network_shape': 49}. Best is trial 63 with value: 247.07.\u001b[0m\n"
     ]
    },
    {
     "data": {
      "application/vnd.jupyter.widget-view+json": {
       "model_id": "1a0a7cadae3144fe85ebe8a2ffd184ae",
       "version_major": 2,
       "version_minor": 0
      },
      "text/plain": [
       "  0%|          | 0/100 [00:00<?, ?it/s]"
      ]
     },
     "metadata": {},
     "output_type": "display_data"
    },
    {
     "name": "stderr",
     "output_type": "stream",
     "text": [
      "\u001b[32m[I 2022-09-19 12:50:11,160]\u001b[0m Trial 78 finished with value: 246.68 and parameters: {'discount_factor': 0.9589431748343439, 'learning_rate': 0.09167455769715335, 'network_shape': 39}. Best is trial 78 with value: 246.68.\u001b[0m\n"
     ]
    },
    {
     "data": {
      "application/vnd.jupyter.widget-view+json": {
       "model_id": "f811cfa26f8c4011adc513a897c05fb0",
       "version_major": 2,
       "version_minor": 0
      },
      "text/plain": [
       "  0%|          | 0/100 [00:00<?, ?it/s]"
      ]
     },
     "metadata": {},
     "output_type": "display_data"
    },
    {
     "name": "stderr",
     "output_type": "stream",
     "text": [
      "\u001b[32m[I 2022-09-19 12:50:35,564]\u001b[0m Trial 79 finished with value: 251.93 and parameters: {'discount_factor': 0.9588076399625809, 'learning_rate': 0.05553423752723674, 'network_shape': 40}. Best is trial 78 with value: 246.68.\u001b[0m\n"
     ]
    },
    {
     "data": {
      "application/vnd.jupyter.widget-view+json": {
       "model_id": "c4622ba81c3249b5ab1bf2470a3bbb78",
       "version_major": 2,
       "version_minor": 0
      },
      "text/plain": [
       "  0%|          | 0/100 [00:00<?, ?it/s]"
      ]
     },
     "metadata": {},
     "output_type": "display_data"
    },
    {
     "name": "stderr",
     "output_type": "stream",
     "text": [
      "\u001b[32m[I 2022-09-19 12:51:00,329]\u001b[0m Trial 80 finished with value: 631.48 and parameters: {'discount_factor': 0.9616004791976597, 'learning_rate': 0.09655198192143027, 'network_shape': 44}. Best is trial 78 with value: 246.68.\u001b[0m\n"
     ]
    },
    {
     "data": {
      "application/vnd.jupyter.widget-view+json": {
       "model_id": "a118d5667c934641b5f697be950f22be",
       "version_major": 2,
       "version_minor": 0
      },
      "text/plain": [
       "  0%|          | 0/100 [00:00<?, ?it/s]"
      ]
     },
     "metadata": {},
     "output_type": "display_data"
    },
    {
     "name": "stderr",
     "output_type": "stream",
     "text": [
      "\u001b[32m[I 2022-09-19 12:51:23,857]\u001b[0m Trial 81 finished with value: 447.17 and parameters: {'discount_factor': 0.9895771229657363, 'learning_rate': 0.06572674507166511, 'network_shape': 61}. Best is trial 78 with value: 246.68.\u001b[0m\n"
     ]
    },
    {
     "data": {
      "application/vnd.jupyter.widget-view+json": {
       "model_id": "fd6579681ade4927948e4496bbbda937",
       "version_major": 2,
       "version_minor": 0
      },
      "text/plain": [
       "  0%|          | 0/100 [00:00<?, ?it/s]"
      ]
     },
     "metadata": {},
     "output_type": "display_data"
    },
    {
     "name": "stderr",
     "output_type": "stream",
     "text": [
      "\u001b[32m[I 2022-09-19 12:51:47,941]\u001b[0m Trial 82 finished with value: 441.35 and parameters: {'discount_factor': 0.9537385294666055, 'learning_rate': 0.09260532592736309, 'network_shape': 39}. Best is trial 78 with value: 246.68.\u001b[0m\n"
     ]
    },
    {
     "data": {
      "application/vnd.jupyter.widget-view+json": {
       "model_id": "87f5e67f77d44dc381e2981ede4bd05d",
       "version_major": 2,
       "version_minor": 0
      },
      "text/plain": [
       "  0%|          | 0/100 [00:00<?, ?it/s]"
      ]
     },
     "metadata": {},
     "output_type": "display_data"
    },
    {
     "name": "stderr",
     "output_type": "stream",
     "text": [
      "\u001b[32m[I 2022-09-19 12:52:11,931]\u001b[0m Trial 83 finished with value: 447.32 and parameters: {'discount_factor': 0.9880391626466102, 'learning_rate': 0.060595149861471125, 'network_shape': 124}. Best is trial 78 with value: 246.68.\u001b[0m\n"
     ]
    },
    {
     "data": {
      "application/vnd.jupyter.widget-view+json": {
       "model_id": "d05dc6b38cda4eb79ac4b6b4b2aeef82",
       "version_major": 2,
       "version_minor": 0
      },
      "text/plain": [
       "  0%|          | 0/100 [00:00<?, ?it/s]"
      ]
     },
     "metadata": {},
     "output_type": "display_data"
    },
    {
     "name": "stderr",
     "output_type": "stream",
     "text": [
      "\u001b[32m[I 2022-09-19 12:52:37,184]\u001b[0m Trial 84 finished with value: 633.02 and parameters: {'discount_factor': 0.9748174220369974, 'learning_rate': 0.04860428352643601, 'network_shape': 57}. Best is trial 78 with value: 246.68.\u001b[0m\n"
     ]
    },
    {
     "data": {
      "application/vnd.jupyter.widget-view+json": {
       "model_id": "67438424110342e7ba04bf12d285176d",
       "version_major": 2,
       "version_minor": 0
      },
      "text/plain": [
       "  0%|          | 0/100 [00:00<?, ?it/s]"
      ]
     },
     "metadata": {},
     "output_type": "display_data"
    },
    {
     "name": "stderr",
     "output_type": "stream",
     "text": [
      "\u001b[32m[I 2022-09-19 12:53:05,257]\u001b[0m Trial 85 finished with value: 404.23 and parameters: {'discount_factor': 0.9716442957796327, 'learning_rate': 0.05157047937736617, 'network_shape': 55}. Best is trial 78 with value: 246.68.\u001b[0m\n"
     ]
    },
    {
     "data": {
      "application/vnd.jupyter.widget-view+json": {
       "model_id": "ed560d76fc134a318e062037a4a8a709",
       "version_major": 2,
       "version_minor": 0
      },
      "text/plain": [
       "  0%|          | 0/100 [00:00<?, ?it/s]"
      ]
     },
     "metadata": {},
     "output_type": "display_data"
    },
    {
     "name": "stderr",
     "output_type": "stream",
     "text": [
      "\u001b[32m[I 2022-09-19 12:53:28,815]\u001b[0m Trial 86 finished with value: 447.04 and parameters: {'discount_factor': 0.9820058565184555, 'learning_rate': 0.07070720792363046, 'network_shape': 68}. Best is trial 78 with value: 246.68.\u001b[0m\n"
     ]
    },
    {
     "data": {
      "application/vnd.jupyter.widget-view+json": {
       "model_id": "49adc5c6ca5e4509b5a304de0832bd77",
       "version_major": 2,
       "version_minor": 0
      },
      "text/plain": [
       "  0%|          | 0/100 [00:00<?, ?it/s]"
      ]
     },
     "metadata": {},
     "output_type": "display_data"
    },
    {
     "name": "stderr",
     "output_type": "stream",
     "text": [
      "\u001b[32m[I 2022-09-19 12:53:55,718]\u001b[0m Trial 87 finished with value: 254.11 and parameters: {'discount_factor': 0.9670182714296812, 'learning_rate': 0.08989707558329038, 'network_shape': 96}. Best is trial 78 with value: 246.68.\u001b[0m\n"
     ]
    },
    {
     "data": {
      "application/vnd.jupyter.widget-view+json": {
       "model_id": "92fe78a60f824f0a88d766807a66f0f2",
       "version_major": 2,
       "version_minor": 0
      },
      "text/plain": [
       "  0%|          | 0/100 [00:00<?, ?it/s]"
      ]
     },
     "metadata": {},
     "output_type": "display_data"
    },
    {
     "name": "stderr",
     "output_type": "stream",
     "text": [
      "\u001b[32m[I 2022-09-19 12:54:30,527]\u001b[0m Trial 88 finished with value: 438.4 and parameters: {'discount_factor': 0.9637234539736096, 'learning_rate': 0.05528721498733179, 'network_shape': 50}. Best is trial 78 with value: 246.68.\u001b[0m\n"
     ]
    },
    {
     "data": {
      "application/vnd.jupyter.widget-view+json": {
       "model_id": "cc92fd11735d45aca091bf671f37a2f1",
       "version_major": 2,
       "version_minor": 0
      },
      "text/plain": [
       "  0%|          | 0/100 [00:00<?, ?it/s]"
      ]
     },
     "metadata": {},
     "output_type": "display_data"
    },
    {
     "name": "stderr",
     "output_type": "stream",
     "text": [
      "\u001b[32m[I 2022-09-19 12:55:00,581]\u001b[0m Trial 89 finished with value: 251.66 and parameters: {'discount_factor': 0.9568858926612038, 'learning_rate': 0.08537436079862878, 'network_shape': 25}. Best is trial 78 with value: 246.68.\u001b[0m\n"
     ]
    },
    {
     "data": {
      "application/vnd.jupyter.widget-view+json": {
       "model_id": "52256daf00594d73ad9398012716758d",
       "version_major": 2,
       "version_minor": 0
      },
      "text/plain": [
       "  0%|          | 0/100 [00:00<?, ?it/s]"
      ]
     },
     "metadata": {},
     "output_type": "display_data"
    },
    {
     "name": "stderr",
     "output_type": "stream",
     "text": [
      "\u001b[32m[I 2022-09-19 12:55:27,606]\u001b[0m Trial 90 finished with value: 251.43 and parameters: {'discount_factor': 0.9436714947179752, 'learning_rate': 0.03876814667170819, 'network_shape': 117}. Best is trial 78 with value: 246.68.\u001b[0m\n"
     ]
    },
    {
     "data": {
      "application/vnd.jupyter.widget-view+json": {
       "model_id": "c22ed2d26edc4958a0c3d94dd7209a47",
       "version_major": 2,
       "version_minor": 0
      },
      "text/plain": [
       "  0%|          | 0/100 [00:00<?, ?it/s]"
      ]
     },
     "metadata": {},
     "output_type": "display_data"
    },
    {
     "name": "stderr",
     "output_type": "stream",
     "text": [
      "\u001b[32m[I 2022-09-19 12:55:52,694]\u001b[0m Trial 91 finished with value: 252.64 and parameters: {'discount_factor': 0.9470543034213563, 'learning_rate': 0.08206082338989693, 'network_shape': 37}. Best is trial 78 with value: 246.68.\u001b[0m\n"
     ]
    },
    {
     "data": {
      "application/vnd.jupyter.widget-view+json": {
       "model_id": "c9ea676bf3014eb1af6ff5d97edac548",
       "version_major": 2,
       "version_minor": 0
      },
      "text/plain": [
       "  0%|          | 0/100 [00:00<?, ?it/s]"
      ]
     },
     "metadata": {},
     "output_type": "display_data"
    },
    {
     "name": "stderr",
     "output_type": "stream",
     "text": [
      "\u001b[32m[I 2022-09-19 12:56:17,955]\u001b[0m Trial 92 finished with value: 252.68 and parameters: {'discount_factor': 0.9495100356494734, 'learning_rate': 0.08343909762801927, 'network_shape': 43}. Best is trial 78 with value: 246.68.\u001b[0m\n"
     ]
    },
    {
     "data": {
      "application/vnd.jupyter.widget-view+json": {
       "model_id": "2a5f5f8abd7a4124bc7ba11a299a57c0",
       "version_major": 2,
       "version_minor": 0
      },
      "text/plain": [
       "  0%|          | 0/100 [00:00<?, ?it/s]"
      ]
     },
     "metadata": {},
     "output_type": "display_data"
    },
    {
     "name": "stderr",
     "output_type": "stream",
     "text": [
      "\u001b[32m[I 2022-09-19 12:56:42,713]\u001b[0m Trial 93 finished with value: 462.2 and parameters: {'discount_factor': 0.9518406897578269, 'learning_rate': 0.0964336953261553, 'network_shape': 30}. Best is trial 78 with value: 246.68.\u001b[0m\n"
     ]
    },
    {
     "data": {
      "application/vnd.jupyter.widget-view+json": {
       "model_id": "c7c2ca8d5f454c67bae81db6f39c11ef",
       "version_major": 2,
       "version_minor": 0
      },
      "text/plain": [
       "  0%|          | 0/100 [00:00<?, ?it/s]"
      ]
     },
     "metadata": {},
     "output_type": "display_data"
    },
    {
     "name": "stderr",
     "output_type": "stream",
     "text": [
      "\u001b[32m[I 2022-09-19 12:57:10,646]\u001b[0m Trial 94 finished with value: 443.18 and parameters: {'discount_factor': 0.9603749819339472, 'learning_rate': 0.08687931395583087, 'network_shape': 128}. Best is trial 78 with value: 246.68.\u001b[0m\n"
     ]
    },
    {
     "data": {
      "application/vnd.jupyter.widget-view+json": {
       "model_id": "fb62f3acc0ce48d283ecfb17cc77760b",
       "version_major": 2,
       "version_minor": 0
      },
      "text/plain": [
       "  0%|          | 0/100 [00:00<?, ?it/s]"
      ]
     },
     "metadata": {},
     "output_type": "display_data"
    },
    {
     "name": "stderr",
     "output_type": "stream",
     "text": [
      "\u001b[32m[I 2022-09-19 12:57:40,282]\u001b[0m Trial 95 finished with value: 633.74 and parameters: {'discount_factor': 0.985565421146082, 'learning_rate': 0.07613188121152137, 'network_shape': 107}. Best is trial 78 with value: 246.68.\u001b[0m\n"
     ]
    },
    {
     "data": {
      "application/vnd.jupyter.widget-view+json": {
       "model_id": "5a9b091fb62341859337d13a29376ea2",
       "version_major": 2,
       "version_minor": 0
      },
      "text/plain": [
       "  0%|          | 0/100 [00:00<?, ?it/s]"
      ]
     },
     "metadata": {},
     "output_type": "display_data"
    },
    {
     "name": "stderr",
     "output_type": "stream",
     "text": [
      "\u001b[32m[I 2022-09-19 12:58:03,957]\u001b[0m Trial 96 finished with value: 439.67 and parameters: {'discount_factor': 0.9788512841915872, 'learning_rate': 0.09054919056767503, 'network_shape': 72}. Best is trial 78 with value: 246.68.\u001b[0m\n"
     ]
    },
    {
     "data": {
      "application/vnd.jupyter.widget-view+json": {
       "model_id": "c22ec25904bb4f7a99f01b3ef5d03ec5",
       "version_major": 2,
       "version_minor": 0
      },
      "text/plain": [
       "  0%|          | 0/100 [00:00<?, ?it/s]"
      ]
     },
     "metadata": {},
     "output_type": "display_data"
    },
    {
     "name": "stderr",
     "output_type": "stream",
     "text": [
      "\u001b[32m[I 2022-09-19 12:58:27,193]\u001b[0m Trial 97 finished with value: 259.63 and parameters: {'discount_factor': 0.9583592964682358, 'learning_rate': 0.043606325266512966, 'network_shape': 65}. Best is trial 78 with value: 246.68.\u001b[0m\n"
     ]
    },
    {
     "data": {
      "application/vnd.jupyter.widget-view+json": {
       "model_id": "2b9e467b49794c97a64fb55f9a9dfe32",
       "version_major": 2,
       "version_minor": 0
      },
      "text/plain": [
       "  0%|          | 0/100 [00:00<?, ?it/s]"
      ]
     },
     "metadata": {},
     "output_type": "display_data"
    },
    {
     "name": "stderr",
     "output_type": "stream",
     "text": [
      "\u001b[32m[I 2022-09-19 12:58:51,264]\u001b[0m Trial 98 finished with value: 438.59 and parameters: {'discount_factor': 0.9549454566021586, 'learning_rate': 0.058819245954816635, 'network_shape': 53}. Best is trial 78 with value: 246.68.\u001b[0m\n"
     ]
    },
    {
     "data": {
      "application/vnd.jupyter.widget-view+json": {
       "model_id": "6567c67a87ba4635aa551aa3c2f674a1",
       "version_major": 2,
       "version_minor": 0
      },
      "text/plain": [
       "  0%|          | 0/100 [00:00<?, ?it/s]"
      ]
     },
     "metadata": {},
     "output_type": "display_data"
    },
    {
     "name": "stderr",
     "output_type": "stream",
     "text": [
      "\u001b[32m[I 2022-09-19 12:59:13,949]\u001b[0m Trial 99 finished with value: 255.55 and parameters: {'discount_factor': 0.9763540177654092, 'learning_rate': 0.0687226285351696, 'network_shape': 60}. Best is trial 78 with value: 246.68.\u001b[0m\n"
     ]
    },
    {
     "data": {
      "application/vnd.jupyter.widget-view+json": {
       "model_id": "54e52d26ab684f17b058c93e3287a743",
       "version_major": 2,
       "version_minor": 0
      },
      "text/plain": [
       "  0%|          | 0/100 [00:00<?, ?it/s]"
      ]
     },
     "metadata": {},
     "output_type": "display_data"
    },
    {
     "name": "stderr",
     "output_type": "stream",
     "text": [
      "\u001b[32m[I 2022-09-19 12:59:36,965]\u001b[0m Trial 100 finished with value: 250.59 and parameters: {'discount_factor': 0.9828883573634564, 'learning_rate': 0.07470865601289992, 'network_shape': 28}. Best is trial 78 with value: 246.68.\u001b[0m\n"
     ]
    },
    {
     "data": {
      "application/vnd.jupyter.widget-view+json": {
       "model_id": "8526a7df2e0b4ec1b85297302c56fe3f",
       "version_major": 2,
       "version_minor": 0
      },
      "text/plain": [
       "  0%|          | 0/100 [00:00<?, ?it/s]"
      ]
     },
     "metadata": {},
     "output_type": "display_data"
    },
    {
     "name": "stderr",
     "output_type": "stream",
     "text": [
      "\u001b[32m[I 2022-09-19 13:00:00,709]\u001b[0m Trial 101 finished with value: 251.94 and parameters: {'discount_factor': 0.9829392444615479, 'learning_rate': 0.07941024662865608, 'network_shape': 28}. Best is trial 78 with value: 246.68.\u001b[0m\n"
     ]
    },
    {
     "data": {
      "application/vnd.jupyter.widget-view+json": {
       "model_id": "bf8259b4478a475487affa6f5aae046f",
       "version_major": 2,
       "version_minor": 0
      },
      "text/plain": [
       "  0%|          | 0/100 [00:00<?, ?it/s]"
      ]
     },
     "metadata": {},
     "output_type": "display_data"
    },
    {
     "name": "stderr",
     "output_type": "stream",
     "text": [
      "\u001b[32m[I 2022-09-19 13:00:24,766]\u001b[0m Trial 102 finished with value: 257.75 and parameters: {'discount_factor': 0.9874771497431385, 'learning_rate': 0.07418064022597778, 'network_shape': 33}. Best is trial 78 with value: 246.68.\u001b[0m\n"
     ]
    },
    {
     "data": {
      "application/vnd.jupyter.widget-view+json": {
       "model_id": "a3a8651e0f6444759979012cf80f250c",
       "version_major": 2,
       "version_minor": 0
      },
      "text/plain": [
       "  0%|          | 0/100 [00:00<?, ?it/s]"
      ]
     },
     "metadata": {},
     "output_type": "display_data"
    },
    {
     "name": "stderr",
     "output_type": "stream",
     "text": [
      "\u001b[32m[I 2022-09-19 13:00:49,542]\u001b[0m Trial 103 finished with value: 580.38 and parameters: {'discount_factor': 0.9859980708592603, 'learning_rate': 0.07167814537070123, 'network_shape': 23}. Best is trial 78 with value: 246.68.\u001b[0m\n"
     ]
    },
    {
     "data": {
      "application/vnd.jupyter.widget-view+json": {
       "model_id": "fb88d2e3a9374843b7d8f36a441999d0",
       "version_major": 2,
       "version_minor": 0
      },
      "text/plain": [
       "  0%|          | 0/100 [00:00<?, ?it/s]"
      ]
     },
     "metadata": {},
     "output_type": "display_data"
    },
    {
     "name": "stderr",
     "output_type": "stream",
     "text": [
      "\u001b[32m[I 2022-09-19 13:01:14,630]\u001b[0m Trial 104 finished with value: 631.21 and parameters: {'discount_factor': 0.9815360455071326, 'learning_rate': 0.06443130054441432, 'network_shape': 35}. Best is trial 78 with value: 246.68.\u001b[0m\n"
     ]
    },
    {
     "data": {
      "application/vnd.jupyter.widget-view+json": {
       "model_id": "ae806bd473124d1ea49e86572e9af504",
       "version_major": 2,
       "version_minor": 0
      },
      "text/plain": [
       "  0%|          | 0/100 [00:00<?, ?it/s]"
      ]
     },
     "metadata": {},
     "output_type": "display_data"
    },
    {
     "name": "stderr",
     "output_type": "stream",
     "text": [
      "\u001b[32m[I 2022-09-19 13:01:39,364]\u001b[0m Trial 105 finished with value: 255.3 and parameters: {'discount_factor': 0.9800200581560322, 'learning_rate': 0.08414121265455012, 'network_shape': 42}. Best is trial 78 with value: 246.68.\u001b[0m\n"
     ]
    },
    {
     "data": {
      "application/vnd.jupyter.widget-view+json": {
       "model_id": "a00997c71b054327a882cfb68f327d4b",
       "version_major": 2,
       "version_minor": 0
      },
      "text/plain": [
       "  0%|          | 0/100 [00:00<?, ?it/s]"
      ]
     },
     "metadata": {},
     "output_type": "display_data"
    },
    {
     "name": "stderr",
     "output_type": "stream",
     "text": [
      "\u001b[32m[I 2022-09-19 13:02:03,294]\u001b[0m Trial 106 finished with value: 273.61 and parameters: {'discount_factor': 0.9704643491245217, 'learning_rate': 0.04723096007507971, 'network_shape': 101}. Best is trial 78 with value: 246.68.\u001b[0m\n"
     ]
    },
    {
     "data": {
      "application/vnd.jupyter.widget-view+json": {
       "model_id": "01dda284fe524248853f6d5809c17550",
       "version_major": 2,
       "version_minor": 0
      },
      "text/plain": [
       "  0%|          | 0/100 [00:00<?, ?it/s]"
      ]
     },
     "metadata": {},
     "output_type": "display_data"
    },
    {
     "name": "stderr",
     "output_type": "stream",
     "text": [
      "\u001b[32m[I 2022-09-19 13:02:28,330]\u001b[0m Trial 107 finished with value: 444.22 and parameters: {'discount_factor': 0.9457566257258494, 'learning_rate': 0.08858345162980436, 'network_shape': 47}. Best is trial 78 with value: 246.68.\u001b[0m\n"
     ]
    },
    {
     "data": {
      "application/vnd.jupyter.widget-view+json": {
       "model_id": "334121ff97b44491bff88311dc4d440c",
       "version_major": 2,
       "version_minor": 0
      },
      "text/plain": [
       "  0%|          | 0/100 [00:00<?, ?it/s]"
      ]
     },
     "metadata": {},
     "output_type": "display_data"
    },
    {
     "name": "stderr",
     "output_type": "stream",
     "text": [
      "\u001b[32m[I 2022-09-19 13:02:52,501]\u001b[0m Trial 108 finished with value: 446.06 and parameters: {'discount_factor': 0.9734806538534942, 'learning_rate': 0.07637986676654951, 'network_shape': 39}. Best is trial 78 with value: 246.68.\u001b[0m\n"
     ]
    },
    {
     "data": {
      "application/vnd.jupyter.widget-view+json": {
       "model_id": "d275eb0590d544f8975c68670b53b35d",
       "version_major": 2,
       "version_minor": 0
      },
      "text/plain": [
       "  0%|          | 0/100 [00:00<?, ?it/s]"
      ]
     },
     "metadata": {},
     "output_type": "display_data"
    },
    {
     "name": "stderr",
     "output_type": "stream",
     "text": [
      "\u001b[32m[I 2022-09-19 13:03:17,267]\u001b[0m Trial 109 finished with value: 442.49 and parameters: {'discount_factor': 0.9848563676554558, 'learning_rate': 0.09254178698079359, 'network_shape': 20}. Best is trial 78 with value: 246.68.\u001b[0m\n"
     ]
    },
    {
     "data": {
      "application/vnd.jupyter.widget-view+json": {
       "model_id": "9b547cdbffb04b09961d36ea36d3f815",
       "version_major": 2,
       "version_minor": 0
      },
      "text/plain": [
       "  0%|          | 0/100 [00:00<?, ?it/s]"
      ]
     },
     "metadata": {},
     "output_type": "display_data"
    },
    {
     "name": "stderr",
     "output_type": "stream",
     "text": [
      "\u001b[32m[I 2022-09-19 13:03:41,838]\u001b[0m Trial 110 finished with value: 423.33 and parameters: {'discount_factor': 0.9526280615972337, 'learning_rate': 0.08659598508207937, 'network_shape': 26}. Best is trial 78 with value: 246.68.\u001b[0m\n"
     ]
    },
    {
     "data": {
      "application/vnd.jupyter.widget-view+json": {
       "model_id": "b7e402908f3e43ff9e3615bf52538e41",
       "version_major": 2,
       "version_minor": 0
      },
      "text/plain": [
       "  0%|          | 0/100 [00:00<?, ?it/s]"
      ]
     },
     "metadata": {},
     "output_type": "display_data"
    },
    {
     "name": "stderr",
     "output_type": "stream",
     "text": [
      "\u001b[32m[I 2022-09-19 13:04:06,577]\u001b[0m Trial 111 finished with value: 263.39 and parameters: {'discount_factor': 0.94856049305598, 'learning_rate': 0.0368973255220917, 'network_shape': 19}. Best is trial 78 with value: 246.68.\u001b[0m\n"
     ]
    },
    {
     "data": {
      "application/vnd.jupyter.widget-view+json": {
       "model_id": "596dd8406e964b548c75346f68835196",
       "version_major": 2,
       "version_minor": 0
      },
      "text/plain": [
       "  0%|          | 0/100 [00:00<?, ?it/s]"
      ]
     },
     "metadata": {},
     "output_type": "display_data"
    },
    {
     "name": "stderr",
     "output_type": "stream",
     "text": [
      "\u001b[32m[I 2022-09-19 13:04:32,567]\u001b[0m Trial 112 finished with value: 456.37 and parameters: {'discount_factor': 0.9555138226214214, 'learning_rate': 0.03200259686949371, 'network_shape': 30}. Best is trial 78 with value: 246.68.\u001b[0m\n"
     ]
    },
    {
     "data": {
      "application/vnd.jupyter.widget-view+json": {
       "model_id": "dbde19f015134de2a6ac4fdf7930318a",
       "version_major": 2,
       "version_minor": 0
      },
      "text/plain": [
       "  0%|          | 0/100 [00:00<?, ?it/s]"
      ]
     },
     "metadata": {},
     "output_type": "display_data"
    },
    {
     "name": "stderr",
     "output_type": "stream",
     "text": [
      "\u001b[32m[I 2022-09-19 13:04:56,674]\u001b[0m Trial 113 finished with value: 252.45 and parameters: {'discount_factor': 0.9509447712832174, 'learning_rate': 0.04329542889658473, 'network_shape': 111}. Best is trial 78 with value: 246.68.\u001b[0m\n"
     ]
    },
    {
     "data": {
      "application/vnd.jupyter.widget-view+json": {
       "model_id": "1087345655a040c0b3edec6df45f5a1f",
       "version_major": 2,
       "version_minor": 0
      },
      "text/plain": [
       "  0%|          | 0/100 [00:00<?, ?it/s]"
      ]
     },
     "metadata": {},
     "output_type": "display_data"
    },
    {
     "name": "stderr",
     "output_type": "stream",
     "text": [
      "\u001b[32m[I 2022-09-19 13:05:21,021]\u001b[0m Trial 114 finished with value: 436.64 and parameters: {'discount_factor': 0.9397348632701227, 'learning_rate': 0.05368623534709678, 'network_shape': 37}. Best is trial 78 with value: 246.68.\u001b[0m\n"
     ]
    },
    {
     "data": {
      "application/vnd.jupyter.widget-view+json": {
       "model_id": "eb9bf46fd00a481db7565aae2d0832ca",
       "version_major": 2,
       "version_minor": 0
      },
      "text/plain": [
       "  0%|          | 0/100 [00:00<?, ?it/s]"
      ]
     },
     "metadata": {},
     "output_type": "display_data"
    },
    {
     "name": "stderr",
     "output_type": "stream",
     "text": [
      "\u001b[32m[I 2022-09-19 13:05:44,695]\u001b[0m Trial 115 finished with value: 264.74 and parameters: {'discount_factor': 0.9578936776360764, 'learning_rate': 0.07810837734149743, 'network_shape': 18}. Best is trial 78 with value: 246.68.\u001b[0m\n"
     ]
    },
    {
     "data": {
      "application/vnd.jupyter.widget-view+json": {
       "model_id": "51f80bb3e2da4bbcb184e1f5c7212088",
       "version_major": 2,
       "version_minor": 0
      },
      "text/plain": [
       "  0%|          | 0/100 [00:00<?, ?it/s]"
      ]
     },
     "metadata": {},
     "output_type": "display_data"
    },
    {
     "name": "stderr",
     "output_type": "stream",
     "text": [
      "\u001b[32m[I 2022-09-19 13:06:10,631]\u001b[0m Trial 116 finished with value: 252.69 and parameters: {'discount_factor': 0.9884037258248514, 'learning_rate': 0.08184324860577323, 'network_shape': 33}. Best is trial 78 with value: 246.68.\u001b[0m\n"
     ]
    },
    {
     "data": {
      "application/vnd.jupyter.widget-view+json": {
       "model_id": "803f2dd625f34dd69fda60d04ff628ad",
       "version_major": 2,
       "version_minor": 0
      },
      "text/plain": [
       "  0%|          | 0/100 [00:00<?, ?it/s]"
      ]
     },
     "metadata": {},
     "output_type": "display_data"
    },
    {
     "name": "stderr",
     "output_type": "stream",
     "text": [
      "\u001b[32m[I 2022-09-19 13:06:35,558]\u001b[0m Trial 117 finished with value: 259.3 and parameters: {'discount_factor': 0.9603328337348492, 'learning_rate': 0.04610001767413475, 'network_shape': 24}. Best is trial 78 with value: 246.68.\u001b[0m\n"
     ]
    },
    {
     "data": {
      "application/vnd.jupyter.widget-view+json": {
       "model_id": "7fed735b2b4a4bba99fac9090b5431d8",
       "version_major": 2,
       "version_minor": 0
      },
      "text/plain": [
       "  0%|          | 0/100 [00:00<?, ?it/s]"
      ]
     },
     "metadata": {},
     "output_type": "display_data"
    },
    {
     "name": "stderr",
     "output_type": "stream",
     "text": [
      "\u001b[32m[I 2022-09-19 13:07:01,585]\u001b[0m Trial 118 finished with value: 251.44 and parameters: {'discount_factor': 0.9633868594889403, 'learning_rate': 0.050477903549836514, 'network_shape': 45}. Best is trial 78 with value: 246.68.\u001b[0m\n"
     ]
    },
    {
     "data": {
      "application/vnd.jupyter.widget-view+json": {
       "model_id": "a1b9e3d888394a0996892ebb5248e60f",
       "version_major": 2,
       "version_minor": 0
      },
      "text/plain": [
       "  0%|          | 0/100 [00:00<?, ?it/s]"
      ]
     },
     "metadata": {},
     "output_type": "display_data"
    },
    {
     "name": "stderr",
     "output_type": "stream",
     "text": [
      "\u001b[32m[I 2022-09-19 13:07:24,728]\u001b[0m Trial 119 finished with value: 265.78 and parameters: {'discount_factor': 0.9897653676092831, 'learning_rate': 0.03440515933366964, 'network_shape': 16}. Best is trial 78 with value: 246.68.\u001b[0m\n"
     ]
    },
    {
     "data": {
      "application/vnd.jupyter.widget-view+json": {
       "model_id": "83c10cf8b5b44b9dbc1c511fb69cec5e",
       "version_major": 2,
       "version_minor": 0
      },
      "text/plain": [
       "  0%|          | 0/100 [00:00<?, ?it/s]"
      ]
     },
     "metadata": {},
     "output_type": "display_data"
    },
    {
     "name": "stderr",
     "output_type": "stream",
     "text": [
      "\u001b[32m[I 2022-09-19 13:07:44,647]\u001b[0m Trial 120 finished with value: 440.9 and parameters: {'discount_factor': 0.9525417182179647, 'learning_rate': 0.05966592498373443, 'network_shape': 28}. Best is trial 78 with value: 246.68.\u001b[0m\n"
     ]
    },
    {
     "data": {
      "application/vnd.jupyter.widget-view+json": {
       "model_id": "43d0931f7b05472b9d0ed1f5a646d88b",
       "version_major": 2,
       "version_minor": 0
      },
      "text/plain": [
       "  0%|          | 0/100 [00:00<?, ?it/s]"
      ]
     },
     "metadata": {},
     "output_type": "display_data"
    },
    {
     "name": "stderr",
     "output_type": "stream",
     "text": [
      "\u001b[32m[I 2022-09-19 13:08:05,274]\u001b[0m Trial 121 finished with value: 440.13 and parameters: {'discount_factor': 0.9094812406694295, 'learning_rate': 0.029852746945645013, 'network_shape': 58}. Best is trial 78 with value: 246.68.\u001b[0m\n"
     ]
    },
    {
     "data": {
      "application/vnd.jupyter.widget-view+json": {
       "model_id": "1083e1e204404b10b363c4474d6bd807",
       "version_major": 2,
       "version_minor": 0
      },
      "text/plain": [
       "  0%|          | 0/100 [00:00<?, ?it/s]"
      ]
     },
     "metadata": {},
     "output_type": "display_data"
    },
    {
     "name": "stderr",
     "output_type": "stream",
     "text": [
      "\u001b[32m[I 2022-09-19 13:08:30,427]\u001b[0m Trial 122 finished with value: 439.89 and parameters: {'discount_factor': 0.9051839845326762, 'learning_rate': 0.0410264129823168, 'network_shape': 51}. Best is trial 78 with value: 246.68.\u001b[0m\n"
     ]
    },
    {
     "data": {
      "application/vnd.jupyter.widget-view+json": {
       "model_id": "923b2f90391d4aa7b7203e8e62449041",
       "version_major": 2,
       "version_minor": 0
      },
      "text/plain": [
       "  0%|          | 0/100 [00:00<?, ?it/s]"
      ]
     },
     "metadata": {},
     "output_type": "display_data"
    },
    {
     "name": "stderr",
     "output_type": "stream",
     "text": [
      "\u001b[32m[I 2022-09-19 13:08:53,030]\u001b[0m Trial 123 finished with value: 442.13 and parameters: {'discount_factor': 0.9264443021930263, 'learning_rate': 0.03701828530662697, 'network_shape': 62}. Best is trial 78 with value: 246.68.\u001b[0m\n"
     ]
    },
    {
     "data": {
      "application/vnd.jupyter.widget-view+json": {
       "model_id": "04fab00fcecc4e90b9865f22716b8066",
       "version_major": 2,
       "version_minor": 0
      },
      "text/plain": [
       "  0%|          | 0/100 [00:00<?, ?it/s]"
      ]
     },
     "metadata": {},
     "output_type": "display_data"
    },
    {
     "name": "stderr",
     "output_type": "stream",
     "text": [
      "\u001b[32m[I 2022-09-19 13:09:14,032]\u001b[0m Trial 124 finished with value: 250.09 and parameters: {'discount_factor': 0.949945293117253, 'learning_rate': 0.05669092548547341, 'network_shape': 68}. Best is trial 78 with value: 246.68.\u001b[0m\n"
     ]
    },
    {
     "data": {
      "application/vnd.jupyter.widget-view+json": {
       "model_id": "99f6058317334a40944390c7bbe5d140",
       "version_major": 2,
       "version_minor": 0
      },
      "text/plain": [
       "  0%|          | 0/100 [00:00<?, ?it/s]"
      ]
     },
     "metadata": {},
     "output_type": "display_data"
    },
    {
     "name": "stderr",
     "output_type": "stream",
     "text": [
      "\u001b[32m[I 2022-09-19 13:09:35,373]\u001b[0m Trial 125 finished with value: 439.92 and parameters: {'discount_factor': 0.9503826172379245, 'learning_rate': 0.05527117466117902, 'network_shape': 82}. Best is trial 78 with value: 246.68.\u001b[0m\n"
     ]
    },
    {
     "data": {
      "application/vnd.jupyter.widget-view+json": {
       "model_id": "aa08e9bfa8424fb9b8e8555ec687dc92",
       "version_major": 2,
       "version_minor": 0
      },
      "text/plain": [
       "  0%|          | 0/100 [00:00<?, ?it/s]"
      ]
     },
     "metadata": {},
     "output_type": "display_data"
    },
    {
     "name": "stderr",
     "output_type": "stream",
     "text": [
      "\u001b[32m[I 2022-09-19 13:09:59,569]\u001b[0m Trial 126 finished with value: 632.2 and parameters: {'discount_factor': 0.9434095505107997, 'learning_rate': 0.061518714181614295, 'network_shape': 73}. Best is trial 78 with value: 246.68.\u001b[0m\n"
     ]
    },
    {
     "data": {
      "application/vnd.jupyter.widget-view+json": {
       "model_id": "ea81c2fd8766422099c371827edaccfa",
       "version_major": 2,
       "version_minor": 0
      },
      "text/plain": [
       "  0%|          | 0/100 [00:00<?, ?it/s]"
      ]
     },
     "metadata": {},
     "output_type": "display_data"
    },
    {
     "name": "stderr",
     "output_type": "stream",
     "text": [
      "\u001b[32m[I 2022-09-19 13:10:22,461]\u001b[0m Trial 127 finished with value: 443.76 and parameters: {'discount_factor': 0.9484234505916804, 'learning_rate': 0.056840817252551364, 'network_shape': 68}. Best is trial 78 with value: 246.68.\u001b[0m\n"
     ]
    },
    {
     "data": {
      "application/vnd.jupyter.widget-view+json": {
       "model_id": "d5aa52441ff9468292039cfc489dfe06",
       "version_major": 2,
       "version_minor": 0
      },
      "text/plain": [
       "  0%|          | 0/100 [00:00<?, ?it/s]"
      ]
     },
     "metadata": {},
     "output_type": "display_data"
    },
    {
     "name": "stderr",
     "output_type": "stream",
     "text": [
      "\u001b[32m[I 2022-09-19 13:10:45,410]\u001b[0m Trial 128 finished with value: 445.0 and parameters: {'discount_factor': 0.9540122106126261, 'learning_rate': 0.06654096003626545, 'network_shape': 78}. Best is trial 78 with value: 246.68.\u001b[0m\n"
     ]
    },
    {
     "data": {
      "application/vnd.jupyter.widget-view+json": {
       "model_id": "90d93e31766d4547aa2cbd3bd020f540",
       "version_major": 2,
       "version_minor": 0
      },
      "text/plain": [
       "  0%|          | 0/100 [00:00<?, ?it/s]"
      ]
     },
     "metadata": {},
     "output_type": "display_data"
    },
    {
     "name": "stderr",
     "output_type": "stream",
     "text": [
      "\u001b[32m[I 2022-09-19 13:11:05,503]\u001b[0m Trial 129 finished with value: 255.68 and parameters: {'discount_factor': 0.9836081056217229, 'learning_rate': 0.05772185301643748, 'network_shape': 41}. Best is trial 78 with value: 246.68.\u001b[0m\n"
     ]
    },
    {
     "data": {
      "application/vnd.jupyter.widget-view+json": {
       "model_id": "6998dbf992004c779f389cfb16fd7d18",
       "version_major": 2,
       "version_minor": 0
      },
      "text/plain": [
       "  0%|          | 0/100 [00:00<?, ?it/s]"
      ]
     },
     "metadata": {},
     "output_type": "display_data"
    },
    {
     "name": "stderr",
     "output_type": "stream",
     "text": [
      "\u001b[32m[I 2022-09-19 13:11:25,162]\u001b[0m Trial 130 finished with value: 442.08 and parameters: {'discount_factor': 0.9450771159862961, 'learning_rate': 0.08425690844249475, 'network_shape': 37}. Best is trial 78 with value: 246.68.\u001b[0m\n"
     ]
    },
    {
     "data": {
      "application/vnd.jupyter.widget-view+json": {
       "model_id": "fe7b4b1b73d546af9edaf7302a9a1ef1",
       "version_major": 2,
       "version_minor": 0
      },
      "text/plain": [
       "  0%|          | 0/100 [00:00<?, ?it/s]"
      ]
     },
     "metadata": {},
     "output_type": "display_data"
    },
    {
     "name": "stderr",
     "output_type": "stream",
     "text": [
      "\u001b[32m[I 2022-09-19 13:11:44,880]\u001b[0m Trial 131 finished with value: 442.21 and parameters: {'discount_factor': 0.9322242035121145, 'learning_rate': 0.05212161288532208, 'network_shape': 65}. Best is trial 78 with value: 246.68.\u001b[0m\n"
     ]
    },
    {
     "data": {
      "application/vnd.jupyter.widget-view+json": {
       "model_id": "a7bc7e19e47443b6bb69daaaa960f04e",
       "version_major": 2,
       "version_minor": 0
      },
      "text/plain": [
       "  0%|          | 0/100 [00:00<?, ?it/s]"
      ]
     },
     "metadata": {},
     "output_type": "display_data"
    },
    {
     "name": "stderr",
     "output_type": "stream",
     "text": [
      "\u001b[32m[I 2022-09-19 13:12:05,874]\u001b[0m Trial 132 finished with value: 448.62 and parameters: {'discount_factor': 0.9465399075643443, 'learning_rate': 0.023986749352981843, 'network_shape': 55}. Best is trial 78 with value: 246.68.\u001b[0m\n"
     ]
    },
    {
     "data": {
      "application/vnd.jupyter.widget-view+json": {
       "model_id": "1ae496ae41644d479318786a4cd7c252",
       "version_major": 2,
       "version_minor": 0
      },
      "text/plain": [
       "  0%|          | 0/100 [00:00<?, ?it/s]"
      ]
     },
     "metadata": {},
     "output_type": "display_data"
    },
    {
     "name": "stderr",
     "output_type": "stream",
     "text": [
      "\u001b[32m[I 2022-09-19 13:12:26,193]\u001b[0m Trial 133 finished with value: 446.48 and parameters: {'discount_factor': 0.9523395045078993, 'learning_rate': 0.040296365254221735, 'network_shape': 61}. Best is trial 78 with value: 246.68.\u001b[0m\n"
     ]
    },
    {
     "data": {
      "application/vnd.jupyter.widget-view+json": {
       "model_id": "e90b4f70859c45568ef24fac4c0a11db",
       "version_major": 2,
       "version_minor": 0
      },
      "text/plain": [
       "  0%|          | 0/100 [00:00<?, ?it/s]"
      ]
     },
     "metadata": {},
     "output_type": "display_data"
    },
    {
     "name": "stderr",
     "output_type": "stream",
     "text": [
      "\u001b[32m[I 2022-09-19 13:12:45,671]\u001b[0m Trial 134 finished with value: 257.63 and parameters: {'discount_factor': 0.9570293672261297, 'learning_rate': 0.007036103355510755, 'network_shape': 58}. Best is trial 78 with value: 246.68.\u001b[0m\n"
     ]
    },
    {
     "data": {
      "application/vnd.jupyter.widget-view+json": {
       "model_id": "ba017e7e917e4420a84b87cff613e91a",
       "version_major": 2,
       "version_minor": 0
      },
      "text/plain": [
       "  0%|          | 0/100 [00:00<?, ?it/s]"
      ]
     },
     "metadata": {},
     "output_type": "display_data"
    },
    {
     "name": "stderr",
     "output_type": "stream",
     "text": [
      "\u001b[32m[I 2022-09-19 13:13:05,117]\u001b[0m Trial 135 finished with value: 255.21 and parameters: {'discount_factor': 0.9420582089901985, 'learning_rate': 0.06338113344614447, 'network_shape': 125}. Best is trial 78 with value: 246.68.\u001b[0m\n"
     ]
    },
    {
     "data": {
      "application/vnd.jupyter.widget-view+json": {
       "model_id": "90fe6a78c4cf41f8b38351f0071e86d3",
       "version_major": 2,
       "version_minor": 0
      },
      "text/plain": [
       "  0%|          | 0/100 [00:00<?, ?it/s]"
      ]
     },
     "metadata": {},
     "output_type": "display_data"
    },
    {
     "name": "stderr",
     "output_type": "stream",
     "text": [
      "\u001b[32m[I 2022-09-19 13:13:25,282]\u001b[0m Trial 136 finished with value: 447.96 and parameters: {'discount_factor': 0.987087780056574, 'learning_rate': 0.047674240402516804, 'network_shape': 69}. Best is trial 78 with value: 246.68.\u001b[0m\n"
     ]
    },
    {
     "data": {
      "application/vnd.jupyter.widget-view+json": {
       "model_id": "8f6dd1d902294cabb0cfc3b6ba36a63b",
       "version_major": 2,
       "version_minor": 0
      },
      "text/plain": [
       "  0%|          | 0/100 [00:00<?, ?it/s]"
      ]
     },
     "metadata": {},
     "output_type": "display_data"
    },
    {
     "name": "stderr",
     "output_type": "stream",
     "text": [
      "\u001b[32m[I 2022-09-19 13:13:45,923]\u001b[0m Trial 137 finished with value: 630.61 and parameters: {'discount_factor': 0.9492906604879415, 'learning_rate': 0.08919115168810482, 'network_shape': 31}. Best is trial 78 with value: 246.68.\u001b[0m\n"
     ]
    },
    {
     "data": {
      "application/vnd.jupyter.widget-view+json": {
       "model_id": "16014f8329c140b988a509f399709f7a",
       "version_major": 2,
       "version_minor": 0
      },
      "text/plain": [
       "  0%|          | 0/100 [00:00<?, ?it/s]"
      ]
     },
     "metadata": {},
     "output_type": "display_data"
    },
    {
     "name": "stderr",
     "output_type": "stream",
     "text": [
      "\u001b[32m[I 2022-09-19 13:14:06,468]\u001b[0m Trial 138 finished with value: 568.42 and parameters: {'discount_factor': 0.968322151105022, 'learning_rate': 0.08110132887441987, 'network_shape': 53}. Best is trial 78 with value: 246.68.\u001b[0m\n"
     ]
    },
    {
     "data": {
      "application/vnd.jupyter.widget-view+json": {
       "model_id": "bca1ac9e306e4d138ed48a3d2adf4327",
       "version_major": 2,
       "version_minor": 0
      },
      "text/plain": [
       "  0%|          | 0/100 [00:00<?, ?it/s]"
      ]
     },
     "metadata": {},
     "output_type": "display_data"
    },
    {
     "name": "stderr",
     "output_type": "stream",
     "text": [
      "\u001b[32m[I 2022-09-19 13:14:26,720]\u001b[0m Trial 139 finished with value: 625.01 and parameters: {'discount_factor': 0.9150063140100915, 'learning_rate': 0.044863839681739584, 'network_shape': 63}. Best is trial 78 with value: 246.68.\u001b[0m\n"
     ]
    },
    {
     "data": {
      "application/vnd.jupyter.widget-view+json": {
       "model_id": "a00881b7d6694fb1b59cecb93d340485",
       "version_major": 2,
       "version_minor": 0
      },
      "text/plain": [
       "  0%|          | 0/100 [00:00<?, ?it/s]"
      ]
     },
     "metadata": {},
     "output_type": "display_data"
    },
    {
     "name": "stderr",
     "output_type": "stream",
     "text": [
      "\u001b[32m[I 2022-09-19 13:14:47,204]\u001b[0m Trial 140 finished with value: 440.38 and parameters: {'discount_factor': 0.9647191523295238, 'learning_rate': 0.09833019533486043, 'network_shape': 91}. Best is trial 78 with value: 246.68.\u001b[0m\n"
     ]
    },
    {
     "data": {
      "application/vnd.jupyter.widget-view+json": {
       "model_id": "e1d04ed981234a9a9f42b8ffd370fee9",
       "version_major": 2,
       "version_minor": 0
      },
      "text/plain": [
       "  0%|          | 0/100 [00:00<?, ?it/s]"
      ]
     },
     "metadata": {},
     "output_type": "display_data"
    },
    {
     "name": "stderr",
     "output_type": "stream",
     "text": [
      "\u001b[32m[I 2022-09-19 13:15:07,976]\u001b[0m Trial 141 finished with value: 257.47 and parameters: {'discount_factor': 0.9893386954236743, 'learning_rate': 0.049991777094606456, 'network_shape': 122}. Best is trial 78 with value: 246.68.\u001b[0m\n"
     ]
    },
    {
     "data": {
      "application/vnd.jupyter.widget-view+json": {
       "model_id": "f7da5f7c9edf4b22b40b674aa871fce1",
       "version_major": 2,
       "version_minor": 0
      },
      "text/plain": [
       "  0%|          | 0/100 [00:00<?, ?it/s]"
      ]
     },
     "metadata": {},
     "output_type": "display_data"
    },
    {
     "name": "stderr",
     "output_type": "stream",
     "text": [
      "\u001b[32m[I 2022-09-19 13:15:28,544]\u001b[0m Trial 142 finished with value: 334.28 and parameters: {'discount_factor': 0.9845250115807033, 'learning_rate': 0.051758972616693814, 'network_shape': 35}. Best is trial 78 with value: 246.68.\u001b[0m\n"
     ]
    },
    {
     "data": {
      "application/vnd.jupyter.widget-view+json": {
       "model_id": "160c93a28b40413a8b53bce5b645f306",
       "version_major": 2,
       "version_minor": 0
      },
      "text/plain": [
       "  0%|          | 0/100 [00:00<?, ?it/s]"
      ]
     },
     "metadata": {},
     "output_type": "display_data"
    },
    {
     "name": "stderr",
     "output_type": "stream",
     "text": [
      "\u001b[32m[I 2022-09-19 13:15:49,227]\u001b[0m Trial 143 finished with value: 427.4 and parameters: {'discount_factor': 0.9870786444901981, 'learning_rate': 0.0538965339931837, 'network_shape': 116}. Best is trial 78 with value: 246.68.\u001b[0m\n"
     ]
    },
    {
     "data": {
      "application/vnd.jupyter.widget-view+json": {
       "model_id": "fcc665dade5241c89a1f02d4746191f3",
       "version_major": 2,
       "version_minor": 0
      },
      "text/plain": [
       "  0%|          | 0/100 [00:00<?, ?it/s]"
      ]
     },
     "metadata": {},
     "output_type": "display_data"
    },
    {
     "name": "stderr",
     "output_type": "stream",
     "text": [
      "\u001b[32m[I 2022-09-19 13:16:10,377]\u001b[0m Trial 144 finished with value: 634.35 and parameters: {'discount_factor': 0.9803084206594264, 'learning_rate': 0.09165905310338748, 'network_shape': 47}. Best is trial 78 with value: 246.68.\u001b[0m\n"
     ]
    },
    {
     "data": {
      "application/vnd.jupyter.widget-view+json": {
       "model_id": "e23be55870b6490c86f35c99304e7c1b",
       "version_major": 2,
       "version_minor": 0
      },
      "text/plain": [
       "  0%|          | 0/100 [00:00<?, ?it/s]"
      ]
     },
     "metadata": {},
     "output_type": "display_data"
    },
    {
     "name": "stderr",
     "output_type": "stream",
     "text": [
      "\u001b[32m[I 2022-09-19 13:16:30,939]\u001b[0m Trial 145 finished with value: 260.67 and parameters: {'discount_factor': 0.9547496800643663, 'learning_rate': 0.03910639735690814, 'network_shape': 67}. Best is trial 78 with value: 246.68.\u001b[0m\n"
     ]
    },
    {
     "data": {
      "application/vnd.jupyter.widget-view+json": {
       "model_id": "2a5c89fbb9f6435f9c8f9dd27bf1df74",
       "version_major": 2,
       "version_minor": 0
      },
      "text/plain": [
       "  0%|          | 0/100 [00:00<?, ?it/s]"
      ]
     },
     "metadata": {},
     "output_type": "display_data"
    },
    {
     "name": "stderr",
     "output_type": "stream",
     "text": [
      "\u001b[32m[I 2022-09-19 13:16:52,821]\u001b[0m Trial 146 finished with value: 633.51 and parameters: {'discount_factor': 0.9770833426251824, 'learning_rate': 0.0864918570609168, 'network_shape': 39}. Best is trial 78 with value: 246.68.\u001b[0m\n"
     ]
    },
    {
     "data": {
      "application/vnd.jupyter.widget-view+json": {
       "model_id": "a3cda0e9200d492eaa2e50473588fbf3",
       "version_major": 2,
       "version_minor": 0
      },
      "text/plain": [
       "  0%|          | 0/100 [00:00<?, ?it/s]"
      ]
     },
     "metadata": {},
     "output_type": "display_data"
    },
    {
     "name": "stderr",
     "output_type": "stream",
     "text": [
      "\u001b[32m[I 2022-09-19 13:17:13,552]\u001b[0m Trial 147 finished with value: 630.56 and parameters: {'discount_factor': 0.9855044531262114, 'learning_rate': 0.08302219618131557, 'network_shape': 43}. Best is trial 78 with value: 246.68.\u001b[0m\n"
     ]
    },
    {
     "data": {
      "application/vnd.jupyter.widget-view+json": {
       "model_id": "23d2efef00be45fbaf8b19d894d96b49",
       "version_major": 2,
       "version_minor": 0
      },
      "text/plain": [
       "  0%|          | 0/100 [00:00<?, ?it/s]"
      ]
     },
     "metadata": {},
     "output_type": "display_data"
    },
    {
     "name": "stderr",
     "output_type": "stream",
     "text": [
      "\u001b[32m[I 2022-09-19 13:17:33,820]\u001b[0m Trial 148 finished with value: 446.68 and parameters: {'discount_factor': 0.9822325158331111, 'learning_rate': 0.042802803903755224, 'network_shape': 49}. Best is trial 78 with value: 246.68.\u001b[0m\n"
     ]
    },
    {
     "data": {
      "application/vnd.jupyter.widget-view+json": {
       "model_id": "ea52b3d9553e4cf9909c58eb12b79aa2",
       "version_major": 2,
       "version_minor": 0
      },
      "text/plain": [
       "  0%|          | 0/100 [00:00<?, ?it/s]"
      ]
     },
     "metadata": {},
     "output_type": "display_data"
    },
    {
     "name": "stderr",
     "output_type": "stream",
     "text": [
      "\u001b[32m[I 2022-09-19 13:17:55,290]\u001b[0m Trial 149 finished with value: 250.59 and parameters: {'discount_factor': 0.9507563651304071, 'learning_rate': 0.05721709295981547, 'network_shape': 32}. Best is trial 78 with value: 246.68.\u001b[0m\n"
     ]
    },
    {
     "data": {
      "application/vnd.jupyter.widget-view+json": {
       "model_id": "0a0c3f10f448456db57334ea52241499",
       "version_major": 2,
       "version_minor": 0
      },
      "text/plain": [
       "  0%|          | 0/100 [00:00<?, ?it/s]"
      ]
     },
     "metadata": {},
     "output_type": "display_data"
    },
    {
     "name": "stderr",
     "output_type": "stream",
     "text": [
      "\u001b[32m[I 2022-09-19 13:18:16,203]\u001b[0m Trial 150 finished with value: 251.22 and parameters: {'discount_factor': 0.9511705132883966, 'learning_rate': 0.05633019797167444, 'network_shape': 27}. Best is trial 78 with value: 246.68.\u001b[0m\n"
     ]
    },
    {
     "data": {
      "application/vnd.jupyter.widget-view+json": {
       "model_id": "2691bb084cf54a43a09bc0b9db9d4620",
       "version_major": 2,
       "version_minor": 0
      },
      "text/plain": [
       "  0%|          | 0/100 [00:00<?, ?it/s]"
      ]
     },
     "metadata": {},
     "output_type": "display_data"
    },
    {
     "name": "stderr",
     "output_type": "stream",
     "text": [
      "\u001b[32m[I 2022-09-19 13:18:37,330]\u001b[0m Trial 151 finished with value: 265.88 and parameters: {'discount_factor': 0.948917717480546, 'learning_rate': 0.058909806905600944, 'network_shape': 34}. Best is trial 78 with value: 246.68.\u001b[0m\n"
     ]
    },
    {
     "data": {
      "application/vnd.jupyter.widget-view+json": {
       "model_id": "025e419e9e1a4f2eb9eb190cbdefdff3",
       "version_major": 2,
       "version_minor": 0
      },
      "text/plain": [
       "  0%|          | 0/100 [00:00<?, ?it/s]"
      ]
     },
     "metadata": {},
     "output_type": "display_data"
    },
    {
     "name": "stderr",
     "output_type": "stream",
     "text": [
      "\u001b[32m[I 2022-09-19 13:18:58,132]\u001b[0m Trial 152 finished with value: 254.75 and parameters: {'discount_factor': 0.9535092433223004, 'learning_rate': 0.05320517890771784, 'network_shape': 33}. Best is trial 78 with value: 246.68.\u001b[0m\n"
     ]
    },
    {
     "data": {
      "application/vnd.jupyter.widget-view+json": {
       "model_id": "6a499331e9474348885ee8d29584bbe2",
       "version_major": 2,
       "version_minor": 0
      },
      "text/plain": [
       "  0%|          | 0/100 [00:00<?, ?it/s]"
      ]
     },
     "metadata": {},
     "output_type": "display_data"
    },
    {
     "name": "stderr",
     "output_type": "stream",
     "text": [
      "\u001b[32m[I 2022-09-19 13:19:18,963]\u001b[0m Trial 153 finished with value: 440.61 and parameters: {'discount_factor': 0.9899395865395636, 'learning_rate': 0.07930499550530616, 'network_shape': 79}. Best is trial 78 with value: 246.68.\u001b[0m\n"
     ]
    },
    {
     "data": {
      "application/vnd.jupyter.widget-view+json": {
       "model_id": "7b0bd001d2144ca9b26ebd2e2515a27c",
       "version_major": 2,
       "version_minor": 0
      },
      "text/plain": [
       "  0%|          | 0/100 [00:00<?, ?it/s]"
      ]
     },
     "metadata": {},
     "output_type": "display_data"
    },
    {
     "name": "stderr",
     "output_type": "stream",
     "text": [
      "\u001b[32m[I 2022-09-19 13:19:39,304]\u001b[0m Trial 154 finished with value: 397.06 and parameters: {'discount_factor': 0.9468596061889831, 'learning_rate': 0.05987616227886377, 'network_shape': 21}. Best is trial 78 with value: 246.68.\u001b[0m\n"
     ]
    },
    {
     "data": {
      "application/vnd.jupyter.widget-view+json": {
       "model_id": "a331c026467b4173804a64d96bbdd3a8",
       "version_major": 2,
       "version_minor": 0
      },
      "text/plain": [
       "  0%|          | 0/100 [00:00<?, ?it/s]"
      ]
     },
     "metadata": {},
     "output_type": "display_data"
    },
    {
     "name": "stderr",
     "output_type": "stream",
     "text": [
      "\u001b[32m[I 2022-09-19 13:20:01,842]\u001b[0m Trial 155 finished with value: 252.15 and parameters: {'discount_factor': 0.9615935823820203, 'learning_rate': 0.07490398518597369, 'network_shape': 36}. Best is trial 78 with value: 246.68.\u001b[0m\n"
     ]
    },
    {
     "data": {
      "application/vnd.jupyter.widget-view+json": {
       "model_id": "f05f4dd30a29404daeb9b524a7b2dfe8",
       "version_major": 2,
       "version_minor": 0
      },
      "text/plain": [
       "  0%|          | 0/100 [00:00<?, ?it/s]"
      ]
     },
     "metadata": {},
     "output_type": "display_data"
    },
    {
     "name": "stderr",
     "output_type": "stream",
     "text": [
      "\u001b[32m[I 2022-09-19 13:20:24,305]\u001b[0m Trial 156 finished with value: 446.18 and parameters: {'discount_factor': 0.955843970002032, 'learning_rate': 0.06239790146018808, 'network_shape': 75}. Best is trial 78 with value: 246.68.\u001b[0m\n"
     ]
    },
    {
     "data": {
      "application/vnd.jupyter.widget-view+json": {
       "model_id": "c5db7406903d417f9ce1e5de10d9e7c2",
       "version_major": 2,
       "version_minor": 0
      },
      "text/plain": [
       "  0%|          | 0/100 [00:00<?, ?it/s]"
      ]
     },
     "metadata": {},
     "output_type": "display_data"
    },
    {
     "name": "stderr",
     "output_type": "stream",
     "text": [
      "\u001b[32m[I 2022-09-19 13:20:47,423]\u001b[0m Trial 157 finished with value: 446.08 and parameters: {'discount_factor': 0.9876415885183403, 'learning_rate': 0.056116828251195246, 'network_shape': 29}. Best is trial 78 with value: 246.68.\u001b[0m\n"
     ]
    },
    {
     "data": {
      "application/vnd.jupyter.widget-view+json": {
       "model_id": "1d05500a5a504b1badf52fd51d8b9b7a",
       "version_major": 2,
       "version_minor": 0
      },
      "text/plain": [
       "  0%|          | 0/100 [00:00<?, ?it/s]"
      ]
     },
     "metadata": {},
     "output_type": "display_data"
    },
    {
     "name": "stderr",
     "output_type": "stream",
     "text": [
      "\u001b[32m[I 2022-09-19 13:21:11,221]\u001b[0m Trial 158 finished with value: 437.42 and parameters: {'discount_factor': 0.9590863193216229, 'learning_rate': 0.0946583838226401, 'network_shape': 31}. Best is trial 78 with value: 246.68.\u001b[0m\n"
     ]
    },
    {
     "data": {
      "application/vnd.jupyter.widget-view+json": {
       "model_id": "5bfe3cdcfcdf4647b20080100abb6a03",
       "version_major": 2,
       "version_minor": 0
      },
      "text/plain": [
       "  0%|          | 0/100 [00:00<?, ?it/s]"
      ]
     },
     "metadata": {},
     "output_type": "display_data"
    },
    {
     "name": "stderr",
     "output_type": "stream",
     "text": [
      "\u001b[32m[I 2022-09-19 13:21:33,894]\u001b[0m Trial 159 finished with value: 447.95 and parameters: {'discount_factor': 0.9524648301767917, 'learning_rate': 0.06537782505651217, 'network_shape': 71}. Best is trial 78 with value: 246.68.\u001b[0m\n"
     ]
    },
    {
     "data": {
      "application/vnd.jupyter.widget-view+json": {
       "model_id": "cdf8afd9be9f4c6ea382ec648a448e0f",
       "version_major": 2,
       "version_minor": 0
      },
      "text/plain": [
       "  0%|          | 0/100 [00:00<?, ?it/s]"
      ]
     },
     "metadata": {},
     "output_type": "display_data"
    },
    {
     "name": "stderr",
     "output_type": "stream",
     "text": [
      "\u001b[32m[I 2022-09-19 13:21:56,601]\u001b[0m Trial 160 finished with value: 250.19 and parameters: {'discount_factor': 0.9501335826441033, 'learning_rate': 0.04465487786524209, 'network_shape': 41}. Best is trial 78 with value: 246.68.\u001b[0m\n"
     ]
    },
    {
     "data": {
      "application/vnd.jupyter.widget-view+json": {
       "model_id": "1d730110668d41ed9c774569c054f719",
       "version_major": 2,
       "version_minor": 0
      },
      "text/plain": [
       "  0%|          | 0/100 [00:00<?, ?it/s]"
      ]
     },
     "metadata": {},
     "output_type": "display_data"
    },
    {
     "name": "stderr",
     "output_type": "stream",
     "text": [
      "\u001b[32m[I 2022-09-19 13:22:18,375]\u001b[0m Trial 161 finished with value: 433.14 and parameters: {'discount_factor': 0.9507789277908202, 'learning_rate': 0.04461968582231689, 'network_shape': 38}. Best is trial 78 with value: 246.68.\u001b[0m\n"
     ]
    },
    {
     "data": {
      "application/vnd.jupyter.widget-view+json": {
       "model_id": "58123004bdb24d7c94574822a06abf80",
       "version_major": 2,
       "version_minor": 0
      },
      "text/plain": [
       "  0%|          | 0/100 [00:00<?, ?it/s]"
      ]
     },
     "metadata": {},
     "output_type": "display_data"
    },
    {
     "name": "stderr",
     "output_type": "stream",
     "text": [
      "\u001b[32m[I 2022-09-19 13:22:39,719]\u001b[0m Trial 162 finished with value: 257.45 and parameters: {'discount_factor': 0.948000485597756, 'learning_rate': 0.046896530708734244, 'network_shape': 41}. Best is trial 78 with value: 246.68.\u001b[0m\n"
     ]
    },
    {
     "data": {
      "application/vnd.jupyter.widget-view+json": {
       "model_id": "5055b40757e84be39bdb69c0b43161c6",
       "version_major": 2,
       "version_minor": 0
      },
      "text/plain": [
       "  0%|          | 0/100 [00:00<?, ?it/s]"
      ]
     },
     "metadata": {},
     "output_type": "display_data"
    },
    {
     "name": "stderr",
     "output_type": "stream",
     "text": [
      "\u001b[32m[I 2022-09-19 13:23:01,988]\u001b[0m Trial 163 finished with value: 252.26 and parameters: {'discount_factor': 0.9505212187264523, 'learning_rate': 0.04900125501232777, 'network_shape': 45}. Best is trial 78 with value: 246.68.\u001b[0m\n"
     ]
    },
    {
     "data": {
      "application/vnd.jupyter.widget-view+json": {
       "model_id": "5a781f333bed4a3eb432fae0cc206e65",
       "version_major": 2,
       "version_minor": 0
      },
      "text/plain": [
       "  0%|          | 0/100 [00:00<?, ?it/s]"
      ]
     },
     "metadata": {},
     "output_type": "display_data"
    },
    {
     "name": "stderr",
     "output_type": "stream",
     "text": [
      "\u001b[32m[I 2022-09-19 13:23:24,844]\u001b[0m Trial 164 finished with value: 447.26 and parameters: {'discount_factor': 0.945033116196854, 'learning_rate': 0.08744107083045947, 'network_shape': 39}. Best is trial 78 with value: 246.68.\u001b[0m\n"
     ]
    },
    {
     "data": {
      "application/vnd.jupyter.widget-view+json": {
       "model_id": "1e7fbe1ad2b74ca5bcf0419d017a4dc5",
       "version_major": 2,
       "version_minor": 0
      },
      "text/plain": [
       "  0%|          | 0/100 [00:00<?, ?it/s]"
      ]
     },
     "metadata": {},
     "output_type": "display_data"
    },
    {
     "name": "stderr",
     "output_type": "stream",
     "text": [
      "\u001b[32m[I 2022-09-19 13:23:45,896]\u001b[0m Trial 165 finished with value: 436.96 and parameters: {'discount_factor': 0.9546456856721082, 'learning_rate': 0.041163370220334006, 'network_shape': 60}. Best is trial 78 with value: 246.68.\u001b[0m\n"
     ]
    },
    {
     "data": {
      "application/vnd.jupyter.widget-view+json": {
       "model_id": "8ec0c703ab954c1e886061b3de35ca47",
       "version_major": 2,
       "version_minor": 0
      },
      "text/plain": [
       "  0%|          | 0/100 [00:00<?, ?it/s]"
      ]
     },
     "metadata": {},
     "output_type": "display_data"
    },
    {
     "name": "stderr",
     "output_type": "stream",
     "text": [
      "\u001b[32m[I 2022-09-19 13:24:07,297]\u001b[0m Trial 166 finished with value: 253.14 and parameters: {'discount_factor': 0.9722020215429751, 'learning_rate': 0.035727110883203225, 'network_shape': 35}. Best is trial 78 with value: 246.68.\u001b[0m\n"
     ]
    },
    {
     "data": {
      "application/vnd.jupyter.widget-view+json": {
       "model_id": "89a58c31da4940a8a259e119e281504d",
       "version_major": 2,
       "version_minor": 0
      },
      "text/plain": [
       "  0%|          | 0/100 [00:00<?, ?it/s]"
      ]
     },
     "metadata": {},
     "output_type": "display_data"
    },
    {
     "name": "stderr",
     "output_type": "stream",
     "text": [
      "\u001b[32m[I 2022-09-19 13:24:28,408]\u001b[0m Trial 167 finished with value: 441.89 and parameters: {'discount_factor': 0.9492971874056431, 'learning_rate': 0.057533466354709545, 'network_shape': 56}. Best is trial 78 with value: 246.68.\u001b[0m\n"
     ]
    },
    {
     "data": {
      "application/vnd.jupyter.widget-view+json": {
       "model_id": "1ff9f2229d024b71a423c54279b72f46",
       "version_major": 2,
       "version_minor": 0
      },
      "text/plain": [
       "  0%|          | 0/100 [00:00<?, ?it/s]"
      ]
     },
     "metadata": {},
     "output_type": "display_data"
    },
    {
     "name": "stderr",
     "output_type": "stream",
     "text": [
      "\u001b[32m[I 2022-09-19 13:24:50,691]\u001b[0m Trial 168 finished with value: 257.89 and parameters: {'discount_factor': 0.9833676034678552, 'learning_rate': 0.051072943993994105, 'network_shape': 42}. Best is trial 78 with value: 246.68.\u001b[0m\n"
     ]
    },
    {
     "data": {
      "application/vnd.jupyter.widget-view+json": {
       "model_id": "38fced58af004916a116b394a9ed3d13",
       "version_major": 2,
       "version_minor": 0
      },
      "text/plain": [
       "  0%|          | 0/100 [00:00<?, ?it/s]"
      ]
     },
     "metadata": {},
     "output_type": "display_data"
    },
    {
     "name": "stderr",
     "output_type": "stream",
     "text": [
      "\u001b[32m[I 2022-09-19 13:25:13,956]\u001b[0m Trial 169 finished with value: 630.64 and parameters: {'discount_factor': 0.9431575801282096, 'learning_rate': 0.05403246950985529, 'network_shape': 86}. Best is trial 78 with value: 246.68.\u001b[0m\n"
     ]
    },
    {
     "data": {
      "application/vnd.jupyter.widget-view+json": {
       "model_id": "037af58f7de547c39cb20e18e372e41a",
       "version_major": 2,
       "version_minor": 0
      },
      "text/plain": [
       "  0%|          | 0/100 [00:00<?, ?it/s]"
      ]
     },
     "metadata": {},
     "output_type": "display_data"
    },
    {
     "name": "stderr",
     "output_type": "stream",
     "text": [
      "\u001b[32m[I 2022-09-19 13:25:36,929]\u001b[0m Trial 170 finished with value: 445.69 and parameters: {'discount_factor': 0.9464266757762612, 'learning_rate': 0.03825641998657128, 'network_shape': 53}. Best is trial 78 with value: 246.68.\u001b[0m\n"
     ]
    },
    {
     "data": {
      "application/vnd.jupyter.widget-view+json": {
       "model_id": "04faacbba5d24fc68eb6fe880c2b0320",
       "version_major": 2,
       "version_minor": 0
      },
      "text/plain": [
       "  0%|          | 0/100 [00:00<?, ?it/s]"
      ]
     },
     "metadata": {},
     "output_type": "display_data"
    },
    {
     "name": "stderr",
     "output_type": "stream",
     "text": [
      "\u001b[32m[I 2022-09-19 13:26:00,385]\u001b[0m Trial 171 finished with value: 610.59 and parameters: {'discount_factor': 0.9508980176162303, 'learning_rate': 0.06103929144534154, 'network_shape': 27}. Best is trial 78 with value: 246.68.\u001b[0m\n"
     ]
    },
    {
     "data": {
      "application/vnd.jupyter.widget-view+json": {
       "model_id": "bcddcd55e16d4215a986b14f9495a373",
       "version_major": 2,
       "version_minor": 0
      },
      "text/plain": [
       "  0%|          | 0/100 [00:00<?, ?it/s]"
      ]
     },
     "metadata": {},
     "output_type": "display_data"
    },
    {
     "name": "stderr",
     "output_type": "stream",
     "text": [
      "\u001b[32m[I 2022-09-19 13:26:22,943]\u001b[0m Trial 172 finished with value: 444.63 and parameters: {'discount_factor': 0.9510736568281681, 'learning_rate': 0.057272376132290706, 'network_shape': 26}. Best is trial 78 with value: 246.68.\u001b[0m\n"
     ]
    },
    {
     "data": {
      "application/vnd.jupyter.widget-view+json": {
       "model_id": "22c826b774b445e4bccc6b7daa88a7c0",
       "version_major": 2,
       "version_minor": 0
      },
      "text/plain": [
       "  0%|          | 0/100 [00:00<?, ?it/s]"
      ]
     },
     "metadata": {},
     "output_type": "display_data"
    },
    {
     "name": "stderr",
     "output_type": "stream",
     "text": [
      "\u001b[32m[I 2022-09-19 13:26:45,160]\u001b[0m Trial 173 finished with value: 252.59 and parameters: {'discount_factor': 0.9550101452600387, 'learning_rate': 0.05607169434768522, 'network_shape': 31}. Best is trial 78 with value: 246.68.\u001b[0m\n"
     ]
    },
    {
     "data": {
      "application/vnd.jupyter.widget-view+json": {
       "model_id": "5ca6b6e8e6e84da4a614d1d8943bcd6e",
       "version_major": 2,
       "version_minor": 0
      },
      "text/plain": [
       "  0%|          | 0/100 [00:00<?, ?it/s]"
      ]
     },
     "metadata": {},
     "output_type": "display_data"
    },
    {
     "name": "stderr",
     "output_type": "stream",
     "text": [
      "\u001b[32m[I 2022-09-19 13:27:06,082]\u001b[0m Trial 174 finished with value: 252.13 and parameters: {'discount_factor': 0.9528030492802919, 'learning_rate': 0.08521779593465388, 'network_shape': 24}. Best is trial 78 with value: 246.68.\u001b[0m\n"
     ]
    },
    {
     "data": {
      "application/vnd.jupyter.widget-view+json": {
       "model_id": "a25f9c3ed1f24d009804b9315db80b46",
       "version_major": 2,
       "version_minor": 0
      },
      "text/plain": [
       "  0%|          | 0/100 [00:00<?, ?it/s]"
      ]
     },
     "metadata": {},
     "output_type": "display_data"
    },
    {
     "name": "stderr",
     "output_type": "stream",
     "text": [
      "\u001b[32m[I 2022-09-19 13:27:26,961]\u001b[0m Trial 175 finished with value: 250.26 and parameters: {'discount_factor': 0.9667199084338886, 'learning_rate': 0.09019656774718747, 'network_shape': 93}. Best is trial 78 with value: 246.68.\u001b[0m\n"
     ]
    },
    {
     "data": {
      "application/vnd.jupyter.widget-view+json": {
       "model_id": "c7c3ebf4bd8849c5af38c87d5e046872",
       "version_major": 2,
       "version_minor": 0
      },
      "text/plain": [
       "  0%|          | 0/100 [00:00<?, ?it/s]"
      ]
     },
     "metadata": {},
     "output_type": "display_data"
    },
    {
     "name": "stderr",
     "output_type": "stream",
     "text": [
      "\u001b[32m[I 2022-09-19 13:27:48,211]\u001b[0m Trial 176 finished with value: 611.17 and parameters: {'discount_factor': 0.9688882937672963, 'learning_rate': 0.09017098090308022, 'network_shape': 122}. Best is trial 78 with value: 246.68.\u001b[0m\n"
     ]
    },
    {
     "data": {
      "application/vnd.jupyter.widget-view+json": {
       "model_id": "3e0cad40853c496dbe49cecac4a324ba",
       "version_major": 2,
       "version_minor": 0
      },
      "text/plain": [
       "  0%|          | 0/100 [00:00<?, ?it/s]"
      ]
     },
     "metadata": {},
     "output_type": "display_data"
    },
    {
     "name": "stderr",
     "output_type": "stream",
     "text": [
      "\u001b[32m[I 2022-09-19 13:28:08,844]\u001b[0m Trial 177 finished with value: 250.53 and parameters: {'discount_factor': 0.9860305571321651, 'learning_rate': 0.09269677175966869, 'network_shape': 92}. Best is trial 78 with value: 246.68.\u001b[0m\n"
     ]
    },
    {
     "data": {
      "application/vnd.jupyter.widget-view+json": {
       "model_id": "d901f6d6a44746b68ca0c60d10ee3e00",
       "version_major": 2,
       "version_minor": 0
      },
      "text/plain": [
       "  0%|          | 0/100 [00:00<?, ?it/s]"
      ]
     },
     "metadata": {},
     "output_type": "display_data"
    },
    {
     "name": "stderr",
     "output_type": "stream",
     "text": [
      "\u001b[32m[I 2022-09-19 13:28:32,777]\u001b[0m Trial 178 finished with value: 250.54 and parameters: {'discount_factor': 0.9664447270130037, 'learning_rate': 0.09151666161220073, 'network_shape': 95}. Best is trial 78 with value: 246.68.\u001b[0m\n"
     ]
    },
    {
     "data": {
      "application/vnd.jupyter.widget-view+json": {
       "model_id": "aa2d21203f254ee690626a3d7fa1617d",
       "version_major": 2,
       "version_minor": 0
      },
      "text/plain": [
       "  0%|          | 0/100 [00:00<?, ?it/s]"
      ]
     },
     "metadata": {},
     "output_type": "display_data"
    },
    {
     "name": "stderr",
     "output_type": "stream",
     "text": [
      "\u001b[32m[I 2022-09-19 13:28:57,413]\u001b[0m Trial 179 finished with value: 439.65 and parameters: {'discount_factor': 0.966852995320928, 'learning_rate': 0.09309574677737263, 'network_shape': 88}. Best is trial 78 with value: 246.68.\u001b[0m\n"
     ]
    },
    {
     "data": {
      "application/vnd.jupyter.widget-view+json": {
       "model_id": "a3bddb6127334a51b605ff421839f435",
       "version_major": 2,
       "version_minor": 0
      },
      "text/plain": [
       "  0%|          | 0/100 [00:00<?, ?it/s]"
      ]
     },
     "metadata": {},
     "output_type": "display_data"
    },
    {
     "name": "stderr",
     "output_type": "stream",
     "text": [
      "\u001b[32m[I 2022-09-19 13:29:20,797]\u001b[0m Trial 180 finished with value: 629.97 and parameters: {'discount_factor': 0.9650442043700674, 'learning_rate': 0.09683909195551486, 'network_shape': 94}. Best is trial 78 with value: 246.68.\u001b[0m\n"
     ]
    },
    {
     "data": {
      "application/vnd.jupyter.widget-view+json": {
       "model_id": "2f9eb7f4aceb47dea546a460ad886d42",
       "version_major": 2,
       "version_minor": 0
      },
      "text/plain": [
       "  0%|          | 0/100 [00:00<?, ?it/s]"
      ]
     },
     "metadata": {},
     "output_type": "display_data"
    },
    {
     "name": "stderr",
     "output_type": "stream",
     "text": [
      "\u001b[32m[I 2022-09-19 13:29:44,125]\u001b[0m Trial 181 finished with value: 252.43 and parameters: {'discount_factor': 0.974582415113691, 'learning_rate': 0.09095538084377351, 'network_shape': 100}. Best is trial 78 with value: 246.68.\u001b[0m\n"
     ]
    },
    {
     "data": {
      "application/vnd.jupyter.widget-view+json": {
       "model_id": "3e208c3f43b9456a8f7581cfb7560b4c",
       "version_major": 2,
       "version_minor": 0
      },
      "text/plain": [
       "  0%|          | 0/100 [00:00<?, ?it/s]"
      ]
     },
     "metadata": {},
     "output_type": "display_data"
    },
    {
     "name": "stderr",
     "output_type": "stream",
     "text": [
      "\u001b[32m[I 2022-09-19 13:30:07,334]\u001b[0m Trial 182 finished with value: 446.47 and parameters: {'discount_factor': 0.9625949431855041, 'learning_rate': 0.08893245796905247, 'network_shape': 97}. Best is trial 78 with value: 246.68.\u001b[0m\n"
     ]
    },
    {
     "data": {
      "application/vnd.jupyter.widget-view+json": {
       "model_id": "4d641ebece74436f8896cfbcbcadb567",
       "version_major": 2,
       "version_minor": 0
      },
      "text/plain": [
       "  0%|          | 0/100 [00:00<?, ?it/s]"
      ]
     },
     "metadata": {},
     "output_type": "display_data"
    },
    {
     "name": "stderr",
     "output_type": "stream",
     "text": [
      "\u001b[32m[I 2022-09-19 13:30:29,152]\u001b[0m Trial 183 finished with value: 250.59 and parameters: {'discount_factor': 0.9572341195409949, 'learning_rate': 0.08842994726862721, 'network_shape': 103}. Best is trial 78 with value: 246.68.\u001b[0m\n"
     ]
    },
    {
     "data": {
      "application/vnd.jupyter.widget-view+json": {
       "model_id": "8f450c3cc063494e85d1ef508a49f40a",
       "version_major": 2,
       "version_minor": 0
      },
      "text/plain": [
       "  0%|          | 0/100 [00:00<?, ?it/s]"
      ]
     },
     "metadata": {},
     "output_type": "display_data"
    },
    {
     "name": "stderr",
     "output_type": "stream",
     "text": [
      "\u001b[32m[I 2022-09-19 13:30:49,084]\u001b[0m Trial 184 finished with value: 250.63 and parameters: {'discount_factor': 0.9575250686219637, 'learning_rate': 0.09353050583786028, 'network_shape': 101}. Best is trial 78 with value: 246.68.\u001b[0m\n"
     ]
    },
    {
     "data": {
      "application/vnd.jupyter.widget-view+json": {
       "model_id": "c0aeff4a18ec45f3adbd4e04edd912a8",
       "version_major": 2,
       "version_minor": 0
      },
      "text/plain": [
       "  0%|          | 0/100 [00:00<?, ?it/s]"
      ]
     },
     "metadata": {},
     "output_type": "display_data"
    },
    {
     "name": "stderr",
     "output_type": "stream",
     "text": [
      "\u001b[32m[I 2022-09-19 13:31:10,402]\u001b[0m Trial 185 finished with value: 438.39 and parameters: {'discount_factor': 0.9579572836367817, 'learning_rate': 0.09425882918809467, 'network_shape': 94}. Best is trial 78 with value: 246.68.\u001b[0m\n"
     ]
    },
    {
     "data": {
      "application/vnd.jupyter.widget-view+json": {
       "model_id": "bf8dc17258e1448db4e8b848251b41a4",
       "version_major": 2,
       "version_minor": 0
      },
      "text/plain": [
       "  0%|          | 0/100 [00:00<?, ?it/s]"
      ]
     },
     "metadata": {},
     "output_type": "display_data"
    },
    {
     "name": "stderr",
     "output_type": "stream",
     "text": [
      "\u001b[32m[I 2022-09-19 13:31:31,922]\u001b[0m Trial 186 finished with value: 633.59 and parameters: {'discount_factor': 0.9567910544583587, 'learning_rate': 0.0930880345134443, 'network_shape': 101}. Best is trial 78 with value: 246.68.\u001b[0m\n"
     ]
    },
    {
     "data": {
      "application/vnd.jupyter.widget-view+json": {
       "model_id": "cb48e54571ad4c65ad23ac0c894c3c3a",
       "version_major": 2,
       "version_minor": 0
      },
      "text/plain": [
       "  0%|          | 0/100 [00:00<?, ?it/s]"
      ]
     },
     "metadata": {},
     "output_type": "display_data"
    },
    {
     "name": "stderr",
     "output_type": "stream",
     "text": [
      "\u001b[32m[I 2022-09-19 13:31:52,997]\u001b[0m Trial 187 finished with value: 250.23 and parameters: {'discount_factor': 0.9662885971202669, 'learning_rate': 0.0955927174822197, 'network_shape': 105}. Best is trial 78 with value: 246.68.\u001b[0m\n"
     ]
    },
    {
     "data": {
      "application/vnd.jupyter.widget-view+json": {
       "model_id": "b75f127b2cfa4bf6bb85ec10ea9f408c",
       "version_major": 2,
       "version_minor": 0
      },
      "text/plain": [
       "  0%|          | 0/100 [00:00<?, ?it/s]"
      ]
     },
     "metadata": {},
     "output_type": "display_data"
    },
    {
     "name": "stderr",
     "output_type": "stream",
     "text": [
      "\u001b[32m[I 2022-09-19 13:32:14,561]\u001b[0m Trial 188 finished with value: 632.42 and parameters: {'discount_factor': 0.9608818643179594, 'learning_rate': 0.09577336865853678, 'network_shape': 106}. Best is trial 78 with value: 246.68.\u001b[0m\n"
     ]
    },
    {
     "data": {
      "application/vnd.jupyter.widget-view+json": {
       "model_id": "6eceaa53aa60462c97c63529c8acc084",
       "version_major": 2,
       "version_minor": 0
      },
      "text/plain": [
       "  0%|          | 0/100 [00:00<?, ?it/s]"
      ]
     },
     "metadata": {},
     "output_type": "display_data"
    },
    {
     "name": "stderr",
     "output_type": "stream",
     "text": [
      "\u001b[32m[I 2022-09-19 13:32:35,390]\u001b[0m Trial 189 finished with value: 447.04 and parameters: {'discount_factor': 0.9707458005989033, 'learning_rate': 0.09170135956946848, 'network_shape': 110}. Best is trial 78 with value: 246.68.\u001b[0m\n"
     ]
    },
    {
     "data": {
      "application/vnd.jupyter.widget-view+json": {
       "model_id": "21bdca2fb81046829b9dcbe07590cf05",
       "version_major": 2,
       "version_minor": 0
      },
      "text/plain": [
       "  0%|          | 0/100 [00:00<?, ?it/s]"
      ]
     },
     "metadata": {},
     "output_type": "display_data"
    },
    {
     "name": "stderr",
     "output_type": "stream",
     "text": [
      "\u001b[32m[I 2022-09-19 13:32:55,980]\u001b[0m Trial 190 finished with value: 632.95 and parameters: {'discount_factor': 0.9668758074593686, 'learning_rate': 0.08798568461092147, 'network_shape': 103}. Best is trial 78 with value: 246.68.\u001b[0m\n"
     ]
    },
    {
     "data": {
      "application/vnd.jupyter.widget-view+json": {
       "model_id": "d0c8d5ac353d481b99856b9d63d819f5",
       "version_major": 2,
       "version_minor": 0
      },
      "text/plain": [
       "  0%|          | 0/100 [00:00<?, ?it/s]"
      ]
     },
     "metadata": {},
     "output_type": "display_data"
    },
    {
     "name": "stderr",
     "output_type": "stream",
     "text": [
      "\u001b[32m[I 2022-09-19 13:33:18,462]\u001b[0m Trial 191 finished with value: 634.9 and parameters: {'discount_factor': 0.9634455199157627, 'learning_rate': 0.09795651213393528, 'network_shape': 99}. Best is trial 78 with value: 246.68.\u001b[0m\n"
     ]
    },
    {
     "data": {
      "application/vnd.jupyter.widget-view+json": {
       "model_id": "155f4a8ece2b4ea3881ef87981b6c64c",
       "version_major": 2,
       "version_minor": 0
      },
      "text/plain": [
       "  0%|          | 0/100 [00:00<?, ?it/s]"
      ]
     },
     "metadata": {},
     "output_type": "display_data"
    },
    {
     "name": "stderr",
     "output_type": "stream",
     "text": [
      "\u001b[32m[I 2022-09-19 13:33:40,181]\u001b[0m Trial 192 finished with value: 436.94 and parameters: {'discount_factor': 0.968535136597749, 'learning_rate': 0.09136524272245566, 'network_shape': 91}. Best is trial 78 with value: 246.68.\u001b[0m\n"
     ]
    },
    {
     "data": {
      "application/vnd.jupyter.widget-view+json": {
       "model_id": "176583e594e547e68fdb01c8ac10b72d",
       "version_major": 2,
       "version_minor": 0
      },
      "text/plain": [
       "  0%|          | 0/100 [00:00<?, ?it/s]"
      ]
     },
     "metadata": {},
     "output_type": "display_data"
    },
    {
     "name": "stderr",
     "output_type": "stream",
     "text": [
      "\u001b[32m[I 2022-09-19 13:34:01,276]\u001b[0m Trial 193 finished with value: 259.67 and parameters: {'discount_factor': 0.9655387362265154, 'learning_rate': 0.08874900176991289, 'network_shape': 108}. Best is trial 78 with value: 246.68.\u001b[0m\n"
     ]
    },
    {
     "data": {
      "application/vnd.jupyter.widget-view+json": {
       "model_id": "56b02c2e3fcf4412bf9537866a872b1f",
       "version_major": 2,
       "version_minor": 0
      },
      "text/plain": [
       "  0%|          | 0/100 [00:00<?, ?it/s]"
      ]
     },
     "metadata": {},
     "output_type": "display_data"
    },
    {
     "name": "stderr",
     "output_type": "stream",
     "text": [
      "\u001b[32m[I 2022-09-19 13:34:22,110]\u001b[0m Trial 194 finished with value: 254.88 and parameters: {'discount_factor': 0.9858808402390014, 'learning_rate': 0.09543543034758045, 'network_shape': 113}. Best is trial 78 with value: 246.68.\u001b[0m\n"
     ]
    },
    {
     "data": {
      "application/vnd.jupyter.widget-view+json": {
       "model_id": "26bd4c97cfea43c394ebbe60478e7b9c",
       "version_major": 2,
       "version_minor": 0
      },
      "text/plain": [
       "  0%|          | 0/100 [00:00<?, ?it/s]"
      ]
     },
     "metadata": {},
     "output_type": "display_data"
    },
    {
     "name": "stderr",
     "output_type": "stream",
     "text": [
      "\u001b[32m[I 2022-09-19 13:34:43,038]\u001b[0m Trial 195 finished with value: 250.24 and parameters: {'discount_factor': 0.9605018742437834, 'learning_rate': 0.08576741024936228, 'network_shape': 103}. Best is trial 78 with value: 246.68.\u001b[0m\n"
     ]
    },
    {
     "data": {
      "application/vnd.jupyter.widget-view+json": {
       "model_id": "d94b917f0a9645df8c1177919465daa2",
       "version_major": 2,
       "version_minor": 0
      },
      "text/plain": [
       "  0%|          | 0/100 [00:00<?, ?it/s]"
      ]
     },
     "metadata": {},
     "output_type": "display_data"
    },
    {
     "name": "stderr",
     "output_type": "stream",
     "text": [
      "\u001b[32m[I 2022-09-19 13:35:04,186]\u001b[0m Trial 196 finished with value: 621.4 and parameters: {'discount_factor': 0.9593906494717535, 'learning_rate': 0.08576404473809635, 'network_shape': 95}. Best is trial 78 with value: 246.68.\u001b[0m\n"
     ]
    },
    {
     "data": {
      "application/vnd.jupyter.widget-view+json": {
       "model_id": "68fc271070ee402c912c6625a8aeb87e",
       "version_major": 2,
       "version_minor": 0
      },
      "text/plain": [
       "  0%|          | 0/100 [00:00<?, ?it/s]"
      ]
     },
     "metadata": {},
     "output_type": "display_data"
    },
    {
     "name": "stderr",
     "output_type": "stream",
     "text": [
      "\u001b[32m[I 2022-09-19 13:35:24,951]\u001b[0m Trial 197 finished with value: 447.58 and parameters: {'discount_factor': 0.9622994754351534, 'learning_rate': 0.08244355114391066, 'network_shape': 105}. Best is trial 78 with value: 246.68.\u001b[0m\n"
     ]
    },
    {
     "data": {
      "application/vnd.jupyter.widget-view+json": {
       "model_id": "2577c9f78ddd4575a5ff9c6992aebbf3",
       "version_major": 2,
       "version_minor": 0
      },
      "text/plain": [
       "  0%|          | 0/100 [00:00<?, ?it/s]"
      ]
     },
     "metadata": {},
     "output_type": "display_data"
    },
    {
     "name": "stderr",
     "output_type": "stream",
     "text": [
      "\u001b[32m[I 2022-09-19 13:35:46,205]\u001b[0m Trial 198 finished with value: 439.9 and parameters: {'discount_factor': 0.9599044824395192, 'learning_rate': 0.08995423021763412, 'network_shape': 103}. Best is trial 78 with value: 246.68.\u001b[0m\n"
     ]
    },
    {
     "data": {
      "application/vnd.jupyter.widget-view+json": {
       "model_id": "6b201a55be304568bf375dbe86eef2fb",
       "version_major": 2,
       "version_minor": 0
      },
      "text/plain": [
       "  0%|          | 0/100 [00:00<?, ?it/s]"
      ]
     },
     "metadata": {},
     "output_type": "display_data"
    },
    {
     "name": "stderr",
     "output_type": "stream",
     "text": [
      "\u001b[32m[I 2022-09-19 13:36:06,782]\u001b[0m Trial 199 finished with value: 250.35 and parameters: {'discount_factor': 0.9642461924338349, 'learning_rate': 0.09955105238308443, 'network_shape': 102}. Best is trial 78 with value: 246.68.\u001b[0m\n"
     ]
    },
    {
     "data": {
      "application/vnd.jupyter.widget-view+json": {
       "model_id": "695b24dd39d44bcab5f5d07900fbe1c7",
       "version_major": 2,
       "version_minor": 0
      },
      "text/plain": [
       "  0%|          | 0/100 [00:00<?, ?it/s]"
      ]
     },
     "metadata": {},
     "output_type": "display_data"
    },
    {
     "name": "stderr",
     "output_type": "stream",
     "text": [
      "\u001b[32m[I 2022-09-19 13:36:28,270]\u001b[0m Trial 200 finished with value: 442.32 and parameters: {'discount_factor': 0.9644857041528772, 'learning_rate': 0.09891177988733411, 'network_shape': 97}. Best is trial 78 with value: 246.68.\u001b[0m\n"
     ]
    },
    {
     "data": {
      "application/vnd.jupyter.widget-view+json": {
       "model_id": "1ca326ff5b014c4c90dfbf6230b65176",
       "version_major": 2,
       "version_minor": 0
      },
      "text/plain": [
       "  0%|          | 0/100 [00:00<?, ?it/s]"
      ]
     },
     "metadata": {},
     "output_type": "display_data"
    },
    {
     "name": "stderr",
     "output_type": "stream",
     "text": [
      "\u001b[32m[I 2022-09-19 13:36:50,485]\u001b[0m Trial 201 finished with value: 253.37 and parameters: {'discount_factor': 0.9620833352260872, 'learning_rate': 0.09328370767432127, 'network_shape': 102}. Best is trial 78 with value: 246.68.\u001b[0m\n"
     ]
    },
    {
     "data": {
      "application/vnd.jupyter.widget-view+json": {
       "model_id": "b57262422ca7456da60df9f875e04f47",
       "version_major": 2,
       "version_minor": 0
      },
      "text/plain": [
       "  0%|          | 0/100 [00:00<?, ?it/s]"
      ]
     },
     "metadata": {},
     "output_type": "display_data"
    },
    {
     "name": "stderr",
     "output_type": "stream",
     "text": [
      "\u001b[32m[I 2022-09-19 13:37:11,380]\u001b[0m Trial 202 finished with value: 250.18 and parameters: {'discount_factor': 0.9664942877816693, 'learning_rate': 0.09756520083478172, 'network_shape': 104}. Best is trial 78 with value: 246.68.\u001b[0m\n"
     ]
    },
    {
     "data": {
      "application/vnd.jupyter.widget-view+json": {
       "model_id": "57855a2888134da7a9daa7ce4d3d5675",
       "version_major": 2,
       "version_minor": 0
      },
      "text/plain": [
       "  0%|          | 0/100 [00:00<?, ?it/s]"
      ]
     },
     "metadata": {},
     "output_type": "display_data"
    },
    {
     "name": "stderr",
     "output_type": "stream",
     "text": [
      "\u001b[32m[I 2022-09-19 13:37:34,438]\u001b[0m Trial 203 finished with value: 253.85 and parameters: {'discount_factor': 0.9669994156055942, 'learning_rate': 0.09584480890520464, 'network_shape': 99}. Best is trial 78 with value: 246.68.\u001b[0m\n"
     ]
    },
    {
     "data": {
      "application/vnd.jupyter.widget-view+json": {
       "model_id": "c88f8859a35f482c90a31ae5e1723392",
       "version_major": 2,
       "version_minor": 0
      },
      "text/plain": [
       "  0%|          | 0/100 [00:00<?, ?it/s]"
      ]
     },
     "metadata": {},
     "output_type": "display_data"
    },
    {
     "name": "stderr",
     "output_type": "stream",
     "text": [
      "\u001b[32m[I 2022-09-19 13:37:58,485]\u001b[0m Trial 204 finished with value: 251.31 and parameters: {'discount_factor': 0.9654867198506454, 'learning_rate': 0.09786600516617867, 'network_shape': 105}. Best is trial 78 with value: 246.68.\u001b[0m\n"
     ]
    },
    {
     "data": {
      "application/vnd.jupyter.widget-view+json": {
       "model_id": "d02d429ab17442f786640913a0637599",
       "version_major": 2,
       "version_minor": 0
      },
      "text/plain": [
       "  0%|          | 0/100 [00:00<?, ?it/s]"
      ]
     },
     "metadata": {},
     "output_type": "display_data"
    },
    {
     "name": "stderr",
     "output_type": "stream",
     "text": [
      "\u001b[32m[I 2022-09-19 13:38:21,252]\u001b[0m Trial 205 finished with value: 634.12 and parameters: {'discount_factor': 0.9687777451659458, 'learning_rate': 0.0990999885313461, 'network_shape': 108}. Best is trial 78 with value: 246.68.\u001b[0m\n"
     ]
    },
    {
     "data": {
      "application/vnd.jupyter.widget-view+json": {
       "model_id": "7067d70341b746af9715605d8b73bed9",
       "version_major": 2,
       "version_minor": 0
      },
      "text/plain": [
       "  0%|          | 0/100 [00:00<?, ?it/s]"
      ]
     },
     "metadata": {},
     "output_type": "display_data"
    },
    {
     "name": "stderr",
     "output_type": "stream",
     "text": [
      "\u001b[32m[I 2022-09-19 13:38:42,515]\u001b[0m Trial 206 finished with value: 439.01 and parameters: {'discount_factor': 0.9706581678381765, 'learning_rate': 0.09437675121620467, 'network_shape': 93}. Best is trial 78 with value: 246.68.\u001b[0m\n"
     ]
    },
    {
     "data": {
      "application/vnd.jupyter.widget-view+json": {
       "model_id": "455e0ec7b4ae47f5ad7f7c68b7448a5e",
       "version_major": 2,
       "version_minor": 0
      },
      "text/plain": [
       "  0%|          | 0/100 [00:00<?, ?it/s]"
      ]
     },
     "metadata": {},
     "output_type": "display_data"
    },
    {
     "name": "stderr",
     "output_type": "stream",
     "text": [
      "\u001b[32m[I 2022-09-19 13:39:04,658]\u001b[0m Trial 207 finished with value: 444.57 and parameters: {'discount_factor': 0.9577063611746953, 'learning_rate': 0.09605892137606746, 'network_shape': 102}. Best is trial 78 with value: 246.68.\u001b[0m\n"
     ]
    },
    {
     "data": {
      "application/vnd.jupyter.widget-view+json": {
       "model_id": "8e85af59d14a481f88d52fc077063523",
       "version_major": 2,
       "version_minor": 0
      },
      "text/plain": [
       "  0%|          | 0/100 [00:00<?, ?it/s]"
      ]
     },
     "metadata": {},
     "output_type": "display_data"
    },
    {
     "name": "stderr",
     "output_type": "stream",
     "text": [
      "\u001b[32m[I 2022-09-19 13:39:27,308]\u001b[0m Trial 208 finished with value: 629.04 and parameters: {'discount_factor': 0.9645489772640737, 'learning_rate': 0.09233521900844203, 'network_shape': 111}. Best is trial 78 with value: 246.68.\u001b[0m\n"
     ]
    },
    {
     "data": {
      "application/vnd.jupyter.widget-view+json": {
       "model_id": "07ea628df7b544f088c4797cc341faa7",
       "version_major": 2,
       "version_minor": 0
      },
      "text/plain": [
       "  0%|          | 0/100 [00:00<?, ?it/s]"
      ]
     },
     "metadata": {},
     "output_type": "display_data"
    },
    {
     "name": "stderr",
     "output_type": "stream",
     "text": [
      "\u001b[32m[I 2022-09-19 13:39:50,475]\u001b[0m Trial 209 finished with value: 445.24 and parameters: {'discount_factor': 0.9660509241958787, 'learning_rate': 0.08735979985187342, 'network_shape': 104}. Best is trial 78 with value: 246.68.\u001b[0m\n"
     ]
    },
    {
     "data": {
      "application/vnd.jupyter.widget-view+json": {
       "model_id": "291d717d64cf4a7e9a4f6110d74fa48e",
       "version_major": 2,
       "version_minor": 0
      },
      "text/plain": [
       "  0%|          | 0/100 [00:00<?, ?it/s]"
      ]
     },
     "metadata": {},
     "output_type": "display_data"
    },
    {
     "name": "stderr",
     "output_type": "stream",
     "text": [
      "\u001b[32m[I 2022-09-19 13:40:12,543]\u001b[0m Trial 210 finished with value: 446.5 and parameters: {'discount_factor': 0.9609209113574387, 'learning_rate': 0.09960825605555035, 'network_shape': 98}. Best is trial 78 with value: 246.68.\u001b[0m\n"
     ]
    },
    {
     "data": {
      "application/vnd.jupyter.widget-view+json": {
       "model_id": "6bb5540c637147009b35a36e8b02b566",
       "version_major": 2,
       "version_minor": 0
      },
      "text/plain": [
       "  0%|          | 0/100 [00:00<?, ?it/s]"
      ]
     },
     "metadata": {},
     "output_type": "display_data"
    },
    {
     "name": "stderr",
     "output_type": "stream",
     "text": [
      "\u001b[32m[I 2022-09-19 13:40:33,336]\u001b[0m Trial 211 finished with value: 253.82 and parameters: {'discount_factor': 0.9630895264094452, 'learning_rate': 0.09021379187449591, 'network_shape': 106}. Best is trial 78 with value: 246.68.\u001b[0m\n"
     ]
    },
    {
     "data": {
      "application/vnd.jupyter.widget-view+json": {
       "model_id": "2289d8569bd54ec381ed271ea540cf29",
       "version_major": 2,
       "version_minor": 0
      },
      "text/plain": [
       "  0%|          | 0/100 [00:00<?, ?it/s]"
      ]
     },
     "metadata": {},
     "output_type": "display_data"
    },
    {
     "name": "stderr",
     "output_type": "stream",
     "text": [
      "\u001b[32m[I 2022-09-19 13:40:53,097]\u001b[0m Trial 212 finished with value: 250.65 and parameters: {'discount_factor': 0.9673289783514191, 'learning_rate': 0.0770118369321699, 'network_shape': 100}. Best is trial 78 with value: 246.68.\u001b[0m\n"
     ]
    },
    {
     "data": {
      "application/vnd.jupyter.widget-view+json": {
       "model_id": "58cc6dbbacf045ea8ab077239e50fa91",
       "version_major": 2,
       "version_minor": 0
      },
      "text/plain": [
       "  0%|          | 0/100 [00:00<?, ?it/s]"
      ]
     },
     "metadata": {},
     "output_type": "display_data"
    },
    {
     "name": "stderr",
     "output_type": "stream",
     "text": [
      "\u001b[32m[I 2022-09-19 13:41:12,797]\u001b[0m Trial 213 finished with value: 252.33 and parameters: {'discount_factor': 0.9686656436557834, 'learning_rate': 0.07550106618958195, 'network_shape': 100}. Best is trial 78 with value: 246.68.\u001b[0m\n"
     ]
    },
    {
     "data": {
      "application/vnd.jupyter.widget-view+json": {
       "model_id": "bb58f975e5374f269d1b3fab8ae16909",
       "version_major": 2,
       "version_minor": 0
      },
      "text/plain": [
       "  0%|          | 0/100 [00:00<?, ?it/s]"
      ]
     },
     "metadata": {},
     "output_type": "display_data"
    },
    {
     "name": "stderr",
     "output_type": "stream",
     "text": [
      "\u001b[32m[I 2022-09-19 13:41:33,298]\u001b[0m Trial 214 finished with value: 631.18 and parameters: {'discount_factor': 0.9871602008926461, 'learning_rate': 0.09414892617085643, 'network_shape': 115}. Best is trial 78 with value: 246.68.\u001b[0m\n"
     ]
    },
    {
     "data": {
      "application/vnd.jupyter.widget-view+json": {
       "model_id": "9b6cff23d59c4db69168d9d7d8707da7",
       "version_major": 2,
       "version_minor": 0
      },
      "text/plain": [
       "  0%|          | 0/100 [00:00<?, ?it/s]"
      ]
     },
     "metadata": {},
     "output_type": "display_data"
    },
    {
     "name": "stderr",
     "output_type": "stream",
     "text": [
      "\u001b[32m[I 2022-09-19 13:41:52,569]\u001b[0m Trial 215 finished with value: 447.68 and parameters: {'discount_factor': 0.9585353589835959, 'learning_rate': 0.08402525252833064, 'network_shape': 119}. Best is trial 78 with value: 246.68.\u001b[0m\n"
     ]
    },
    {
     "data": {
      "application/vnd.jupyter.widget-view+json": {
       "model_id": "f51c87cca6d74b86b3b3b0b1584aa2d9",
       "version_major": 2,
       "version_minor": 0
      },
      "text/plain": [
       "  0%|          | 0/100 [00:00<?, ?it/s]"
      ]
     },
     "metadata": {},
     "output_type": "display_data"
    },
    {
     "name": "stderr",
     "output_type": "stream",
     "text": [
      "\u001b[32m[I 2022-09-19 13:42:14,184]\u001b[0m Trial 216 finished with value: 252.43 and parameters: {'discount_factor': 0.9539059602543544, 'learning_rate': 0.08609338903360417, 'network_shape': 89}. Best is trial 78 with value: 246.68.\u001b[0m\n"
     ]
    },
    {
     "data": {
      "application/vnd.jupyter.widget-view+json": {
       "model_id": "f1fc52d51cc24e30934cb80d0a5ad5d7",
       "version_major": 2,
       "version_minor": 0
      },
      "text/plain": [
       "  0%|          | 0/100 [00:00<?, ?it/s]"
      ]
     },
     "metadata": {},
     "output_type": "display_data"
    },
    {
     "name": "stderr",
     "output_type": "stream",
     "text": [
      "\u001b[32m[I 2022-09-19 13:42:37,638]\u001b[0m Trial 217 finished with value: 627.54 and parameters: {'discount_factor': 0.9847951465669703, 'learning_rate': 0.08011167763450258, 'network_shape': 103}. Best is trial 78 with value: 246.68.\u001b[0m\n"
     ]
    },
    {
     "data": {
      "application/vnd.jupyter.widget-view+json": {
       "model_id": "75bd7cd7aa8440b7bc72f1707857f1a0",
       "version_major": 2,
       "version_minor": 0
      },
      "text/plain": [
       "  0%|          | 0/100 [00:00<?, ?it/s]"
      ]
     },
     "metadata": {},
     "output_type": "display_data"
    },
    {
     "name": "stderr",
     "output_type": "stream",
     "text": [
      "\u001b[32m[I 2022-09-19 13:42:58,372]\u001b[0m Trial 218 finished with value: 446.45 and parameters: {'discount_factor': 0.9562358850103155, 'learning_rate': 0.09655343070648284, 'network_shape': 96}. Best is trial 78 with value: 246.68.\u001b[0m\n"
     ]
    },
    {
     "data": {
      "application/vnd.jupyter.widget-view+json": {
       "model_id": "256893853e36446d9d292222eec8b2b1",
       "version_major": 2,
       "version_minor": 0
      },
      "text/plain": [
       "  0%|          | 0/100 [00:00<?, ?it/s]"
      ]
     },
     "metadata": {},
     "output_type": "display_data"
    },
    {
     "name": "stderr",
     "output_type": "stream",
     "text": [
      "\u001b[32m[I 2022-09-19 13:43:19,931]\u001b[0m Trial 219 finished with value: 634.02 and parameters: {'discount_factor': 0.9636523565150755, 'learning_rate': 0.09299742801117476, 'network_shape': 108}. Best is trial 78 with value: 246.68.\u001b[0m\n"
     ]
    },
    {
     "data": {
      "application/vnd.jupyter.widget-view+json": {
       "model_id": "f1d01a2952f94ed1acdfa6a02f86c9cd",
       "version_major": 2,
       "version_minor": 0
      },
      "text/plain": [
       "  0%|          | 0/100 [00:00<?, ?it/s]"
      ]
     },
     "metadata": {},
     "output_type": "display_data"
    },
    {
     "name": "stderr",
     "output_type": "stream",
     "text": [
      "\u001b[32m[I 2022-09-19 13:43:40,825]\u001b[0m Trial 220 finished with value: 633.37 and parameters: {'discount_factor': 0.9725456659957648, 'learning_rate': 0.08851655201766655, 'network_shape': 92}. Best is trial 78 with value: 246.68.\u001b[0m\n"
     ]
    },
    {
     "data": {
      "application/vnd.jupyter.widget-view+json": {
       "model_id": "cd66aca9821541939f6adbe5d5a7ffaf",
       "version_major": 2,
       "version_minor": 0
      },
      "text/plain": [
       "  0%|          | 0/100 [00:00<?, ?it/s]"
      ]
     },
     "metadata": {},
     "output_type": "display_data"
    },
    {
     "name": "stderr",
     "output_type": "stream",
     "text": [
      "\u001b[32m[I 2022-09-19 13:44:01,053]\u001b[0m Trial 221 finished with value: 265.42 and parameters: {'discount_factor': 0.9480447174242554, 'learning_rate': 0.09103417449064857, 'network_shape': 38}. Best is trial 78 with value: 246.68.\u001b[0m\n"
     ]
    },
    {
     "data": {
      "application/vnd.jupyter.widget-view+json": {
       "model_id": "8d94616ebef241edbbe7b79e9fd43567",
       "version_major": 2,
       "version_minor": 0
      },
      "text/plain": [
       "  0%|          | 0/100 [00:00<?, ?it/s]"
      ]
     },
     "metadata": {},
     "output_type": "display_data"
    },
    {
     "name": "stderr",
     "output_type": "stream",
     "text": [
      "\u001b[32m[I 2022-09-19 13:44:21,471]\u001b[0m Trial 222 finished with value: 637.01 and parameters: {'discount_factor': 0.9694413908255543, 'learning_rate': 0.07841821149871116, 'network_shape': 101}. Best is trial 78 with value: 246.68.\u001b[0m\n"
     ]
    },
    {
     "data": {
      "application/vnd.jupyter.widget-view+json": {
       "model_id": "a96427a8157f4da0b83df0227edc12b7",
       "version_major": 2,
       "version_minor": 0
      },
      "text/plain": [
       "  0%|          | 0/100 [00:00<?, ?it/s]"
      ]
     },
     "metadata": {},
     "output_type": "display_data"
    },
    {
     "name": "stderr",
     "output_type": "stream",
     "text": [
      "\u001b[32m[I 2022-09-19 13:44:43,080]\u001b[0m Trial 223 finished with value: 440.03 and parameters: {'discount_factor': 0.9677600399438506, 'learning_rate': 0.08420865840159447, 'network_shape': 98}. Best is trial 78 with value: 246.68.\u001b[0m\n"
     ]
    },
    {
     "data": {
      "application/vnd.jupyter.widget-view+json": {
       "model_id": "6edc8c6d232940c1990a08a4354d50b5",
       "version_major": 2,
       "version_minor": 0
      },
      "text/plain": [
       "  0%|          | 0/100 [00:00<?, ?it/s]"
      ]
     },
     "metadata": {},
     "output_type": "display_data"
    },
    {
     "name": "stderr",
     "output_type": "stream",
     "text": [
      "\u001b[32m[I 2022-09-19 13:45:05,088]\u001b[0m Trial 224 finished with value: 446.57 and parameters: {'discount_factor': 0.9666241427597541, 'learning_rate': 0.07671447308294192, 'network_shape': 103}. Best is trial 78 with value: 246.68.\u001b[0m\n"
     ]
    },
    {
     "data": {
      "application/vnd.jupyter.widget-view+json": {
       "model_id": "5f344e84d5cc4d7c8be994aec9cd422b",
       "version_major": 2,
       "version_minor": 0
      },
      "text/plain": [
       "  0%|          | 0/100 [00:00<?, ?it/s]"
      ]
     },
     "metadata": {},
     "output_type": "display_data"
    },
    {
     "name": "stderr",
     "output_type": "stream",
     "text": [
      "\u001b[32m[I 2022-09-19 13:45:25,233]\u001b[0m Trial 225 finished with value: 250.56 and parameters: {'discount_factor': 0.9606509453535279, 'learning_rate': 0.07330095114378923, 'network_shape': 100}. Best is trial 78 with value: 246.68.\u001b[0m\n"
     ]
    },
    {
     "data": {
      "application/vnd.jupyter.widget-view+json": {
       "model_id": "8df888acb93f4f8aa5cadf2eba77c726",
       "version_major": 2,
       "version_minor": 0
      },
      "text/plain": [
       "  0%|          | 0/100 [00:00<?, ?it/s]"
      ]
     },
     "metadata": {},
     "output_type": "display_data"
    },
    {
     "name": "stderr",
     "output_type": "stream",
     "text": [
      "\u001b[32m[I 2022-09-19 13:45:45,175]\u001b[0m Trial 226 finished with value: 447.11 and parameters: {'discount_factor': 0.9606935113438497, 'learning_rate': 0.07262526702787904, 'network_shape': 105}. Best is trial 78 with value: 246.68.\u001b[0m\n"
     ]
    },
    {
     "data": {
      "application/vnd.jupyter.widget-view+json": {
       "model_id": "5ad6d287ee6e4bb68d3b398738cc11b0",
       "version_major": 2,
       "version_minor": 0
      },
      "text/plain": [
       "  0%|          | 0/100 [00:00<?, ?it/s]"
      ]
     },
     "metadata": {},
     "output_type": "display_data"
    },
    {
     "name": "stderr",
     "output_type": "stream",
     "text": [
      "\u001b[32m[I 2022-09-19 13:46:05,799]\u001b[0m Trial 227 finished with value: 634.17 and parameters: {'discount_factor': 0.9595573162023419, 'learning_rate': 0.0782765644042731, 'network_shape': 100}. Best is trial 78 with value: 246.68.\u001b[0m\n"
     ]
    },
    {
     "data": {
      "application/vnd.jupyter.widget-view+json": {
       "model_id": "7a71515d2606493c8655994f417a3f2a",
       "version_major": 2,
       "version_minor": 0
      },
      "text/plain": [
       "  0%|          | 0/100 [00:00<?, ?it/s]"
      ]
     },
     "metadata": {},
     "output_type": "display_data"
    },
    {
     "name": "stderr",
     "output_type": "stream",
     "text": [
      "\u001b[32m[I 2022-09-19 13:46:25,668]\u001b[0m Trial 228 finished with value: 250.98 and parameters: {'discount_factor': 0.9614568702186875, 'learning_rate': 0.0975410537979236, 'network_shape': 96}. Best is trial 78 with value: 246.68.\u001b[0m\n"
     ]
    },
    {
     "data": {
      "application/vnd.jupyter.widget-view+json": {
       "model_id": "657a3578716c4d67853a6107f82c3a37",
       "version_major": 2,
       "version_minor": 0
      },
      "text/plain": [
       "  0%|          | 0/100 [00:00<?, ?it/s]"
      ]
     },
     "metadata": {},
     "output_type": "display_data"
    },
    {
     "name": "stderr",
     "output_type": "stream",
     "text": [
      "\u001b[32m[I 2022-09-19 13:46:46,269]\u001b[0m Trial 229 finished with value: 250.5 and parameters: {'discount_factor': 0.956711129139177, 'learning_rate': 0.06846570551342812, 'network_shape': 40}. Best is trial 78 with value: 246.68.\u001b[0m\n"
     ]
    },
    {
     "data": {
      "application/vnd.jupyter.widget-view+json": {
       "model_id": "3e0fbbdce7c14ae59f41f473b7f1e239",
       "version_major": 2,
       "version_minor": 0
      },
      "text/plain": [
       "  0%|          | 0/100 [00:00<?, ?it/s]"
      ]
     },
     "metadata": {},
     "output_type": "display_data"
    },
    {
     "name": "stderr",
     "output_type": "stream",
     "text": [
      "\u001b[32m[I 2022-09-19 13:47:08,225]\u001b[0m Trial 230 finished with value: 438.86 and parameters: {'discount_factor': 0.9568998396406868, 'learning_rate': 0.07003022394300627, 'network_shape': 40}. Best is trial 78 with value: 246.68.\u001b[0m\n"
     ]
    },
    {
     "data": {
      "application/vnd.jupyter.widget-view+json": {
       "model_id": "62932a01ccb94bfb864e3730e3332d6e",
       "version_major": 2,
       "version_minor": 0
      },
      "text/plain": [
       "  0%|          | 0/100 [00:00<?, ?it/s]"
      ]
     },
     "metadata": {},
     "output_type": "display_data"
    },
    {
     "name": "stderr",
     "output_type": "stream",
     "text": [
      "\u001b[32m[I 2022-09-19 13:47:29,581]\u001b[0m Trial 231 finished with value: 441.75 and parameters: {'discount_factor': 0.9652522953017258, 'learning_rate': 0.07147623900763585, 'network_shape': 101}. Best is trial 78 with value: 246.68.\u001b[0m\n"
     ]
    },
    {
     "data": {
      "application/vnd.jupyter.widget-view+json": {
       "model_id": "7b279de839054cb3898b6e592f5117ab",
       "version_major": 2,
       "version_minor": 0
      },
      "text/plain": [
       "  0%|          | 0/100 [00:00<?, ?it/s]"
      ]
     },
     "metadata": {},
     "output_type": "display_data"
    },
    {
     "name": "stderr",
     "output_type": "stream",
     "text": [
      "\u001b[32m[I 2022-09-19 13:47:49,452]\u001b[0m Trial 232 finished with value: 449.42 and parameters: {'discount_factor': 0.9585085190381919, 'learning_rate': 0.08183394698196149, 'network_shape': 36}. Best is trial 78 with value: 246.68.\u001b[0m\n"
     ]
    },
    {
     "data": {
      "application/vnd.jupyter.widget-view+json": {
       "model_id": "283853f38f7c4c8e9d2ca9c595c9e75e",
       "version_major": 2,
       "version_minor": 0
      },
      "text/plain": [
       "  0%|          | 0/100 [00:00<?, ?it/s]"
      ]
     },
     "metadata": {},
     "output_type": "display_data"
    },
    {
     "name": "stderr",
     "output_type": "stream",
     "text": [
      "\u001b[32m[I 2022-09-19 13:48:10,323]\u001b[0m Trial 233 finished with value: 250.58 and parameters: {'discount_factor': 0.9552094783344653, 'learning_rate': 0.07729425625368502, 'network_shape': 104}. Best is trial 78 with value: 246.68.\u001b[0m\n"
     ]
    },
    {
     "data": {
      "application/vnd.jupyter.widget-view+json": {
       "model_id": "b0f8cdc3e7204232b863dae835bfb44d",
       "version_major": 2,
       "version_minor": 0
      },
      "text/plain": [
       "  0%|          | 0/100 [00:00<?, ?it/s]"
      ]
     },
     "metadata": {},
     "output_type": "display_data"
    },
    {
     "name": "stderr",
     "output_type": "stream",
     "text": [
      "\u001b[32m[I 2022-09-19 13:48:31,655]\u001b[0m Trial 234 finished with value: 633.2 and parameters: {'discount_factor': 0.9560726022339897, 'learning_rate': 0.07597920264843085, 'network_shape': 106}. Best is trial 78 with value: 246.68.\u001b[0m\n"
     ]
    },
    {
     "data": {
      "application/vnd.jupyter.widget-view+json": {
       "model_id": "7158ec5fb973498e9ca29cfe5c27040a",
       "version_major": 2,
       "version_minor": 0
      },
      "text/plain": [
       "  0%|          | 0/100 [00:00<?, ?it/s]"
      ]
     },
     "metadata": {},
     "output_type": "display_data"
    },
    {
     "name": "stderr",
     "output_type": "stream",
     "text": [
      "\u001b[32m[I 2022-09-19 13:48:53,201]\u001b[0m Trial 235 finished with value: 631.77 and parameters: {'discount_factor': 0.9538102570612305, 'learning_rate': 0.07379904269523874, 'network_shape': 104}. Best is trial 78 with value: 246.68.\u001b[0m\n"
     ]
    },
    {
     "data": {
      "application/vnd.jupyter.widget-view+json": {
       "model_id": "95b43c71da41490ab4d82169059ab849",
       "version_major": 2,
       "version_minor": 0
      },
      "text/plain": [
       "  0%|          | 0/100 [00:00<?, ?it/s]"
      ]
     },
     "metadata": {},
     "output_type": "display_data"
    },
    {
     "name": "stderr",
     "output_type": "stream",
     "text": [
      "\u001b[32m[I 2022-09-19 13:49:14,000]\u001b[0m Trial 236 finished with value: 257.46 and parameters: {'discount_factor': 0.9569736316809466, 'learning_rate': 0.07992945943782954, 'network_shape': 34}. Best is trial 78 with value: 246.68.\u001b[0m\n"
     ]
    },
    {
     "data": {
      "application/vnd.jupyter.widget-view+json": {
       "model_id": "6a706c1c02e14796bb97fa434d2cf5be",
       "version_major": 2,
       "version_minor": 0
      },
      "text/plain": [
       "  0%|          | 0/100 [00:00<?, ?it/s]"
      ]
     },
     "metadata": {},
     "output_type": "display_data"
    },
    {
     "name": "stderr",
     "output_type": "stream",
     "text": [
      "\u001b[32m[I 2022-09-19 13:49:35,619]\u001b[0m Trial 237 finished with value: 633.65 and parameters: {'discount_factor': 0.9550479304187646, 'learning_rate': 0.09233197025579591, 'network_shape': 110}. Best is trial 78 with value: 246.68.\u001b[0m\n"
     ]
    },
    {
     "data": {
      "application/vnd.jupyter.widget-view+json": {
       "model_id": "5e782813042a4236acd7433d566cf41e",
       "version_major": 2,
       "version_minor": 0
      },
      "text/plain": [
       "  0%|          | 0/100 [00:00<?, ?it/s]"
      ]
     },
     "metadata": {},
     "output_type": "display_data"
    },
    {
     "name": "stderr",
     "output_type": "stream",
     "text": [
      "\u001b[32m[I 2022-09-19 13:49:56,771]\u001b[0m Trial 238 finished with value: 637.28 and parameters: {'discount_factor': 0.9596764851688199, 'learning_rate': 0.08943921903624119, 'network_shape': 32}. Best is trial 78 with value: 246.68.\u001b[0m\n"
     ]
    },
    {
     "data": {
      "application/vnd.jupyter.widget-view+json": {
       "model_id": "004f719872654eb1828affba2fc89d1b",
       "version_major": 2,
       "version_minor": 0
      },
      "text/plain": [
       "  0%|          | 0/100 [00:00<?, ?it/s]"
      ]
     },
     "metadata": {},
     "output_type": "display_data"
    },
    {
     "name": "stderr",
     "output_type": "stream",
     "text": [
      "\u001b[32m[I 2022-09-19 13:50:18,136]\u001b[0m Trial 239 finished with value: 631.64 and parameters: {'discount_factor': 0.9520582239629138, 'learning_rate': 0.06897273300720912, 'network_shape': 107}. Best is trial 78 with value: 246.68.\u001b[0m\n"
     ]
    },
    {
     "data": {
      "application/vnd.jupyter.widget-view+json": {
       "model_id": "93e2d25297fc40399375b6dba2139f15",
       "version_major": 2,
       "version_minor": 0
      },
      "text/plain": [
       "  0%|          | 0/100 [00:00<?, ?it/s]"
      ]
     },
     "metadata": {},
     "output_type": "display_data"
    },
    {
     "name": "stderr",
     "output_type": "stream",
     "text": [
      "\u001b[32m[I 2022-09-19 13:50:38,403]\u001b[0m Trial 240 finished with value: 448.19 and parameters: {'discount_factor': 0.9623633189270857, 'learning_rate': 0.07297540962054261, 'network_shape': 43}. Best is trial 78 with value: 246.68.\u001b[0m\n"
     ]
    },
    {
     "data": {
      "application/vnd.jupyter.widget-view+json": {
       "model_id": "b175aa06100b49739669896e8bdba570",
       "version_major": 2,
       "version_minor": 0
      },
      "text/plain": [
       "  0%|          | 0/100 [00:00<?, ?it/s]"
      ]
     },
     "metadata": {},
     "output_type": "display_data"
    },
    {
     "name": "stderr",
     "output_type": "stream",
     "text": [
      "\u001b[32m[I 2022-09-19 13:50:59,850]\u001b[0m Trial 241 finished with value: 571.51 and parameters: {'discount_factor': 0.9535760596063996, 'learning_rate': 0.08663306878167477, 'network_shape': 38}. Best is trial 78 with value: 246.68.\u001b[0m\n"
     ]
    },
    {
     "data": {
      "application/vnd.jupyter.widget-view+json": {
       "model_id": "24572c7507144fadb4abe2af6cd2991a",
       "version_major": 2,
       "version_minor": 0
      },
      "text/plain": [
       "  0%|          | 0/100 [00:00<?, ?it/s]"
      ]
     },
     "metadata": {},
     "output_type": "display_data"
    },
    {
     "name": "stderr",
     "output_type": "stream",
     "text": [
      "\u001b[32m[I 2022-09-19 13:51:21,139]\u001b[0m Trial 242 finished with value: 250.29 and parameters: {'discount_factor': 0.9554278042454541, 'learning_rate': 0.09996978781175535, 'network_shape': 36}. Best is trial 78 with value: 246.68.\u001b[0m\n"
     ]
    },
    {
     "data": {
      "application/vnd.jupyter.widget-view+json": {
       "model_id": "f38b946d784f4e3da969662ea74395bd",
       "version_major": 2,
       "version_minor": 0
      },
      "text/plain": [
       "  0%|          | 0/100 [00:00<?, ?it/s]"
      ]
     },
     "metadata": {},
     "output_type": "display_data"
    },
    {
     "name": "stderr",
     "output_type": "stream",
     "text": [
      "\u001b[32m[I 2022-09-19 13:51:44,036]\u001b[0m Trial 243 finished with value: 448.61 and parameters: {'discount_factor': 0.9575774756960089, 'learning_rate': 0.09963272168883694, 'network_shape': 41}. Best is trial 78 with value: 246.68.\u001b[0m\n"
     ]
    },
    {
     "data": {
      "application/vnd.jupyter.widget-view+json": {
       "model_id": "7edbd15cafa9421c9035f863d6b51373",
       "version_major": 2,
       "version_minor": 0
      },
      "text/plain": [
       "  0%|          | 0/100 [00:00<?, ?it/s]"
      ]
     },
     "metadata": {},
     "output_type": "display_data"
    },
    {
     "name": "stderr",
     "output_type": "stream",
     "text": [
      "\u001b[32m[I 2022-09-19 13:52:04,649]\u001b[0m Trial 244 finished with value: 255.0 and parameters: {'discount_factor': 0.9554977067282052, 'learning_rate': 0.0947304121105984, 'network_shape': 34}. Best is trial 78 with value: 246.68.\u001b[0m\n"
     ]
    },
    {
     "data": {
      "application/vnd.jupyter.widget-view+json": {
       "model_id": "1f7b4a522d8e4d90b718705765777aeb",
       "version_major": 2,
       "version_minor": 0
      },
      "text/plain": [
       "  0%|          | 0/100 [00:00<?, ?it/s]"
      ]
     },
     "metadata": {},
     "output_type": "display_data"
    },
    {
     "name": "stderr",
     "output_type": "stream",
     "text": [
      "\u001b[32m[I 2022-09-19 13:52:24,940]\u001b[0m Trial 245 finished with value: 250.2 and parameters: {'discount_factor': 0.94995519849834, 'learning_rate': 0.09777643764655122, 'network_shape': 86}. Best is trial 78 with value: 246.68.\u001b[0m\n"
     ]
    },
    {
     "data": {
      "application/vnd.jupyter.widget-view+json": {
       "model_id": "4718ef2679734f019564f577375ae178",
       "version_major": 2,
       "version_minor": 0
      },
      "text/plain": [
       "  0%|          | 0/100 [00:00<?, ?it/s]"
      ]
     },
     "metadata": {},
     "output_type": "display_data"
    },
    {
     "name": "stderr",
     "output_type": "stream",
     "text": [
      "\u001b[32m[I 2022-09-19 13:52:45,507]\u001b[0m Trial 246 finished with value: 252.18 and parameters: {'discount_factor': 0.95015816127857, 'learning_rate': 0.09805614224802921, 'network_shape': 83}. Best is trial 78 with value: 246.68.\u001b[0m\n"
     ]
    },
    {
     "data": {
      "application/vnd.jupyter.widget-view+json": {
       "model_id": "1f1a7521d85b4f0eb6f8f0b027143a77",
       "version_major": 2,
       "version_minor": 0
      },
      "text/plain": [
       "  0%|          | 0/100 [00:00<?, ?it/s]"
      ]
     },
     "metadata": {},
     "output_type": "display_data"
    },
    {
     "name": "stderr",
     "output_type": "stream",
     "text": [
      "\u001b[32m[I 2022-09-19 13:53:06,285]\u001b[0m Trial 247 finished with value: 440.27 and parameters: {'discount_factor': 0.9512315630709185, 'learning_rate': 0.09940064402282407, 'network_shape': 93}. Best is trial 78 with value: 246.68.\u001b[0m\n"
     ]
    },
    {
     "data": {
      "application/vnd.jupyter.widget-view+json": {
       "model_id": "9744b7caba414b20bd21e6973b945d7a",
       "version_major": 2,
       "version_minor": 0
      },
      "text/plain": [
       "  0%|          | 0/100 [00:00<?, ?it/s]"
      ]
     },
     "metadata": {},
     "output_type": "display_data"
    },
    {
     "name": "stderr",
     "output_type": "stream",
     "text": [
      "\u001b[32m[I 2022-09-19 13:53:26,269]\u001b[0m Trial 248 finished with value: 447.79 and parameters: {'discount_factor': 0.9472889886127192, 'learning_rate': 0.09570031362363568, 'network_shape': 89}. Best is trial 78 with value: 246.68.\u001b[0m\n"
     ]
    },
    {
     "data": {
      "application/vnd.jupyter.widget-view+json": {
       "model_id": "96ae928c008b454eaa2049d20be65e34",
       "version_major": 2,
       "version_minor": 0
      },
      "text/plain": [
       "  0%|          | 0/100 [00:00<?, ?it/s]"
      ]
     },
     "metadata": {},
     "output_type": "display_data"
    },
    {
     "name": "stderr",
     "output_type": "stream",
     "text": [
      "\u001b[32m[I 2022-09-19 13:53:46,836]\u001b[0m Trial 249 finished with value: 409.68 and parameters: {'discount_factor': 0.948981660987131, 'learning_rate': 0.07384896472841339, 'network_shape': 37}. Best is trial 78 with value: 246.68.\u001b[0m\n"
     ]
    },
    {
     "data": {
      "application/vnd.jupyter.widget-view+json": {
       "model_id": "bd03733eecae4d6db537e98d127fe585",
       "version_major": 2,
       "version_minor": 0
      },
      "text/plain": [
       "  0%|          | 0/100 [00:00<?, ?it/s]"
      ]
     },
     "metadata": {},
     "output_type": "display_data"
    },
    {
     "name": "stderr",
     "output_type": "stream",
     "text": [
      "\u001b[32m[I 2022-09-19 13:54:07,913]\u001b[0m Trial 250 finished with value: 250.53 and parameters: {'discount_factor': 0.949588470679619, 'learning_rate': 0.09999663150297795, 'network_shape': 84}. Best is trial 78 with value: 246.68.\u001b[0m\n"
     ]
    },
    {
     "data": {
      "application/vnd.jupyter.widget-view+json": {
       "model_id": "1e442337132a4babbc2e93204399d4fe",
       "version_major": 2,
       "version_minor": 0
      },
      "text/plain": [
       "  0%|          | 0/100 [00:00<?, ?it/s]"
      ]
     },
     "metadata": {},
     "output_type": "display_data"
    },
    {
     "name": "stderr",
     "output_type": "stream",
     "text": [
      "\u001b[32m[I 2022-09-19 13:54:28,438]\u001b[0m Trial 251 finished with value: 444.9 and parameters: {'discount_factor': 0.9527583939437778, 'learning_rate': 0.09686539620897365, 'network_shape': 87}. Best is trial 78 with value: 246.68.\u001b[0m\n"
     ]
    },
    {
     "data": {
      "application/vnd.jupyter.widget-view+json": {
       "model_id": "62ed908648b1465d82fa3f29a1397d12",
       "version_major": 2,
       "version_minor": 0
      },
      "text/plain": [
       "  0%|          | 0/100 [00:00<?, ?it/s]"
      ]
     },
     "metadata": {},
     "output_type": "display_data"
    },
    {
     "name": "stderr",
     "output_type": "stream",
     "text": [
      "\u001b[32m[I 2022-09-19 13:54:49,296]\u001b[0m Trial 252 finished with value: 636.72 and parameters: {'discount_factor': 0.981745713298922, 'learning_rate': 0.09759356007280659, 'network_shape': 92}. Best is trial 78 with value: 246.68.\u001b[0m\n"
     ]
    },
    {
     "data": {
      "application/vnd.jupyter.widget-view+json": {
       "model_id": "18c921200ad54facb4ca17c5f65ed3d8",
       "version_major": 2,
       "version_minor": 0
      },
      "text/plain": [
       "  0%|          | 0/100 [00:00<?, ?it/s]"
      ]
     },
     "metadata": {},
     "output_type": "display_data"
    },
    {
     "name": "stderr",
     "output_type": "stream",
     "text": [
      "\u001b[32m[I 2022-09-19 13:55:10,344]\u001b[0m Trial 253 finished with value: 261.51 and parameters: {'discount_factor': 0.9498866219052275, 'learning_rate': 0.09869148312859455, 'network_shape': 98}. Best is trial 78 with value: 246.68.\u001b[0m\n"
     ]
    },
    {
     "data": {
      "application/vnd.jupyter.widget-view+json": {
       "model_id": "e645fa253336455e9b4516a12d522fa0",
       "version_major": 2,
       "version_minor": 0
      },
      "text/plain": [
       "  0%|          | 0/100 [00:00<?, ?it/s]"
      ]
     },
     "metadata": {},
     "output_type": "display_data"
    },
    {
     "name": "stderr",
     "output_type": "stream",
     "text": [
      "\u001b[32m[I 2022-09-19 13:55:31,925]\u001b[0m Trial 254 finished with value: 251.28 and parameters: {'discount_factor': 0.964638094517191, 'learning_rate': 0.09960282376851456, 'network_shape': 85}. Best is trial 78 with value: 246.68.\u001b[0m\n"
     ]
    },
    {
     "data": {
      "application/vnd.jupyter.widget-view+json": {
       "model_id": "2934b32ccd5a4ee2a421743a3c2a85f5",
       "version_major": 2,
       "version_minor": 0
      },
      "text/plain": [
       "  0%|          | 0/100 [00:00<?, ?it/s]"
      ]
     },
     "metadata": {},
     "output_type": "display_data"
    },
    {
     "name": "stderr",
     "output_type": "stream",
     "text": [
      "\u001b[32m[I 2022-09-19 13:55:53,426]\u001b[0m Trial 255 finished with value: 250.5 and parameters: {'discount_factor': 0.9521327399948024, 'learning_rate': 0.09996016072496068, 'network_shape': 95}. Best is trial 78 with value: 246.68.\u001b[0m\n"
     ]
    },
    {
     "data": {
      "application/vnd.jupyter.widget-view+json": {
       "model_id": "12788aaa803844fcb5165737b5173d8c",
       "version_major": 2,
       "version_minor": 0
      },
      "text/plain": [
       "  0%|          | 0/100 [00:00<?, ?it/s]"
      ]
     },
     "metadata": {},
     "output_type": "display_data"
    },
    {
     "name": "stderr",
     "output_type": "stream",
     "text": [
      "\u001b[32m[I 2022-09-19 13:56:14,340]\u001b[0m Trial 256 finished with value: 629.7 and parameters: {'discount_factor': 0.952344675261369, 'learning_rate': 0.09704713033781097, 'network_shape': 94}. Best is trial 78 with value: 246.68.\u001b[0m\n"
     ]
    },
    {
     "data": {
      "application/vnd.jupyter.widget-view+json": {
       "model_id": "26059cea175841149c0ab3009fc1ef2e",
       "version_major": 2,
       "version_minor": 0
      },
      "text/plain": [
       "  0%|          | 0/100 [00:00<?, ?it/s]"
      ]
     },
     "metadata": {},
     "output_type": "display_data"
    },
    {
     "name": "stderr",
     "output_type": "stream",
     "text": [
      "\u001b[32m[I 2022-09-19 13:56:35,352]\u001b[0m Trial 257 finished with value: 442.03 and parameters: {'discount_factor': 0.9492816546833514, 'learning_rate': 0.09991123366684797, 'network_shape': 90}. Best is trial 78 with value: 246.68.\u001b[0m\n"
     ]
    },
    {
     "data": {
      "application/vnd.jupyter.widget-view+json": {
       "model_id": "cc9ddcb3d972403b928bb7a074eee85c",
       "version_major": 2,
       "version_minor": 0
      },
      "text/plain": [
       "  0%|          | 0/100 [00:00<?, ?it/s]"
      ]
     },
     "metadata": {},
     "output_type": "display_data"
    },
    {
     "name": "stderr",
     "output_type": "stream",
     "text": [
      "\u001b[32m[I 2022-09-19 13:56:55,628]\u001b[0m Trial 258 finished with value: 250.95 and parameters: {'discount_factor': 0.9550866440139189, 'learning_rate': 0.09534647153379636, 'network_shape': 81}. Best is trial 78 with value: 246.68.\u001b[0m\n"
     ]
    },
    {
     "data": {
      "application/vnd.jupyter.widget-view+json": {
       "model_id": "78c9be780b234e4294334272cbaff097",
       "version_major": 2,
       "version_minor": 0
      },
      "text/plain": [
       "  0%|          | 0/100 [00:00<?, ?it/s]"
      ]
     },
     "metadata": {},
     "output_type": "display_data"
    },
    {
     "name": "stderr",
     "output_type": "stream",
     "text": [
      "\u001b[32m[I 2022-09-19 13:57:16,473]\u001b[0m Trial 259 finished with value: 438.49 and parameters: {'discount_factor': 0.9524003938229678, 'learning_rate': 0.09983939078535033, 'network_shape': 85}. Best is trial 78 with value: 246.68.\u001b[0m\n"
     ]
    },
    {
     "data": {
      "application/vnd.jupyter.widget-view+json": {
       "model_id": "ad76887663ea4ae99c619b253c93a547",
       "version_major": 2,
       "version_minor": 0
      },
      "text/plain": [
       "  0%|          | 0/100 [00:00<?, ?it/s]"
      ]
     },
     "metadata": {},
     "output_type": "display_data"
    },
    {
     "name": "stderr",
     "output_type": "stream",
     "text": [
      "\u001b[32m[I 2022-09-19 13:57:37,046]\u001b[0m Trial 260 finished with value: 634.68 and parameters: {'discount_factor': 0.9461667830751829, 'learning_rate': 0.09598137200469746, 'network_shape': 95}. Best is trial 78 with value: 246.68.\u001b[0m\n"
     ]
    },
    {
     "data": {
      "application/vnd.jupyter.widget-view+json": {
       "model_id": "8d2d76a171f443419d69cd62b8c2e1f0",
       "version_major": 2,
       "version_minor": 0
      },
      "text/plain": [
       "  0%|          | 0/100 [00:00<?, ?it/s]"
      ]
     },
     "metadata": {},
     "output_type": "display_data"
    },
    {
     "name": "stderr",
     "output_type": "stream",
     "text": [
      "\u001b[32m[I 2022-09-19 13:57:57,947]\u001b[0m Trial 261 finished with value: 447.96 and parameters: {'discount_factor': 0.9606758208403956, 'learning_rate': 0.06757714754406381, 'network_shape': 128}. Best is trial 78 with value: 246.68.\u001b[0m\n"
     ]
    },
    {
     "data": {
      "application/vnd.jupyter.widget-view+json": {
       "model_id": "3027a56eb1e340818ed8d377935ce82b",
       "version_major": 2,
       "version_minor": 0
      },
      "text/plain": [
       "  0%|          | 0/100 [00:00<?, ?it/s]"
      ]
     },
     "metadata": {},
     "output_type": "display_data"
    },
    {
     "name": "stderr",
     "output_type": "stream",
     "text": [
      "\u001b[32m[I 2022-09-19 13:58:19,991]\u001b[0m Trial 262 finished with value: 435.46 and parameters: {'discount_factor': 0.9542219685342309, 'learning_rate': 0.09788440319506381, 'network_shape': 113}. Best is trial 78 with value: 246.68.\u001b[0m\n"
     ]
    },
    {
     "data": {
      "application/vnd.jupyter.widget-view+json": {
       "model_id": "a9c8524fb6cb4a7496057e5ee525a34e",
       "version_major": 2,
       "version_minor": 0
      },
      "text/plain": [
       "  0%|          | 0/100 [00:00<?, ?it/s]"
      ]
     },
     "metadata": {},
     "output_type": "display_data"
    },
    {
     "name": "stderr",
     "output_type": "stream",
     "text": [
      "\u001b[32m[I 2022-09-19 13:58:41,802]\u001b[0m Trial 263 finished with value: 250.33 and parameters: {'discount_factor': 0.9514187841098082, 'learning_rate': 0.09371769395964004, 'network_shape': 97}. Best is trial 78 with value: 246.68.\u001b[0m\n"
     ]
    },
    {
     "data": {
      "application/vnd.jupyter.widget-view+json": {
       "model_id": "9a01115823ad4cf2890411e8728ceed9",
       "version_major": 2,
       "version_minor": 0
      },
      "text/plain": [
       "  0%|          | 0/100 [00:00<?, ?it/s]"
      ]
     },
     "metadata": {},
     "output_type": "display_data"
    },
    {
     "name": "stderr",
     "output_type": "stream",
     "text": [
      "\u001b[32m[I 2022-09-19 13:59:03,989]\u001b[0m Trial 264 finished with value: 446.15 and parameters: {'discount_factor': 0.9505018209044382, 'learning_rate': 0.09460240064335393, 'network_shape': 96}. Best is trial 78 with value: 246.68.\u001b[0m\n"
     ]
    },
    {
     "data": {
      "application/vnd.jupyter.widget-view+json": {
       "model_id": "0cfa25f578cb4d7eb099656594a1677a",
       "version_major": 2,
       "version_minor": 0
      },
      "text/plain": [
       "  0%|          | 0/100 [00:00<?, ?it/s]"
      ]
     },
     "metadata": {},
     "output_type": "display_data"
    },
    {
     "name": "stderr",
     "output_type": "stream",
     "text": [
      "\u001b[32m[I 2022-09-19 13:59:26,376]\u001b[0m Trial 265 finished with value: 440.32 and parameters: {'discount_factor': 0.9834302094939944, 'learning_rate': 0.0972739945928053, 'network_shape': 98}. Best is trial 78 with value: 246.68.\u001b[0m\n"
     ]
    },
    {
     "data": {
      "application/vnd.jupyter.widget-view+json": {
       "model_id": "c8509b5eb58a4d79972000d76bc03dd8",
       "version_major": 2,
       "version_minor": 0
      },
      "text/plain": [
       "  0%|          | 0/100 [00:00<?, ?it/s]"
      ]
     },
     "metadata": {},
     "output_type": "display_data"
    },
    {
     "name": "stderr",
     "output_type": "stream",
     "text": [
      "\u001b[32m[I 2022-09-19 13:59:47,698]\u001b[0m Trial 266 finished with value: 252.55 and parameters: {'discount_factor': 0.9483483453124348, 'learning_rate': 0.09249558646277187, 'network_shape': 92}. Best is trial 78 with value: 246.68.\u001b[0m\n"
     ]
    },
    {
     "data": {
      "application/vnd.jupyter.widget-view+json": {
       "model_id": "250b5f4cefbc4ce78e5fdbd76a63e472",
       "version_major": 2,
       "version_minor": 0
      },
      "text/plain": [
       "  0%|          | 0/100 [00:00<?, ?it/s]"
      ]
     },
     "metadata": {},
     "output_type": "display_data"
    },
    {
     "name": "stderr",
     "output_type": "stream",
     "text": [
      "\u001b[32m[I 2022-09-19 14:00:11,448]\u001b[0m Trial 267 finished with value: 430.32 and parameters: {'discount_factor': 0.9520925837233553, 'learning_rate': 0.05948998896377657, 'network_shape': 45}. Best is trial 78 with value: 246.68.\u001b[0m\n"
     ]
    },
    {
     "data": {
      "application/vnd.jupyter.widget-view+json": {
       "model_id": "45f2d7b13d4f453dadc5c19b22cd1f24",
       "version_major": 2,
       "version_minor": 0
      },
      "text/plain": [
       "  0%|          | 0/100 [00:00<?, ?it/s]"
      ]
     },
     "metadata": {},
     "output_type": "display_data"
    },
    {
     "name": "stderr",
     "output_type": "stream",
     "text": [
      "\u001b[32m[I 2022-09-19 14:00:32,865]\u001b[0m Trial 268 finished with value: 447.12 and parameters: {'discount_factor': 0.963142967579738, 'learning_rate': 0.09051697803988076, 'network_shape': 102}. Best is trial 78 with value: 246.68.\u001b[0m\n"
     ]
    },
    {
     "data": {
      "application/vnd.jupyter.widget-view+json": {
       "model_id": "b8265f9dd725411b8ded7122ca9c9a81",
       "version_major": 2,
       "version_minor": 0
      },
      "text/plain": [
       "  0%|          | 0/100 [00:00<?, ?it/s]"
      ]
     },
     "metadata": {},
     "output_type": "display_data"
    },
    {
     "name": "stderr",
     "output_type": "stream",
     "text": [
      "\u001b[32m[I 2022-09-19 14:00:53,787]\u001b[0m Trial 269 finished with value: 635.47 and parameters: {'discount_factor': 0.9502801704327146, 'learning_rate': 0.06284225235836143, 'network_shape': 96}. Best is trial 78 with value: 246.68.\u001b[0m\n"
     ]
    },
    {
     "data": {
      "application/vnd.jupyter.widget-view+json": {
       "model_id": "c44667b33ef64d559075c2724cfae799",
       "version_major": 2,
       "version_minor": 0
      },
      "text/plain": [
       "  0%|          | 0/100 [00:00<?, ?it/s]"
      ]
     },
     "metadata": {},
     "output_type": "display_data"
    },
    {
     "name": "stderr",
     "output_type": "stream",
     "text": [
      "\u001b[32m[I 2022-09-19 14:01:13,830]\u001b[0m Trial 270 finished with value: 446.41 and parameters: {'discount_factor': 0.9591413053139725, 'learning_rate': 0.09446271188072553, 'network_shape': 104}. Best is trial 78 with value: 246.68.\u001b[0m\n"
     ]
    },
    {
     "data": {
      "application/vnd.jupyter.widget-view+json": {
       "model_id": "038d6fabcbcd4c0e84e11c4c3527c62a",
       "version_major": 2,
       "version_minor": 0
      },
      "text/plain": [
       "  0%|          | 0/100 [00:00<?, ?it/s]"
      ]
     },
     "metadata": {},
     "output_type": "display_data"
    },
    {
     "name": "stderr",
     "output_type": "stream",
     "text": [
      "\u001b[32m[I 2022-09-19 14:01:34,487]\u001b[0m Trial 271 finished with value: 449.89 and parameters: {'discount_factor': 0.9549379292802272, 'learning_rate': 0.09613150212144071, 'network_shape': 75}. Best is trial 78 with value: 246.68.\u001b[0m\n"
     ]
    },
    {
     "data": {
      "application/vnd.jupyter.widget-view+json": {
       "model_id": "15b2b249214e43f7a0784cb23c77bbca",
       "version_major": 2,
       "version_minor": 0
      },
      "text/plain": [
       "  0%|          | 0/100 [00:00<?, ?it/s]"
      ]
     },
     "metadata": {},
     "output_type": "display_data"
    },
    {
     "name": "stderr",
     "output_type": "stream",
     "text": [
      "\u001b[32m[I 2022-09-19 14:01:55,294]\u001b[0m Trial 272 finished with value: 402.69 and parameters: {'discount_factor': 0.9800559223168934, 'learning_rate': 0.07579752463630468, 'network_shape': 41}. Best is trial 78 with value: 246.68.\u001b[0m\n"
     ]
    },
    {
     "data": {
      "application/vnd.jupyter.widget-view+json": {
       "model_id": "2908c3ae813449f285d5a2c2a9d2ec2f",
       "version_major": 2,
       "version_minor": 0
      },
      "text/plain": [
       "  0%|          | 0/100 [00:00<?, ?it/s]"
      ]
     },
     "metadata": {},
     "output_type": "display_data"
    },
    {
     "name": "stderr",
     "output_type": "stream",
     "text": [
      "\u001b[32m[I 2022-09-19 14:02:16,930]\u001b[0m Trial 273 finished with value: 448.17 and parameters: {'discount_factor': 0.9477838381827589, 'learning_rate': 0.04239203145678517, 'network_shape': 90}. Best is trial 78 with value: 246.68.\u001b[0m\n"
     ]
    },
    {
     "data": {
      "application/vnd.jupyter.widget-view+json": {
       "model_id": "5e99fe1461684c928f83f043cbfecb65",
       "version_major": 2,
       "version_minor": 0
      },
      "text/plain": [
       "  0%|          | 0/100 [00:00<?, ?it/s]"
      ]
     },
     "metadata": {},
     "output_type": "display_data"
    },
    {
     "name": "stderr",
     "output_type": "stream",
     "text": [
      "\u001b[32m[I 2022-09-19 14:02:39,692]\u001b[0m Trial 274 finished with value: 440.21 and parameters: {'discount_factor': 0.9771832053396874, 'learning_rate': 0.09780790808120303, 'network_shape': 48}. Best is trial 78 with value: 246.68.\u001b[0m\n"
     ]
    },
    {
     "data": {
      "application/vnd.jupyter.widget-view+json": {
       "model_id": "7b3358bdb7f446208bc0e59cab998874",
       "version_major": 2,
       "version_minor": 0
      },
      "text/plain": [
       "  0%|          | 0/100 [00:00<?, ?it/s]"
      ]
     },
     "metadata": {},
     "output_type": "display_data"
    },
    {
     "name": "stderr",
     "output_type": "stream",
     "text": [
      "\u001b[32m[I 2022-09-19 14:03:01,558]\u001b[0m Trial 275 finished with value: 633.4 and parameters: {'discount_factor': 0.966192378490547, 'learning_rate': 0.09429915592866553, 'network_shape': 94}. Best is trial 78 with value: 246.68.\u001b[0m\n"
     ]
    },
    {
     "data": {
      "application/vnd.jupyter.widget-view+json": {
       "model_id": "2b295262a896421d8e2c02f7e7e3776d",
       "version_major": 2,
       "version_minor": 0
      },
      "text/plain": [
       "  0%|          | 0/100 [00:00<?, ?it/s]"
      ]
     },
     "metadata": {},
     "output_type": "display_data"
    },
    {
     "name": "stderr",
     "output_type": "stream",
     "text": [
      "\u001b[32m[I 2022-09-19 14:03:23,034]\u001b[0m Trial 276 finished with value: 446.62 and parameters: {'discount_factor': 0.9562554117742337, 'learning_rate': 0.09246727567751611, 'network_shape': 99}. Best is trial 78 with value: 246.68.\u001b[0m\n"
     ]
    },
    {
     "data": {
      "application/vnd.jupyter.widget-view+json": {
       "model_id": "2fc5c17999784544af5cf6c10c5296e7",
       "version_major": 2,
       "version_minor": 0
      },
      "text/plain": [
       "  0%|          | 0/100 [00:00<?, ?it/s]"
      ]
     },
     "metadata": {},
     "output_type": "display_data"
    },
    {
     "name": "stderr",
     "output_type": "stream",
     "text": [
      "\u001b[32m[I 2022-09-19 14:03:43,498]\u001b[0m Trial 277 finished with value: 444.71 and parameters: {'discount_factor': 0.9701103837563071, 'learning_rate': 0.09984326142096042, 'network_shape': 121}. Best is trial 78 with value: 246.68.\u001b[0m\n"
     ]
    },
    {
     "data": {
      "application/vnd.jupyter.widget-view+json": {
       "model_id": "f5cd0c38395141919447cb58ed97715a",
       "version_major": 2,
       "version_minor": 0
      },
      "text/plain": [
       "  0%|          | 0/100 [00:00<?, ?it/s]"
      ]
     },
     "metadata": {},
     "output_type": "display_data"
    },
    {
     "name": "stderr",
     "output_type": "stream",
     "text": [
      "\u001b[32m[I 2022-09-19 14:04:03,936]\u001b[0m Trial 278 finished with value: 444.51 and parameters: {'discount_factor': 0.9515816440898663, 'learning_rate': 0.09738803395545186, 'network_shape': 39}. Best is trial 78 with value: 246.68.\u001b[0m\n"
     ]
    },
    {
     "data": {
      "application/vnd.jupyter.widget-view+json": {
       "model_id": "36169fcda66848c0aeee534cd791e4d5",
       "version_major": 2,
       "version_minor": 0
      },
      "text/plain": [
       "  0%|          | 0/100 [00:00<?, ?it/s]"
      ]
     },
     "metadata": {},
     "output_type": "display_data"
    },
    {
     "name": "stderr",
     "output_type": "stream",
     "text": [
      "\u001b[32m[I 2022-09-19 14:04:25,805]\u001b[0m Trial 279 finished with value: 627.16 and parameters: {'discount_factor': 0.9449160571128976, 'learning_rate': 0.0550860526700233, 'network_shape': 97}. Best is trial 78 with value: 246.68.\u001b[0m\n"
     ]
    },
    {
     "data": {
      "application/vnd.jupyter.widget-view+json": {
       "model_id": "35bbf9f6798d4a9c82be96b1e8bea60f",
       "version_major": 2,
       "version_minor": 0
      },
      "text/plain": [
       "  0%|          | 0/100 [00:00<?, ?it/s]"
      ]
     },
     "metadata": {},
     "output_type": "display_data"
    },
    {
     "name": "stderr",
     "output_type": "stream",
     "text": [
      "\u001b[32m[I 2022-09-19 14:04:46,588]\u001b[0m Trial 280 finished with value: 446.71 and parameters: {'discount_factor': 0.9582485369251725, 'learning_rate': 0.09088363531979501, 'network_shape': 104}. Best is trial 78 with value: 246.68.\u001b[0m\n"
     ]
    },
    {
     "data": {
      "application/vnd.jupyter.widget-view+json": {
       "model_id": "ef7b79ca761b4319a44e24948cef5ee3",
       "version_major": 2,
       "version_minor": 0
      },
      "text/plain": [
       "  0%|          | 0/100 [00:00<?, ?it/s]"
      ]
     },
     "metadata": {},
     "output_type": "display_data"
    },
    {
     "name": "stderr",
     "output_type": "stream",
     "text": [
      "\u001b[32m[I 2022-09-19 14:05:07,566]\u001b[0m Trial 281 finished with value: 437.8 and parameters: {'discount_factor': 0.963362950518397, 'learning_rate': 0.0947106602635647, 'network_shape': 80}. Best is trial 78 with value: 246.68.\u001b[0m\n"
     ]
    },
    {
     "data": {
      "application/vnd.jupyter.widget-view+json": {
       "model_id": "77e755cc65e44397bc85da80378e4955",
       "version_major": 2,
       "version_minor": 0
      },
      "text/plain": [
       "  0%|          | 0/100 [00:00<?, ?it/s]"
      ]
     },
     "metadata": {},
     "output_type": "display_data"
    },
    {
     "name": "stderr",
     "output_type": "stream",
     "text": [
      "\u001b[32m[I 2022-09-19 14:05:29,785]\u001b[0m Trial 282 finished with value: 441.23 and parameters: {'discount_factor': 0.9613021556353314, 'learning_rate': 0.0881845278508557, 'network_shape': 83}. Best is trial 78 with value: 246.68.\u001b[0m\n"
     ]
    },
    {
     "data": {
      "application/vnd.jupyter.widget-view+json": {
       "model_id": "4d9b13a489ec45cbac141097357a6473",
       "version_major": 2,
       "version_minor": 0
      },
      "text/plain": [
       "  0%|          | 0/100 [00:00<?, ?it/s]"
      ]
     },
     "metadata": {},
     "output_type": "display_data"
    },
    {
     "name": "stderr",
     "output_type": "stream",
     "text": [
      "\u001b[32m[I 2022-09-19 14:05:51,670]\u001b[0m Trial 283 finished with value: 438.98 and parameters: {'discount_factor': 0.9537884328665811, 'learning_rate': 0.09979403457681425, 'network_shape': 43}. Best is trial 78 with value: 246.68.\u001b[0m\n"
     ]
    },
    {
     "data": {
      "application/vnd.jupyter.widget-view+json": {
       "model_id": "14128416fa7a43f7977c68aaea2fdbc5",
       "version_major": 2,
       "version_minor": 0
      },
      "text/plain": [
       "  0%|          | 0/100 [00:00<?, ?it/s]"
      ]
     },
     "metadata": {},
     "output_type": "display_data"
    },
    {
     "name": "stderr",
     "output_type": "stream",
     "text": [
      "\u001b[32m[I 2022-09-19 14:06:13,686]\u001b[0m Trial 284 finished with value: 626.0 and parameters: {'discount_factor': 0.9492227102816063, 'learning_rate': 0.05776307801047397, 'network_shape': 118}. Best is trial 78 with value: 246.68.\u001b[0m\n"
     ]
    },
    {
     "data": {
      "application/vnd.jupyter.widget-view+json": {
       "model_id": "d08033209d4a415faf681aa816cc6fbc",
       "version_major": 2,
       "version_minor": 0
      },
      "text/plain": [
       "  0%|          | 0/100 [00:00<?, ?it/s]"
      ]
     },
     "metadata": {},
     "output_type": "display_data"
    },
    {
     "name": "stderr",
     "output_type": "stream",
     "text": [
      "\u001b[32m[I 2022-09-19 14:06:35,978]\u001b[0m Trial 285 finished with value: 446.71 and parameters: {'discount_factor': 0.9677379893054359, 'learning_rate': 0.09230766397191145, 'network_shape': 100}. Best is trial 78 with value: 246.68.\u001b[0m\n"
     ]
    },
    {
     "data": {
      "application/vnd.jupyter.widget-view+json": {
       "model_id": "8935d66324d14d2a873d7e388c4f5d86",
       "version_major": 2,
       "version_minor": 0
      },
      "text/plain": [
       "  0%|          | 0/100 [00:00<?, ?it/s]"
      ]
     },
     "metadata": {},
     "output_type": "display_data"
    },
    {
     "name": "stderr",
     "output_type": "stream",
     "text": [
      "\u001b[32m[I 2022-09-19 14:06:59,502]\u001b[0m Trial 286 finished with value: 628.99 and parameters: {'discount_factor': 0.9652379788979694, 'learning_rate': 0.08953098377233283, 'network_shape': 102}. Best is trial 78 with value: 246.68.\u001b[0m\n"
     ]
    },
    {
     "data": {
      "application/vnd.jupyter.widget-view+json": {
       "model_id": "e1fc54b69f53414aad9baf45c8936c75",
       "version_major": 2,
       "version_minor": 0
      },
      "text/plain": [
       "  0%|          | 0/100 [00:00<?, ?it/s]"
      ]
     },
     "metadata": {},
     "output_type": "display_data"
    },
    {
     "name": "stderr",
     "output_type": "stream",
     "text": [
      "\u001b[32m[I 2022-09-19 14:07:24,003]\u001b[0m Trial 287 finished with value: 261.74 and parameters: {'discount_factor': 0.9510110825421043, 'learning_rate': 0.09715925108934634, 'network_shape': 36}. Best is trial 78 with value: 246.68.\u001b[0m\n"
     ]
    },
    {
     "data": {
      "application/vnd.jupyter.widget-view+json": {
       "model_id": "301b715b41294d239546f26f3d0c4caf",
       "version_major": 2,
       "version_minor": 0
      },
      "text/plain": [
       "  0%|          | 0/100 [00:00<?, ?it/s]"
      ]
     },
     "metadata": {},
     "output_type": "display_data"
    },
    {
     "name": "stderr",
     "output_type": "stream",
     "text": [
      "\u001b[32m[I 2022-09-19 14:07:51,175]\u001b[0m Trial 288 finished with value: 447.97 and parameters: {'discount_factor': 0.947071592089015, 'learning_rate': 0.06436646430520598, 'network_shape': 93}. Best is trial 78 with value: 246.68.\u001b[0m\n"
     ]
    },
    {
     "data": {
      "application/vnd.jupyter.widget-view+json": {
       "model_id": "e9033e779fb043fc918d433a0734c5d8",
       "version_major": 2,
       "version_minor": 0
      },
      "text/plain": [
       "  0%|          | 0/100 [00:00<?, ?it/s]"
      ]
     },
     "metadata": {},
     "output_type": "display_data"
    },
    {
     "name": "stderr",
     "output_type": "stream",
     "text": [
      "\u001b[32m[I 2022-09-19 14:08:16,840]\u001b[0m Trial 289 finished with value: 445.88 and parameters: {'discount_factor': 0.9862905809888277, 'learning_rate': 0.07884733302282133, 'network_shape': 87}. Best is trial 78 with value: 246.68.\u001b[0m\n"
     ]
    },
    {
     "data": {
      "application/vnd.jupyter.widget-view+json": {
       "model_id": "c8fc908c09d647c781e791e42f9e9fac",
       "version_major": 2,
       "version_minor": 0
      },
      "text/plain": [
       "  0%|          | 0/100 [00:00<?, ?it/s]"
      ]
     },
     "metadata": {},
     "output_type": "display_data"
    },
    {
     "name": "stderr",
     "output_type": "stream",
     "text": [
      "\u001b[32m[I 2022-09-19 14:08:42,688]\u001b[0m Trial 290 finished with value: 447.52 and parameters: {'discount_factor': 0.9558498509668847, 'learning_rate': 0.07084335244766815, 'network_shape': 109}. Best is trial 78 with value: 246.68.\u001b[0m\n"
     ]
    },
    {
     "data": {
      "application/vnd.jupyter.widget-view+json": {
       "model_id": "b6006864f707466898eb4920df89eec2",
       "version_major": 2,
       "version_minor": 0
      },
      "text/plain": [
       "  0%|          | 0/100 [00:00<?, ?it/s]"
      ]
     },
     "metadata": {},
     "output_type": "display_data"
    },
    {
     "name": "stderr",
     "output_type": "stream",
     "text": [
      "\u001b[32m[I 2022-09-19 14:09:08,635]\u001b[0m Trial 291 finished with value: 443.36 and parameters: {'discount_factor': 0.9527029313671737, 'learning_rate': 0.039871079998123365, 'network_shape': 95}. Best is trial 78 with value: 246.68.\u001b[0m\n"
     ]
    },
    {
     "data": {
      "application/vnd.jupyter.widget-view+json": {
       "model_id": "fb637c1954db449ea2392ef04d8c79ce",
       "version_major": 2,
       "version_minor": 0
      },
      "text/plain": [
       "  0%|          | 0/100 [00:00<?, ?it/s]"
      ]
     },
     "metadata": {},
     "output_type": "display_data"
    },
    {
     "name": "stderr",
     "output_type": "stream",
     "text": [
      "\u001b[32m[I 2022-09-19 14:09:36,734]\u001b[0m Trial 292 finished with value: 438.9 and parameters: {'discount_factor': 0.963793843293024, 'learning_rate': 0.07722989229390508, 'network_shape': 45}. Best is trial 78 with value: 246.68.\u001b[0m\n"
     ]
    },
    {
     "data": {
      "application/vnd.jupyter.widget-view+json": {
       "model_id": "0ba0ccd3aea2493a905093b2a5fa9fa3",
       "version_major": 2,
       "version_minor": 0
      },
      "text/plain": [
       "  0%|          | 0/100 [00:00<?, ?it/s]"
      ]
     },
     "metadata": {},
     "output_type": "display_data"
    },
    {
     "name": "stderr",
     "output_type": "stream",
     "text": [
      "\u001b[32m[I 2022-09-19 14:10:03,538]\u001b[0m Trial 293 finished with value: 259.54 and parameters: {'discount_factor': 0.9873780991178125, 'learning_rate': 0.07417208865275021, 'network_shape': 51}. Best is trial 78 with value: 246.68.\u001b[0m\n"
     ]
    },
    {
     "data": {
      "application/vnd.jupyter.widget-view+json": {
       "model_id": "87618ed7ab924bcda06c438d621e6adc",
       "version_major": 2,
       "version_minor": 0
      },
      "text/plain": [
       "  0%|          | 0/100 [00:00<?, ?it/s]"
      ]
     },
     "metadata": {},
     "output_type": "display_data"
    },
    {
     "name": "stderr",
     "output_type": "stream",
     "text": [
      "\u001b[32m[I 2022-09-19 14:10:31,312]\u001b[0m Trial 294 finished with value: 437.02 and parameters: {'discount_factor': 0.9852794834198437, 'learning_rate': 0.08035267222321853, 'network_shape': 91}. Best is trial 78 with value: 246.68.\u001b[0m\n"
     ]
    },
    {
     "data": {
      "application/vnd.jupyter.widget-view+json": {
       "model_id": "f0bffc011b264be89a795279ab92888a",
       "version_major": 2,
       "version_minor": 0
      },
      "text/plain": [
       "  0%|          | 0/100 [00:00<?, ?it/s]"
      ]
     },
     "metadata": {},
     "output_type": "display_data"
    },
    {
     "name": "stderr",
     "output_type": "stream",
     "text": [
      "\u001b[32m[I 2022-09-19 14:10:58,973]\u001b[0m Trial 295 finished with value: 251.26 and parameters: {'discount_factor': 0.9601074033509631, 'learning_rate': 0.09107974553355477, 'network_shape': 106}. Best is trial 78 with value: 246.68.\u001b[0m\n"
     ]
    },
    {
     "data": {
      "application/vnd.jupyter.widget-view+json": {
       "model_id": "32792ce7866e425da6bf4257e7032617",
       "version_major": 2,
       "version_minor": 0
      },
      "text/plain": [
       "  0%|          | 0/100 [00:00<?, ?it/s]"
      ]
     },
     "metadata": {},
     "output_type": "display_data"
    },
    {
     "name": "stderr",
     "output_type": "stream",
     "text": [
      "\u001b[32m[I 2022-09-19 14:11:26,601]\u001b[0m Trial 296 finished with value: 635.26 and parameters: {'discount_factor': 0.9738882065154035, 'learning_rate': 0.09385313269444419, 'network_shape': 99}. Best is trial 78 with value: 246.68.\u001b[0m\n"
     ]
    },
    {
     "data": {
      "application/vnd.jupyter.widget-view+json": {
       "model_id": "2fe1b2fc2b6f4b6381ee16d6fb03751a",
       "version_major": 2,
       "version_minor": 0
      },
      "text/plain": [
       "  0%|          | 0/100 [00:00<?, ?it/s]"
      ]
     },
     "metadata": {},
     "output_type": "display_data"
    },
    {
     "name": "stderr",
     "output_type": "stream",
     "text": [
      "\u001b[32m[I 2022-09-19 14:11:53,525]\u001b[0m Trial 297 finished with value: 445.25 and parameters: {'discount_factor': 0.9701774892855898, 'learning_rate': 0.09593586161910889, 'network_shape': 38}. Best is trial 78 with value: 246.68.\u001b[0m\n"
     ]
    },
    {
     "data": {
      "application/vnd.jupyter.widget-view+json": {
       "model_id": "a0ee6a7a3182471b9cd017dbb4f4b159",
       "version_major": 2,
       "version_minor": 0
      },
      "text/plain": [
       "  0%|          | 0/100 [00:00<?, ?it/s]"
      ]
     },
     "metadata": {},
     "output_type": "display_data"
    },
    {
     "name": "stderr",
     "output_type": "stream",
     "text": [
      "\u001b[32m[I 2022-09-19 14:12:20,218]\u001b[0m Trial 298 finished with value: 255.58 and parameters: {'discount_factor': 0.9497874466111939, 'learning_rate': 0.09964129453022333, 'network_shape': 39}. Best is trial 78 with value: 246.68.\u001b[0m\n"
     ]
    },
    {
     "data": {
      "application/vnd.jupyter.widget-view+json": {
       "model_id": "ebb14d4e4dee4f15b178c60283c1c801",
       "version_major": 2,
       "version_minor": 0
      },
      "text/plain": [
       "  0%|          | 0/100 [00:00<?, ?it/s]"
      ]
     },
     "metadata": {},
     "output_type": "display_data"
    },
    {
     "name": "stderr",
     "output_type": "stream",
     "text": [
      "\u001b[32m[I 2022-09-19 14:12:46,625]\u001b[0m Trial 299 finished with value: 253.49 and parameters: {'discount_factor': 0.9832015473934818, 'learning_rate': 0.06770578927590408, 'network_shape': 42}. Best is trial 78 with value: 246.68.\u001b[0m\n"
     ]
    },
    {
     "data": {
      "application/vnd.jupyter.widget-view+json": {
       "model_id": "96b4fd6be88649a9a60896a778813217",
       "version_major": 2,
       "version_minor": 0
      },
      "text/plain": [
       "  0%|          | 0/100 [00:00<?, ?it/s]"
      ]
     },
     "metadata": {},
     "output_type": "display_data"
    },
    {
     "name": "stderr",
     "output_type": "stream",
     "text": [
      "\u001b[32m[I 2022-09-19 14:13:11,564]\u001b[0m Trial 300 finished with value: 439.81 and parameters: {'discount_factor': 0.9530806501351818, 'learning_rate': 0.05979702394100518, 'network_shape': 125}. Best is trial 78 with value: 246.68.\u001b[0m\n"
     ]
    },
    {
     "data": {
      "application/vnd.jupyter.widget-view+json": {
       "model_id": "6e769120159c44be9c50871a2f037eb4",
       "version_major": 2,
       "version_minor": 0
      },
      "text/plain": [
       "  0%|          | 0/100 [00:00<?, ?it/s]"
      ]
     },
     "metadata": {},
     "output_type": "display_data"
    },
    {
     "name": "stderr",
     "output_type": "stream",
     "text": [
      "\u001b[32m[I 2022-09-19 14:13:35,380]\u001b[0m Trial 301 finished with value: 441.03 and parameters: {'discount_factor': 0.9661688182672293, 'learning_rate': 0.05310805323624981, 'network_shape': 77}. Best is trial 78 with value: 246.68.\u001b[0m\n"
     ]
    },
    {
     "data": {
      "application/vnd.jupyter.widget-view+json": {
       "model_id": "01237db0d1c740ac870c1a958acbdd6d",
       "version_major": 2,
       "version_minor": 0
      },
      "text/plain": [
       "  0%|          | 0/100 [00:00<?, ?it/s]"
      ]
     },
     "metadata": {},
     "output_type": "display_data"
    },
    {
     "name": "stderr",
     "output_type": "stream",
     "text": [
      "\u001b[32m[I 2022-09-19 14:13:59,594]\u001b[0m Trial 302 finished with value: 252.38 and parameters: {'discount_factor': 0.9884243311455402, 'learning_rate': 0.044904253283800696, 'network_shape': 95}. Best is trial 78 with value: 246.68.\u001b[0m\n"
     ]
    },
    {
     "data": {
      "application/vnd.jupyter.widget-view+json": {
       "model_id": "34ede57479fe495d927908176da87486",
       "version_major": 2,
       "version_minor": 0
      },
      "text/plain": [
       "  0%|          | 0/100 [00:00<?, ?it/s]"
      ]
     },
     "metadata": {},
     "output_type": "display_data"
    },
    {
     "name": "stderr",
     "output_type": "stream",
     "text": [
      "\u001b[32m[I 2022-09-19 14:14:24,061]\u001b[0m Trial 303 finished with value: 442.39 and parameters: {'discount_factor': 0.9565660139249416, 'learning_rate': 0.08805443786389151, 'network_shape': 102}. Best is trial 78 with value: 246.68.\u001b[0m\n"
     ]
    },
    {
     "data": {
      "application/vnd.jupyter.widget-view+json": {
       "model_id": "2e27b73812704346a201e1357799989f",
       "version_major": 2,
       "version_minor": 0
      },
      "text/plain": [
       "  0%|          | 0/100 [00:00<?, ?it/s]"
      ]
     },
     "metadata": {},
     "output_type": "display_data"
    },
    {
     "name": "stderr",
     "output_type": "stream",
     "text": [
      "\u001b[32m[I 2022-09-19 14:14:49,781]\u001b[0m Trial 304 finished with value: 254.13 and parameters: {'discount_factor': 0.9685752210766282, 'learning_rate': 0.09771490448736317, 'network_shape': 34}. Best is trial 78 with value: 246.68.\u001b[0m\n"
     ]
    },
    {
     "data": {
      "application/vnd.jupyter.widget-view+json": {
       "model_id": "72647f6f0132427e9befca10c89fd2b8",
       "version_major": 2,
       "version_minor": 0
      },
      "text/plain": [
       "  0%|          | 0/100 [00:00<?, ?it/s]"
      ]
     },
     "metadata": {},
     "output_type": "display_data"
    },
    {
     "name": "stderr",
     "output_type": "stream",
     "text": [
      "\u001b[32m[I 2022-09-19 14:15:13,715]\u001b[0m Trial 305 finished with value: 455.67 and parameters: {'discount_factor': 0.9575430762108055, 'learning_rate': 0.09296328247959675, 'network_shape': 98}. Best is trial 78 with value: 246.68.\u001b[0m\n"
     ]
    },
    {
     "data": {
      "application/vnd.jupyter.widget-view+json": {
       "model_id": "4780a3874c984245bcacd5f970362faf",
       "version_major": 2,
       "version_minor": 0
      },
      "text/plain": [
       "  0%|          | 0/100 [00:00<?, ?it/s]"
      ]
     },
     "metadata": {},
     "output_type": "display_data"
    },
    {
     "name": "stderr",
     "output_type": "stream",
     "text": [
      "\u001b[32m[I 2022-09-19 14:15:36,561]\u001b[0m Trial 306 finished with value: 445.0 and parameters: {'discount_factor': 0.9510644114535215, 'learning_rate': 0.09576501883813623, 'network_shape': 35}. Best is trial 78 with value: 246.68.\u001b[0m\n"
     ]
    },
    {
     "data": {
      "application/vnd.jupyter.widget-view+json": {
       "model_id": "e9bd6f66c3fe4ce3b8e3efdd21899bcf",
       "version_major": 2,
       "version_minor": 0
      },
      "text/plain": [
       "  0%|          | 0/100 [00:00<?, ?it/s]"
      ]
     },
     "metadata": {},
     "output_type": "display_data"
    },
    {
     "name": "stderr",
     "output_type": "stream",
     "text": [
      "\u001b[32m[I 2022-09-19 14:16:00,073]\u001b[0m Trial 307 finished with value: 251.85 and parameters: {'discount_factor': 0.9620219272912118, 'learning_rate': 0.0725156743395084, 'network_shape': 47}. Best is trial 78 with value: 246.68.\u001b[0m\n"
     ]
    },
    {
     "data": {
      "application/vnd.jupyter.widget-view+json": {
       "model_id": "6a8631c296a042fabd96845fd123b35b",
       "version_major": 2,
       "version_minor": 0
      },
      "text/plain": [
       "  0%|          | 0/100 [00:00<?, ?it/s]"
      ]
     },
     "metadata": {},
     "output_type": "display_data"
    },
    {
     "name": "stderr",
     "output_type": "stream",
     "text": [
      "\u001b[32m[I 2022-09-19 14:16:23,799]\u001b[0m Trial 308 finished with value: 446.33 and parameters: {'discount_factor': 0.9590559204001695, 'learning_rate': 0.08596884213876813, 'network_shape': 105}. Best is trial 78 with value: 246.68.\u001b[0m\n"
     ]
    },
    {
     "data": {
      "application/vnd.jupyter.widget-view+json": {
       "model_id": "fa152fef3d3f431e83051e042dfe808e",
       "version_major": 2,
       "version_minor": 0
      },
      "text/plain": [
       "  0%|          | 0/100 [00:00<?, ?it/s]"
      ]
     },
     "metadata": {},
     "output_type": "display_data"
    },
    {
     "name": "stderr",
     "output_type": "stream",
     "text": [
      "\u001b[32m[I 2022-09-19 14:16:49,009]\u001b[0m Trial 309 finished with value: 447.25 and parameters: {'discount_factor': 0.9483234778093393, 'learning_rate': 0.09993114736015139, 'network_shape': 37}. Best is trial 78 with value: 246.68.\u001b[0m\n"
     ]
    },
    {
     "data": {
      "application/vnd.jupyter.widget-view+json": {
       "model_id": "e0d673e1b298476cab857f51a87f6d56",
       "version_major": 2,
       "version_minor": 0
      },
      "text/plain": [
       "  0%|          | 0/100 [00:00<?, ?it/s]"
      ]
     },
     "metadata": {},
     "output_type": "display_data"
    },
    {
     "name": "stderr",
     "output_type": "stream",
     "text": [
      "\u001b[32m[I 2022-09-19 14:17:14,124]\u001b[0m Trial 310 finished with value: 250.37 and parameters: {'discount_factor': 0.9847184259273992, 'learning_rate': 0.07765420327915186, 'network_shape': 112}. Best is trial 78 with value: 246.68.\u001b[0m\n"
     ]
    },
    {
     "data": {
      "application/vnd.jupyter.widget-view+json": {
       "model_id": "093c06750c23475ebc66769bf0d5dc1b",
       "version_major": 2,
       "version_minor": 0
      },
      "text/plain": [
       "  0%|          | 0/100 [00:00<?, ?it/s]"
      ]
     },
     "metadata": {},
     "output_type": "display_data"
    },
    {
     "name": "stderr",
     "output_type": "stream",
     "text": [
      "\u001b[32m[I 2022-09-19 14:17:39,344]\u001b[0m Trial 311 finished with value: 447.4 and parameters: {'discount_factor': 0.9670334678564431, 'learning_rate': 0.0817930650776735, 'network_shape': 115}. Best is trial 78 with value: 246.68.\u001b[0m\n"
     ]
    },
    {
     "data": {
      "application/vnd.jupyter.widget-view+json": {
       "model_id": "c058946758574fa4819bccbb63119e23",
       "version_major": 2,
       "version_minor": 0
      },
      "text/plain": [
       "  0%|          | 0/100 [00:00<?, ?it/s]"
      ]
     },
     "metadata": {},
     "output_type": "display_data"
    },
    {
     "name": "stderr",
     "output_type": "stream",
     "text": [
      "\u001b[32m[I 2022-09-19 14:18:04,593]\u001b[0m Trial 312 finished with value: 633.41 and parameters: {'discount_factor': 0.964389589411524, 'learning_rate': 0.07930123899245657, 'network_shape': 111}. Best is trial 78 with value: 246.68.\u001b[0m\n"
     ]
    },
    {
     "data": {
      "application/vnd.jupyter.widget-view+json": {
       "model_id": "a1e4d3bbe3d7439b8b4540a7eb9a1c3f",
       "version_major": 2,
       "version_minor": 0
      },
      "text/plain": [
       "  0%|          | 0/100 [00:00<?, ?it/s]"
      ]
     },
     "metadata": {},
     "output_type": "display_data"
    },
    {
     "name": "stderr",
     "output_type": "stream",
     "text": [
      "\u001b[32m[I 2022-09-19 14:18:30,409]\u001b[0m Trial 313 finished with value: 325.95 and parameters: {'discount_factor': 0.9543073632340505, 'learning_rate': 0.07761865943954836, 'network_shape': 40}. Best is trial 78 with value: 246.68.\u001b[0m\n"
     ]
    },
    {
     "data": {
      "application/vnd.jupyter.widget-view+json": {
       "model_id": "cfbf317f43e8408692f5968864c4d986",
       "version_major": 2,
       "version_minor": 0
      },
      "text/plain": [
       "  0%|          | 0/100 [00:00<?, ?it/s]"
      ]
     },
     "metadata": {},
     "output_type": "display_data"
    },
    {
     "name": "stderr",
     "output_type": "stream",
     "text": [
      "\u001b[32m[I 2022-09-19 14:18:58,236]\u001b[0m Trial 314 finished with value: 632.48 and parameters: {'discount_factor': 0.9710188515657738, 'learning_rate': 0.0977979219007175, 'network_shape': 107}. Best is trial 78 with value: 246.68.\u001b[0m\n"
     ]
    },
    {
     "data": {
      "application/vnd.jupyter.widget-view+json": {
       "model_id": "c8aa54d0a5354495b9c34ed33c761bfb",
       "version_major": 2,
       "version_minor": 0
      },
      "text/plain": [
       "  0%|          | 0/100 [00:00<?, ?it/s]"
      ]
     },
     "metadata": {},
     "output_type": "display_data"
    },
    {
     "name": "stderr",
     "output_type": "stream",
     "text": [
      "\u001b[32m[I 2022-09-19 14:19:24,577]\u001b[0m Trial 315 finished with value: 630.41 and parameters: {'discount_factor': 0.9854793246460358, 'learning_rate': 0.0759839898865788, 'network_shape': 90}. Best is trial 78 with value: 246.68.\u001b[0m\n"
     ]
    },
    {
     "data": {
      "application/vnd.jupyter.widget-view+json": {
       "model_id": "6ff22d9474834984853c5480ede675ce",
       "version_major": 2,
       "version_minor": 0
      },
      "text/plain": [
       "  0%|          | 0/100 [00:00<?, ?it/s]"
      ]
     },
     "metadata": {},
     "output_type": "display_data"
    },
    {
     "name": "stderr",
     "output_type": "stream",
     "text": [
      "\u001b[32m[I 2022-09-19 14:19:49,727]\u001b[0m Trial 316 finished with value: 438.06 and parameters: {'discount_factor': 0.9626451285835522, 'learning_rate': 0.09580840846018322, 'network_shape': 113}. Best is trial 78 with value: 246.68.\u001b[0m\n"
     ]
    },
    {
     "data": {
      "application/vnd.jupyter.widget-view+json": {
       "model_id": "1d4840ac82fb46b0b3e29e5c1fc618ea",
       "version_major": 2,
       "version_minor": 0
      },
      "text/plain": [
       "  0%|          | 0/100 [00:00<?, ?it/s]"
      ]
     },
     "metadata": {},
     "output_type": "display_data"
    },
    {
     "name": "stderr",
     "output_type": "stream",
     "text": [
      "\u001b[32m[I 2022-09-19 14:20:15,376]\u001b[0m Trial 317 finished with value: 636.18 and parameters: {'discount_factor': 0.984384408288845, 'learning_rate': 0.09132812450497768, 'network_shape': 123}. Best is trial 78 with value: 246.68.\u001b[0m\n"
     ]
    },
    {
     "data": {
      "application/vnd.jupyter.widget-view+json": {
       "model_id": "1d55d49a3c064aa1ade367c3ee37b194",
       "version_major": 2,
       "version_minor": 0
      },
      "text/plain": [
       "  0%|          | 0/100 [00:00<?, ?it/s]"
      ]
     },
     "metadata": {},
     "output_type": "display_data"
    },
    {
     "name": "stderr",
     "output_type": "stream",
     "text": [
      "\u001b[32m[I 2022-09-19 14:20:40,272]\u001b[0m Trial 318 finished with value: 250.93 and parameters: {'discount_factor': 0.978677037498508, 'learning_rate': 0.065595534296655, 'network_shape': 97}. Best is trial 78 with value: 246.68.\u001b[0m\n"
     ]
    },
    {
     "data": {
      "application/vnd.jupyter.widget-view+json": {
       "model_id": "1955ab1dc71a4096b993d6d7a3420f17",
       "version_major": 2,
       "version_minor": 0
      },
      "text/plain": [
       "  0%|          | 0/100 [00:00<?, ?it/s]"
      ]
     },
     "metadata": {},
     "output_type": "display_data"
    },
    {
     "name": "stderr",
     "output_type": "stream",
     "text": [
      "\u001b[32m[I 2022-09-19 14:21:06,108]\u001b[0m Trial 319 finished with value: 635.27 and parameters: {'discount_factor': 0.9543279478548726, 'learning_rate': 0.09393366355602398, 'network_shape': 88}. Best is trial 78 with value: 246.68.\u001b[0m\n"
     ]
    },
    {
     "data": {
      "application/vnd.jupyter.widget-view+json": {
       "model_id": "41804018e4204f739c8f65f359b8104b",
       "version_major": 2,
       "version_minor": 0
      },
      "text/plain": [
       "  0%|          | 0/100 [00:00<?, ?it/s]"
      ]
     },
     "metadata": {},
     "output_type": "display_data"
    },
    {
     "name": "stderr",
     "output_type": "stream",
     "text": [
      "\u001b[32m[I 2022-09-19 14:21:33,473]\u001b[0m Trial 320 finished with value: 631.17 and parameters: {'discount_factor': 0.9604415736019158, 'learning_rate': 0.09785019792272072, 'network_shape': 93}. Best is trial 78 with value: 246.68.\u001b[0m\n"
     ]
    },
    {
     "data": {
      "application/vnd.jupyter.widget-view+json": {
       "model_id": "6906964b8ee84acfbe45668cf15557f2",
       "version_major": 2,
       "version_minor": 0
      },
      "text/plain": [
       "  0%|          | 0/100 [00:00<?, ?it/s]"
      ]
     },
     "metadata": {},
     "output_type": "display_data"
    },
    {
     "name": "stderr",
     "output_type": "stream",
     "text": [
      "\u001b[32m[I 2022-09-19 14:21:59,062]\u001b[0m Trial 321 finished with value: 446.59 and parameters: {'discount_factor': 0.9813234334902932, 'learning_rate': 0.08284530386948039, 'network_shape': 109}. Best is trial 78 with value: 246.68.\u001b[0m\n"
     ]
    },
    {
     "data": {
      "application/vnd.jupyter.widget-view+json": {
       "model_id": "9a0264af15d94be5a73a401a0e70080c",
       "version_major": 2,
       "version_minor": 0
      },
      "text/plain": [
       "  0%|          | 0/100 [00:00<?, ?it/s]"
      ]
     },
     "metadata": {},
     "output_type": "display_data"
    },
    {
     "name": "stderr",
     "output_type": "stream",
     "text": [
      "\u001b[32m[I 2022-09-19 14:22:24,680]\u001b[0m Trial 322 finished with value: 253.9 and parameters: {'discount_factor': 0.9454054989836866, 'learning_rate': 0.04257993635521831, 'network_shape': 100}. Best is trial 78 with value: 246.68.\u001b[0m\n"
     ]
    },
    {
     "data": {
      "application/vnd.jupyter.widget-view+json": {
       "model_id": "6229730eedf64df2bfd0c371ab956584",
       "version_major": 2,
       "version_minor": 0
      },
      "text/plain": [
       "  0%|          | 0/100 [00:00<?, ?it/s]"
      ]
     },
     "metadata": {},
     "output_type": "display_data"
    },
    {
     "name": "stderr",
     "output_type": "stream",
     "text": [
      "\u001b[32m[I 2022-09-19 14:22:51,922]\u001b[0m Trial 323 finished with value: 447.87 and parameters: {'discount_factor': 0.965647552727283, 'learning_rate': 0.08102429233367218, 'network_shape': 117}. Best is trial 78 with value: 246.68.\u001b[0m\n"
     ]
    },
    {
     "data": {
      "application/vnd.jupyter.widget-view+json": {
       "model_id": "114f7a3defa24f26b3020cf893530a1e",
       "version_major": 2,
       "version_minor": 0
      },
      "text/plain": [
       "  0%|          | 0/100 [00:00<?, ?it/s]"
      ]
     },
     "metadata": {},
     "output_type": "display_data"
    },
    {
     "name": "stderr",
     "output_type": "stream",
     "text": [
      "\u001b[32m[I 2022-09-19 14:23:17,122]\u001b[0m Trial 324 finished with value: 632.22 and parameters: {'discount_factor': 0.9523235053602505, 'learning_rate': 0.09618828525446556, 'network_shape': 97}. Best is trial 78 with value: 246.68.\u001b[0m\n"
     ]
    },
    {
     "data": {
      "application/vnd.jupyter.widget-view+json": {
       "model_id": "886f97424347402ab278057bac55979a",
       "version_major": 2,
       "version_minor": 0
      },
      "text/plain": [
       "  0%|          | 0/100 [00:00<?, ?it/s]"
      ]
     },
     "metadata": {},
     "output_type": "display_data"
    },
    {
     "name": "stderr",
     "output_type": "stream",
     "text": [
      "\u001b[32m[I 2022-09-19 14:23:41,593]\u001b[0m Trial 325 finished with value: 341.57 and parameters: {'discount_factor': 0.9681390380673918, 'learning_rate': 9.064837251462898e-05, 'network_shape': 103}. Best is trial 78 with value: 246.68.\u001b[0m\n"
     ]
    },
    {
     "data": {
      "application/vnd.jupyter.widget-view+json": {
       "model_id": "777f60d2165c43f49d16230f3fe56d49",
       "version_major": 2,
       "version_minor": 0
      },
      "text/plain": [
       "  0%|          | 0/100 [00:00<?, ?it/s]"
      ]
     },
     "metadata": {},
     "output_type": "display_data"
    },
    {
     "name": "stderr",
     "output_type": "stream",
     "text": [
      "\u001b[32m[I 2022-09-19 14:24:07,150]\u001b[0m Trial 326 finished with value: 634.27 and parameters: {'discount_factor': 0.9880077966313365, 'learning_rate': 0.07468282523942578, 'network_shape': 101}. Best is trial 78 with value: 246.68.\u001b[0m\n"
     ]
    },
    {
     "data": {
      "application/vnd.jupyter.widget-view+json": {
       "model_id": "3e8713bc2f764f04ab2d58f1d63bcd1e",
       "version_major": 2,
       "version_minor": 0
      },
      "text/plain": [
       "  0%|          | 0/100 [00:00<?, ?it/s]"
      ]
     },
     "metadata": {},
     "output_type": "display_data"
    },
    {
     "name": "stderr",
     "output_type": "stream",
     "text": [
      "\u001b[32m[I 2022-09-19 14:24:31,875]\u001b[0m Trial 327 finished with value: 444.19 and parameters: {'discount_factor': 0.9725276034614313, 'learning_rate': 0.07815448967571088, 'network_shape': 107}. Best is trial 78 with value: 246.68.\u001b[0m\n"
     ]
    },
    {
     "data": {
      "application/vnd.jupyter.widget-view+json": {
       "model_id": "08e90e37e7b8422289367a38f2ee63a5",
       "version_major": 2,
       "version_minor": 0
      },
      "text/plain": [
       "  0%|          | 0/100 [00:00<?, ?it/s]"
      ]
     },
     "metadata": {},
     "output_type": "display_data"
    },
    {
     "name": "stderr",
     "output_type": "stream",
     "text": [
      "\u001b[32m[I 2022-09-19 14:24:55,198]\u001b[0m Trial 328 finished with value: 251.93 and parameters: {'discount_factor': 0.9487419452479213, 'learning_rate': 0.06946322175399511, 'network_shape': 43}. Best is trial 78 with value: 246.68.\u001b[0m\n"
     ]
    },
    {
     "data": {
      "application/vnd.jupyter.widget-view+json": {
       "model_id": "80ea3535cec24a4190efdb065d906524",
       "version_major": 2,
       "version_minor": 0
      },
      "text/plain": [
       "  0%|          | 0/100 [00:00<?, ?it/s]"
      ]
     },
     "metadata": {},
     "output_type": "display_data"
    },
    {
     "name": "stderr",
     "output_type": "stream",
     "text": [
      "\u001b[32m[I 2022-09-19 14:25:19,340]\u001b[0m Trial 329 finished with value: 444.21 and parameters: {'discount_factor': 0.9553323327466776, 'learning_rate': 0.09330867873174722, 'network_shape': 92}. Best is trial 78 with value: 246.68.\u001b[0m\n"
     ]
    },
    {
     "data": {
      "application/vnd.jupyter.widget-view+json": {
       "model_id": "2da5d9bf457c4600ab84644c5a8355de",
       "version_major": 2,
       "version_minor": 0
      },
      "text/plain": [
       "  0%|          | 0/100 [00:00<?, ?it/s]"
      ]
     },
     "metadata": {},
     "output_type": "display_data"
    },
    {
     "name": "stderr",
     "output_type": "stream",
     "text": [
      "\u001b[32m[I 2022-09-19 14:25:42,691]\u001b[0m Trial 330 finished with value: 250.17 and parameters: {'discount_factor': 0.964048169178655, 'learning_rate': 0.0980077140538107, 'network_shape': 95}. Best is trial 78 with value: 246.68.\u001b[0m\n"
     ]
    },
    {
     "data": {
      "application/vnd.jupyter.widget-view+json": {
       "model_id": "745136c2b8964c2da55d47e98fbd2a77",
       "version_major": 2,
       "version_minor": 0
      },
      "text/plain": [
       "  0%|          | 0/100 [00:00<?, ?it/s]"
      ]
     },
     "metadata": {},
     "output_type": "display_data"
    },
    {
     "name": "stderr",
     "output_type": "stream",
     "text": [
      "\u001b[32m[I 2022-09-19 14:26:07,213]\u001b[0m Trial 331 finished with value: 253.39 and parameters: {'discount_factor': 0.9648685535292751, 'learning_rate': 0.014147305242463382, 'network_shape': 94}. Best is trial 78 with value: 246.68.\u001b[0m\n"
     ]
    },
    {
     "data": {
      "application/vnd.jupyter.widget-view+json": {
       "model_id": "a3a73c2033154535ae159ca7aaf85985",
       "version_major": 2,
       "version_minor": 0
      },
      "text/plain": [
       "  0%|          | 0/100 [00:00<?, ?it/s]"
      ]
     },
     "metadata": {},
     "output_type": "display_data"
    },
    {
     "name": "stderr",
     "output_type": "stream",
     "text": [
      "\u001b[32m[I 2022-09-19 14:26:33,340]\u001b[0m Trial 332 finished with value: 447.48 and parameters: {'discount_factor': 0.9644359252107455, 'learning_rate': 0.09836218487563729, 'network_shape': 95}. Best is trial 78 with value: 246.68.\u001b[0m\n"
     ]
    },
    {
     "data": {
      "application/vnd.jupyter.widget-view+json": {
       "model_id": "7336aaa0b16d4e15a39c9544288ef2e1",
       "version_major": 2,
       "version_minor": 0
      },
      "text/plain": [
       "  0%|          | 0/100 [00:00<?, ?it/s]"
      ]
     },
     "metadata": {},
     "output_type": "display_data"
    },
    {
     "name": "stderr",
     "output_type": "stream",
     "text": [
      "\u001b[32m[I 2022-09-19 14:26:58,874]\u001b[0m Trial 333 finished with value: 448.17 and parameters: {'discount_factor': 0.9621078424576878, 'learning_rate': 0.09688024747413398, 'network_shape': 120}. Best is trial 78 with value: 246.68.\u001b[0m\n"
     ]
    },
    {
     "data": {
      "application/vnd.jupyter.widget-view+json": {
       "model_id": "265d661211e04ba1a338554955a6b9e4",
       "version_major": 2,
       "version_minor": 0
      },
      "text/plain": [
       "  0%|          | 0/100 [00:00<?, ?it/s]"
      ]
     },
     "metadata": {},
     "output_type": "display_data"
    },
    {
     "name": "stderr",
     "output_type": "stream",
     "text": [
      "\u001b[32m[I 2022-09-19 14:27:23,860]\u001b[0m Trial 334 finished with value: 253.1 and parameters: {'discount_factor': 0.9666896316321448, 'learning_rate': 0.0948925335492775, 'network_shape': 98}. Best is trial 78 with value: 246.68.\u001b[0m\n"
     ]
    },
    {
     "data": {
      "application/vnd.jupyter.widget-view+json": {
       "model_id": "e228949bf118472e93f5c46a51fc2eaa",
       "version_major": 2,
       "version_minor": 0
      },
      "text/plain": [
       "  0%|          | 0/100 [00:00<?, ?it/s]"
      ]
     },
     "metadata": {},
     "output_type": "display_data"
    },
    {
     "name": "stderr",
     "output_type": "stream",
     "text": [
      "\u001b[32m[I 2022-09-19 14:27:50,391]\u001b[0m Trial 335 finished with value: 252.42 and parameters: {'discount_factor': 0.963201744935102, 'learning_rate': 0.09959060558157835, 'network_shape': 40}. Best is trial 78 with value: 246.68.\u001b[0m\n"
     ]
    },
    {
     "data": {
      "application/vnd.jupyter.widget-view+json": {
       "model_id": "25dcdd67c3864f9696e8fe3637779e41",
       "version_major": 2,
       "version_minor": 0
      },
      "text/plain": [
       "  0%|          | 0/100 [00:00<?, ?it/s]"
      ]
     },
     "metadata": {},
     "output_type": "display_data"
    },
    {
     "name": "stderr",
     "output_type": "stream",
     "text": [
      "\u001b[32m[I 2022-09-19 14:28:16,609]\u001b[0m Trial 336 finished with value: 448.64 and parameters: {'discount_factor': 0.9608459932872842, 'learning_rate': 0.09106224537450223, 'network_shape': 85}. Best is trial 78 with value: 246.68.\u001b[0m\n"
     ]
    },
    {
     "data": {
      "application/vnd.jupyter.widget-view+json": {
       "model_id": "c51d9239df6c4022ba70ebf62287abaf",
       "version_major": 2,
       "version_minor": 0
      },
      "text/plain": [
       "  0%|          | 0/100 [00:00<?, ?it/s]"
      ]
     },
     "metadata": {},
     "output_type": "display_data"
    },
    {
     "name": "stderr",
     "output_type": "stream",
     "text": [
      "\u001b[32m[I 2022-09-19 14:28:41,285]\u001b[0m Trial 337 finished with value: 633.25 and parameters: {'discount_factor': 0.9474008356530518, 'learning_rate': 0.09690350553266032, 'network_shape': 89}. Best is trial 78 with value: 246.68.\u001b[0m\n"
     ]
    },
    {
     "data": {
      "application/vnd.jupyter.widget-view+json": {
       "model_id": "2bf01a941a3647e380b58b13ad133e80",
       "version_major": 2,
       "version_minor": 0
      },
      "text/plain": [
       "  0%|          | 0/100 [00:00<?, ?it/s]"
      ]
     },
     "metadata": {},
     "output_type": "display_data"
    },
    {
     "name": "stderr",
     "output_type": "stream",
     "text": [
      "\u001b[32m[I 2022-09-19 14:29:05,543]\u001b[0m Trial 338 finished with value: 633.95 and parameters: {'discount_factor': 0.975635345760607, 'learning_rate': 0.04931435722798065, 'network_shape': 91}. Best is trial 78 with value: 246.68.\u001b[0m\n"
     ]
    },
    {
     "data": {
      "application/vnd.jupyter.widget-view+json": {
       "model_id": "4af8c3705ec146a4bc6a8610edea0288",
       "version_major": 2,
       "version_minor": 0
      },
      "text/plain": [
       "  0%|          | 0/100 [00:00<?, ?it/s]"
      ]
     },
     "metadata": {},
     "output_type": "display_data"
    },
    {
     "name": "stderr",
     "output_type": "stream",
     "text": [
      "\u001b[32m[I 2022-09-19 14:29:32,701]\u001b[0m Trial 339 finished with value: 252.38 and parameters: {'discount_factor': 0.9696541659278527, 'learning_rate': 0.09973804089280322, 'network_shape': 71}. Best is trial 78 with value: 246.68.\u001b[0m\n"
     ]
    },
    {
     "data": {
      "application/vnd.jupyter.widget-view+json": {
       "model_id": "d712dff7bc124d9fa48441bd190f4d49",
       "version_major": 2,
       "version_minor": 0
      },
      "text/plain": [
       "  0%|          | 0/100 [00:00<?, ?it/s]"
      ]
     },
     "metadata": {},
     "output_type": "display_data"
    },
    {
     "name": "stderr",
     "output_type": "stream",
     "text": [
      "\u001b[32m[I 2022-09-19 14:29:57,929]\u001b[0m Trial 340 finished with value: 449.94 and parameters: {'discount_factor': 0.9670294152947578, 'learning_rate': 0.09472223324384628, 'network_shape': 97}. Best is trial 78 with value: 246.68.\u001b[0m\n"
     ]
    },
    {
     "data": {
      "application/vnd.jupyter.widget-view+json": {
       "model_id": "b84f78df618a4c1d999fdff078448c36",
       "version_major": 2,
       "version_minor": 0
      },
      "text/plain": [
       "  0%|          | 0/100 [00:00<?, ?it/s]"
      ]
     },
     "metadata": {},
     "output_type": "display_data"
    },
    {
     "name": "stderr",
     "output_type": "stream",
     "text": [
      "\u001b[32m[I 2022-09-19 14:30:22,452]\u001b[0m Trial 341 finished with value: 446.18 and parameters: {'discount_factor': 0.9641121983333419, 'learning_rate': 0.06170992890981696, 'network_shape': 95}. Best is trial 78 with value: 246.68.\u001b[0m\n"
     ]
    },
    {
     "data": {
      "application/vnd.jupyter.widget-view+json": {
       "model_id": "17375823f8dc43fe8045a9bad7842c4d",
       "version_major": 2,
       "version_minor": 0
      },
      "text/plain": [
       "  0%|          | 0/100 [00:00<?, ?it/s]"
      ]
     },
     "metadata": {},
     "output_type": "display_data"
    },
    {
     "name": "stderr",
     "output_type": "stream",
     "text": [
      "\u001b[32m[I 2022-09-19 14:30:46,897]\u001b[0m Trial 342 finished with value: 440.52 and parameters: {'discount_factor': 0.9591903049987763, 'learning_rate': 0.09291709410482964, 'network_shape': 37}. Best is trial 78 with value: 246.68.\u001b[0m\n"
     ]
    },
    {
     "data": {
      "application/vnd.jupyter.widget-view+json": {
       "model_id": "b5bc13afb61e4ef38127378c2fd97dcd",
       "version_major": 2,
       "version_minor": 0
      },
      "text/plain": [
       "  0%|          | 0/100 [00:00<?, ?it/s]"
      ]
     },
     "metadata": {},
     "output_type": "display_data"
    },
    {
     "name": "stderr",
     "output_type": "stream",
     "text": [
      "\u001b[32m[I 2022-09-19 14:31:12,891]\u001b[0m Trial 343 finished with value: 444.82 and parameters: {'discount_factor': 0.961739179051506, 'learning_rate': 0.09799012252624316, 'network_shape': 93}. Best is trial 78 with value: 246.68.\u001b[0m\n"
     ]
    },
    {
     "data": {
      "application/vnd.jupyter.widget-view+json": {
       "model_id": "54dd0bf2933345efbfd3f9ef84062a2e",
       "version_major": 2,
       "version_minor": 0
      },
      "text/plain": [
       "  0%|          | 0/100 [00:00<?, ?it/s]"
      ]
     },
     "metadata": {},
     "output_type": "display_data"
    },
    {
     "name": "stderr",
     "output_type": "stream",
     "text": [
      "\u001b[32m[I 2022-09-19 14:31:37,146]\u001b[0m Trial 344 finished with value: 632.88 and parameters: {'discount_factor': 0.9499821421949038, 'learning_rate': 0.09576981929156678, 'network_shape': 99}. Best is trial 78 with value: 246.68.\u001b[0m\n"
     ]
    },
    {
     "data": {
      "application/vnd.jupyter.widget-view+json": {
       "model_id": "c5dbebf2230c45b89ed6e7209c11bf57",
       "version_major": 2,
       "version_minor": 0
      },
      "text/plain": [
       "  0%|          | 0/100 [00:00<?, ?it/s]"
      ]
     },
     "metadata": {},
     "output_type": "display_data"
    },
    {
     "name": "stderr",
     "output_type": "stream",
     "text": [
      "\u001b[32m[I 2022-09-19 14:32:01,928]\u001b[0m Trial 345 finished with value: 632.15 and parameters: {'discount_factor': 0.986661992240675, 'learning_rate': 0.04594670420311368, 'network_shape': 57}. Best is trial 78 with value: 246.68.\u001b[0m\n"
     ]
    },
    {
     "data": {
      "application/vnd.jupyter.widget-view+json": {
       "model_id": "8434cbc010824421bcf73bd9c5c6a4db",
       "version_major": 2,
       "version_minor": 0
      },
      "text/plain": [
       "  0%|          | 0/100 [00:00<?, ?it/s]"
      ]
     },
     "metadata": {},
     "output_type": "display_data"
    },
    {
     "name": "stderr",
     "output_type": "stream",
     "text": [
      "\u001b[32m[I 2022-09-19 14:32:26,631]\u001b[0m Trial 346 finished with value: 621.96 and parameters: {'discount_factor': 0.9826347538996151, 'learning_rate': 0.09029925694439625, 'network_shape': 39}. Best is trial 78 with value: 246.68.\u001b[0m\n"
     ]
    },
    {
     "data": {
      "application/vnd.jupyter.widget-view+json": {
       "model_id": "7a619a38fd324cdcbd4fcab1ecd57505",
       "version_major": 2,
       "version_minor": 0
      },
      "text/plain": [
       "  0%|          | 0/100 [00:00<?, ?it/s]"
      ]
     },
     "metadata": {},
     "output_type": "display_data"
    },
    {
     "name": "stderr",
     "output_type": "stream",
     "text": [
      "\u001b[32m[I 2022-09-19 14:32:51,691]\u001b[0m Trial 347 finished with value: 622.73 and parameters: {'discount_factor': 0.9463558814181775, 'learning_rate': 0.08878640373936478, 'network_shape': 50}. Best is trial 78 with value: 246.68.\u001b[0m\n"
     ]
    },
    {
     "data": {
      "application/vnd.jupyter.widget-view+json": {
       "model_id": "170538dea3aa4736960b8ec8613cbba5",
       "version_major": 2,
       "version_minor": 0
      },
      "text/plain": [
       "  0%|          | 0/100 [00:00<?, ?it/s]"
      ]
     },
     "metadata": {},
     "output_type": "display_data"
    },
    {
     "name": "stderr",
     "output_type": "stream",
     "text": [
      "\u001b[32m[I 2022-09-19 14:33:16,234]\u001b[0m Trial 348 finished with value: 297.79 and parameters: {'discount_factor': 0.9658247027776022, 'learning_rate': 0.037970446977105644, 'network_shape': 45}. Best is trial 78 with value: 246.68.\u001b[0m\n"
     ]
    },
    {
     "data": {
      "application/vnd.jupyter.widget-view+json": {
       "model_id": "613854788b9749c88ce7a522de6e55a1",
       "version_major": 2,
       "version_minor": 0
      },
      "text/plain": [
       "  0%|          | 0/100 [00:00<?, ?it/s]"
      ]
     },
     "metadata": {},
     "output_type": "display_data"
    },
    {
     "name": "stderr",
     "output_type": "stream",
     "text": [
      "\u001b[32m[I 2022-09-19 14:33:41,090]\u001b[0m Trial 349 finished with value: 630.35 and parameters: {'discount_factor': 0.9182642339855378, 'learning_rate': 0.09754184966731196, 'network_shape': 83}. Best is trial 78 with value: 246.68.\u001b[0m\n"
     ]
    },
    {
     "data": {
      "application/vnd.jupyter.widget-view+json": {
       "model_id": "efe78797391745fd9475caa9964aa186",
       "version_major": 2,
       "version_minor": 0
      },
      "text/plain": [
       "  0%|          | 0/100 [00:00<?, ?it/s]"
      ]
     },
     "metadata": {},
     "output_type": "display_data"
    },
    {
     "name": "stderr",
     "output_type": "stream",
     "text": [
      "\u001b[32m[I 2022-09-19 14:34:05,962]\u001b[0m Trial 350 finished with value: 445.04 and parameters: {'discount_factor': 0.9521362843390322, 'learning_rate': 0.09351210921725525, 'network_shape': 66}. Best is trial 78 with value: 246.68.\u001b[0m\n"
     ]
    },
    {
     "data": {
      "application/vnd.jupyter.widget-view+json": {
       "model_id": "f1ab4181edee43839dd8a03b68bd81d0",
       "version_major": 2,
       "version_minor": 0
      },
      "text/plain": [
       "  0%|          | 0/100 [00:00<?, ?it/s]"
      ]
     },
     "metadata": {},
     "output_type": "display_data"
    },
    {
     "name": "stderr",
     "output_type": "stream",
     "text": [
      "\u001b[32m[I 2022-09-19 14:34:28,951]\u001b[0m Trial 351 finished with value: 250.54 and parameters: {'discount_factor': 0.9688291246853689, 'learning_rate': 0.09978208520146672, 'network_shape': 54}. Best is trial 78 with value: 246.68.\u001b[0m\n"
     ]
    },
    {
     "data": {
      "application/vnd.jupyter.widget-view+json": {
       "model_id": "e7b7fb39644b4cc399f65e43c1dbbc29",
       "version_major": 2,
       "version_minor": 0
      },
      "text/plain": [
       "  0%|          | 0/100 [00:00<?, ?it/s]"
      ]
     },
     "metadata": {},
     "output_type": "display_data"
    },
    {
     "name": "stderr",
     "output_type": "stream",
     "text": [
      "\u001b[32m[I 2022-09-19 14:34:52,947]\u001b[0m Trial 352 finished with value: 441.41 and parameters: {'discount_factor': 0.9687595425787935, 'learning_rate': 0.09840671243191572, 'network_shape': 56}. Best is trial 78 with value: 246.68.\u001b[0m\n"
     ]
    },
    {
     "data": {
      "application/vnd.jupyter.widget-view+json": {
       "model_id": "e86fdf64897c4f5ab82118a015f56bf1",
       "version_major": 2,
       "version_minor": 0
      },
      "text/plain": [
       "  0%|          | 0/100 [00:00<?, ?it/s]"
      ]
     },
     "metadata": {},
     "output_type": "display_data"
    },
    {
     "name": "stderr",
     "output_type": "stream",
     "text": [
      "\u001b[32m[I 2022-09-19 14:35:15,693]\u001b[0m Trial 353 finished with value: 447.99 and parameters: {'discount_factor': 0.9674589354651609, 'learning_rate': 0.09962837395169341, 'network_shape': 53}. Best is trial 78 with value: 246.68.\u001b[0m\n"
     ]
    },
    {
     "data": {
      "application/vnd.jupyter.widget-view+json": {
       "model_id": "800741c156be4515ae35f9873dd791eb",
       "version_major": 2,
       "version_minor": 0
      },
      "text/plain": [
       "  0%|          | 0/100 [00:00<?, ?it/s]"
      ]
     },
     "metadata": {},
     "output_type": "display_data"
    },
    {
     "name": "stderr",
     "output_type": "stream",
     "text": [
      "\u001b[32m[I 2022-09-19 14:35:39,014]\u001b[0m Trial 354 finished with value: 439.77 and parameters: {'discount_factor': 0.9705482522432196, 'learning_rate': 0.09999027984232056, 'network_shape': 61}. Best is trial 78 with value: 246.68.\u001b[0m\n"
     ]
    },
    {
     "data": {
      "application/vnd.jupyter.widget-view+json": {
       "model_id": "084cfa8bc5aa466c98c6d67254257c8d",
       "version_major": 2,
       "version_minor": 0
      },
      "text/plain": [
       "  0%|          | 0/100 [00:00<?, ?it/s]"
      ]
     },
     "metadata": {},
     "output_type": "display_data"
    },
    {
     "name": "stderr",
     "output_type": "stream",
     "text": [
      "\u001b[32m[I 2022-09-19 14:36:01,920]\u001b[0m Trial 355 finished with value: 253.44 and parameters: {'discount_factor': 0.9679244475470957, 'learning_rate': 0.09574840131541043, 'network_shape': 112}. Best is trial 78 with value: 246.68.\u001b[0m\n"
     ]
    },
    {
     "data": {
      "application/vnd.jupyter.widget-view+json": {
       "model_id": "9121f52a3c8646cda0b5ea37fd16763b",
       "version_major": 2,
       "version_minor": 0
      },
      "text/plain": [
       "  0%|          | 0/100 [00:00<?, ?it/s]"
      ]
     },
     "metadata": {},
     "output_type": "display_data"
    },
    {
     "name": "stderr",
     "output_type": "stream",
     "text": [
      "\u001b[32m[I 2022-09-19 14:36:22,936]\u001b[0m Trial 356 finished with value: 625.0 and parameters: {'discount_factor': 0.9659065016949552, 'learning_rate': 0.09753271671523277, 'network_shape': 48}. Best is trial 78 with value: 246.68.\u001b[0m\n"
     ]
    },
    {
     "data": {
      "application/vnd.jupyter.widget-view+json": {
       "model_id": "0deda93a02c540d188e95e1481b78f4d",
       "version_major": 2,
       "version_minor": 0
      },
      "text/plain": [
       "  0%|          | 0/100 [00:00<?, ?it/s]"
      ]
     },
     "metadata": {},
     "output_type": "display_data"
    },
    {
     "name": "stderr",
     "output_type": "stream",
     "text": [
      "\u001b[32m[I 2022-09-19 14:36:43,501]\u001b[0m Trial 357 finished with value: 250.9 and parameters: {'discount_factor': 0.9894447232213799, 'learning_rate': 0.09230615927569626, 'network_shape': 59}. Best is trial 78 with value: 246.68.\u001b[0m\n"
     ]
    },
    {
     "data": {
      "application/vnd.jupyter.widget-view+json": {
       "model_id": "deb223ed840e4d58abc658af947ec0d1",
       "version_major": 2,
       "version_minor": 0
      },
      "text/plain": [
       "  0%|          | 0/100 [00:00<?, ?it/s]"
      ]
     },
     "metadata": {},
     "output_type": "display_data"
    },
    {
     "name": "stderr",
     "output_type": "stream",
     "text": [
      "\u001b[32m[I 2022-09-19 14:37:04,973]\u001b[0m Trial 358 finished with value: 248.17 and parameters: {'discount_factor': 0.9844294426268302, 'learning_rate': 0.08520030350025148, 'network_shape': 42}. Best is trial 78 with value: 246.68.\u001b[0m\n"
     ]
    },
    {
     "data": {
      "application/vnd.jupyter.widget-view+json": {
       "model_id": "8e3873888f0347b5866f73003629ae0c",
       "version_major": 2,
       "version_minor": 0
      },
      "text/plain": [
       "  0%|          | 0/100 [00:00<?, ?it/s]"
      ]
     },
     "metadata": {},
     "output_type": "display_data"
    },
    {
     "name": "stderr",
     "output_type": "stream",
     "text": [
      "\u001b[32m[I 2022-09-19 14:37:25,677]\u001b[0m Trial 359 finished with value: 265.12 and parameters: {'discount_factor': 0.9843945838609734, 'learning_rate': 0.08442380064591991, 'network_shape': 42}. Best is trial 78 with value: 246.68.\u001b[0m\n"
     ]
    },
    {
     "data": {
      "application/vnd.jupyter.widget-view+json": {
       "model_id": "96b8a1b4285740418c787d4c70618dd1",
       "version_major": 2,
       "version_minor": 0
      },
      "text/plain": [
       "  0%|          | 0/100 [00:00<?, ?it/s]"
      ]
     },
     "metadata": {},
     "output_type": "display_data"
    },
    {
     "name": "stderr",
     "output_type": "stream",
     "text": [
      "\u001b[32m[I 2022-09-19 14:37:47,073]\u001b[0m Trial 360 finished with value: 431.25 and parameters: {'discount_factor': 0.9849573060972998, 'learning_rate': 0.08459241061485898, 'network_shape': 41}. Best is trial 78 with value: 246.68.\u001b[0m\n"
     ]
    },
    {
     "data": {
      "application/vnd.jupyter.widget-view+json": {
       "model_id": "f2d391eaaad3488fb127f5862c76f36c",
       "version_major": 2,
       "version_minor": 0
      },
      "text/plain": [
       "  0%|          | 0/100 [00:00<?, ?it/s]"
      ]
     },
     "metadata": {},
     "output_type": "display_data"
    },
    {
     "name": "stderr",
     "output_type": "stream",
     "text": [
      "\u001b[32m[I 2022-09-19 14:38:07,889]\u001b[0m Trial 361 finished with value: 446.37 and parameters: {'discount_factor': 0.9866066191448815, 'learning_rate': 0.08707556712099265, 'network_shape': 43}. Best is trial 78 with value: 246.68.\u001b[0m\n"
     ]
    },
    {
     "data": {
      "application/vnd.jupyter.widget-view+json": {
       "model_id": "c909425349c84c6d9629328ed3b3dcbd",
       "version_major": 2,
       "version_minor": 0
      },
      "text/plain": [
       "  0%|          | 0/100 [00:00<?, ?it/s]"
      ]
     },
     "metadata": {},
     "output_type": "display_data"
    },
    {
     "name": "stderr",
     "output_type": "stream",
     "text": [
      "\u001b[32m[I 2022-09-19 14:38:27,288]\u001b[0m Trial 362 finished with value: 254.41 and parameters: {'discount_factor': 0.9808920196370412, 'learning_rate': 0.08661617126622104, 'network_shape': 36}. Best is trial 78 with value: 246.68.\u001b[0m\n"
     ]
    },
    {
     "data": {
      "application/vnd.jupyter.widget-view+json": {
       "model_id": "525d621b83e5403bb74741498b4aec4d",
       "version_major": 2,
       "version_minor": 0
      },
      "text/plain": [
       "  0%|          | 0/100 [00:00<?, ?it/s]"
      ]
     },
     "metadata": {},
     "output_type": "display_data"
    },
    {
     "name": "stderr",
     "output_type": "stream",
     "text": [
      "\u001b[32m[I 2022-09-19 14:38:46,841]\u001b[0m Trial 363 finished with value: 447.01 and parameters: {'discount_factor': 0.9838061367785891, 'learning_rate': 0.09617463281760813, 'network_shape': 54}. Best is trial 78 with value: 246.68.\u001b[0m\n"
     ]
    },
    {
     "data": {
      "application/vnd.jupyter.widget-view+json": {
       "model_id": "29033319d38b4797944f86707e82eadc",
       "version_major": 2,
       "version_minor": 0
      },
      "text/plain": [
       "  0%|          | 0/100 [00:00<?, ?it/s]"
      ]
     },
     "metadata": {},
     "output_type": "display_data"
    },
    {
     "name": "stderr",
     "output_type": "stream",
     "text": [
      "\u001b[32m[I 2022-09-19 14:39:10,553]\u001b[0m Trial 364 finished with value: 473.55 and parameters: {'discount_factor': 0.9492604866343068, 'learning_rate': 0.08862332382459816, 'network_shape': 40}. Best is trial 78 with value: 246.68.\u001b[0m\n"
     ]
    },
    {
     "data": {
      "application/vnd.jupyter.widget-view+json": {
       "model_id": "fa70db47966b4d2c88e81dacc436f2f4",
       "version_major": 2,
       "version_minor": 0
      },
      "text/plain": [
       "  0%|          | 0/100 [00:00<?, ?it/s]"
      ]
     },
     "metadata": {},
     "output_type": "display_data"
    },
    {
     "name": "stderr",
     "output_type": "stream",
     "text": [
      "\u001b[32m[I 2022-09-19 14:39:30,964]\u001b[0m Trial 365 finished with value: 436.24 and parameters: {'discount_factor': 0.9828757345805557, 'learning_rate': 0.09053972775710872, 'network_shape': 87}. Best is trial 78 with value: 246.68.\u001b[0m\n"
     ]
    },
    {
     "data": {
      "application/vnd.jupyter.widget-view+json": {
       "model_id": "4d091cf5f59a44a1a4de3a5b641f4391",
       "version_major": 2,
       "version_minor": 0
      },
      "text/plain": [
       "  0%|          | 0/100 [00:00<?, ?it/s]"
      ]
     },
     "metadata": {},
     "output_type": "display_data"
    },
    {
     "name": "stderr",
     "output_type": "stream",
     "text": [
      "\u001b[32m[I 2022-09-19 14:39:50,787]\u001b[0m Trial 366 finished with value: 255.3 and parameters: {'discount_factor': 0.9779207278305821, 'learning_rate': 0.04123696101163795, 'network_shape': 38}. Best is trial 78 with value: 246.68.\u001b[0m\n"
     ]
    },
    {
     "data": {
      "application/vnd.jupyter.widget-view+json": {
       "model_id": "4b5e5013a41c40c7947f17b9fe46e21f",
       "version_major": 2,
       "version_minor": 0
      },
      "text/plain": [
       "  0%|          | 0/100 [00:00<?, ?it/s]"
      ]
     },
     "metadata": {},
     "output_type": "display_data"
    },
    {
     "name": "stderr",
     "output_type": "stream",
     "text": [
      "\u001b[32m[I 2022-09-19 14:40:11,424]\u001b[0m Trial 367 finished with value: 440.6 and parameters: {'discount_factor': 0.9512609513147401, 'learning_rate': 0.0827745011435221, 'network_shape': 44}. Best is trial 78 with value: 246.68.\u001b[0m\n"
     ]
    },
    {
     "data": {
      "application/vnd.jupyter.widget-view+json": {
       "model_id": "3594e3ce5f174ab4b42b0182c805cf0e",
       "version_major": 2,
       "version_minor": 0
      },
      "text/plain": [
       "  0%|          | 0/100 [00:00<?, ?it/s]"
      ]
     },
     "metadata": {},
     "output_type": "display_data"
    },
    {
     "name": "stderr",
     "output_type": "stream",
     "text": [
      "\u001b[32m[I 2022-09-19 14:40:31,771]\u001b[0m Trial 368 finished with value: 252.84 and parameters: {'discount_factor': 0.9859229118763476, 'learning_rate': 0.09389123686483569, 'network_shape': 91}. Best is trial 78 with value: 246.68.\u001b[0m\n"
     ]
    },
    {
     "data": {
      "application/vnd.jupyter.widget-view+json": {
       "model_id": "f03e0bcc4c9244f3bc13ad791ea6e320",
       "version_major": 2,
       "version_minor": 0
      },
      "text/plain": [
       "  0%|          | 0/100 [00:00<?, ?it/s]"
      ]
     },
     "metadata": {},
     "output_type": "display_data"
    },
    {
     "name": "stderr",
     "output_type": "stream",
     "text": [
      "\u001b[32m[I 2022-09-19 14:40:52,176]\u001b[0m Trial 369 finished with value: 438.88 and parameters: {'discount_factor': 0.9878153179325061, 'learning_rate': 0.09800274174417221, 'network_shape': 48}. Best is trial 78 with value: 246.68.\u001b[0m\n"
     ]
    },
    {
     "data": {
      "application/vnd.jupyter.widget-view+json": {
       "model_id": "66d12a88c5ec48b8b6aacfea9b1de763",
       "version_major": 2,
       "version_minor": 0
      },
      "text/plain": [
       "  0%|          | 0/100 [00:00<?, ?it/s]"
      ]
     },
     "metadata": {},
     "output_type": "display_data"
    },
    {
     "name": "stderr",
     "output_type": "stream",
     "text": [
      "\u001b[32m[I 2022-09-19 14:41:13,265]\u001b[0m Trial 370 finished with value: 250.5 and parameters: {'discount_factor': 0.9718890167297832, 'learning_rate': 0.09832253630164735, 'network_shape': 50}. Best is trial 78 with value: 246.68.\u001b[0m\n"
     ]
    },
    {
     "data": {
      "application/vnd.jupyter.widget-view+json": {
       "model_id": "0f10409eee834affbbd16e598113a75c",
       "version_major": 2,
       "version_minor": 0
      },
      "text/plain": [
       "  0%|          | 0/100 [00:00<?, ?it/s]"
      ]
     },
     "metadata": {},
     "output_type": "display_data"
    },
    {
     "name": "stderr",
     "output_type": "stream",
     "text": [
      "\u001b[32m[I 2022-09-19 14:41:32,942]\u001b[0m Trial 371 finished with value: 446.75 and parameters: {'discount_factor': 0.9737172677012965, 'learning_rate': 0.09630794709344372, 'network_shape': 115}. Best is trial 78 with value: 246.68.\u001b[0m\n"
     ]
    },
    {
     "data": {
      "application/vnd.jupyter.widget-view+json": {
       "model_id": "555e590b0b3b4c2b9a6d78d307039d3e",
       "version_major": 2,
       "version_minor": 0
      },
      "text/plain": [
       "  0%|          | 0/100 [00:00<?, ?it/s]"
      ]
     },
     "metadata": {},
     "output_type": "display_data"
    },
    {
     "name": "stderr",
     "output_type": "stream",
     "text": [
      "\u001b[32m[I 2022-09-19 14:41:52,876]\u001b[0m Trial 372 finished with value: 443.14 and parameters: {'discount_factor': 0.9806078274301782, 'learning_rate': 0.05515399286950795, 'network_shape': 46}. Best is trial 78 with value: 246.68.\u001b[0m\n"
     ]
    },
    {
     "data": {
      "application/vnd.jupyter.widget-view+json": {
       "model_id": "057ce031f79b4ea9893c814911beeacf",
       "version_major": 2,
       "version_minor": 0
      },
      "text/plain": [
       "  0%|          | 0/100 [00:00<?, ?it/s]"
      ]
     },
     "metadata": {},
     "output_type": "display_data"
    },
    {
     "name": "stderr",
     "output_type": "stream",
     "text": [
      "\u001b[32m[I 2022-09-19 14:42:13,204]\u001b[0m Trial 373 finished with value: 441.52 and parameters: {'discount_factor': 0.9719701122377322, 'learning_rate': 0.04725678663821562, 'network_shape': 50}. Best is trial 78 with value: 246.68.\u001b[0m\n"
     ]
    },
    {
     "data": {
      "application/vnd.jupyter.widget-view+json": {
       "model_id": "a4c2d1637791472a875b3cada9a2d871",
       "version_major": 2,
       "version_minor": 0
      },
      "text/plain": [
       "  0%|          | 0/100 [00:00<?, ?it/s]"
      ]
     },
     "metadata": {},
     "output_type": "display_data"
    },
    {
     "name": "stderr",
     "output_type": "stream",
     "text": [
      "\u001b[32m[I 2022-09-19 14:42:33,118]\u001b[0m Trial 374 finished with value: 449.45 and parameters: {'discount_factor': 0.9476144872642678, 'learning_rate': 0.08555282077725909, 'network_shape': 41}. Best is trial 78 with value: 246.68.\u001b[0m\n"
     ]
    },
    {
     "data": {
      "application/vnd.jupyter.widget-view+json": {
       "model_id": "64bb69007f49446c88dd0cdb76bfca98",
       "version_major": 2,
       "version_minor": 0
      },
      "text/plain": [
       "  0%|          | 0/100 [00:00<?, ?it/s]"
      ]
     },
     "metadata": {},
     "output_type": "display_data"
    },
    {
     "name": "stderr",
     "output_type": "stream",
     "text": [
      "\u001b[32m[I 2022-09-19 14:42:52,827]\u001b[0m Trial 375 finished with value: 447.71 and parameters: {'discount_factor': 0.9761531950556329, 'learning_rate': 0.05177224122459849, 'network_shape': 46}. Best is trial 78 with value: 246.68.\u001b[0m\n"
     ]
    },
    {
     "data": {
      "application/vnd.jupyter.widget-view+json": {
       "model_id": "48c6d9340274493095e3adda1bf0aa83",
       "version_major": 2,
       "version_minor": 0
      },
      "text/plain": [
       "  0%|          | 0/100 [00:00<?, ?it/s]"
      ]
     },
     "metadata": {},
     "output_type": "display_data"
    },
    {
     "name": "stderr",
     "output_type": "stream",
     "text": [
      "\u001b[32m[I 2022-09-19 14:43:12,846]\u001b[0m Trial 376 finished with value: 251.91 and parameters: {'discount_factor': 0.9506062866450894, 'learning_rate': 0.09474747729974337, 'network_shape': 52}. Best is trial 78 with value: 246.68.\u001b[0m\n"
     ]
    },
    {
     "data": {
      "application/vnd.jupyter.widget-view+json": {
       "model_id": "52b9e3298b0d43039856b776ebe94096",
       "version_major": 2,
       "version_minor": 0
      },
      "text/plain": [
       "  0%|          | 0/100 [00:00<?, ?it/s]"
      ]
     },
     "metadata": {},
     "output_type": "display_data"
    },
    {
     "name": "stderr",
     "output_type": "stream",
     "text": [
      "\u001b[32m[I 2022-09-19 14:43:33,927]\u001b[0m Trial 377 finished with value: 446.8 and parameters: {'discount_factor': 0.9428997669719577, 'learning_rate': 0.09699323225444535, 'network_shape': 35}. Best is trial 78 with value: 246.68.\u001b[0m\n"
     ]
    },
    {
     "data": {
      "application/vnd.jupyter.widget-view+json": {
       "model_id": "9f7b1026087e4deaa234c18b137d157b",
       "version_major": 2,
       "version_minor": 0
      },
      "text/plain": [
       "  0%|          | 0/100 [00:00<?, ?it/s]"
      ]
     },
     "metadata": {},
     "output_type": "display_data"
    },
    {
     "name": "stderr",
     "output_type": "stream",
     "text": [
      "\u001b[32m[I 2022-09-19 14:43:55,285]\u001b[0m Trial 378 finished with value: 635.41 and parameters: {'discount_factor': 0.9490284391429563, 'learning_rate': 0.09998550939657197, 'network_shape': 108}. Best is trial 78 with value: 246.68.\u001b[0m\n"
     ]
    },
    {
     "data": {
      "application/vnd.jupyter.widget-view+json": {
       "model_id": "3b4496d81eae43e7b227c96cde820597",
       "version_major": 2,
       "version_minor": 0
      },
      "text/plain": [
       "  0%|          | 0/100 [00:00<?, ?it/s]"
      ]
     },
     "metadata": {},
     "output_type": "display_data"
    },
    {
     "name": "stderr",
     "output_type": "stream",
     "text": [
      "\u001b[32m[I 2022-09-19 14:44:16,558]\u001b[0m Trial 379 finished with value: 446.15 and parameters: {'discount_factor': 0.953281642519701, 'learning_rate': 0.09459459121072958, 'network_shape': 74}. Best is trial 78 with value: 246.68.\u001b[0m\n"
     ]
    },
    {
     "data": {
      "application/vnd.jupyter.widget-view+json": {
       "model_id": "73e960210b934f4abc205ce06b0a495e",
       "version_major": 2,
       "version_minor": 0
      },
      "text/plain": [
       "  0%|          | 0/100 [00:00<?, ?it/s]"
      ]
     },
     "metadata": {},
     "output_type": "display_data"
    },
    {
     "name": "stderr",
     "output_type": "stream",
     "text": [
      "\u001b[32m[I 2022-09-19 14:44:38,047]\u001b[0m Trial 380 finished with value: 439.16 and parameters: {'discount_factor': 0.9530326725840793, 'learning_rate': 0.09803575461186753, 'network_shape': 33}. Best is trial 78 with value: 246.68.\u001b[0m\n"
     ]
    },
    {
     "data": {
      "application/vnd.jupyter.widget-view+json": {
       "model_id": "7401661526cc48808ba7deb86aeb0eac",
       "version_major": 2,
       "version_minor": 0
      },
      "text/plain": [
       "  0%|          | 0/100 [00:00<?, ?it/s]"
      ]
     },
     "metadata": {},
     "output_type": "display_data"
    },
    {
     "name": "stderr",
     "output_type": "stream",
     "text": [
      "\u001b[32m[I 2022-09-19 14:44:59,695]\u001b[0m Trial 381 finished with value: 254.92 and parameters: {'discount_factor': 0.9564610726617118, 'learning_rate': 0.09173698716155224, 'network_shape': 79}. Best is trial 78 with value: 246.68.\u001b[0m\n"
     ]
    },
    {
     "data": {
      "application/vnd.jupyter.widget-view+json": {
       "model_id": "8f40908daeb14219b169908467ee800f",
       "version_major": 2,
       "version_minor": 0
      },
      "text/plain": [
       "  0%|          | 0/100 [00:00<?, ?it/s]"
      ]
     },
     "metadata": {},
     "output_type": "display_data"
    },
    {
     "name": "stderr",
     "output_type": "stream",
     "text": [
      "\u001b[32m[I 2022-09-19 14:45:21,394]\u001b[0m Trial 382 finished with value: 432.12 and parameters: {'discount_factor': 0.9452911794314268, 'learning_rate': 0.06119230816581713, 'network_shape': 44}. Best is trial 78 with value: 246.68.\u001b[0m\n"
     ]
    },
    {
     "data": {
      "application/vnd.jupyter.widget-view+json": {
       "model_id": "47be90c0c5734062a259aec62d1a22a8",
       "version_major": 2,
       "version_minor": 0
      },
      "text/plain": [
       "  0%|          | 0/100 [00:00<?, ?it/s]"
      ]
     },
     "metadata": {},
     "output_type": "display_data"
    },
    {
     "name": "stderr",
     "output_type": "stream",
     "text": [
      "\u001b[32m[I 2022-09-19 14:45:42,275]\u001b[0m Trial 383 finished with value: 250.39 and parameters: {'discount_factor': 0.9827880779751218, 'learning_rate': 0.057814247846986175, 'network_shape': 110}. Best is trial 78 with value: 246.68.\u001b[0m\n"
     ]
    },
    {
     "data": {
      "application/vnd.jupyter.widget-view+json": {
       "model_id": "4a0586f79efa4b8994d338239215bd06",
       "version_major": 2,
       "version_minor": 0
      },
      "text/plain": [
       "  0%|          | 0/100 [00:00<?, ?it/s]"
      ]
     },
     "metadata": {},
     "output_type": "display_data"
    },
    {
     "name": "stderr",
     "output_type": "stream",
     "text": [
      "\u001b[32m[I 2022-09-19 14:46:03,067]\u001b[0m Trial 384 finished with value: 445.87 and parameters: {'discount_factor': 0.9842040471267294, 'learning_rate': 0.05901906044528597, 'network_shape': 110}. Best is trial 78 with value: 246.68.\u001b[0m\n"
     ]
    },
    {
     "data": {
      "application/vnd.jupyter.widget-view+json": {
       "model_id": "5696e7752ea6451296e596b6ac6245e0",
       "version_major": 2,
       "version_minor": 0
      },
      "text/plain": [
       "  0%|          | 0/100 [00:00<?, ?it/s]"
      ]
     },
     "metadata": {},
     "output_type": "display_data"
    },
    {
     "name": "stderr",
     "output_type": "stream",
     "text": [
      "\u001b[32m[I 2022-09-19 14:46:24,232]\u001b[0m Trial 385 finished with value: 255.55 and parameters: {'discount_factor': 0.9817520070811652, 'learning_rate': 0.06340514023436579, 'network_shape': 111}. Best is trial 78 with value: 246.68.\u001b[0m\n"
     ]
    },
    {
     "data": {
      "application/vnd.jupyter.widget-view+json": {
       "model_id": "a2b9f1fd479c4f5eb3bd51002629b0b6",
       "version_major": 2,
       "version_minor": 0
      },
      "text/plain": [
       "  0%|          | 0/100 [00:00<?, ?it/s]"
      ]
     },
     "metadata": {},
     "output_type": "display_data"
    },
    {
     "name": "stderr",
     "output_type": "stream",
     "text": [
      "\u001b[32m[I 2022-09-19 14:46:45,030]\u001b[0m Trial 386 finished with value: 635.05 and parameters: {'discount_factor': 0.9853699860800658, 'learning_rate': 0.0563271200541053, 'network_shape': 109}. Best is trial 78 with value: 246.68.\u001b[0m\n"
     ]
    },
    {
     "data": {
      "application/vnd.jupyter.widget-view+json": {
       "model_id": "6d6a69f1fb21420db960d52e84522790",
       "version_major": 2,
       "version_minor": 0
      },
      "text/plain": [
       "  0%|          | 0/100 [00:00<?, ?it/s]"
      ]
     },
     "metadata": {},
     "output_type": "display_data"
    },
    {
     "name": "stderr",
     "output_type": "stream",
     "text": [
      "\u001b[32m[I 2022-09-19 14:47:05,518]\u001b[0m Trial 387 finished with value: 444.69 and parameters: {'discount_factor': 0.987909115256966, 'learning_rate': 0.059142943276775134, 'network_shape': 112}. Best is trial 78 with value: 246.68.\u001b[0m\n"
     ]
    },
    {
     "data": {
      "application/vnd.jupyter.widget-view+json": {
       "model_id": "3e31cec2dc9b4869a5dec919bcf62236",
       "version_major": 2,
       "version_minor": 0
      },
      "text/plain": [
       "  0%|          | 0/100 [00:00<?, ?it/s]"
      ]
     },
     "metadata": {},
     "output_type": "display_data"
    },
    {
     "name": "stderr",
     "output_type": "stream",
     "text": [
      "\u001b[32m[I 2022-09-19 14:47:26,372]\u001b[0m Trial 388 finished with value: 440.67 and parameters: {'discount_factor': 0.9788956001373571, 'learning_rate': 0.057197716967541494, 'network_shape': 106}. Best is trial 78 with value: 246.68.\u001b[0m\n"
     ]
    },
    {
     "data": {
      "application/vnd.jupyter.widget-view+json": {
       "model_id": "17411c489fe24a239ea6736b37f9d9ee",
       "version_major": 2,
       "version_minor": 0
      },
      "text/plain": [
       "  0%|          | 0/100 [00:00<?, ?it/s]"
      ]
     },
     "metadata": {},
     "output_type": "display_data"
    },
    {
     "name": "stderr",
     "output_type": "stream",
     "text": [
      "\u001b[32m[I 2022-09-19 14:47:47,287]\u001b[0m Trial 389 finished with value: 250.27 and parameters: {'discount_factor': 0.9748468954359675, 'learning_rate': 0.05362101322331878, 'network_shape': 114}. Best is trial 78 with value: 246.68.\u001b[0m\n"
     ]
    },
    {
     "data": {
      "application/vnd.jupyter.widget-view+json": {
       "model_id": "8804aa1b7c974f08b70ad7c89ff25304",
       "version_major": 2,
       "version_minor": 0
      },
      "text/plain": [
       "  0%|          | 0/100 [00:00<?, ?it/s]"
      ]
     },
     "metadata": {},
     "output_type": "display_data"
    },
    {
     "name": "stderr",
     "output_type": "stream",
     "text": [
      "\u001b[32m[I 2022-09-19 14:48:08,172]\u001b[0m Trial 390 finished with value: 444.98 and parameters: {'discount_factor': 0.9735477135956033, 'learning_rate': 0.054179331845852545, 'network_shape': 116}. Best is trial 78 with value: 246.68.\u001b[0m\n"
     ]
    },
    {
     "data": {
      "application/vnd.jupyter.widget-view+json": {
       "model_id": "da26b3de7e1348c99d6eaee7ec5c8789",
       "version_major": 2,
       "version_minor": 0
      },
      "text/plain": [
       "  0%|          | 0/100 [00:00<?, ?it/s]"
      ]
     },
     "metadata": {},
     "output_type": "display_data"
    },
    {
     "name": "stderr",
     "output_type": "stream",
     "text": [
      "\u001b[32m[I 2022-09-19 14:48:29,042]\u001b[0m Trial 391 finished with value: 250.97 and parameters: {'discount_factor': 0.9754489865109497, 'learning_rate': 0.0529786823885079, 'network_shape': 118}. Best is trial 78 with value: 246.68.\u001b[0m\n"
     ]
    },
    {
     "data": {
      "application/vnd.jupyter.widget-view+json": {
       "model_id": "d7d372b2098f4e8388384914c353f778",
       "version_major": 2,
       "version_minor": 0
      },
      "text/plain": [
       "  0%|          | 0/100 [00:00<?, ?it/s]"
      ]
     },
     "metadata": {},
     "output_type": "display_data"
    },
    {
     "name": "stderr",
     "output_type": "stream",
     "text": [
      "\u001b[32m[I 2022-09-19 14:48:51,233]\u001b[0m Trial 392 finished with value: 446.82 and parameters: {'discount_factor': 0.9743902310861875, 'learning_rate': 0.05065305495165659, 'network_shape': 115}. Best is trial 78 with value: 246.68.\u001b[0m\n"
     ]
    },
    {
     "data": {
      "application/vnd.jupyter.widget-view+json": {
       "model_id": "ea7223be44d0499691f7b43a1fa2ff41",
       "version_major": 2,
       "version_minor": 0
      },
      "text/plain": [
       "  0%|          | 0/100 [00:00<?, ?it/s]"
      ]
     },
     "metadata": {},
     "output_type": "display_data"
    },
    {
     "name": "stderr",
     "output_type": "stream",
     "text": [
      "\u001b[32m[I 2022-09-19 14:49:13,912]\u001b[0m Trial 393 finished with value: 441.26 and parameters: {'discount_factor': 0.9722484878660655, 'learning_rate': 0.05772472729526277, 'network_shape': 112}. Best is trial 78 with value: 246.68.\u001b[0m\n"
     ]
    },
    {
     "data": {
      "application/vnd.jupyter.widget-view+json": {
       "model_id": "55941689f17c4505abdd934ed6098122",
       "version_major": 2,
       "version_minor": 0
      },
      "text/plain": [
       "  0%|          | 0/100 [00:00<?, ?it/s]"
      ]
     },
     "metadata": {},
     "output_type": "display_data"
    },
    {
     "name": "stderr",
     "output_type": "stream",
     "text": [
      "\u001b[32m[I 2022-09-19 14:49:36,464]\u001b[0m Trial 394 finished with value: 439.96 and parameters: {'discount_factor': 0.9710013444252605, 'learning_rate': 0.06056803917989903, 'network_shape': 109}. Best is trial 78 with value: 246.68.\u001b[0m\n"
     ]
    },
    {
     "data": {
      "application/vnd.jupyter.widget-view+json": {
       "model_id": "7d174293c03b418abd16eb91a59225c3",
       "version_major": 2,
       "version_minor": 0
      },
      "text/plain": [
       "  0%|          | 0/100 [00:00<?, ?it/s]"
      ]
     },
     "metadata": {},
     "output_type": "display_data"
    },
    {
     "name": "stderr",
     "output_type": "stream",
     "text": [
      "\u001b[32m[I 2022-09-19 14:49:57,467]\u001b[0m Trial 395 finished with value: 447.8 and parameters: {'discount_factor': 0.9820555134842873, 'learning_rate': 0.05489403425604722, 'network_shape': 37}. Best is trial 78 with value: 246.68.\u001b[0m\n"
     ]
    },
    {
     "data": {
      "application/vnd.jupyter.widget-view+json": {
       "model_id": "e7e29e34a48f408d8fa52e1caeed94ca",
       "version_major": 2,
       "version_minor": 0
      },
      "text/plain": [
       "  0%|          | 0/100 [00:00<?, ?it/s]"
      ]
     },
     "metadata": {},
     "output_type": "display_data"
    },
    {
     "name": "stderr",
     "output_type": "stream",
     "text": [
      "\u001b[32m[I 2022-09-19 14:50:17,879]\u001b[0m Trial 396 finished with value: 629.39 and parameters: {'discount_factor': 0.9639719141090402, 'learning_rate': 0.057067491272944824, 'network_shape': 113}. Best is trial 78 with value: 246.68.\u001b[0m\n"
     ]
    },
    {
     "data": {
      "application/vnd.jupyter.widget-view+json": {
       "model_id": "535dd0748bd147f398b586f7e6c5a73a",
       "version_major": 2,
       "version_minor": 0
      },
      "text/plain": [
       "  0%|          | 0/100 [00:00<?, ?it/s]"
      ]
     },
     "metadata": {},
     "output_type": "display_data"
    },
    {
     "name": "stderr",
     "output_type": "stream",
     "text": [
      "\u001b[32m[I 2022-09-19 14:50:37,512]\u001b[0m Trial 397 finished with value: 629.33 and parameters: {'discount_factor': 0.9585776117111604, 'learning_rate': 0.052873415597374435, 'network_shape': 114}. Best is trial 78 with value: 246.68.\u001b[0m\n"
     ]
    },
    {
     "data": {
      "application/vnd.jupyter.widget-view+json": {
       "model_id": "ffe393d47cf144a8a889daecb925694b",
       "version_major": 2,
       "version_minor": 0
      },
      "text/plain": [
       "  0%|          | 0/100 [00:00<?, ?it/s]"
      ]
     },
     "metadata": {},
     "output_type": "display_data"
    },
    {
     "name": "stderr",
     "output_type": "stream",
     "text": [
      "\u001b[32m[I 2022-09-19 14:50:57,482]\u001b[0m Trial 398 finished with value: 446.44 and parameters: {'discount_factor': 0.9775780425887061, 'learning_rate': 0.08369779948309088, 'network_shape': 106}. Best is trial 78 with value: 246.68.\u001b[0m\n"
     ]
    },
    {
     "data": {
      "application/vnd.jupyter.widget-view+json": {
       "model_id": "a2a3d99b2e074804ab7250d0f991da9c",
       "version_major": 2,
       "version_minor": 0
      },
      "text/plain": [
       "  0%|          | 0/100 [00:00<?, ?it/s]"
      ]
     },
     "metadata": {},
     "output_type": "display_data"
    },
    {
     "name": "stderr",
     "output_type": "stream",
     "text": [
      "\u001b[32m[I 2022-09-19 14:51:18,563]\u001b[0m Trial 399 finished with value: 437.67 and parameters: {'discount_factor': 0.9799674713080082, 'learning_rate': 0.05464395477507004, 'network_shape': 127}. Best is trial 78 with value: 246.68.\u001b[0m\n"
     ]
    },
    {
     "data": {
      "application/vnd.jupyter.widget-view+json": {
       "model_id": "64637225b93d46e282ed90449c30bc72",
       "version_major": 2,
       "version_minor": 0
      },
      "text/plain": [
       "  0%|          | 0/100 [00:00<?, ?it/s]"
      ]
     },
     "metadata": {},
     "output_type": "display_data"
    },
    {
     "name": "stderr",
     "output_type": "stream",
     "text": [
      "\u001b[32m[I 2022-09-19 14:51:38,221]\u001b[0m Trial 400 finished with value: 250.6 and parameters: {'discount_factor': 0.9701782664316504, 'learning_rate': 0.05521330342831504, 'network_shape': 120}. Best is trial 78 with value: 246.68.\u001b[0m\n"
     ]
    },
    {
     "data": {
      "application/vnd.jupyter.widget-view+json": {
       "model_id": "f452faeb2dda4e29b2c8698fd1ae30ff",
       "version_major": 2,
       "version_minor": 0
      },
      "text/plain": [
       "  0%|          | 0/100 [00:00<?, ?it/s]"
      ]
     },
     "metadata": {},
     "output_type": "display_data"
    },
    {
     "name": "stderr",
     "output_type": "stream",
     "text": [
      "\u001b[32m[I 2022-09-19 14:51:57,998]\u001b[0m Trial 401 finished with value: 319.09 and parameters: {'discount_factor': 0.9755280096348632, 'learning_rate': 0.04347585355443862, 'network_shape': 42}. Best is trial 78 with value: 246.68.\u001b[0m\n"
     ]
    },
    {
     "data": {
      "application/vnd.jupyter.widget-view+json": {
       "model_id": "a6e5ab8bbc514e0d99318b8cd0fc12ec",
       "version_major": 2,
       "version_minor": 0
      },
      "text/plain": [
       "  0%|          | 0/100 [00:00<?, ?it/s]"
      ]
     },
     "metadata": {},
     "output_type": "display_data"
    },
    {
     "name": "stderr",
     "output_type": "stream",
     "text": [
      "\u001b[32m[I 2022-09-19 14:52:18,364]\u001b[0m Trial 402 finished with value: 437.82 and parameters: {'discount_factor': 0.972030875256195, 'learning_rate': 0.05832622593205734, 'network_shape': 50}. Best is trial 78 with value: 246.68.\u001b[0m\n"
     ]
    },
    {
     "data": {
      "application/vnd.jupyter.widget-view+json": {
       "model_id": "5aa0df268e6b4707b559a8e0fa253687",
       "version_major": 2,
       "version_minor": 0
      },
      "text/plain": [
       "  0%|          | 0/100 [00:00<?, ?it/s]"
      ]
     },
     "metadata": {},
     "output_type": "display_data"
    },
    {
     "name": "stderr",
     "output_type": "stream",
     "text": [
      "\u001b[32m[I 2022-09-19 14:52:38,697]\u001b[0m Trial 403 finished with value: 436.06 and parameters: {'discount_factor': 0.9548491297581001, 'learning_rate': 0.04962435580135462, 'network_shape': 39}. Best is trial 78 with value: 246.68.\u001b[0m\n"
     ]
    },
    {
     "data": {
      "application/vnd.jupyter.widget-view+json": {
       "model_id": "cf91d2665b4643dbaa4499ddd6e9dab1",
       "version_major": 2,
       "version_minor": 0
      },
      "text/plain": [
       "  0%|          | 0/100 [00:00<?, ?it/s]"
      ]
     },
     "metadata": {},
     "output_type": "display_data"
    },
    {
     "name": "stderr",
     "output_type": "stream",
     "text": [
      "\u001b[32m[I 2022-09-19 14:52:59,132]\u001b[0m Trial 404 finished with value: 438.57 and parameters: {'discount_factor': 0.9009745800151865, 'learning_rate': 0.08581853204159515, 'network_shape': 108}. Best is trial 78 with value: 246.68.\u001b[0m\n"
     ]
    },
    {
     "data": {
      "application/vnd.jupyter.widget-view+json": {
       "model_id": "3a04bbb1bce442989df492deb9fdd2c6",
       "version_major": 2,
       "version_minor": 0
      },
      "text/plain": [
       "  0%|          | 0/100 [00:00<?, ?it/s]"
      ]
     },
     "metadata": {},
     "output_type": "display_data"
    },
    {
     "name": "stderr",
     "output_type": "stream",
     "text": [
      "\u001b[32m[I 2022-09-19 14:53:19,476]\u001b[0m Trial 405 finished with value: 250.8 and parameters: {'discount_factor': 0.9629077734307928, 'learning_rate': 0.0892602846548812, 'network_shape': 36}. Best is trial 78 with value: 246.68.\u001b[0m\n"
     ]
    },
    {
     "data": {
      "application/vnd.jupyter.widget-view+json": {
       "model_id": "5cb9f5c89ce94c6e961ba9bfd82947ec",
       "version_major": 2,
       "version_minor": 0
      },
      "text/plain": [
       "  0%|          | 0/100 [00:00<?, ?it/s]"
      ]
     },
     "metadata": {},
     "output_type": "display_data"
    },
    {
     "name": "stderr",
     "output_type": "stream",
     "text": [
      "\u001b[32m[I 2022-09-19 14:53:39,708]\u001b[0m Trial 406 finished with value: 442.31 and parameters: {'discount_factor': 0.9693801676930092, 'learning_rate': 0.08064631299777052, 'network_shape': 104}. Best is trial 78 with value: 246.68.\u001b[0m\n"
     ]
    },
    {
     "data": {
      "application/vnd.jupyter.widget-view+json": {
       "model_id": "b737d4d375be494fa68a69ecc8569483",
       "version_major": 2,
       "version_minor": 0
      },
      "text/plain": [
       "  0%|          | 0/100 [00:00<?, ?it/s]"
      ]
     },
     "metadata": {},
     "output_type": "display_data"
    },
    {
     "name": "stderr",
     "output_type": "stream",
     "text": [
      "\u001b[32m[I 2022-09-19 14:54:00,423]\u001b[0m Trial 407 finished with value: 440.56 and parameters: {'discount_factor': 0.9578592196227723, 'learning_rate': 0.051754081279574794, 'network_shape': 64}. Best is trial 78 with value: 246.68.\u001b[0m\n"
     ]
    },
    {
     "data": {
      "application/vnd.jupyter.widget-view+json": {
       "model_id": "b23cdf363baf4759b48206f287403309",
       "version_major": 2,
       "version_minor": 0
      },
      "text/plain": [
       "  0%|          | 0/100 [00:00<?, ?it/s]"
      ]
     },
     "metadata": {},
     "output_type": "display_data"
    },
    {
     "name": "stderr",
     "output_type": "stream",
     "text": [
      "\u001b[32m[I 2022-09-19 14:54:21,179]\u001b[0m Trial 408 finished with value: 252.46 and parameters: {'discount_factor': 0.9650322986948003, 'learning_rate': 0.056448367864695294, 'network_shape': 117}. Best is trial 78 with value: 246.68.\u001b[0m\n"
     ]
    },
    {
     "data": {
      "application/vnd.jupyter.widget-view+json": {
       "model_id": "7ee3478ddf394429b22821d42ef8302e",
       "version_major": 2,
       "version_minor": 0
      },
      "text/plain": [
       "  0%|          | 0/100 [00:00<?, ?it/s]"
      ]
     },
     "metadata": {},
     "output_type": "display_data"
    },
    {
     "name": "stderr",
     "output_type": "stream",
     "text": [
      "\u001b[32m[I 2022-09-19 14:54:41,796]\u001b[0m Trial 409 finished with value: 632.19 and parameters: {'discount_factor': 0.9540522802972307, 'learning_rate': 0.08759287101392114, 'network_shape': 111}. Best is trial 78 with value: 246.68.\u001b[0m\n"
     ]
    },
    {
     "data": {
      "application/vnd.jupyter.widget-view+json": {
       "model_id": "a7f8747785684904a2922dc8eac3a5b9",
       "version_major": 2,
       "version_minor": 0
      },
      "text/plain": [
       "  0%|          | 0/100 [00:00<?, ?it/s]"
      ]
     },
     "metadata": {},
     "output_type": "display_data"
    },
    {
     "name": "stderr",
     "output_type": "stream",
     "text": [
      "\u001b[32m[I 2022-09-19 14:55:02,507]\u001b[0m Trial 410 finished with value: 440.92 and parameters: {'discount_factor': 0.9620271698703319, 'learning_rate': 0.062479230645842376, 'network_shape': 124}. Best is trial 78 with value: 246.68.\u001b[0m\n"
     ]
    },
    {
     "data": {
      "application/vnd.jupyter.widget-view+json": {
       "model_id": "d76d4494094b44ccae85f1421cf2c670",
       "version_major": 2,
       "version_minor": 0
      },
      "text/plain": [
       "  0%|          | 0/100 [00:00<?, ?it/s]"
      ]
     },
     "metadata": {},
     "output_type": "display_data"
    },
    {
     "name": "stderr",
     "output_type": "stream",
     "text": [
      "\u001b[32m[I 2022-09-19 14:55:25,326]\u001b[0m Trial 411 finished with value: 625.17 and parameters: {'discount_factor': 0.9842821522205227, 'learning_rate': 0.05920086402497361, 'network_shape': 39}. Best is trial 78 with value: 246.68.\u001b[0m\n"
     ]
    },
    {
     "data": {
      "application/vnd.jupyter.widget-view+json": {
       "model_id": "01eaf3938ba94949bcb6d7717321ee2d",
       "version_major": 2,
       "version_minor": 0
      },
      "text/plain": [
       "  0%|          | 0/100 [00:00<?, ?it/s]"
      ]
     },
     "metadata": {},
     "output_type": "display_data"
    },
    {
     "name": "stderr",
     "output_type": "stream",
     "text": [
      "\u001b[32m[I 2022-09-19 14:55:48,302]\u001b[0m Trial 412 finished with value: 438.51 and parameters: {'discount_factor': 0.9827584601392179, 'learning_rate': 0.09518582948868422, 'network_shape': 104}. Best is trial 78 with value: 246.68.\u001b[0m\n"
     ]
    },
    {
     "data": {
      "application/vnd.jupyter.widget-view+json": {
       "model_id": "11fe6b67a33e423c8d860b983528f340",
       "version_major": 2,
       "version_minor": 0
      },
      "text/plain": [
       "  0%|          | 0/100 [00:00<?, ?it/s]"
      ]
     },
     "metadata": {},
     "output_type": "display_data"
    },
    {
     "name": "stderr",
     "output_type": "stream",
     "text": [
      "\u001b[32m[I 2022-09-19 14:56:11,436]\u001b[0m Trial 413 finished with value: 439.62 and parameters: {'discount_factor': 0.9513628511552708, 'learning_rate': 0.09778172456866072, 'network_shape': 114}. Best is trial 78 with value: 246.68.\u001b[0m\n"
     ]
    },
    {
     "data": {
      "application/vnd.jupyter.widget-view+json": {
       "model_id": "daf9465744be4f02b9491c7afcff8069",
       "version_major": 2,
       "version_minor": 0
      },
      "text/plain": [
       "  0%|          | 0/100 [00:00<?, ?it/s]"
      ]
     },
     "metadata": {},
     "output_type": "display_data"
    },
    {
     "name": "stderr",
     "output_type": "stream",
     "text": [
      "\u001b[32m[I 2022-09-19 14:56:33,141]\u001b[0m Trial 414 finished with value: 275.97 and parameters: {'discount_factor': 0.9567758499956324, 'learning_rate': 0.039973166361948406, 'network_shape': 102}. Best is trial 78 with value: 246.68.\u001b[0m\n"
     ]
    },
    {
     "data": {
      "application/vnd.jupyter.widget-view+json": {
       "model_id": "4758195989e043a0afdebe77b2b4b674",
       "version_major": 2,
       "version_minor": 0
      },
      "text/plain": [
       "  0%|          | 0/100 [00:00<?, ?it/s]"
      ]
     },
     "metadata": {},
     "output_type": "display_data"
    },
    {
     "name": "stderr",
     "output_type": "stream",
     "text": [
      "\u001b[32m[I 2022-09-19 14:56:52,757]\u001b[0m Trial 415 finished with value: 252.46 and parameters: {'discount_factor': 0.9732638554694982, 'learning_rate': 0.08249058859970808, 'network_shape': 48}. Best is trial 78 with value: 246.68.\u001b[0m\n"
     ]
    },
    {
     "data": {
      "application/vnd.jupyter.widget-view+json": {
       "model_id": "73b39ee4686b4553b9a6f474eaa34c1a",
       "version_major": 2,
       "version_minor": 0
      },
      "text/plain": [
       "  0%|          | 0/100 [00:00<?, ?it/s]"
      ]
     },
     "metadata": {},
     "output_type": "display_data"
    },
    {
     "name": "stderr",
     "output_type": "stream",
     "text": [
      "\u001b[32m[I 2022-09-19 14:57:14,051]\u001b[0m Trial 416 finished with value: 419.29 and parameters: {'discount_factor': 0.9673525365267882, 'learning_rate': 0.03646993141342618, 'network_shape': 41}. Best is trial 78 with value: 246.68.\u001b[0m\n"
     ]
    },
    {
     "data": {
      "application/vnd.jupyter.widget-view+json": {
       "model_id": "94938f2f67634421b61743b84d9291d4",
       "version_major": 2,
       "version_minor": 0
      },
      "text/plain": [
       "  0%|          | 0/100 [00:00<?, ?it/s]"
      ]
     },
     "metadata": {},
     "output_type": "display_data"
    },
    {
     "name": "stderr",
     "output_type": "stream",
     "text": [
      "\u001b[32m[I 2022-09-19 14:57:35,163]\u001b[0m Trial 417 finished with value: 439.43 and parameters: {'discount_factor': 0.9528926374771448, 'learning_rate': 0.06568461789443886, 'network_shape': 32}. Best is trial 78 with value: 246.68.\u001b[0m\n"
     ]
    },
    {
     "data": {
      "application/vnd.jupyter.widget-view+json": {
       "model_id": "305e8fcc5130466abbaf97dffb67666b",
       "version_major": 2,
       "version_minor": 0
      },
      "text/plain": [
       "  0%|          | 0/100 [00:00<?, ?it/s]"
      ]
     },
     "metadata": {},
     "output_type": "display_data"
    },
    {
     "name": "stderr",
     "output_type": "stream",
     "text": [
      "\u001b[32m[I 2022-09-19 14:57:56,362]\u001b[0m Trial 418 finished with value: 439.29 and parameters: {'discount_factor': 0.9597950717548951, 'learning_rate': 0.09655845444474333, 'network_shape': 38}. Best is trial 78 with value: 246.68.\u001b[0m\n"
     ]
    },
    {
     "data": {
      "application/vnd.jupyter.widget-view+json": {
       "model_id": "80f10645691b435f8c6897800f319795",
       "version_major": 2,
       "version_minor": 0
      },
      "text/plain": [
       "  0%|          | 0/100 [00:00<?, ?it/s]"
      ]
     },
     "metadata": {},
     "output_type": "display_data"
    },
    {
     "name": "stderr",
     "output_type": "stream",
     "text": [
      "\u001b[32m[I 2022-09-19 14:58:16,727]\u001b[0m Trial 419 finished with value: 437.09 and parameters: {'discount_factor': 0.9628004615522237, 'learning_rate': 0.09317004818897696, 'network_shape': 106}. Best is trial 78 with value: 246.68.\u001b[0m\n"
     ]
    },
    {
     "data": {
      "application/vnd.jupyter.widget-view+json": {
       "model_id": "a4f35be251dd49488b730f15c4970cfe",
       "version_major": 2,
       "version_minor": 0
      },
      "text/plain": [
       "  0%|          | 0/100 [00:00<?, ?it/s]"
      ]
     },
     "metadata": {},
     "output_type": "display_data"
    },
    {
     "name": "stderr",
     "output_type": "stream",
     "text": [
      "\u001b[32m[I 2022-09-19 14:58:38,038]\u001b[0m Trial 420 finished with value: 437.92 and parameters: {'discount_factor': 0.9656818978287978, 'learning_rate': 0.089631941893466, 'network_shape': 44}. Best is trial 78 with value: 246.68.\u001b[0m\n"
     ]
    },
    {
     "data": {
      "application/vnd.jupyter.widget-view+json": {
       "model_id": "93e8000443724c73b3acd9baf4db4dd9",
       "version_major": 2,
       "version_minor": 0
      },
      "text/plain": [
       "  0%|          | 0/100 [00:00<?, ?it/s]"
      ]
     },
     "metadata": {},
     "output_type": "display_data"
    },
    {
     "name": "stderr",
     "output_type": "stream",
     "text": [
      "\u001b[32m[I 2022-09-19 14:58:59,444]\u001b[0m Trial 421 finished with value: 439.51 and parameters: {'discount_factor': 0.9862999990647405, 'learning_rate': 0.09590195129254594, 'network_shape': 101}. Best is trial 78 with value: 246.68.\u001b[0m\n"
     ]
    },
    {
     "data": {
      "application/vnd.jupyter.widget-view+json": {
       "model_id": "cda2485b89704369bd33894bbf1753e3",
       "version_major": 2,
       "version_minor": 0
      },
      "text/plain": [
       "  0%|          | 0/100 [00:00<?, ?it/s]"
      ]
     },
     "metadata": {},
     "output_type": "display_data"
    },
    {
     "name": "stderr",
     "output_type": "stream",
     "text": [
      "\u001b[32m[I 2022-09-19 14:59:19,715]\u001b[0m Trial 422 finished with value: 440.08 and parameters: {'discount_factor': 0.9800646114806835, 'learning_rate': 0.03375048910205687, 'network_shape': 110}. Best is trial 78 with value: 246.68.\u001b[0m\n"
     ]
    },
    {
     "data": {
      "application/vnd.jupyter.widget-view+json": {
       "model_id": "367e9f9708cf4df3a756c13f5d2a74ba",
       "version_major": 2,
       "version_minor": 0
      },
      "text/plain": [
       "  0%|          | 0/100 [00:00<?, ?it/s]"
      ]
     },
     "metadata": {},
     "output_type": "display_data"
    },
    {
     "name": "stderr",
     "output_type": "stream",
     "text": [
      "\u001b[32m[I 2022-09-19 14:59:39,370]\u001b[0m Trial 423 finished with value: 263.42 and parameters: {'discount_factor': 0.9559149136486847, 'learning_rate': 0.053351034794278336, 'network_shape': 35}. Best is trial 78 with value: 246.68.\u001b[0m\n"
     ]
    },
    {
     "data": {
      "application/vnd.jupyter.widget-view+json": {
       "model_id": "ac3abce657984ebaa9bf0b14c62a2deb",
       "version_major": 2,
       "version_minor": 0
      },
      "text/plain": [
       "  0%|          | 0/100 [00:00<?, ?it/s]"
      ]
     },
     "metadata": {},
     "output_type": "display_data"
    },
    {
     "name": "stderr",
     "output_type": "stream",
     "text": [
      "\u001b[32m[I 2022-09-19 14:59:59,507]\u001b[0m Trial 424 finished with value: 444.03 and parameters: {'discount_factor': 0.9688596267807492, 'learning_rate': 0.09815347489985599, 'network_shape': 41}. Best is trial 78 with value: 246.68.\u001b[0m\n"
     ]
    },
    {
     "data": {
      "application/vnd.jupyter.widget-view+json": {
       "model_id": "204cf2d23a31485087e2a7ff0f75425e",
       "version_major": 2,
       "version_minor": 0
      },
      "text/plain": [
       "  0%|          | 0/100 [00:00<?, ?it/s]"
      ]
     },
     "metadata": {},
     "output_type": "display_data"
    },
    {
     "name": "stderr",
     "output_type": "stream",
     "text": [
      "\u001b[32m[I 2022-09-19 15:00:19,899]\u001b[0m Trial 425 finished with value: 634.38 and parameters: {'discount_factor': 0.9509815932973509, 'learning_rate': 0.08478895748657679, 'network_shape': 47}. Best is trial 78 with value: 246.68.\u001b[0m\n"
     ]
    },
    {
     "data": {
      "application/vnd.jupyter.widget-view+json": {
       "model_id": "f82e5f6a443046efa29cff64be99540c",
       "version_major": 2,
       "version_minor": 0
      },
      "text/plain": [
       "  0%|          | 0/100 [00:00<?, ?it/s]"
      ]
     },
     "metadata": {},
     "output_type": "display_data"
    },
    {
     "name": "stderr",
     "output_type": "stream",
     "text": [
      "\u001b[32m[I 2022-09-19 15:00:41,958]\u001b[0m Trial 426 finished with value: 251.72 and parameters: {'discount_factor': 0.9039583756632786, 'learning_rate': 0.047646175007208476, 'network_shape': 116}. Best is trial 78 with value: 246.68.\u001b[0m\n"
     ]
    },
    {
     "data": {
      "application/vnd.jupyter.widget-view+json": {
       "model_id": "8a40d6325b5e4e98924191106adb538f",
       "version_major": 2,
       "version_minor": 0
      },
      "text/plain": [
       "  0%|          | 0/100 [00:00<?, ?it/s]"
      ]
     },
     "metadata": {},
     "output_type": "display_data"
    },
    {
     "name": "stderr",
     "output_type": "stream",
     "text": [
      "\u001b[32m[I 2022-09-19 15:01:04,106]\u001b[0m Trial 427 finished with value: 636.16 and parameters: {'discount_factor': 0.9475331570974402, 'learning_rate': 0.08027209510153699, 'network_shape': 108}. Best is trial 78 with value: 246.68.\u001b[0m\n"
     ]
    },
    {
     "data": {
      "application/vnd.jupyter.widget-view+json": {
       "model_id": "32881c4bd0da4aefae1b97e7859f8505",
       "version_major": 2,
       "version_minor": 0
      },
      "text/plain": [
       "  0%|          | 0/100 [00:00<?, ?it/s]"
      ]
     },
     "metadata": {},
     "output_type": "display_data"
    },
    {
     "name": "stderr",
     "output_type": "stream",
     "text": [
      "\u001b[32m[I 2022-09-19 15:01:23,802]\u001b[0m Trial 428 finished with value: 257.91 and parameters: {'discount_factor': 0.9891730584507943, 'learning_rate': 0.08747107395203378, 'network_shape': 52}. Best is trial 78 with value: 246.68.\u001b[0m\n"
     ]
    },
    {
     "data": {
      "application/vnd.jupyter.widget-view+json": {
       "model_id": "ec8763c9521d4c7bbf7d6298986d0847",
       "version_major": 2,
       "version_minor": 0
      },
      "text/plain": [
       "  0%|          | 0/100 [00:00<?, ?it/s]"
      ]
     },
     "metadata": {},
     "output_type": "display_data"
    },
    {
     "name": "stderr",
     "output_type": "stream",
     "text": [
      "\u001b[32m[I 2022-09-19 15:01:43,461]\u001b[0m Trial 429 finished with value: 250.77 and parameters: {'discount_factor': 0.9641513319516566, 'learning_rate': 0.04486489819256977, 'network_shape': 37}. Best is trial 78 with value: 246.68.\u001b[0m\n"
     ]
    },
    {
     "data": {
      "application/vnd.jupyter.widget-view+json": {
       "model_id": "173dd31b9eb7453bbc191e7770b56d11",
       "version_major": 2,
       "version_minor": 0
      },
      "text/plain": [
       "  0%|          | 0/100 [00:00<?, ?it/s]"
      ]
     },
     "metadata": {},
     "output_type": "display_data"
    },
    {
     "name": "stderr",
     "output_type": "stream",
     "text": [
      "\u001b[32m[I 2022-09-19 15:02:03,584]\u001b[0m Trial 430 finished with value: 251.58 and parameters: {'discount_factor': 0.9585955104959697, 'learning_rate': 0.056317866933173394, 'network_shape': 30}. Best is trial 78 with value: 246.68.\u001b[0m\n"
     ]
    },
    {
     "data": {
      "application/vnd.jupyter.widget-view+json": {
       "model_id": "5531acfd7eda4a03b6b2441fa2d1a3bf",
       "version_major": 2,
       "version_minor": 0
      },
      "text/plain": [
       "  0%|          | 0/100 [00:00<?, ?it/s]"
      ]
     },
     "metadata": {},
     "output_type": "display_data"
    },
    {
     "name": "stderr",
     "output_type": "stream",
     "text": [
      "\u001b[32m[I 2022-09-19 15:02:23,511]\u001b[0m Trial 431 finished with value: 255.47 and parameters: {'discount_factor': 0.9708764201242075, 'learning_rate': 0.09796909244865487, 'network_shape': 70}. Best is trial 78 with value: 246.68.\u001b[0m\n"
     ]
    },
    {
     "data": {
      "application/vnd.jupyter.widget-view+json": {
       "model_id": "a708822bf8f44b8abc865e1e8b992272",
       "version_major": 2,
       "version_minor": 0
      },
      "text/plain": [
       "  0%|          | 0/100 [00:00<?, ?it/s]"
      ]
     },
     "metadata": {},
     "output_type": "display_data"
    },
    {
     "name": "stderr",
     "output_type": "stream",
     "text": [
      "\u001b[32m[I 2022-09-19 15:02:43,194]\u001b[0m Trial 432 finished with value: 251.25 and parameters: {'discount_factor': 0.9838104303482783, 'learning_rate': 0.09437749145169629, 'network_shape': 104}. Best is trial 78 with value: 246.68.\u001b[0m\n"
     ]
    },
    {
     "data": {
      "application/vnd.jupyter.widget-view+json": {
       "model_id": "7b9691b720b64787989118284ca39997",
       "version_major": 2,
       "version_minor": 0
      },
      "text/plain": [
       "  0%|          | 0/100 [00:00<?, ?it/s]"
      ]
     },
     "metadata": {},
     "output_type": "display_data"
    },
    {
     "name": "stderr",
     "output_type": "stream",
     "text": [
      "\u001b[32m[I 2022-09-19 15:03:03,629]\u001b[0m Trial 433 finished with value: 631.19 and parameters: {'discount_factor': 0.9343736775290965, 'learning_rate': 0.09151292988427892, 'network_shape': 99}. Best is trial 78 with value: 246.68.\u001b[0m\n"
     ]
    },
    {
     "data": {
      "application/vnd.jupyter.widget-view+json": {
       "model_id": "150291fd237e44f795dddd4ca23dab47",
       "version_major": 2,
       "version_minor": 0
      },
      "text/plain": [
       "  0%|          | 0/100 [00:00<?, ?it/s]"
      ]
     },
     "metadata": {},
     "output_type": "display_data"
    },
    {
     "name": "stderr",
     "output_type": "stream",
     "text": [
      "\u001b[32m[I 2022-09-19 15:03:24,593]\u001b[0m Trial 434 finished with value: 434.09 and parameters: {'discount_factor': 0.9541105071447595, 'learning_rate': 0.007034223963238322, 'network_shape': 44}. Best is trial 78 with value: 246.68.\u001b[0m\n"
     ]
    },
    {
     "data": {
      "application/vnd.jupyter.widget-view+json": {
       "model_id": "e3cd5728eaf344dea04217252a7e1a2b",
       "version_major": 2,
       "version_minor": 0
      },
      "text/plain": [
       "  0%|          | 0/100 [00:00<?, ?it/s]"
      ]
     },
     "metadata": {},
     "output_type": "display_data"
    },
    {
     "name": "stderr",
     "output_type": "stream",
     "text": [
      "\u001b[32m[I 2022-09-19 15:03:45,981]\u001b[0m Trial 435 finished with value: 559.15 and parameters: {'discount_factor': 0.9609423004161207, 'learning_rate': 0.02397975013770361, 'network_shape': 119}. Best is trial 78 with value: 246.68.\u001b[0m\n"
     ]
    },
    {
     "data": {
      "application/vnd.jupyter.widget-view+json": {
       "model_id": "4d2efc75f3fd4d58bd8163dced579dcc",
       "version_major": 2,
       "version_minor": 0
      },
      "text/plain": [
       "  0%|          | 0/100 [00:00<?, ?it/s]"
      ]
     },
     "metadata": {},
     "output_type": "display_data"
    },
    {
     "name": "stderr",
     "output_type": "stream",
     "text": [
      "\u001b[32m[I 2022-09-19 15:04:07,022]\u001b[0m Trial 436 finished with value: 447.42 and parameters: {'discount_factor': 0.9664266272624698, 'learning_rate': 0.09608690772783655, 'network_shape': 112}. Best is trial 78 with value: 246.68.\u001b[0m\n"
     ]
    },
    {
     "data": {
      "application/vnd.jupyter.widget-view+json": {
       "model_id": "ca516aac6e9440babf1452b32ac67277",
       "version_major": 2,
       "version_minor": 0
      },
      "text/plain": [
       "  0%|          | 0/100 [00:00<?, ?it/s]"
      ]
     },
     "metadata": {},
     "output_type": "display_data"
    },
    {
     "name": "stderr",
     "output_type": "stream",
     "text": [
      "\u001b[32m[I 2022-09-19 15:04:28,137]\u001b[0m Trial 437 finished with value: 440.3 and parameters: {'discount_factor': 0.952171445512566, 'learning_rate': 0.09978317414146565, 'network_shape': 39}. Best is trial 78 with value: 246.68.\u001b[0m\n"
     ]
    },
    {
     "data": {
      "application/vnd.jupyter.widget-view+json": {
       "model_id": "b1fa8fa0abaa4ba58d0e3200bd579424",
       "version_major": 2,
       "version_minor": 0
      },
      "text/plain": [
       "  0%|          | 0/100 [00:00<?, ?it/s]"
      ]
     },
     "metadata": {},
     "output_type": "display_data"
    },
    {
     "name": "stderr",
     "output_type": "stream",
     "text": [
      "\u001b[32m[I 2022-09-19 15:04:48,602]\u001b[0m Trial 438 finished with value: 443.78 and parameters: {'discount_factor': 0.9492609125192609, 'learning_rate': 0.06127893843858735, 'network_shape': 106}. Best is trial 78 with value: 246.68.\u001b[0m\n"
     ]
    },
    {
     "data": {
      "application/vnd.jupyter.widget-view+json": {
       "model_id": "75cf8790215347f3a0496fc4b27bb3c0",
       "version_major": 2,
       "version_minor": 0
      },
      "text/plain": [
       "  0%|          | 0/100 [00:00<?, ?it/s]"
      ]
     },
     "metadata": {},
     "output_type": "display_data"
    },
    {
     "name": "stderr",
     "output_type": "stream",
     "text": [
      "\u001b[32m[I 2022-09-19 15:05:10,920]\u001b[0m Trial 439 finished with value: 447.39 and parameters: {'discount_factor': 0.9758874712144133, 'learning_rate': 0.06734703914438071, 'network_shape': 102}. Best is trial 78 with value: 246.68.\u001b[0m\n"
     ]
    },
    {
     "data": {
      "application/vnd.jupyter.widget-view+json": {
       "model_id": "06f23a9861ed4752bf0f30d453f1b0ab",
       "version_major": 2,
       "version_minor": 0
      },
      "text/plain": [
       "  0%|          | 0/100 [00:00<?, ?it/s]"
      ]
     },
     "metadata": {},
     "output_type": "display_data"
    },
    {
     "name": "stderr",
     "output_type": "stream",
     "text": [
      "\u001b[32m[I 2022-09-19 15:05:32,549]\u001b[0m Trial 440 finished with value: 441.91 and parameters: {'discount_factor': 0.9682539217230445, 'learning_rate': 0.05845903219328978, 'network_shape': 50}. Best is trial 78 with value: 246.68.\u001b[0m\n"
     ]
    },
    {
     "data": {
      "application/vnd.jupyter.widget-view+json": {
       "model_id": "c8319fe7ba2c430dab25e96304d17b08",
       "version_major": 2,
       "version_minor": 0
      },
      "text/plain": [
       "  0%|          | 0/100 [00:00<?, ?it/s]"
      ]
     },
     "metadata": {},
     "output_type": "display_data"
    },
    {
     "name": "stderr",
     "output_type": "stream",
     "text": [
      "\u001b[32m[I 2022-09-19 15:05:55,708]\u001b[0m Trial 441 finished with value: 444.4 and parameters: {'discount_factor': 0.9820374817573627, 'learning_rate': 0.09772272941888661, 'network_shape': 97}. Best is trial 78 with value: 246.68.\u001b[0m\n"
     ]
    },
    {
     "data": {
      "application/vnd.jupyter.widget-view+json": {
       "model_id": "0e99c41b81a844c490f1cd5fb2226634",
       "version_major": 2,
       "version_minor": 0
      },
      "text/plain": [
       "  0%|          | 0/100 [00:00<?, ?it/s]"
      ]
     },
     "metadata": {},
     "output_type": "display_data"
    },
    {
     "name": "stderr",
     "output_type": "stream",
     "text": [
      "\u001b[32m[I 2022-09-19 15:06:16,332]\u001b[0m Trial 442 finished with value: 445.91 and parameters: {'discount_factor': 0.9570956187576997, 'learning_rate': 0.08976401171979953, 'network_shape': 34}. Best is trial 78 with value: 246.68.\u001b[0m\n"
     ]
    },
    {
     "data": {
      "application/vnd.jupyter.widget-view+json": {
       "model_id": "1c9f961c87e845fdb7b1fe81a7ecda7e",
       "version_major": 2,
       "version_minor": 0
      },
      "text/plain": [
       "  0%|          | 0/100 [00:00<?, ?it/s]"
      ]
     },
     "metadata": {},
     "output_type": "display_data"
    },
    {
     "name": "stderr",
     "output_type": "stream",
     "text": [
      "\u001b[32m[I 2022-09-19 15:06:37,896]\u001b[0m Trial 443 finished with value: 442.35 and parameters: {'discount_factor': 0.9868147438270695, 'learning_rate': 0.09997761075366747, 'network_shape': 46}. Best is trial 78 with value: 246.68.\u001b[0m\n"
     ]
    },
    {
     "data": {
      "application/vnd.jupyter.widget-view+json": {
       "model_id": "544fd5ff536d4177bc38feadcf692ed4",
       "version_major": 2,
       "version_minor": 0
      },
      "text/plain": [
       "  0%|          | 0/100 [00:00<?, ?it/s]"
      ]
     },
     "metadata": {},
     "output_type": "display_data"
    },
    {
     "name": "stderr",
     "output_type": "stream",
     "text": [
      "\u001b[32m[I 2022-09-19 15:07:00,113]\u001b[0m Trial 444 finished with value: 447.85 and parameters: {'discount_factor': 0.9739140022555999, 'learning_rate': 0.09311389332437064, 'network_shape': 42}. Best is trial 78 with value: 246.68.\u001b[0m\n"
     ]
    },
    {
     "data": {
      "application/vnd.jupyter.widget-view+json": {
       "model_id": "f99089c289f24779843dac486a3b558f",
       "version_major": 2,
       "version_minor": 0
      },
      "text/plain": [
       "  0%|          | 0/100 [00:00<?, ?it/s]"
      ]
     },
     "metadata": {},
     "output_type": "display_data"
    },
    {
     "name": "stderr",
     "output_type": "stream",
     "text": [
      "\u001b[32m[I 2022-09-19 15:07:21,068]\u001b[0m Trial 445 finished with value: 633.14 and parameters: {'discount_factor': 0.9772319976511746, 'learning_rate': 0.08349976630903316, 'network_shape': 109}. Best is trial 78 with value: 246.68.\u001b[0m\n"
     ]
    },
    {
     "data": {
      "application/vnd.jupyter.widget-view+json": {
       "model_id": "97706c7b8dde470da055df691fdf6d38",
       "version_major": 2,
       "version_minor": 0
      },
      "text/plain": [
       "  0%|          | 0/100 [00:00<?, ?it/s]"
      ]
     },
     "metadata": {},
     "output_type": "display_data"
    },
    {
     "name": "stderr",
     "output_type": "stream",
     "text": [
      "\u001b[32m[I 2022-09-19 15:07:41,556]\u001b[0m Trial 446 finished with value: 440.47 and parameters: {'discount_factor': 0.9635153535894276, 'learning_rate': 0.051310922975703895, 'network_shape': 114}. Best is trial 78 with value: 246.68.\u001b[0m\n"
     ]
    },
    {
     "data": {
      "application/vnd.jupyter.widget-view+json": {
       "model_id": "b63a5b7e94c34c75abbc883836bbcd1e",
       "version_major": 2,
       "version_minor": 0
      },
      "text/plain": [
       "  0%|          | 0/100 [00:00<?, ?it/s]"
      ]
     },
     "metadata": {},
     "output_type": "display_data"
    },
    {
     "name": "stderr",
     "output_type": "stream",
     "text": [
      "\u001b[32m[I 2022-09-19 15:08:01,802]\u001b[0m Trial 447 finished with value: 288.43 and parameters: {'discount_factor': 0.9602211290882461, 'learning_rate': 0.05455141994861386, 'network_shape': 39}. Best is trial 78 with value: 246.68.\u001b[0m\n"
     ]
    },
    {
     "data": {
      "application/vnd.jupyter.widget-view+json": {
       "model_id": "c6b5485b26b741ef8350ceb5cfd4f30c",
       "version_major": 2,
       "version_minor": 0
      },
      "text/plain": [
       "  0%|          | 0/100 [00:00<?, ?it/s]"
      ]
     },
     "metadata": {},
     "output_type": "display_data"
    },
    {
     "name": "stderr",
     "output_type": "stream",
     "text": [
      "\u001b[32m[I 2022-09-19 15:08:22,258]\u001b[0m Trial 448 finished with value: 250.79 and parameters: {'discount_factor': 0.9249952985682565, 'learning_rate': 0.09562717690415434, 'network_shape': 56}. Best is trial 78 with value: 246.68.\u001b[0m\n"
     ]
    },
    {
     "data": {
      "application/vnd.jupyter.widget-view+json": {
       "model_id": "b0f36f04fb9f4b599cfb9b8f32b56374",
       "version_major": 2,
       "version_minor": 0
      },
      "text/plain": [
       "  0%|          | 0/100 [00:00<?, ?it/s]"
      ]
     },
     "metadata": {},
     "output_type": "display_data"
    },
    {
     "name": "stderr",
     "output_type": "stream",
     "text": [
      "\u001b[32m[I 2022-09-19 15:08:42,378]\u001b[0m Trial 449 finished with value: 446.19 and parameters: {'discount_factor': 0.9464165788814175, 'learning_rate': 0.0702431989806347, 'network_shape': 100}. Best is trial 78 with value: 246.68.\u001b[0m\n"
     ]
    },
    {
     "data": {
      "application/vnd.jupyter.widget-view+json": {
       "model_id": "e40524a537f244b482dd0d785e935a21",
       "version_major": 2,
       "version_minor": 0
      },
      "text/plain": [
       "  0%|          | 0/100 [00:00<?, ?it/s]"
      ]
     },
     "metadata": {},
     "output_type": "display_data"
    },
    {
     "name": "stderr",
     "output_type": "stream",
     "text": [
      "\u001b[32m[I 2022-09-19 15:09:03,314]\u001b[0m Trial 450 finished with value: 446.2 and parameters: {'discount_factor': 0.9547171426687912, 'learning_rate': 0.08567286545138283, 'network_shape': 76}. Best is trial 78 with value: 246.68.\u001b[0m\n"
     ]
    },
    {
     "data": {
      "application/vnd.jupyter.widget-view+json": {
       "model_id": "7159e38e248d4db3bb0e6e81fe0cbd64",
       "version_major": 2,
       "version_minor": 0
      },
      "text/plain": [
       "  0%|          | 0/100 [00:00<?, ?it/s]"
      ]
     },
     "metadata": {},
     "output_type": "display_data"
    },
    {
     "name": "stderr",
     "output_type": "stream",
     "text": [
      "\u001b[32m[I 2022-09-19 15:09:24,243]\u001b[0m Trial 451 finished with value: 630.11 and parameters: {'discount_factor': 0.9652398244318344, 'learning_rate': 0.09801692079928843, 'network_shape': 36}. Best is trial 78 with value: 246.68.\u001b[0m\n"
     ]
    },
    {
     "data": {
      "application/vnd.jupyter.widget-view+json": {
       "model_id": "3f0e3e55ca564ca092c0b88a924440e1",
       "version_major": 2,
       "version_minor": 0
      },
      "text/plain": [
       "  0%|          | 0/100 [00:00<?, ?it/s]"
      ]
     },
     "metadata": {},
     "output_type": "display_data"
    },
    {
     "name": "stderr",
     "output_type": "stream",
     "text": [
      "\u001b[32m[I 2022-09-19 15:09:45,323]\u001b[0m Trial 452 finished with value: 631.81 and parameters: {'discount_factor': 0.9504287491128837, 'learning_rate': 0.0813935422819454, 'network_shape': 103}. Best is trial 78 with value: 246.68.\u001b[0m\n"
     ]
    },
    {
     "data": {
      "application/vnd.jupyter.widget-view+json": {
       "model_id": "edabdc4003024546a05543861504f273",
       "version_major": 2,
       "version_minor": 0
      },
      "text/plain": [
       "  0%|          | 0/100 [00:00<?, ?it/s]"
      ]
     },
     "metadata": {},
     "output_type": "display_data"
    },
    {
     "name": "stderr",
     "output_type": "stream",
     "text": [
      "\u001b[32m[I 2022-09-19 15:10:06,791]\u001b[0m Trial 453 finished with value: 632.66 and parameters: {'discount_factor': 0.9789995379685051, 'learning_rate': 0.04109821648942949, 'network_shape': 107}. Best is trial 78 with value: 246.68.\u001b[0m\n"
     ]
    },
    {
     "data": {
      "application/vnd.jupyter.widget-view+json": {
       "model_id": "3387dd00e6cb42cda284a066c1c4a95a",
       "version_major": 2,
       "version_minor": 0
      },
      "text/plain": [
       "  0%|          | 0/100 [00:00<?, ?it/s]"
      ]
     },
     "metadata": {},
     "output_type": "display_data"
    },
    {
     "name": "stderr",
     "output_type": "stream",
     "text": [
      "\u001b[32m[I 2022-09-19 15:10:28,825]\u001b[0m Trial 454 finished with value: 443.25 and parameters: {'discount_factor': 0.9722972125769221, 'learning_rate': 0.0601546066131457, 'network_shape': 122}. Best is trial 78 with value: 246.68.\u001b[0m\n"
     ]
    },
    {
     "data": {
      "application/vnd.jupyter.widget-view+json": {
       "model_id": "327fd614fe07404780603de20e088f61",
       "version_major": 2,
       "version_minor": 0
      },
      "text/plain": [
       "  0%|          | 0/100 [00:00<?, ?it/s]"
      ]
     },
     "metadata": {},
     "output_type": "display_data"
    },
    {
     "name": "stderr",
     "output_type": "stream",
     "text": [
      "\u001b[32m[I 2022-09-19 15:10:48,800]\u001b[0m Trial 455 finished with value: 445.56 and parameters: {'discount_factor': 0.9520566184697344, 'learning_rate': 0.09226450908625794, 'network_shape': 96}. Best is trial 78 with value: 246.68.\u001b[0m\n"
     ]
    },
    {
     "data": {
      "application/vnd.jupyter.widget-view+json": {
       "model_id": "6d68843e18f74397b2040cbca0b23181",
       "version_major": 2,
       "version_minor": 0
      },
      "text/plain": [
       "  0%|          | 0/100 [00:00<?, ?it/s]"
      ]
     },
     "metadata": {},
     "output_type": "display_data"
    },
    {
     "name": "stderr",
     "output_type": "stream",
     "text": [
      "\u001b[32m[I 2022-09-19 15:11:08,506]\u001b[0m Trial 456 finished with value: 253.36 and parameters: {'discount_factor': 0.9899658726067377, 'learning_rate': 0.08728225671565663, 'network_shape': 67}. Best is trial 78 with value: 246.68.\u001b[0m\n"
     ]
    },
    {
     "data": {
      "application/vnd.jupyter.widget-view+json": {
       "model_id": "1957e7733b3849a481ae38b3585f13d1",
       "version_major": 2,
       "version_minor": 0
      },
      "text/plain": [
       "  0%|          | 0/100 [00:00<?, ?it/s]"
      ]
     },
     "metadata": {},
     "output_type": "display_data"
    },
    {
     "name": "stderr",
     "output_type": "stream",
     "text": [
      "\u001b[32m[I 2022-09-19 15:11:28,689]\u001b[0m Trial 457 finished with value: 445.76 and parameters: {'discount_factor': 0.9848346603252763, 'learning_rate': 0.09479914212584688, 'network_shape': 41}. Best is trial 78 with value: 246.68.\u001b[0m\n"
     ]
    },
    {
     "data": {
      "application/vnd.jupyter.widget-view+json": {
       "model_id": "d61bade933b249f5a77723564e5b363f",
       "version_major": 2,
       "version_minor": 0
      },
      "text/plain": [
       "  0%|          | 0/100 [00:00<?, ?it/s]"
      ]
     },
     "metadata": {},
     "output_type": "display_data"
    },
    {
     "name": "stderr",
     "output_type": "stream",
     "text": [
      "\u001b[32m[I 2022-09-19 15:11:48,363]\u001b[0m Trial 458 finished with value: 620.77 and parameters: {'discount_factor': 0.9672358126837344, 'learning_rate': 0.05588103918861682, 'network_shape': 111}. Best is trial 78 with value: 246.68.\u001b[0m\n"
     ]
    },
    {
     "data": {
      "application/vnd.jupyter.widget-view+json": {
       "model_id": "8bf321f5b7f74d44bbfd4de7130aeadf",
       "version_major": 2,
       "version_minor": 0
      },
      "text/plain": [
       "  0%|          | 0/100 [00:00<?, ?it/s]"
      ]
     },
     "metadata": {},
     "output_type": "display_data"
    },
    {
     "name": "stderr",
     "output_type": "stream",
     "text": [
      "\u001b[32m[I 2022-09-19 15:12:07,260]\u001b[0m Trial 459 finished with value: 462.29 and parameters: {'discount_factor': 0.9480428148254255, 'learning_rate': 0.03894429733908484, 'network_shape': 38}. Best is trial 78 with value: 246.68.\u001b[0m\n"
     ]
    },
    {
     "data": {
      "application/vnd.jupyter.widget-view+json": {
       "model_id": "d5a998564cae441cb98f50564f9cd48b",
       "version_major": 2,
       "version_minor": 0
      },
      "text/plain": [
       "  0%|          | 0/100 [00:00<?, ?it/s]"
      ]
     },
     "metadata": {},
     "output_type": "display_data"
    },
    {
     "name": "stderr",
     "output_type": "stream",
     "text": [
      "\u001b[32m[I 2022-09-19 15:12:27,455]\u001b[0m Trial 460 finished with value: 631.46 and parameters: {'discount_factor': 0.961569216635329, 'learning_rate': 0.09659756922098425, 'network_shape': 126}. Best is trial 78 with value: 246.68.\u001b[0m\n"
     ]
    },
    {
     "data": {
      "application/vnd.jupyter.widget-view+json": {
       "model_id": "788ad1db8586405493b212be4620ba05",
       "version_major": 2,
       "version_minor": 0
      },
      "text/plain": [
       "  0%|          | 0/100 [00:00<?, ?it/s]"
      ]
     },
     "metadata": {},
     "output_type": "display_data"
    },
    {
     "name": "stderr",
     "output_type": "stream",
     "text": [
      "\u001b[32m[I 2022-09-19 15:12:50,421]\u001b[0m Trial 461 finished with value: 448.3 and parameters: {'discount_factor': 0.9702550148772989, 'learning_rate': 0.09055731073818843, 'network_shape': 33}. Best is trial 78 with value: 246.68.\u001b[0m\n"
     ]
    },
    {
     "data": {
      "application/vnd.jupyter.widget-view+json": {
       "model_id": "ea1c16eed5c74c45ba90b18186e0e5aa",
       "version_major": 2,
       "version_minor": 0
      },
      "text/plain": [
       "  0%|          | 0/100 [00:00<?, ?it/s]"
      ]
     },
     "metadata": {},
     "output_type": "display_data"
    },
    {
     "name": "stderr",
     "output_type": "stream",
     "text": [
      "\u001b[32m[I 2022-09-19 15:13:11,672]\u001b[0m Trial 462 finished with value: 437.65 and parameters: {'discount_factor': 0.9580969604833475, 'learning_rate': 0.09993530895854341, 'network_shape': 117}. Best is trial 78 with value: 246.68.\u001b[0m\n"
     ]
    },
    {
     "data": {
      "application/vnd.jupyter.widget-view+json": {
       "model_id": "9e6e76b26b174a6889fb35ba12dabe47",
       "version_major": 2,
       "version_minor": 0
      },
      "text/plain": [
       "  0%|          | 0/100 [00:00<?, ?it/s]"
      ]
     },
     "metadata": {},
     "output_type": "display_data"
    },
    {
     "name": "stderr",
     "output_type": "stream",
     "text": [
      "\u001b[32m[I 2022-09-19 15:13:32,818]\u001b[0m Trial 463 finished with value: 437.82 and parameters: {'discount_factor': 0.9555634631170025, 'learning_rate': 0.09329998027960307, 'network_shape': 105}. Best is trial 78 with value: 246.68.\u001b[0m\n"
     ]
    },
    {
     "data": {
      "application/vnd.jupyter.widget-view+json": {
       "model_id": "4ff2c99f3bb94a0886659bfd080d9a97",
       "version_major": 2,
       "version_minor": 0
      },
      "text/plain": [
       "  0%|          | 0/100 [00:00<?, ?it/s]"
      ]
     },
     "metadata": {},
     "output_type": "display_data"
    },
    {
     "name": "stderr",
     "output_type": "stream",
     "text": [
      "\u001b[32m[I 2022-09-19 15:13:53,419]\u001b[0m Trial 464 finished with value: 635.73 and parameters: {'discount_factor': 0.9440906824869497, 'learning_rate': 0.07813327667135819, 'network_shape': 43}. Best is trial 78 with value: 246.68.\u001b[0m\n"
     ]
    },
    {
     "data": {
      "application/vnd.jupyter.widget-view+json": {
       "model_id": "ab1d124f730144fe867036ea79447e9b",
       "version_major": 2,
       "version_minor": 0
      },
      "text/plain": [
       "  0%|          | 0/100 [00:00<?, ?it/s]"
      ]
     },
     "metadata": {},
     "output_type": "display_data"
    },
    {
     "name": "stderr",
     "output_type": "stream",
     "text": [
      "\u001b[32m[I 2022-09-19 15:14:15,105]\u001b[0m Trial 465 finished with value: 250.98 and parameters: {'discount_factor': 0.98323567197759, 'learning_rate': 0.0579995079509724, 'network_shape': 94}. Best is trial 78 with value: 246.68.\u001b[0m\n"
     ]
    },
    {
     "data": {
      "application/vnd.jupyter.widget-view+json": {
       "model_id": "6fe9caf829ad4e72b8bace64cac221a5",
       "version_major": 2,
       "version_minor": 0
      },
      "text/plain": [
       "  0%|          | 0/100 [00:00<?, ?it/s]"
      ]
     },
     "metadata": {},
     "output_type": "display_data"
    },
    {
     "name": "stderr",
     "output_type": "stream",
     "text": [
      "\u001b[32m[I 2022-09-19 15:14:36,601]\u001b[0m Trial 466 finished with value: 251.96 and parameters: {'discount_factor': 0.9533629664948969, 'learning_rate': 0.09797178033666139, 'network_shape': 100}. Best is trial 78 with value: 246.68.\u001b[0m\n"
     ]
    },
    {
     "data": {
      "application/vnd.jupyter.widget-view+json": {
       "model_id": "4df00e12005148b2ac6831bb0f6d4403",
       "version_major": 2,
       "version_minor": 0
      },
      "text/plain": [
       "  0%|          | 0/100 [00:00<?, ?it/s]"
      ]
     },
     "metadata": {},
     "output_type": "display_data"
    },
    {
     "name": "stderr",
     "output_type": "stream",
     "text": [
      "\u001b[32m[I 2022-09-19 15:14:58,576]\u001b[0m Trial 467 finished with value: 631.12 and parameters: {'discount_factor': 0.96359904954354, 'learning_rate': 0.0952613136996047, 'network_shape': 40}. Best is trial 78 with value: 246.68.\u001b[0m\n"
     ]
    },
    {
     "data": {
      "application/vnd.jupyter.widget-view+json": {
       "model_id": "ba75c40cfbe448d0adf672389f96b35b",
       "version_major": 2,
       "version_minor": 0
      },
      "text/plain": [
       "  0%|          | 0/100 [00:00<?, ?it/s]"
      ]
     },
     "metadata": {},
     "output_type": "display_data"
    },
    {
     "name": "stderr",
     "output_type": "stream",
     "text": [
      "\u001b[32m[I 2022-09-19 15:15:20,577]\u001b[0m Trial 468 finished with value: 250.69 and parameters: {'discount_factor': 0.9496383635216593, 'learning_rate': 0.04857525001458543, 'network_shape': 49}. Best is trial 78 with value: 246.68.\u001b[0m\n"
     ]
    },
    {
     "data": {
      "application/vnd.jupyter.widget-view+json": {
       "model_id": "963de7c0c2514c0d94adefb035a98642",
       "version_major": 2,
       "version_minor": 0
      },
      "text/plain": [
       "  0%|          | 0/100 [00:00<?, ?it/s]"
      ]
     },
     "metadata": {},
     "output_type": "display_data"
    },
    {
     "name": "stderr",
     "output_type": "stream",
     "text": [
      "\u001b[32m[I 2022-09-19 15:15:40,887]\u001b[0m Trial 469 finished with value: 433.57 and parameters: {'discount_factor': 0.986312359446154, 'learning_rate': 0.08868220541386387, 'network_shape': 52}. Best is trial 78 with value: 246.68.\u001b[0m\n"
     ]
    },
    {
     "data": {
      "application/vnd.jupyter.widget-view+json": {
       "model_id": "90f594e444fd44de8db1485817942005",
       "version_major": 2,
       "version_minor": 0
      },
      "text/plain": [
       "  0%|          | 0/100 [00:00<?, ?it/s]"
      ]
     },
     "metadata": {},
     "output_type": "display_data"
    },
    {
     "name": "stderr",
     "output_type": "stream",
     "text": [
      "\u001b[32m[I 2022-09-19 15:16:00,925]\u001b[0m Trial 470 finished with value: 447.12 and parameters: {'discount_factor': 0.9655126152121187, 'learning_rate': 0.04336121556566807, 'network_shape': 45}. Best is trial 78 with value: 246.68.\u001b[0m\n"
     ]
    },
    {
     "data": {
      "application/vnd.jupyter.widget-view+json": {
       "model_id": "6cd3af2a3eea402faf9274f5bdf70773",
       "version_major": 2,
       "version_minor": 0
      },
      "text/plain": [
       "  0%|          | 0/100 [00:00<?, ?it/s]"
      ]
     },
     "metadata": {},
     "output_type": "display_data"
    },
    {
     "name": "stderr",
     "output_type": "stream",
     "text": [
      "\u001b[32m[I 2022-09-19 15:16:20,996]\u001b[0m Trial 471 finished with value: 446.48 and parameters: {'discount_factor': 0.9808646632891174, 'learning_rate': 0.09687487405764869, 'network_shape': 35}. Best is trial 78 with value: 246.68.\u001b[0m\n"
     ]
    },
    {
     "data": {
      "application/vnd.jupyter.widget-view+json": {
       "model_id": "ddecd90ab60b47678e55e354de0cee34",
       "version_major": 2,
       "version_minor": 0
      },
      "text/plain": [
       "  0%|          | 0/100 [00:00<?, ?it/s]"
      ]
     },
     "metadata": {},
     "output_type": "display_data"
    },
    {
     "name": "stderr",
     "output_type": "stream",
     "text": [
      "\u001b[32m[I 2022-09-19 15:16:41,782]\u001b[0m Trial 472 finished with value: 446.52 and parameters: {'discount_factor': 0.9512959194812608, 'learning_rate': 0.09996848598301206, 'network_shape': 113}. Best is trial 78 with value: 246.68.\u001b[0m\n"
     ]
    },
    {
     "data": {
      "application/vnd.jupyter.widget-view+json": {
       "model_id": "372f324217d04998b582a2f4e56647ed",
       "version_major": 2,
       "version_minor": 0
      },
      "text/plain": [
       "  0%|          | 0/100 [00:00<?, ?it/s]"
      ]
     },
     "metadata": {},
     "output_type": "display_data"
    },
    {
     "name": "stderr",
     "output_type": "stream",
     "text": [
      "\u001b[32m[I 2022-09-19 15:17:02,872]\u001b[0m Trial 473 finished with value: 449.82 and parameters: {'discount_factor': 0.9686406968391686, 'learning_rate': 0.0795510130968506, 'network_shape': 58}. Best is trial 78 with value: 246.68.\u001b[0m\n"
     ]
    },
    {
     "data": {
      "application/vnd.jupyter.widget-view+json": {
       "model_id": "ffb360ae7470489dbe93ca8bba6c2399",
       "version_major": 2,
       "version_minor": 0
      },
      "text/plain": [
       "  0%|          | 0/100 [00:00<?, ?it/s]"
      ]
     },
     "metadata": {},
     "output_type": "display_data"
    },
    {
     "name": "stderr",
     "output_type": "stream",
     "text": [
      "\u001b[32m[I 2022-09-19 15:17:24,754]\u001b[0m Trial 474 finished with value: 633.48 and parameters: {'discount_factor': 0.9599907170868986, 'learning_rate': 0.0638597241495152, 'network_shape': 63}. Best is trial 78 with value: 246.68.\u001b[0m\n"
     ]
    },
    {
     "data": {
      "application/vnd.jupyter.widget-view+json": {
       "model_id": "a8b837d103114b12909892a03a599c29",
       "version_major": 2,
       "version_minor": 0
      },
      "text/plain": [
       "  0%|          | 0/100 [00:00<?, ?it/s]"
      ]
     },
     "metadata": {},
     "output_type": "display_data"
    },
    {
     "name": "stderr",
     "output_type": "stream",
     "text": [
      "\u001b[32m[I 2022-09-19 15:17:45,717]\u001b[0m Trial 475 finished with value: 442.82 and parameters: {'discount_factor': 0.9624679134946041, 'learning_rate': 0.05314671513654484, 'network_shape': 97}. Best is trial 78 with value: 246.68.\u001b[0m\n"
     ]
    },
    {
     "data": {
      "application/vnd.jupyter.widget-view+json": {
       "model_id": "0d4436bf246f470bbbcb07961375dcf3",
       "version_major": 2,
       "version_minor": 0
      },
      "text/plain": [
       "  0%|          | 0/100 [00:00<?, ?it/s]"
      ]
     },
     "metadata": {},
     "output_type": "display_data"
    },
    {
     "name": "stderr",
     "output_type": "stream",
     "text": [
      "\u001b[32m[I 2022-09-19 15:18:06,549]\u001b[0m Trial 476 finished with value: 441.02 and parameters: {'discount_factor': 0.9532170207361876, 'learning_rate': 0.0753105122813093, 'network_shape': 103}. Best is trial 78 with value: 246.68.\u001b[0m\n"
     ]
    },
    {
     "data": {
      "application/vnd.jupyter.widget-view+json": {
       "model_id": "6756ad8506dd40c1850f2ab26e5da735",
       "version_major": 2,
       "version_minor": 0
      },
      "text/plain": [
       "  0%|          | 0/100 [00:00<?, ?it/s]"
      ]
     },
     "metadata": {},
     "output_type": "display_data"
    },
    {
     "name": "stderr",
     "output_type": "stream",
     "text": [
      "\u001b[32m[I 2022-09-19 15:18:27,499]\u001b[0m Trial 477 finished with value: 263.77 and parameters: {'discount_factor': 0.9715576306603009, 'learning_rate': 0.0830062392346383, 'network_shape': 108}. Best is trial 78 with value: 246.68.\u001b[0m\n"
     ]
    },
    {
     "data": {
      "application/vnd.jupyter.widget-view+json": {
       "model_id": "1e3ce10d9f1141acb8e6c19e5a5448be",
       "version_major": 2,
       "version_minor": 0
      },
      "text/plain": [
       "  0%|          | 0/100 [00:00<?, ?it/s]"
      ]
     },
     "metadata": {},
     "output_type": "display_data"
    },
    {
     "name": "stderr",
     "output_type": "stream",
     "text": [
      "\u001b[32m[I 2022-09-19 15:18:51,054]\u001b[0m Trial 478 finished with value: 443.76 and parameters: {'discount_factor': 0.9563808474628314, 'learning_rate': 0.0945626350215184, 'network_shape': 36}. Best is trial 78 with value: 246.68.\u001b[0m\n"
     ]
    },
    {
     "data": {
      "application/vnd.jupyter.widget-view+json": {
       "model_id": "1f81c7e31f1f4801a998a326e0835413",
       "version_major": 2,
       "version_minor": 0
      },
      "text/plain": [
       "  0%|          | 0/100 [00:00<?, ?it/s]"
      ]
     },
     "metadata": {},
     "output_type": "display_data"
    },
    {
     "name": "stderr",
     "output_type": "stream",
     "text": [
      "\u001b[32m[I 2022-09-19 15:19:12,550]\u001b[0m Trial 479 finished with value: 637.22 and parameters: {'discount_factor': 0.9666366152549694, 'learning_rate': 0.09803398889839504, 'network_shape': 110}. Best is trial 78 with value: 246.68.\u001b[0m\n"
     ]
    },
    {
     "data": {
      "application/vnd.jupyter.widget-view+json": {
       "model_id": "dfb1e43749e545079dde7c9eb62cbdd6",
       "version_major": 2,
       "version_minor": 0
      },
      "text/plain": [
       "  0%|          | 0/100 [00:00<?, ?it/s]"
      ]
     },
     "metadata": {},
     "output_type": "display_data"
    },
    {
     "name": "stderr",
     "output_type": "stream",
     "text": [
      "\u001b[32m[I 2022-09-19 15:19:33,248]\u001b[0m Trial 480 finished with value: 634.6 and parameters: {'discount_factor': 0.9465346944073204, 'learning_rate': 0.09206338957127379, 'network_shape': 99}. Best is trial 78 with value: 246.68.\u001b[0m\n"
     ]
    },
    {
     "data": {
      "application/vnd.jupyter.widget-view+json": {
       "model_id": "ab0355b6503040d987b82d5cb803d253",
       "version_major": 2,
       "version_minor": 0
      },
      "text/plain": [
       "  0%|          | 0/100 [00:00<?, ?it/s]"
      ]
     },
     "metadata": {},
     "output_type": "display_data"
    },
    {
     "name": "stderr",
     "output_type": "stream",
     "text": [
      "\u001b[32m[I 2022-09-19 15:19:53,279]\u001b[0m Trial 481 finished with value: 445.83 and parameters: {'discount_factor': 0.987829566601806, 'learning_rate': 0.08641083355993072, 'network_shape': 43}. Best is trial 78 with value: 246.68.\u001b[0m\n"
     ]
    },
    {
     "data": {
      "application/vnd.jupyter.widget-view+json": {
       "model_id": "0883600b8f184e1e9966ab596b78294d",
       "version_major": 2,
       "version_minor": 0
      },
      "text/plain": [
       "  0%|          | 0/100 [00:00<?, ?it/s]"
      ]
     },
     "metadata": {},
     "output_type": "display_data"
    },
    {
     "name": "stderr",
     "output_type": "stream",
     "text": [
      "\u001b[32m[I 2022-09-19 15:20:13,598]\u001b[0m Trial 482 finished with value: 252.77 and parameters: {'discount_factor': 0.9485637303467316, 'learning_rate': 0.09589394234067798, 'network_shape': 73}. Best is trial 78 with value: 246.68.\u001b[0m\n"
     ]
    },
    {
     "data": {
      "application/vnd.jupyter.widget-view+json": {
       "model_id": "89d2b518d07741bf8d98615c4e028ee3",
       "version_major": 2,
       "version_minor": 0
      },
      "text/plain": [
       "  0%|          | 0/100 [00:00<?, ?it/s]"
      ]
     },
     "metadata": {},
     "output_type": "display_data"
    },
    {
     "name": "stderr",
     "output_type": "stream",
     "text": [
      "\u001b[32m[I 2022-09-19 15:20:34,509]\u001b[0m Trial 483 finished with value: 440.74 and parameters: {'discount_factor': 0.9822035001247517, 'learning_rate': 0.0904039243921338, 'network_shape': 38}. Best is trial 78 with value: 246.68.\u001b[0m\n"
     ]
    },
    {
     "data": {
      "application/vnd.jupyter.widget-view+json": {
       "model_id": "6db9444f7a3a402a98af88ecbb005297",
       "version_major": 2,
       "version_minor": 0
      },
      "text/plain": [
       "  0%|          | 0/100 [00:00<?, ?it/s]"
      ]
     },
     "metadata": {},
     "output_type": "display_data"
    },
    {
     "name": "stderr",
     "output_type": "stream",
     "text": [
      "\u001b[32m[I 2022-09-19 15:20:55,329]\u001b[0m Trial 484 finished with value: 249.37 and parameters: {'discount_factor': 0.9585418739197404, 'learning_rate': 0.07221291828182243, 'network_shape': 115}. Best is trial 78 with value: 246.68.\u001b[0m\n"
     ]
    },
    {
     "data": {
      "application/vnd.jupyter.widget-view+json": {
       "model_id": "f524a30e10e94a57a85bbce74376ccf2",
       "version_major": 2,
       "version_minor": 0
      },
      "text/plain": [
       "  0%|          | 0/100 [00:00<?, ?it/s]"
      ]
     },
     "metadata": {},
     "output_type": "display_data"
    },
    {
     "name": "stderr",
     "output_type": "stream",
     "text": [
      "\u001b[32m[I 2022-09-19 15:21:16,436]\u001b[0m Trial 485 finished with value: 257.13 and parameters: {'discount_factor': 0.9591287919176535, 'learning_rate': 0.07306545194344839, 'network_shape': 116}. Best is trial 78 with value: 246.68.\u001b[0m\n"
     ]
    },
    {
     "data": {
      "application/vnd.jupyter.widget-view+json": {
       "model_id": "29afc1442b8440d6b89afb4d8c9a2b2f",
       "version_major": 2,
       "version_minor": 0
      },
      "text/plain": [
       "  0%|          | 0/100 [00:00<?, ?it/s]"
      ]
     },
     "metadata": {},
     "output_type": "display_data"
    },
    {
     "name": "stderr",
     "output_type": "stream",
     "text": [
      "\u001b[32m[I 2022-09-19 15:21:38,209]\u001b[0m Trial 486 finished with value: 455.15 and parameters: {'discount_factor': 0.9569159649125667, 'learning_rate': 0.07126824883196606, 'network_shape': 114}. Best is trial 78 with value: 246.68.\u001b[0m\n"
     ]
    },
    {
     "data": {
      "application/vnd.jupyter.widget-view+json": {
       "model_id": "34029247334241ada5fc2c9e27dd6e8a",
       "version_major": 2,
       "version_minor": 0
      },
      "text/plain": [
       "  0%|          | 0/100 [00:00<?, ?it/s]"
      ]
     },
     "metadata": {},
     "output_type": "display_data"
    },
    {
     "name": "stderr",
     "output_type": "stream",
     "text": [
      "\u001b[32m[I 2022-09-19 15:22:00,647]\u001b[0m Trial 487 finished with value: 449.48 and parameters: {'discount_factor': 0.9578871733634138, 'learning_rate': 0.06827541074233866, 'network_shape': 120}. Best is trial 78 with value: 246.68.\u001b[0m\n"
     ]
    },
    {
     "data": {
      "application/vnd.jupyter.widget-view+json": {
       "model_id": "3d3df39650cd4076be1191b5ee6f75ad",
       "version_major": 2,
       "version_minor": 0
      },
      "text/plain": [
       "  0%|          | 0/100 [00:00<?, ?it/s]"
      ]
     },
     "metadata": {},
     "output_type": "display_data"
    },
    {
     "name": "stderr",
     "output_type": "stream",
     "text": [
      "\u001b[32m[I 2022-09-19 15:22:23,120]\u001b[0m Trial 488 finished with value: 637.81 and parameters: {'discount_factor': 0.9551058370605011, 'learning_rate': 0.0785673537110587, 'network_shape': 112}. Best is trial 78 with value: 246.68.\u001b[0m\n"
     ]
    },
    {
     "data": {
      "application/vnd.jupyter.widget-view+json": {
       "model_id": "b8796ee9cc6c4774b50219b678178186",
       "version_major": 2,
       "version_minor": 0
      },
      "text/plain": [
       "  0%|          | 0/100 [00:00<?, ?it/s]"
      ]
     },
     "metadata": {},
     "output_type": "display_data"
    },
    {
     "name": "stderr",
     "output_type": "stream",
     "text": [
      "\u001b[32m[I 2022-09-19 15:22:44,867]\u001b[0m Trial 489 finished with value: 250.47 and parameters: {'discount_factor': 0.9590005494724991, 'learning_rate': 0.0768229599218575, 'network_shape': 118}. Best is trial 78 with value: 246.68.\u001b[0m\n"
     ]
    },
    {
     "data": {
      "application/vnd.jupyter.widget-view+json": {
       "model_id": "2e337f93171f409bbfce4c2d3b4da805",
       "version_major": 2,
       "version_minor": 0
      },
      "text/plain": [
       "  0%|          | 0/100 [00:00<?, ?it/s]"
      ]
     },
     "metadata": {},
     "output_type": "display_data"
    },
    {
     "name": "stderr",
     "output_type": "stream",
     "text": [
      "\u001b[32m[I 2022-09-19 15:23:04,837]\u001b[0m Trial 490 finished with value: 635.88 and parameters: {'discount_factor': 0.9592179106940536, 'learning_rate': 0.07632471240221464, 'network_shape': 119}. Best is trial 78 with value: 246.68.\u001b[0m\n"
     ]
    },
    {
     "data": {
      "application/vnd.jupyter.widget-view+json": {
       "model_id": "2defe40be42c45d4b5578b980ece8ad6",
       "version_major": 2,
       "version_minor": 0
      },
      "text/plain": [
       "  0%|          | 0/100 [00:00<?, ?it/s]"
      ]
     },
     "metadata": {},
     "output_type": "display_data"
    },
    {
     "name": "stderr",
     "output_type": "stream",
     "text": [
      "\u001b[32m[I 2022-09-19 15:23:24,818]\u001b[0m Trial 491 finished with value: 633.45 and parameters: {'discount_factor': 0.9601099013592905, 'learning_rate': 0.0772268241526416, 'network_shape': 117}. Best is trial 78 with value: 246.68.\u001b[0m\n"
     ]
    },
    {
     "data": {
      "application/vnd.jupyter.widget-view+json": {
       "model_id": "404aaeea66794b60a9e1a411e1a5a826",
       "version_major": 2,
       "version_minor": 0
      },
      "text/plain": [
       "  0%|          | 0/100 [00:00<?, ?it/s]"
      ]
     },
     "metadata": {},
     "output_type": "display_data"
    },
    {
     "name": "stderr",
     "output_type": "stream",
     "text": [
      "\u001b[32m[I 2022-09-19 15:23:44,450]\u001b[0m Trial 492 finished with value: 250.81 and parameters: {'discount_factor': 0.9581967363658725, 'learning_rate': 0.07164366788400021, 'network_shape': 115}. Best is trial 78 with value: 246.68.\u001b[0m\n"
     ]
    },
    {
     "data": {
      "application/vnd.jupyter.widget-view+json": {
       "model_id": "c19f1b40369d4c178842bf957280bbc6",
       "version_major": 2,
       "version_minor": 0
      },
      "text/plain": [
       "  0%|          | 0/100 [00:00<?, ?it/s]"
      ]
     },
     "metadata": {},
     "output_type": "display_data"
    },
    {
     "name": "stderr",
     "output_type": "stream",
     "text": [
      "\u001b[32m[I 2022-09-19 15:24:04,644]\u001b[0m Trial 493 finished with value: 442.41 and parameters: {'discount_factor': 0.9115507442942984, 'learning_rate': 0.07908499546567388, 'network_shape': 122}. Best is trial 78 with value: 246.68.\u001b[0m\n"
     ]
    },
    {
     "data": {
      "application/vnd.jupyter.widget-view+json": {
       "model_id": "102d2e72091d4a8e931bffc79a7e202d",
       "version_major": 2,
       "version_minor": 0
      },
      "text/plain": [
       "  0%|          | 0/100 [00:00<?, ?it/s]"
      ]
     },
     "metadata": {},
     "output_type": "display_data"
    },
    {
     "name": "stderr",
     "output_type": "stream",
     "text": [
      "\u001b[32m[I 2022-09-19 15:24:24,902]\u001b[0m Trial 494 finished with value: 622.86 and parameters: {'discount_factor': 0.9621952206665918, 'learning_rate': 0.029259179928542062, 'network_shape': 114}. Best is trial 78 with value: 246.68.\u001b[0m\n"
     ]
    },
    {
     "data": {
      "application/vnd.jupyter.widget-view+json": {
       "model_id": "5e7bc8e5a4ae4e0da1552c7403c2b5bf",
       "version_major": 2,
       "version_minor": 0
      },
      "text/plain": [
       "  0%|          | 0/100 [00:00<?, ?it/s]"
      ]
     },
     "metadata": {},
     "output_type": "display_data"
    },
    {
     "name": "stderr",
     "output_type": "stream",
     "text": [
      "\u001b[32m[I 2022-09-19 15:24:44,382]\u001b[0m Trial 495 finished with value: 274.02 and parameters: {'discount_factor': 0.9603199542453165, 'learning_rate': 0.08115218242685403, 'network_shape': 117}. Best is trial 78 with value: 246.68.\u001b[0m\n"
     ]
    },
    {
     "data": {
      "application/vnd.jupyter.widget-view+json": {
       "model_id": "f5e9a489d84440c098edcc363aa62540",
       "version_major": 2,
       "version_minor": 0
      },
      "text/plain": [
       "  0%|          | 0/100 [00:00<?, ?it/s]"
      ]
     },
     "metadata": {},
     "output_type": "display_data"
    },
    {
     "name": "stderr",
     "output_type": "stream",
     "text": [
      "\u001b[32m[I 2022-09-19 15:25:04,239]\u001b[0m Trial 496 finished with value: 436.5 and parameters: {'discount_factor': 0.9566363259779325, 'learning_rate': 0.07351664044477066, 'network_shape': 111}. Best is trial 78 with value: 246.68.\u001b[0m\n"
     ]
    },
    {
     "data": {
      "application/vnd.jupyter.widget-view+json": {
       "model_id": "f7ec34ba6c614bfdb96e5aeb821ed8a8",
       "version_major": 2,
       "version_minor": 0
      },
      "text/plain": [
       "  0%|          | 0/100 [00:00<?, ?it/s]"
      ]
     },
     "metadata": {},
     "output_type": "display_data"
    },
    {
     "name": "stderr",
     "output_type": "stream",
     "text": [
      "\u001b[32m[I 2022-09-19 15:25:24,372]\u001b[0m Trial 497 finished with value: 440.59 and parameters: {'discount_factor': 0.9616449499148043, 'learning_rate': 0.07677164753819524, 'network_shape': 125}. Best is trial 78 with value: 246.68.\u001b[0m\n"
     ]
    },
    {
     "data": {
      "application/vnd.jupyter.widget-view+json": {
       "model_id": "65878db1490d4bf3b0995c572c65c43f",
       "version_major": 2,
       "version_minor": 0
      },
      "text/plain": [
       "  0%|          | 0/100 [00:00<?, ?it/s]"
      ]
     },
     "metadata": {},
     "output_type": "display_data"
    },
    {
     "name": "stderr",
     "output_type": "stream",
     "text": [
      "\u001b[32m[I 2022-09-19 15:25:43,765]\u001b[0m Trial 498 finished with value: 451.21 and parameters: {'discount_factor': 0.9544503403764627, 'learning_rate': 0.07356928265114852, 'network_shape': 119}. Best is trial 78 with value: 246.68.\u001b[0m\n"
     ]
    },
    {
     "data": {
      "application/vnd.jupyter.widget-view+json": {
       "model_id": "84444e13ef254e5498d2725f6e9c7673",
       "version_major": 2,
       "version_minor": 0
      },
      "text/plain": [
       "  0%|          | 0/100 [00:00<?, ?it/s]"
      ]
     },
     "metadata": {},
     "output_type": "display_data"
    },
    {
     "name": "stderr",
     "output_type": "stream",
     "text": [
      "\u001b[32m[I 2022-09-19 15:26:03,673]\u001b[0m Trial 499 finished with value: 635.91 and parameters: {'discount_factor': 0.9852843053860986, 'learning_rate': 0.08033941100098818, 'network_shape': 114}. Best is trial 78 with value: 246.68.\u001b[0m\n"
     ]
    },
    {
     "data": {
      "application/vnd.jupyter.widget-view+json": {
       "model_id": "d36afc5c06c44a9796d3341a4af4e7d1",
       "version_major": 2,
       "version_minor": 0
      },
      "text/plain": [
       "  0%|          | 0/100 [00:00<?, ?it/s]"
      ]
     },
     "metadata": {},
     "output_type": "display_data"
    },
    {
     "name": "stderr",
     "output_type": "stream",
     "text": [
      "\u001b[32m[I 2022-09-19 15:26:24,446]\u001b[0m Trial 500 finished with value: 442.55 and parameters: {'discount_factor': 0.9503184085442058, 'learning_rate': 0.07578551468584972, 'network_shape': 112}. Best is trial 78 with value: 246.68.\u001b[0m\n"
     ]
    },
    {
     "data": {
      "application/vnd.jupyter.widget-view+json": {
       "model_id": "7b6f0bba1b9148818ed4e42f17c11fa1",
       "version_major": 2,
       "version_minor": 0
      },
      "text/plain": [
       "  0%|          | 0/100 [00:00<?, ?it/s]"
      ]
     },
     "metadata": {},
     "output_type": "display_data"
    },
    {
     "name": "stderr",
     "output_type": "stream",
     "text": [
      "\u001b[32m[I 2022-09-19 15:26:46,316]\u001b[0m Trial 501 finished with value: 251.48 and parameters: {'discount_factor': 0.9589887074560868, 'learning_rate': 0.07464998481597651, 'network_shape': 117}. Best is trial 78 with value: 246.68.\u001b[0m\n"
     ]
    },
    {
     "data": {
      "application/vnd.jupyter.widget-view+json": {
       "model_id": "eba0c80f53ed41788d19aa31999bd02c",
       "version_major": 2,
       "version_minor": 0
      },
      "text/plain": [
       "  0%|          | 0/100 [00:00<?, ?it/s]"
      ]
     },
     "metadata": {},
     "output_type": "display_data"
    },
    {
     "name": "stderr",
     "output_type": "stream",
     "text": [
      "\u001b[32m[I 2022-09-19 15:27:06,895]\u001b[0m Trial 502 finished with value: 632.12 and parameters: {'discount_factor': 0.9748805874744914, 'learning_rate': 0.08373850101585735, 'network_shape': 114}. Best is trial 78 with value: 246.68.\u001b[0m\n"
     ]
    },
    {
     "data": {
      "application/vnd.jupyter.widget-view+json": {
       "model_id": "c0cab1fd79b74e49925a50608d07f8e7",
       "version_major": 2,
       "version_minor": 0
      },
      "text/plain": [
       "  0%|          | 0/100 [00:00<?, ?it/s]"
      ]
     },
     "metadata": {},
     "output_type": "display_data"
    },
    {
     "name": "stderr",
     "output_type": "stream",
     "text": [
      "\u001b[32m[I 2022-09-19 15:27:26,690]\u001b[0m Trial 503 finished with value: 250.8 and parameters: {'discount_factor': 0.9574351035929457, 'learning_rate': 0.06940282527362945, 'network_shape': 30}. Best is trial 78 with value: 246.68.\u001b[0m\n"
     ]
    },
    {
     "data": {
      "application/vnd.jupyter.widget-view+json": {
       "model_id": "dbf9fdfc62a34ff5bf0e2d6bd8d7b989",
       "version_major": 2,
       "version_minor": 0
      },
      "text/plain": [
       "  0%|          | 0/100 [00:00<?, ?it/s]"
      ]
     },
     "metadata": {},
     "output_type": "display_data"
    },
    {
     "name": "stderr",
     "output_type": "stream",
     "text": [
      "\u001b[32m[I 2022-09-19 15:27:46,698]\u001b[0m Trial 504 finished with value: 251.61 and parameters: {'discount_factor': 0.9607033283101736, 'learning_rate': 0.0818373669824513, 'network_shape': 108}. Best is trial 78 with value: 246.68.\u001b[0m\n"
     ]
    },
    {
     "data": {
      "application/vnd.jupyter.widget-view+json": {
       "model_id": "b1279f8f4629403d90464991bff25116",
       "version_major": 2,
       "version_minor": 0
      },
      "text/plain": [
       "  0%|          | 0/100 [00:00<?, ?it/s]"
      ]
     },
     "metadata": {},
     "output_type": "display_data"
    },
    {
     "name": "stderr",
     "output_type": "stream",
     "text": [
      "\u001b[32m[I 2022-09-19 15:28:06,940]\u001b[0m Trial 505 finished with value: 634.81 and parameters: {'discount_factor': 0.9840465806951957, 'learning_rate': 0.09826056829344838, 'network_shape': 127}. Best is trial 78 with value: 246.68.\u001b[0m\n"
     ]
    },
    {
     "data": {
      "application/vnd.jupyter.widget-view+json": {
       "model_id": "f11e1b3eb7f14b18b6236ad845699ee8",
       "version_major": 2,
       "version_minor": 0
      },
      "text/plain": [
       "  0%|          | 0/100 [00:00<?, ?it/s]"
      ]
     },
     "metadata": {},
     "output_type": "display_data"
    },
    {
     "name": "stderr",
     "output_type": "stream",
     "text": [
      "\u001b[32m[I 2022-09-19 15:28:26,753]\u001b[0m Trial 506 finished with value: 449.7 and parameters: {'discount_factor': 0.955598161513674, 'learning_rate': 0.07781661849776762, 'network_shape': 106}. Best is trial 78 with value: 246.68.\u001b[0m\n"
     ]
    },
    {
     "data": {
      "application/vnd.jupyter.widget-view+json": {
       "model_id": "d91bd44432a54aa8ac44f47b243c460d",
       "version_major": 2,
       "version_minor": 0
      },
      "text/plain": [
       "  0%|          | 0/100 [00:00<?, ?it/s]"
      ]
     },
     "metadata": {},
     "output_type": "display_data"
    },
    {
     "name": "stderr",
     "output_type": "stream",
     "text": [
      "\u001b[32m[I 2022-09-19 15:28:46,236]\u001b[0m Trial 507 finished with value: 440.76 and parameters: {'discount_factor': 0.9795820165539365, 'learning_rate': 0.09334602950489146, 'network_shape': 109}. Best is trial 78 with value: 246.68.\u001b[0m\n"
     ]
    },
    {
     "data": {
      "application/vnd.jupyter.widget-view+json": {
       "model_id": "1add2a608057470ba3f74d4f243dcbc8",
       "version_major": 2,
       "version_minor": 0
      },
      "text/plain": [
       "  0%|          | 0/100 [00:00<?, ?it/s]"
      ]
     },
     "metadata": {},
     "output_type": "display_data"
    },
    {
     "name": "stderr",
     "output_type": "stream",
     "text": [
      "\u001b[32m[I 2022-09-19 15:29:05,900]\u001b[0m Trial 508 finished with value: 250.38 and parameters: {'discount_factor': 0.9518806257150944, 'learning_rate': 0.045475971046821696, 'network_shape': 111}. Best is trial 78 with value: 246.68.\u001b[0m\n"
     ]
    },
    {
     "data": {
      "application/vnd.jupyter.widget-view+json": {
       "model_id": "d17751f838074b82b9523fae2deddb6b",
       "version_major": 2,
       "version_minor": 0
      },
      "text/plain": [
       "  0%|          | 0/100 [00:00<?, ?it/s]"
      ]
     },
     "metadata": {},
     "output_type": "display_data"
    },
    {
     "name": "stderr",
     "output_type": "stream",
     "text": [
      "\u001b[32m[I 2022-09-19 15:29:26,166]\u001b[0m Trial 509 finished with value: 635.18 and parameters: {'discount_factor': 0.951232648575065, 'learning_rate': 0.0460400029153984, 'network_shape': 110}. Best is trial 78 with value: 246.68.\u001b[0m\n"
     ]
    },
    {
     "data": {
      "application/vnd.jupyter.widget-view+json": {
       "model_id": "671f78d977fc4b179c0bfec2c28601bf",
       "version_major": 2,
       "version_minor": 0
      },
      "text/plain": [
       "  0%|          | 0/100 [00:00<?, ?it/s]"
      ]
     },
     "metadata": {},
     "output_type": "display_data"
    },
    {
     "name": "stderr",
     "output_type": "stream",
     "text": [
      "\u001b[32m[I 2022-09-19 15:29:45,755]\u001b[0m Trial 510 finished with value: 255.6 and parameters: {'discount_factor': 0.9521719185606268, 'learning_rate': 0.04504038632245102, 'network_shape': 113}. Best is trial 78 with value: 246.68.\u001b[0m\n"
     ]
    },
    {
     "data": {
      "application/vnd.jupyter.widget-view+json": {
       "model_id": "37a00708b2684941a2598554f1a48421",
       "version_major": 2,
       "version_minor": 0
      },
      "text/plain": [
       "  0%|          | 0/100 [00:00<?, ?it/s]"
      ]
     },
     "metadata": {},
     "output_type": "display_data"
    },
    {
     "name": "stderr",
     "output_type": "stream",
     "text": [
      "\u001b[32m[I 2022-09-19 15:30:05,781]\u001b[0m Trial 511 finished with value: 438.54 and parameters: {'discount_factor': 0.9558521507594572, 'learning_rate': 0.04327805137530072, 'network_shape': 115}. Best is trial 78 with value: 246.68.\u001b[0m\n"
     ]
    },
    {
     "data": {
      "application/vnd.jupyter.widget-view+json": {
       "model_id": "9613f798125744a199467edd611ee926",
       "version_major": 2,
       "version_minor": 0
      },
      "text/plain": [
       "  0%|          | 0/100 [00:00<?, ?it/s]"
      ]
     },
     "metadata": {},
     "output_type": "display_data"
    },
    {
     "name": "stderr",
     "output_type": "stream",
     "text": [
      "\u001b[32m[I 2022-09-19 15:30:25,619]\u001b[0m Trial 512 finished with value: 443.88 and parameters: {'discount_factor': 0.9586697244848832, 'learning_rate': 0.04776529932241139, 'network_shape': 116}. Best is trial 78 with value: 246.68.\u001b[0m\n"
     ]
    },
    {
     "data": {
      "application/vnd.jupyter.widget-view+json": {
       "model_id": "ab12067b6969439ea73f23362c152cb0",
       "version_major": 2,
       "version_minor": 0
      },
      "text/plain": [
       "  0%|          | 0/100 [00:00<?, ?it/s]"
      ]
     },
     "metadata": {},
     "output_type": "display_data"
    },
    {
     "name": "stderr",
     "output_type": "stream",
     "text": [
      "\u001b[32m[I 2022-09-19 15:30:45,773]\u001b[0m Trial 513 finished with value: 251.52 and parameters: {'discount_factor': 0.9528300975687501, 'learning_rate': 0.041307793104681904, 'network_shape': 111}. Best is trial 78 with value: 246.68.\u001b[0m\n"
     ]
    },
    {
     "data": {
      "application/vnd.jupyter.widget-view+json": {
       "model_id": "986834c608604bf4815fd4670abb4644",
       "version_major": 2,
       "version_minor": 0
      },
      "text/plain": [
       "  0%|          | 0/100 [00:00<?, ?it/s]"
      ]
     },
     "metadata": {},
     "output_type": "display_data"
    },
    {
     "name": "stderr",
     "output_type": "stream",
     "text": [
      "\u001b[32m[I 2022-09-19 15:31:06,821]\u001b[0m Trial 514 finished with value: 625.3 and parameters: {'discount_factor': 0.9495636888405873, 'learning_rate': 0.04594347908017354, 'network_shape': 112}. Best is trial 78 with value: 246.68.\u001b[0m\n"
     ]
    },
    {
     "data": {
      "application/vnd.jupyter.widget-view+json": {
       "model_id": "8fb8ae177c404a1fa0fc4c4f013277cf",
       "version_major": 2,
       "version_minor": 0
      },
      "text/plain": [
       "  0%|          | 0/100 [00:00<?, ?it/s]"
      ]
     },
     "metadata": {},
     "output_type": "display_data"
    },
    {
     "name": "stderr",
     "output_type": "stream",
     "text": [
      "\u001b[32m[I 2022-09-19 15:31:26,860]\u001b[0m Trial 515 finished with value: 253.27 and parameters: {'discount_factor': 0.9773681942589789, 'learning_rate': 0.04231818629864674, 'network_shape': 109}. Best is trial 78 with value: 246.68.\u001b[0m\n"
     ]
    },
    {
     "data": {
      "application/vnd.jupyter.widget-view+json": {
       "model_id": "b8fbfec0d04948019d805b530d30f172",
       "version_major": 2,
       "version_minor": 0
      },
      "text/plain": [
       "  0%|          | 0/100 [00:00<?, ?it/s]"
      ]
     },
     "metadata": {},
     "output_type": "display_data"
    },
    {
     "name": "stderr",
     "output_type": "stream",
     "text": [
      "\u001b[32m[I 2022-09-19 15:31:48,790]\u001b[0m Trial 516 finished with value: 250.75 and parameters: {'discount_factor': 0.9406218471047216, 'learning_rate': 0.04883333172399535, 'network_shape': 105}. Best is trial 78 with value: 246.68.\u001b[0m\n"
     ]
    },
    {
     "data": {
      "application/vnd.jupyter.widget-view+json": {
       "model_id": "b4a16092b18e4808b120a0c82b8929ae",
       "version_major": 2,
       "version_minor": 0
      },
      "text/plain": [
       "  0%|          | 0/100 [00:00<?, ?it/s]"
      ]
     },
     "metadata": {},
     "output_type": "display_data"
    },
    {
     "name": "stderr",
     "output_type": "stream",
     "text": [
      "\u001b[32m[I 2022-09-19 15:32:17,505]\u001b[0m Trial 517 finished with value: 635.12 and parameters: {'discount_factor': 0.9640304711014718, 'learning_rate': 0.0440004821571879, 'network_shape': 111}. Best is trial 78 with value: 246.68.\u001b[0m\n"
     ]
    },
    {
     "data": {
      "application/vnd.jupyter.widget-view+json": {
       "model_id": "3874ee7719594e67a7083e07b6b72e9e",
       "version_major": 2,
       "version_minor": 0
      },
      "text/plain": [
       "  0%|          | 0/100 [00:00<?, ?it/s]"
      ]
     },
     "metadata": {},
     "output_type": "display_data"
    },
    {
     "name": "stderr",
     "output_type": "stream",
     "text": [
      "\u001b[32m[I 2022-09-19 15:32:43,924]\u001b[0m Trial 518 finished with value: 444.58 and parameters: {'discount_factor': 0.9485464421729025, 'learning_rate': 0.08475780318844953, 'network_shape': 123}. Best is trial 78 with value: 246.68.\u001b[0m\n"
     ]
    },
    {
     "data": {
      "application/vnd.jupyter.widget-view+json": {
       "model_id": "ab879428e4d64c0ea093a9bda151e6f4",
       "version_major": 2,
       "version_minor": 0
      },
      "text/plain": [
       "  0%|          | 0/100 [00:00<?, ?it/s]"
      ]
     },
     "metadata": {},
     "output_type": "display_data"
    },
    {
     "name": "stderr",
     "output_type": "stream",
     "text": [
      "\u001b[32m[I 2022-09-19 15:33:12,306]\u001b[0m Trial 519 finished with value: 447.79 and parameters: {'discount_factor': 0.95386304892993, 'learning_rate': 0.07525614148263986, 'network_shape': 119}. Best is trial 78 with value: 246.68.\u001b[0m\n"
     ]
    },
    {
     "data": {
      "application/vnd.jupyter.widget-view+json": {
       "model_id": "d81b2ed61c454a968879cc77aa140740",
       "version_major": 2,
       "version_minor": 0
      },
      "text/plain": [
       "  0%|          | 0/100 [00:00<?, ?it/s]"
      ]
     },
     "metadata": {},
     "output_type": "display_data"
    },
    {
     "name": "stderr",
     "output_type": "stream",
     "text": [
      "\u001b[32m[I 2022-09-19 15:33:39,811]\u001b[0m Trial 520 finished with value: 250.82 and parameters: {'discount_factor': 0.951290803069368, 'learning_rate': 0.05075356604241856, 'network_shape': 94}. Best is trial 78 with value: 246.68.\u001b[0m\n"
     ]
    },
    {
     "data": {
      "application/vnd.jupyter.widget-view+json": {
       "model_id": "9ccb0cd2fb1e4b0c8909d9f289f41a1a",
       "version_major": 2,
       "version_minor": 0
      },
      "text/plain": [
       "  0%|          | 0/100 [00:00<?, ?it/s]"
      ]
     },
     "metadata": {},
     "output_type": "display_data"
    },
    {
     "name": "stderr",
     "output_type": "stream",
     "text": [
      "\u001b[32m[I 2022-09-19 15:34:06,434]\u001b[0m Trial 521 finished with value: 436.85 and parameters: {'discount_factor': 0.9869967319317148, 'learning_rate': 0.0871454302978027, 'network_shape': 102}. Best is trial 78 with value: 246.68.\u001b[0m\n"
     ]
    },
    {
     "data": {
      "application/vnd.jupyter.widget-view+json": {
       "model_id": "920e6619152f49128c617b28f220d463",
       "version_major": 2,
       "version_minor": 0
      },
      "text/plain": [
       "  0%|          | 0/100 [00:00<?, ?it/s]"
      ]
     },
     "metadata": {},
     "output_type": "display_data"
    },
    {
     "name": "stderr",
     "output_type": "stream",
     "text": [
      "\u001b[32m[I 2022-09-19 15:34:31,904]\u001b[0m Trial 522 finished with value: 632.87 and parameters: {'discount_factor': 0.9829157395124698, 'learning_rate': 0.07121046344212391, 'network_shape': 32}. Best is trial 78 with value: 246.68.\u001b[0m\n"
     ]
    },
    {
     "data": {
      "application/vnd.jupyter.widget-view+json": {
       "model_id": "2852ab96679144959e2e11b005e647f8",
       "version_major": 2,
       "version_minor": 0
      },
      "text/plain": [
       "  0%|          | 0/100 [00:00<?, ?it/s]"
      ]
     },
     "metadata": {},
     "output_type": "display_data"
    },
    {
     "name": "stderr",
     "output_type": "stream",
     "text": [
      "\u001b[32m[I 2022-09-19 15:34:57,295]\u001b[0m Trial 523 finished with value: 447.84 and parameters: {'discount_factor': 0.9463475597066626, 'learning_rate': 0.07867143432998307, 'network_shape': 107}. Best is trial 78 with value: 246.68.\u001b[0m\n"
     ]
    },
    {
     "data": {
      "application/vnd.jupyter.widget-view+json": {
       "model_id": "e9e3666986754734a95eeee1bec20f4b",
       "version_major": 2,
       "version_minor": 0
      },
      "text/plain": [
       "  0%|          | 0/100 [00:00<?, ?it/s]"
      ]
     },
     "metadata": {},
     "output_type": "display_data"
    },
    {
     "name": "stderr",
     "output_type": "stream",
     "text": [
      "\u001b[32m[I 2022-09-19 15:35:22,166]\u001b[0m Trial 524 finished with value: 253.21 and parameters: {'discount_factor': 0.9497285388911054, 'learning_rate': 0.08937015535971332, 'network_shape': 89}. Best is trial 78 with value: 246.68.\u001b[0m\n"
     ]
    },
    {
     "data": {
      "application/vnd.jupyter.widget-view+json": {
       "model_id": "c5b49a6cf1d94ee881d854c46f5ff184",
       "version_major": 2,
       "version_minor": 0
      },
      "text/plain": [
       "  0%|          | 0/100 [00:00<?, ?it/s]"
      ]
     },
     "metadata": {},
     "output_type": "display_data"
    },
    {
     "name": "stderr",
     "output_type": "stream",
     "text": [
      "\u001b[32m[I 2022-09-19 15:35:47,903]\u001b[0m Trial 525 finished with value: 633.21 and parameters: {'discount_factor': 0.9529336740489854, 'learning_rate': 0.04028225242968884, 'network_shape': 115}. Best is trial 78 with value: 246.68.\u001b[0m\n"
     ]
    },
    {
     "data": {
      "application/vnd.jupyter.widget-view+json": {
       "model_id": "0d55f62fb47a420f83e2a053f36c99b3",
       "version_major": 2,
       "version_minor": 0
      },
      "text/plain": [
       "  0%|          | 0/100 [00:00<?, ?it/s]"
      ]
     },
     "metadata": {},
     "output_type": "display_data"
    },
    {
     "name": "stderr",
     "output_type": "stream",
     "text": [
      "\u001b[32m[I 2022-09-19 15:36:12,656]\u001b[0m Trial 526 finished with value: 250.59 and parameters: {'discount_factor': 0.9855932032401753, 'learning_rate': 0.03870736392134611, 'network_shape': 98}. Best is trial 78 with value: 246.68.\u001b[0m\n"
     ]
    },
    {
     "data": {
      "application/vnd.jupyter.widget-view+json": {
       "model_id": "302c5202413f488090d7ff5e908f314d",
       "version_major": 2,
       "version_minor": 0
      },
      "text/plain": [
       "  0%|          | 0/100 [00:00<?, ?it/s]"
      ]
     },
     "metadata": {},
     "output_type": "display_data"
    },
    {
     "name": "stderr",
     "output_type": "stream",
     "text": [
      "\u001b[32m[I 2022-09-19 15:36:37,434]\u001b[0m Trial 527 finished with value: 252.96 and parameters: {'discount_factor': 0.9621495366160402, 'learning_rate': 0.04552706481899605, 'network_shape': 113}. Best is trial 78 with value: 246.68.\u001b[0m\n"
     ]
    },
    {
     "data": {
      "application/vnd.jupyter.widget-view+json": {
       "model_id": "6f606553aa3248aaad1fd0927c4abb0a",
       "version_major": 2,
       "version_minor": 0
      },
      "text/plain": [
       "  0%|          | 0/100 [00:00<?, ?it/s]"
      ]
     },
     "metadata": {},
     "output_type": "display_data"
    },
    {
     "name": "stderr",
     "output_type": "stream",
     "text": [
      "\u001b[32m[I 2022-09-19 15:37:03,663]\u001b[0m Trial 528 finished with value: 439.64 and parameters: {'discount_factor': 0.9735969196189129, 'learning_rate': 0.09166898828653511, 'network_shape': 118}. Best is trial 78 with value: 246.68.\u001b[0m\n"
     ]
    },
    {
     "data": {
      "application/vnd.jupyter.widget-view+json": {
       "model_id": "8defbe565abc4e378449c7de106057ed",
       "version_major": 2,
       "version_minor": 0
      },
      "text/plain": [
       "  0%|          | 0/100 [00:00<?, ?it/s]"
      ]
     },
     "metadata": {},
     "output_type": "display_data"
    },
    {
     "name": "stderr",
     "output_type": "stream",
     "text": [
      "\u001b[32m[I 2022-09-19 15:37:29,612]\u001b[0m Trial 529 finished with value: 440.58 and parameters: {'discount_factor': 0.9881222159229172, 'learning_rate': 0.08212569239040529, 'network_shape': 105}. Best is trial 78 with value: 246.68.\u001b[0m\n"
     ]
    },
    {
     "data": {
      "application/vnd.jupyter.widget-view+json": {
       "model_id": "b4c80791133a4675bafeca1d835106a5",
       "version_major": 2,
       "version_minor": 0
      },
      "text/plain": [
       "  0%|          | 0/100 [00:00<?, ?it/s]"
      ]
     },
     "metadata": {},
     "output_type": "display_data"
    },
    {
     "name": "stderr",
     "output_type": "stream",
     "text": [
      "\u001b[32m[I 2022-09-19 15:37:55,796]\u001b[0m Trial 530 finished with value: 436.53 and parameters: {'discount_factor': 0.9542267613647056, 'learning_rate': 0.04697189342499081, 'network_shape': 101}. Best is trial 78 with value: 246.68.\u001b[0m\n"
     ]
    },
    {
     "data": {
      "application/vnd.jupyter.widget-view+json": {
       "model_id": "5e1ee4223aee46a280ed29590bf89722",
       "version_major": 2,
       "version_minor": 0
      },
      "text/plain": [
       "  0%|          | 0/100 [00:00<?, ?it/s]"
      ]
     },
     "metadata": {},
     "output_type": "display_data"
    },
    {
     "name": "stderr",
     "output_type": "stream",
     "text": [
      "\u001b[32m[I 2022-09-19 15:38:22,291]\u001b[0m Trial 531 finished with value: 437.95 and parameters: {'discount_factor': 0.9571787118256799, 'learning_rate': 0.07960408455265384, 'network_shape': 40}. Best is trial 78 with value: 246.68.\u001b[0m\n"
     ]
    },
    {
     "data": {
      "application/vnd.jupyter.widget-view+json": {
       "model_id": "c19c2c2e3d614e11a7ebd9bb7d6f2b3d",
       "version_major": 2,
       "version_minor": 0
      },
      "text/plain": [
       "  0%|          | 0/100 [00:00<?, ?it/s]"
      ]
     },
     "metadata": {},
     "output_type": "display_data"
    },
    {
     "name": "stderr",
     "output_type": "stream",
     "text": [
      "\u001b[32m[I 2022-09-19 15:38:48,343]\u001b[0m Trial 532 finished with value: 633.07 and parameters: {'discount_factor': 0.9691409907147818, 'learning_rate': 0.09448191404061987, 'network_shape': 110}. Best is trial 78 with value: 246.68.\u001b[0m\n"
     ]
    },
    {
     "data": {
      "application/vnd.jupyter.widget-view+json": {
       "model_id": "ac4a859c9c4a4043bb0ea9605a3dc2bc",
       "version_major": 2,
       "version_minor": 0
      },
      "text/plain": [
       "  0%|          | 0/100 [00:00<?, ?it/s]"
      ]
     },
     "metadata": {},
     "output_type": "display_data"
    },
    {
     "name": "stderr",
     "output_type": "stream",
     "text": [
      "\u001b[32m[I 2022-09-19 15:39:14,900]\u001b[0m Trial 533 finished with value: 452.44 and parameters: {'discount_factor': 0.9605222575423742, 'learning_rate': 0.07705927769369862, 'network_shape': 37}. Best is trial 78 with value: 246.68.\u001b[0m\n"
     ]
    },
    {
     "data": {
      "application/vnd.jupyter.widget-view+json": {
       "model_id": "f0519eb89412495185124b54802d6a8e",
       "version_major": 2,
       "version_minor": 0
      },
      "text/plain": [
       "  0%|          | 0/100 [00:00<?, ?it/s]"
      ]
     },
     "metadata": {},
     "output_type": "display_data"
    },
    {
     "name": "stderr",
     "output_type": "stream",
     "text": [
      "\u001b[32m[I 2022-09-19 15:39:40,984]\u001b[0m Trial 534 finished with value: 440.65 and parameters: {'discount_factor': 0.9814329829836561, 'learning_rate': 0.07484322528152866, 'network_shape': 107}. Best is trial 78 with value: 246.68.\u001b[0m\n"
     ]
    },
    {
     "data": {
      "application/vnd.jupyter.widget-view+json": {
       "model_id": "ee1d23e4db794c96a8efdfa89725b33e",
       "version_major": 2,
       "version_minor": 0
      },
      "text/plain": [
       "  0%|          | 0/100 [00:00<?, ?it/s]"
      ]
     },
     "metadata": {},
     "output_type": "display_data"
    },
    {
     "name": "stderr",
     "output_type": "stream",
     "text": [
      "\u001b[32m[I 2022-09-19 15:40:07,310]\u001b[0m Trial 535 finished with value: 449.26 and parameters: {'discount_factor': 0.9508774775096929, 'learning_rate': 0.05016754888559839, 'network_shape': 92}. Best is trial 78 with value: 246.68.\u001b[0m\n"
     ]
    },
    {
     "data": {
      "application/vnd.jupyter.widget-view+json": {
       "model_id": "ff4fd11041c54eabb9c1e2958d7bbb79",
       "version_major": 2,
       "version_minor": 0
      },
      "text/plain": [
       "  0%|          | 0/100 [00:00<?, ?it/s]"
      ]
     },
     "metadata": {},
     "output_type": "display_data"
    },
    {
     "name": "stderr",
     "output_type": "stream",
     "text": [
      "\u001b[32m[I 2022-09-19 15:40:32,332]\u001b[0m Trial 536 finished with value: 446.83 and parameters: {'discount_factor': 0.9475800834340575, 'learning_rate': 0.03610039250272352, 'network_shape': 95}. Best is trial 78 with value: 246.68.\u001b[0m\n"
     ]
    },
    {
     "data": {
      "application/vnd.jupyter.widget-view+json": {
       "model_id": "773336400fed4b9abe6699463bbe97d3",
       "version_major": 2,
       "version_minor": 0
      },
      "text/plain": [
       "  0%|          | 0/100 [00:00<?, ?it/s]"
      ]
     },
     "metadata": {},
     "output_type": "display_data"
    },
    {
     "name": "stderr",
     "output_type": "stream",
     "text": [
      "\u001b[32m[I 2022-09-19 15:40:56,737]\u001b[0m Trial 537 finished with value: 448.54 and parameters: {'discount_factor': 0.964194429810359, 'learning_rate': 0.08813164846649411, 'network_shape': 121}. Best is trial 78 with value: 246.68.\u001b[0m\n"
     ]
    },
    {
     "data": {
      "application/vnd.jupyter.widget-view+json": {
       "model_id": "189ef4266e7e4390bf7007449d15cdb9",
       "version_major": 2,
       "version_minor": 0
      },
      "text/plain": [
       "  0%|          | 0/100 [00:00<?, ?it/s]"
      ]
     },
     "metadata": {},
     "output_type": "display_data"
    },
    {
     "name": "stderr",
     "output_type": "stream",
     "text": [
      "\u001b[32m[I 2022-09-19 15:41:23,200]\u001b[0m Trial 538 finished with value: 251.68 and parameters: {'discount_factor': 0.9843156347649158, 'learning_rate': 0.09637564887220133, 'network_shape': 81}. Best is trial 78 with value: 246.68.\u001b[0m\n"
     ]
    },
    {
     "data": {
      "application/vnd.jupyter.widget-view+json": {
       "model_id": "905fc164c38b447f8f426faee3bababf",
       "version_major": 2,
       "version_minor": 0
      },
      "text/plain": [
       "  0%|          | 0/100 [00:00<?, ?it/s]"
      ]
     },
     "metadata": {},
     "output_type": "display_data"
    },
    {
     "name": "stderr",
     "output_type": "stream",
     "text": [
      "\u001b[32m[I 2022-09-19 15:41:50,117]\u001b[0m Trial 539 finished with value: 446.75 and parameters: {'discount_factor': 0.9562289434747696, 'learning_rate': 0.0722155188944996, 'network_shape': 128}. Best is trial 78 with value: 246.68.\u001b[0m\n"
     ]
    },
    {
     "data": {
      "application/vnd.jupyter.widget-view+json": {
       "model_id": "7997d0fd66af4b8e85d50f3443b67d3f",
       "version_major": 2,
       "version_minor": 0
      },
      "text/plain": [
       "  0%|          | 0/100 [00:00<?, ?it/s]"
      ]
     },
     "metadata": {},
     "output_type": "display_data"
    },
    {
     "name": "stderr",
     "output_type": "stream",
     "text": [
      "\u001b[32m[I 2022-09-19 15:42:17,527]\u001b[0m Trial 540 finished with value: 444.37 and parameters: {'discount_factor': 0.952661084731869, 'learning_rate': 0.085469548490925, 'network_shape': 104}. Best is trial 78 with value: 246.68.\u001b[0m\n"
     ]
    },
    {
     "data": {
      "application/vnd.jupyter.widget-view+json": {
       "model_id": "73ddd761a56143839cbb1e87778c1492",
       "version_major": 2,
       "version_minor": 0
      },
      "text/plain": [
       "  0%|          | 0/100 [00:00<?, ?it/s]"
      ]
     },
     "metadata": {},
     "output_type": "display_data"
    },
    {
     "name": "stderr",
     "output_type": "stream",
     "text": [
      "\u001b[32m[I 2022-09-19 15:42:44,825]\u001b[0m Trial 541 finished with value: 447.84 and parameters: {'discount_factor': 0.9667174721483895, 'learning_rate': 0.043263436477080634, 'network_shape': 61}. Best is trial 78 with value: 246.68.\u001b[0m\n"
     ]
    },
    {
     "data": {
      "application/vnd.jupyter.widget-view+json": {
       "model_id": "db01eb2e436643aa8b4c8492a5416118",
       "version_major": 2,
       "version_minor": 0
      },
      "text/plain": [
       "  0%|          | 0/100 [00:00<?, ?it/s]"
      ]
     },
     "metadata": {},
     "output_type": "display_data"
    },
    {
     "name": "stderr",
     "output_type": "stream",
     "text": [
      "\u001b[32m[I 2022-09-19 15:43:12,572]\u001b[0m Trial 542 finished with value: 252.55 and parameters: {'discount_factor': 0.9597666056110257, 'learning_rate': 0.08101613119839536, 'network_shape': 34}. Best is trial 78 with value: 246.68.\u001b[0m\n"
     ]
    },
    {
     "data": {
      "application/vnd.jupyter.widget-view+json": {
       "model_id": "0e44b7a9d1324efbac24c4955166da12",
       "version_major": 2,
       "version_minor": 0
      },
      "text/plain": [
       "  0%|          | 0/100 [00:00<?, ?it/s]"
      ]
     },
     "metadata": {},
     "output_type": "display_data"
    },
    {
     "name": "stderr",
     "output_type": "stream",
     "text": [
      "\u001b[32m[I 2022-09-19 15:43:40,579]\u001b[0m Trial 543 finished with value: 252.13 and parameters: {'discount_factor': 0.9488053828190103, 'learning_rate': 0.09437935375159258, 'network_shape': 97}. Best is trial 78 with value: 246.68.\u001b[0m\n"
     ]
    },
    {
     "data": {
      "application/vnd.jupyter.widget-view+json": {
       "model_id": "aee56e9a75494621937f29686e5c801a",
       "version_major": 2,
       "version_minor": 0
      },
      "text/plain": [
       "  0%|          | 0/100 [00:00<?, ?it/s]"
      ]
     },
     "metadata": {},
     "output_type": "display_data"
    },
    {
     "name": "stderr",
     "output_type": "stream",
     "text": [
      "\u001b[32m[I 2022-09-19 15:44:06,760]\u001b[0m Trial 544 finished with value: 442.91 and parameters: {'discount_factor': 0.9578228074352149, 'learning_rate': 0.07625874701842264, 'network_shape': 113}. Best is trial 78 with value: 246.68.\u001b[0m\n"
     ]
    },
    {
     "data": {
      "application/vnd.jupyter.widget-view+json": {
       "model_id": "a08caf9a19084d558b76c95d96be6dfb",
       "version_major": 2,
       "version_minor": 0
      },
      "text/plain": [
       "  0%|          | 0/100 [00:00<?, ?it/s]"
      ]
     },
     "metadata": {},
     "output_type": "display_data"
    },
    {
     "name": "stderr",
     "output_type": "stream",
     "text": [
      "\u001b[32m[I 2022-09-19 15:44:34,157]\u001b[0m Trial 545 finished with value: 627.95 and parameters: {'discount_factor': 0.9711893385998536, 'learning_rate': 0.09183407489186157, 'network_shape': 117}. Best is trial 78 with value: 246.68.\u001b[0m\n"
     ]
    },
    {
     "data": {
      "application/vnd.jupyter.widget-view+json": {
       "model_id": "0de244195a3a42a98d25a45e9a38c6e0",
       "version_major": 2,
       "version_minor": 0
      },
      "text/plain": [
       "  0%|          | 0/100 [00:00<?, ?it/s]"
      ]
     },
     "metadata": {},
     "output_type": "display_data"
    },
    {
     "name": "stderr",
     "output_type": "stream",
     "text": [
      "\u001b[32m[I 2022-09-19 15:45:00,066]\u001b[0m Trial 546 finished with value: 435.01 and parameters: {'discount_factor': 0.9627252031913154, 'learning_rate': 0.052188979954702716, 'network_shape': 109}. Best is trial 78 with value: 246.68.\u001b[0m\n"
     ]
    },
    {
     "data": {
      "application/vnd.jupyter.widget-view+json": {
       "model_id": "ef5ad1dea712421aa957a576ced4fc27",
       "version_major": 2,
       "version_minor": 0
      },
      "text/plain": [
       "  0%|          | 0/100 [00:00<?, ?it/s]"
      ]
     },
     "metadata": {},
     "output_type": "display_data"
    },
    {
     "name": "stderr",
     "output_type": "stream",
     "text": [
      "\u001b[32m[I 2022-09-19 15:45:27,221]\u001b[0m Trial 547 finished with value: 442.88 and parameters: {'discount_factor': 0.9443661628366674, 'learning_rate': 0.08937598041990369, 'network_shape': 41}. Best is trial 78 with value: 246.68.\u001b[0m\n"
     ]
    },
    {
     "data": {
      "application/vnd.jupyter.widget-view+json": {
       "model_id": "a91fe58511ad4730929c9f8e32c4d83e",
       "version_major": 2,
       "version_minor": 0
      },
      "text/plain": [
       "  0%|          | 0/100 [00:00<?, ?it/s]"
      ]
     },
     "metadata": {},
     "output_type": "display_data"
    },
    {
     "name": "stderr",
     "output_type": "stream",
     "text": [
      "\u001b[32m[I 2022-09-19 15:45:52,457]\u001b[0m Trial 548 finished with value: 252.01 and parameters: {'discount_factor': 0.9648548531627927, 'learning_rate': 0.09653555239747073, 'network_shape': 116}. Best is trial 78 with value: 246.68.\u001b[0m\n"
     ]
    },
    {
     "data": {
      "application/vnd.jupyter.widget-view+json": {
       "model_id": "8e0f002f7cf84c589c861bf58d5ced60",
       "version_major": 2,
       "version_minor": 0
      },
      "text/plain": [
       "  0%|          | 0/100 [00:00<?, ?it/s]"
      ]
     },
     "metadata": {},
     "output_type": "display_data"
    },
    {
     "name": "stderr",
     "output_type": "stream",
     "text": [
      "\u001b[32m[I 2022-09-19 15:46:20,309]\u001b[0m Trial 549 finished with value: 438.91 and parameters: {'discount_factor': 0.9514678221879173, 'learning_rate': 0.09999658010510472, 'network_shape': 69}. Best is trial 78 with value: 246.68.\u001b[0m\n"
     ]
    },
    {
     "data": {
      "application/vnd.jupyter.widget-view+json": {
       "model_id": "008637ead0e948c695c9a41a503af6da",
       "version_major": 2,
       "version_minor": 0
      },
      "text/plain": [
       "  0%|          | 0/100 [00:00<?, ?it/s]"
      ]
     },
     "metadata": {},
     "output_type": "display_data"
    },
    {
     "name": "stderr",
     "output_type": "stream",
     "text": [
      "\u001b[32m[I 2022-09-19 15:46:49,737]\u001b[0m Trial 550 finished with value: 438.72 and parameters: {'discount_factor': 0.9556332525678953, 'learning_rate': 0.05403536719024375, 'network_shape': 36}. Best is trial 78 with value: 246.68.\u001b[0m\n"
     ]
    },
    {
     "data": {
      "application/vnd.jupyter.widget-view+json": {
       "model_id": "dd5a79140fa84bc49cbd2769e4f4636a",
       "version_major": 2,
       "version_minor": 0
      },
      "text/plain": [
       "  0%|          | 0/100 [00:00<?, ?it/s]"
      ]
     },
     "metadata": {},
     "output_type": "display_data"
    },
    {
     "name": "stderr",
     "output_type": "stream",
     "text": [
      "\u001b[32m[I 2022-09-19 15:47:16,786]\u001b[0m Trial 551 finished with value: 635.21 and parameters: {'discount_factor': 0.9723532667890177, 'learning_rate': 0.08382817277522481, 'network_shape': 112}. Best is trial 78 with value: 246.68.\u001b[0m\n"
     ]
    },
    {
     "data": {
      "application/vnd.jupyter.widget-view+json": {
       "model_id": "3367396b31054f8b83eb90dd51cbb487",
       "version_major": 2,
       "version_minor": 0
      },
      "text/plain": [
       "  0%|          | 0/100 [00:00<?, ?it/s]"
      ]
     },
     "metadata": {},
     "output_type": "display_data"
    },
    {
     "name": "stderr",
     "output_type": "stream",
     "text": [
      "\u001b[32m[I 2022-09-19 15:47:42,796]\u001b[0m Trial 552 finished with value: 633.75 and parameters: {'discount_factor': 0.9615277877125689, 'learning_rate': 0.07802747063488055, 'network_shape': 102}. Best is trial 78 with value: 246.68.\u001b[0m\n"
     ]
    },
    {
     "data": {
      "application/vnd.jupyter.widget-view+json": {
       "model_id": "fc40d417f3d9482ab15cd0759447c72b",
       "version_major": 2,
       "version_minor": 0
      },
      "text/plain": [
       "  0%|          | 0/100 [00:00<?, ?it/s]"
      ]
     },
     "metadata": {},
     "output_type": "display_data"
    },
    {
     "name": "stderr",
     "output_type": "stream",
     "text": [
      "\u001b[32m[I 2022-09-19 15:48:08,246]\u001b[0m Trial 553 finished with value: 446.49 and parameters: {'discount_factor': 0.9537756676673353, 'learning_rate': 0.09839615428710309, 'network_shape': 100}. Best is trial 78 with value: 246.68.\u001b[0m\n"
     ]
    },
    {
     "data": {
      "application/vnd.jupyter.widget-view+json": {
       "model_id": "96e001b5560b432f8ceeb11a373c0c04",
       "version_major": 2,
       "version_minor": 0
      },
      "text/plain": [
       "  0%|          | 0/100 [00:00<?, ?it/s]"
      ]
     },
     "metadata": {},
     "output_type": "display_data"
    },
    {
     "name": "stderr",
     "output_type": "stream",
     "text": [
      "\u001b[32m[I 2022-09-19 15:48:33,162]\u001b[0m Trial 554 finished with value: 444.71 and parameters: {'discount_factor': 0.9575182226090451, 'learning_rate': 0.06910884638085361, 'network_shape': 39}. Best is trial 78 with value: 246.68.\u001b[0m\n"
     ]
    },
    {
     "data": {
      "application/vnd.jupyter.widget-view+json": {
       "model_id": "f0e46ae61106428d94dfa3a2f06d7c0d",
       "version_major": 2,
       "version_minor": 0
      },
      "text/plain": [
       "  0%|          | 0/100 [00:00<?, ?it/s]"
      ]
     },
     "metadata": {},
     "output_type": "display_data"
    },
    {
     "name": "stderr",
     "output_type": "stream",
     "text": [
      "\u001b[32m[I 2022-09-19 15:48:59,245]\u001b[0m Trial 555 finished with value: 453.18 and parameters: {'discount_factor': 0.9589774309275994, 'learning_rate': 0.04126699986834846, 'network_shape': 107}. Best is trial 78 with value: 246.68.\u001b[0m\n"
     ]
    },
    {
     "data": {
      "application/vnd.jupyter.widget-view+json": {
       "model_id": "c871c58fd17a48e7a52a4d8baaa8a610",
       "version_major": 2,
       "version_minor": 0
      },
      "text/plain": [
       "  0%|          | 0/100 [00:00<?, ?it/s]"
      ]
     },
     "metadata": {},
     "output_type": "display_data"
    },
    {
     "name": "stderr",
     "output_type": "stream",
     "text": [
      "\u001b[32m[I 2022-09-19 15:49:25,012]\u001b[0m Trial 556 finished with value: 250.87 and parameters: {'discount_factor': 0.9867035452903385, 'learning_rate': 0.09243501494394256, 'network_shape': 115}. Best is trial 78 with value: 246.68.\u001b[0m\n"
     ]
    },
    {
     "data": {
      "application/vnd.jupyter.widget-view+json": {
       "model_id": "04547ced329f499387db31a2148c22d0",
       "version_major": 2,
       "version_minor": 0
      },
      "text/plain": [
       "  0%|          | 0/100 [00:00<?, ?it/s]"
      ]
     },
     "metadata": {},
     "output_type": "display_data"
    },
    {
     "name": "stderr",
     "output_type": "stream",
     "text": [
      "\u001b[32m[I 2022-09-19 15:49:50,371]\u001b[0m Trial 557 finished with value: 252.36 and parameters: {'discount_factor': 0.9480570499678462, 'learning_rate': 0.08723471609011715, 'network_shape': 96}. Best is trial 78 with value: 246.68.\u001b[0m\n"
     ]
    },
    {
     "data": {
      "application/vnd.jupyter.widget-view+json": {
       "model_id": "ffd24ff8c56f4a20b8369bea98d56ec6",
       "version_major": 2,
       "version_minor": 0
      },
      "text/plain": [
       "  0%|          | 0/100 [00:00<?, ?it/s]"
      ]
     },
     "metadata": {},
     "output_type": "display_data"
    },
    {
     "name": "stderr",
     "output_type": "stream",
     "text": [
      "\u001b[32m[I 2022-09-19 15:50:15,693]\u001b[0m Trial 558 finished with value: 252.59 and parameters: {'discount_factor': 0.9841557274242582, 'learning_rate': 0.05623705849511801, 'network_shape': 38}. Best is trial 78 with value: 246.68.\u001b[0m\n"
     ]
    },
    {
     "data": {
      "application/vnd.jupyter.widget-view+json": {
       "model_id": "5761aeacddee417aa01f18f0ad0a63f3",
       "version_major": 2,
       "version_minor": 0
      },
      "text/plain": [
       "  0%|          | 0/100 [00:00<?, ?it/s]"
      ]
     },
     "metadata": {},
     "output_type": "display_data"
    },
    {
     "name": "stderr",
     "output_type": "stream",
     "text": [
      "\u001b[32m[I 2022-09-19 15:50:41,694]\u001b[0m Trial 559 finished with value: 634.51 and parameters: {'discount_factor': 0.9758976818738745, 'learning_rate': 0.0941979015311661, 'network_shape': 78}. Best is trial 78 with value: 246.68.\u001b[0m\n"
     ]
    },
    {
     "data": {
      "application/vnd.jupyter.widget-view+json": {
       "model_id": "42a1a1782ab34e3bbda507ac2d90740b",
       "version_major": 2,
       "version_minor": 0
      },
      "text/plain": [
       "  0%|          | 0/100 [00:00<?, ?it/s]"
      ]
     },
     "metadata": {},
     "output_type": "display_data"
    },
    {
     "name": "stderr",
     "output_type": "stream",
     "text": [
      "\u001b[32m[I 2022-09-19 15:51:07,700]\u001b[0m Trial 560 finished with value: 444.74 and parameters: {'discount_factor': 0.9494686955421973, 'learning_rate': 0.09745706520404465, 'network_shape': 92}. Best is trial 78 with value: 246.68.\u001b[0m\n"
     ]
    },
    {
     "data": {
      "application/vnd.jupyter.widget-view+json": {
       "model_id": "1ca7aceeb5b548569af338543371f81a",
       "version_major": 2,
       "version_minor": 0
      },
      "text/plain": [
       "  0%|          | 0/100 [00:00<?, ?it/s]"
      ]
     },
     "metadata": {},
     "output_type": "display_data"
    },
    {
     "name": "stderr",
     "output_type": "stream",
     "text": [
      "\u001b[32m[I 2022-09-19 15:51:33,225]\u001b[0m Trial 561 finished with value: 250.8 and parameters: {'discount_factor': 0.980642100645773, 'learning_rate': 0.07953996628653381, 'network_shape': 33}. Best is trial 78 with value: 246.68.\u001b[0m\n"
     ]
    },
    {
     "data": {
      "application/vnd.jupyter.widget-view+json": {
       "model_id": "bc194787e6fb4c838138834ec8502026",
       "version_major": 2,
       "version_minor": 0
      },
      "text/plain": [
       "  0%|          | 0/100 [00:00<?, ?it/s]"
      ]
     },
     "metadata": {},
     "output_type": "display_data"
    },
    {
     "name": "stderr",
     "output_type": "stream",
     "text": [
      "\u001b[32m[I 2022-09-19 15:51:58,157]\u001b[0m Trial 562 finished with value: 250.69 and parameters: {'discount_factor': 0.9524426919017271, 'learning_rate': 0.0442329644956757, 'network_shape': 103}. Best is trial 78 with value: 246.68.\u001b[0m\n"
     ]
    },
    {
     "data": {
      "application/vnd.jupyter.widget-view+json": {
       "model_id": "59c50c75174d41a2a53a4cee18066e1c",
       "version_major": 2,
       "version_minor": 0
      },
      "text/plain": [
       "  0%|          | 0/100 [00:00<?, ?it/s]"
      ]
     },
     "metadata": {},
     "output_type": "display_data"
    },
    {
     "name": "stderr",
     "output_type": "stream",
     "text": [
      "\u001b[32m[I 2022-09-19 15:52:23,217]\u001b[0m Trial 563 finished with value: 445.28 and parameters: {'discount_factor': 0.9697158510068135, 'learning_rate': 0.09030592234045025, 'network_shape': 111}. Best is trial 78 with value: 246.68.\u001b[0m\n"
     ]
    },
    {
     "data": {
      "application/vnd.jupyter.widget-view+json": {
       "model_id": "96ee96893b5f4057b9f7f8de9c184053",
       "version_major": 2,
       "version_minor": 0
      },
      "text/plain": [
       "  0%|          | 0/100 [00:00<?, ?it/s]"
      ]
     },
     "metadata": {},
     "output_type": "display_data"
    },
    {
     "name": "stderr",
     "output_type": "stream",
     "text": [
      "\u001b[32m[I 2022-09-19 15:52:48,595]\u001b[0m Trial 564 finished with value: 253.37 and parameters: {'discount_factor': 0.9653890828391989, 'learning_rate': 0.09499006360673302, 'network_shape': 65}. Best is trial 78 with value: 246.68.\u001b[0m\n"
     ]
    },
    {
     "data": {
      "application/vnd.jupyter.widget-view+json": {
       "model_id": "293dfb26815e4519b70af92a07c06ca8",
       "version_major": 2,
       "version_minor": 0
      },
      "text/plain": [
       "  0%|          | 0/100 [00:00<?, ?it/s]"
      ]
     },
     "metadata": {},
     "output_type": "display_data"
    },
    {
     "name": "stderr",
     "output_type": "stream",
     "text": [
      "\u001b[32m[I 2022-09-19 15:53:14,402]\u001b[0m Trial 565 finished with value: 250.77 and parameters: {'discount_factor': 0.9679932403849605, 'learning_rate': 0.09313564015122644, 'network_shape': 124}. Best is trial 78 with value: 246.68.\u001b[0m\n"
     ]
    },
    {
     "data": {
      "application/vnd.jupyter.widget-view+json": {
       "model_id": "c6d939145da74691a1882ecf8d9ce575",
       "version_major": 2,
       "version_minor": 0
      },
      "text/plain": [
       "  0%|          | 0/100 [00:00<?, ?it/s]"
      ]
     },
     "metadata": {},
     "output_type": "display_data"
    },
    {
     "name": "stderr",
     "output_type": "stream",
     "text": [
      "\u001b[32m[I 2022-09-19 15:53:41,434]\u001b[0m Trial 566 finished with value: 449.39 and parameters: {'discount_factor': 0.9614997586098963, 'learning_rate': 0.047620476681696354, 'network_shape': 108}. Best is trial 78 with value: 246.68.\u001b[0m\n"
     ]
    },
    {
     "data": {
      "application/vnd.jupyter.widget-view+json": {
       "model_id": "09630488f0ad47a9acf2dcb60184c735",
       "version_major": 2,
       "version_minor": 0
      },
      "text/plain": [
       "  0%|          | 0/100 [00:00<?, ?it/s]"
      ]
     },
     "metadata": {},
     "output_type": "display_data"
    },
    {
     "name": "stderr",
     "output_type": "stream",
     "text": [
      "\u001b[32m[I 2022-09-19 15:54:09,497]\u001b[0m Trial 567 finished with value: 633.9 and parameters: {'discount_factor': 0.9542837304961628, 'learning_rate': 0.06574883051758053, 'network_shape': 121}. Best is trial 78 with value: 246.68.\u001b[0m\n"
     ]
    },
    {
     "data": {
      "application/vnd.jupyter.widget-view+json": {
       "model_id": "368053441f5645d4824e364ef9f011c1",
       "version_major": 2,
       "version_minor": 0
      },
      "text/plain": [
       "  0%|          | 0/100 [00:00<?, ?it/s]"
      ]
     },
     "metadata": {},
     "output_type": "display_data"
    },
    {
     "name": "stderr",
     "output_type": "stream",
     "text": [
      "\u001b[32m[I 2022-09-19 15:54:36,889]\u001b[0m Trial 568 finished with value: 632.28 and parameters: {'discount_factor': 0.9505484580957569, 'learning_rate': 0.09645948203617614, 'network_shape': 105}. Best is trial 78 with value: 246.68.\u001b[0m\n"
     ]
    },
    {
     "data": {
      "application/vnd.jupyter.widget-view+json": {
       "model_id": "656979d022ec42498bd3e179e2517d96",
       "version_major": 2,
       "version_minor": 0
      },
      "text/plain": [
       "  0%|          | 0/100 [00:00<?, ?it/s]"
      ]
     },
     "metadata": {},
     "output_type": "display_data"
    },
    {
     "name": "stderr",
     "output_type": "stream",
     "text": [
      "\u001b[32m[I 2022-09-19 15:55:03,226]\u001b[0m Trial 569 finished with value: 248.28 and parameters: {'discount_factor': 0.9784059178245051, 'learning_rate': 0.09099616415744882, 'network_shape': 113}. Best is trial 78 with value: 246.68.\u001b[0m\n"
     ]
    },
    {
     "data": {
      "application/vnd.jupyter.widget-view+json": {
       "model_id": "54585cfc73bb4770bea7902359adff88",
       "version_major": 2,
       "version_minor": 0
      },
      "text/plain": [
       "  0%|          | 0/100 [00:00<?, ?it/s]"
      ]
     },
     "metadata": {},
     "output_type": "display_data"
    },
    {
     "name": "stderr",
     "output_type": "stream",
     "text": [
      "\u001b[32m[I 2022-09-19 15:55:28,740]\u001b[0m Trial 570 finished with value: 446.83 and parameters: {'discount_factor': 0.9819370886391858, 'learning_rate': 0.08878211554606162, 'network_shape': 114}. Best is trial 78 with value: 246.68.\u001b[0m\n"
     ]
    },
    {
     "data": {
      "application/vnd.jupyter.widget-view+json": {
       "model_id": "07c23b67d6fd4b8d86fc93e9e0c98b9c",
       "version_major": 2,
       "version_minor": 0
      },
      "text/plain": [
       "  0%|          | 0/100 [00:00<?, ?it/s]"
      ]
     },
     "metadata": {},
     "output_type": "display_data"
    },
    {
     "name": "stderr",
     "output_type": "stream",
     "text": [
      "\u001b[32m[I 2022-09-19 15:55:54,879]\u001b[0m Trial 571 finished with value: 424.58 and parameters: {'discount_factor': 0.9775405844361009, 'learning_rate': 0.09075615258884655, 'network_shape': 113}. Best is trial 78 with value: 246.68.\u001b[0m\n"
     ]
    },
    {
     "data": {
      "application/vnd.jupyter.widget-view+json": {
       "model_id": "b93f266ec9ca43a2ad96e840d2d6d0a6",
       "version_major": 2,
       "version_minor": 0
      },
      "text/plain": [
       "  0%|          | 0/100 [00:00<?, ?it/s]"
      ]
     },
     "metadata": {},
     "output_type": "display_data"
    },
    {
     "name": "stderr",
     "output_type": "stream",
     "text": [
      "\u001b[32m[I 2022-09-19 15:56:21,271]\u001b[0m Trial 572 finished with value: 441.02 and parameters: {'discount_factor': 0.9809527130144142, 'learning_rate': 0.08510776583174133, 'network_shape': 110}. Best is trial 78 with value: 246.68.\u001b[0m\n"
     ]
    },
    {
     "data": {
      "application/vnd.jupyter.widget-view+json": {
       "model_id": "d80f95692d3943f984ba97c910d1dbac",
       "version_major": 2,
       "version_minor": 0
      },
      "text/plain": [
       "  0%|          | 0/100 [00:00<?, ?it/s]"
      ]
     },
     "metadata": {},
     "output_type": "display_data"
    },
    {
     "name": "stderr",
     "output_type": "stream",
     "text": [
      "\u001b[32m[I 2022-09-19 15:56:46,951]\u001b[0m Trial 573 finished with value: 254.4 and parameters: {'discount_factor': 0.9783749568146237, 'learning_rate': 0.08973877303847184, 'network_shape': 115}. Best is trial 78 with value: 246.68.\u001b[0m\n"
     ]
    },
    {
     "data": {
      "application/vnd.jupyter.widget-view+json": {
       "model_id": "d2e369cc69464046be82e4a7f7a697f2",
       "version_major": 2,
       "version_minor": 0
      },
      "text/plain": [
       "  0%|          | 0/100 [00:00<?, ?it/s]"
      ]
     },
     "metadata": {},
     "output_type": "display_data"
    },
    {
     "name": "stderr",
     "output_type": "stream",
     "text": [
      "\u001b[32m[I 2022-09-19 15:57:13,372]\u001b[0m Trial 574 finished with value: 437.17 and parameters: {'discount_factor': 0.9783359797732503, 'learning_rate': 0.08645977769274793, 'network_shape': 111}. Best is trial 78 with value: 246.68.\u001b[0m\n"
     ]
    },
    {
     "data": {
      "application/vnd.jupyter.widget-view+json": {
       "model_id": "8e87f506908c4ff5b73b36adb4680617",
       "version_major": 2,
       "version_minor": 0
      },
      "text/plain": [
       "  0%|          | 0/100 [00:00<?, ?it/s]"
      ]
     },
     "metadata": {},
     "output_type": "display_data"
    },
    {
     "name": "stderr",
     "output_type": "stream",
     "text": [
      "\u001b[32m[I 2022-09-19 15:57:38,567]\u001b[0m Trial 575 finished with value: 440.9 and parameters: {'discount_factor': 0.9794816055608436, 'learning_rate': 0.09100303705142128, 'network_shape': 117}. Best is trial 78 with value: 246.68.\u001b[0m\n"
     ]
    },
    {
     "data": {
      "application/vnd.jupyter.widget-view+json": {
       "model_id": "2c30a3cde391481b8f1161588add9162",
       "version_major": 2,
       "version_minor": 0
      },
      "text/plain": [
       "  0%|          | 0/100 [00:00<?, ?it/s]"
      ]
     },
     "metadata": {},
     "output_type": "display_data"
    },
    {
     "name": "stderr",
     "output_type": "stream",
     "text": [
      "\u001b[32m[I 2022-09-19 15:58:03,760]\u001b[0m Trial 576 finished with value: 635.36 and parameters: {'discount_factor': 0.982583526690337, 'learning_rate': 0.08290771759023303, 'network_shape': 118}. Best is trial 78 with value: 246.68.\u001b[0m\n"
     ]
    },
    {
     "data": {
      "application/vnd.jupyter.widget-view+json": {
       "model_id": "e0d143d57a444634a2796a6cab75c1e9",
       "version_major": 2,
       "version_minor": 0
      },
      "text/plain": [
       "  0%|          | 0/100 [00:00<?, ?it/s]"
      ]
     },
     "metadata": {},
     "output_type": "display_data"
    },
    {
     "name": "stderr",
     "output_type": "stream",
     "text": [
      "\u001b[32m[I 2022-09-19 15:58:28,829]\u001b[0m Trial 577 finished with value: 449.56 and parameters: {'discount_factor': 0.9851432411415147, 'learning_rate': 0.08828827371993783, 'network_shape': 109}. Best is trial 78 with value: 246.68.\u001b[0m\n"
     ]
    },
    {
     "data": {
      "application/vnd.jupyter.widget-view+json": {
       "model_id": "4b3a47d65b624967b1a6e17f81d7bca0",
       "version_major": 2,
       "version_minor": 0
      },
      "text/plain": [
       "  0%|          | 0/100 [00:00<?, ?it/s]"
      ]
     },
     "metadata": {},
     "output_type": "display_data"
    },
    {
     "name": "stderr",
     "output_type": "stream",
     "text": [
      "\u001b[32m[I 2022-09-19 15:58:53,554]\u001b[0m Trial 578 finished with value: 446.47 and parameters: {'discount_factor': 0.9826436425293158, 'learning_rate': 0.04988302247536305, 'network_shape': 113}. Best is trial 78 with value: 246.68.\u001b[0m\n"
     ]
    },
    {
     "data": {
      "application/vnd.jupyter.widget-view+json": {
       "model_id": "8a5a2a9ed71247e8801f2b84a98f4f94",
       "version_major": 2,
       "version_minor": 0
      },
      "text/plain": [
       "  0%|          | 0/100 [00:00<?, ?it/s]"
      ]
     },
     "metadata": {},
     "output_type": "display_data"
    },
    {
     "name": "stderr",
     "output_type": "stream",
     "text": [
      "\u001b[32m[I 2022-09-19 15:59:19,002]\u001b[0m Trial 579 finished with value: 634.65 and parameters: {'discount_factor': 0.9757089078657809, 'learning_rate': 0.019317529183769715, 'network_shape': 107}. Best is trial 78 with value: 246.68.\u001b[0m\n"
     ]
    },
    {
     "data": {
      "application/vnd.jupyter.widget-view+json": {
       "model_id": "9d43a8653de945c0bee513fa1ef2c544",
       "version_major": 2,
       "version_minor": 0
      },
      "text/plain": [
       "  0%|          | 0/100 [00:00<?, ?it/s]"
      ]
     },
     "metadata": {},
     "output_type": "display_data"
    },
    {
     "name": "stderr",
     "output_type": "stream",
     "text": [
      "\u001b[32m[I 2022-09-19 15:59:44,691]\u001b[0m Trial 580 finished with value: 438.97 and parameters: {'discount_factor': 0.9886717674133638, 'learning_rate': 0.04201904115722413, 'network_shape': 120}. Best is trial 78 with value: 246.68.\u001b[0m\n"
     ]
    },
    {
     "data": {
      "application/vnd.jupyter.widget-view+json": {
       "model_id": "451c387475a944c2bc366c89626288f7",
       "version_major": 2,
       "version_minor": 0
      },
      "text/plain": [
       "  0%|          | 0/100 [00:00<?, ?it/s]"
      ]
     },
     "metadata": {},
     "output_type": "display_data"
    },
    {
     "name": "stderr",
     "output_type": "stream",
     "text": [
      "\u001b[32m[I 2022-09-19 16:00:10,245]\u001b[0m Trial 581 finished with value: 445.37 and parameters: {'discount_factor': 0.9632862463834606, 'learning_rate': 0.09186067417836574, 'network_shape': 112}. Best is trial 78 with value: 246.68.\u001b[0m\n"
     ]
    },
    {
     "data": {
      "application/vnd.jupyter.widget-view+json": {
       "model_id": "0edba9a4dcee42e99e938ef75bb8ebd0",
       "version_major": 2,
       "version_minor": 0
      },
      "text/plain": [
       "  0%|          | 0/100 [00:00<?, ?it/s]"
      ]
     },
     "metadata": {},
     "output_type": "display_data"
    },
    {
     "name": "stderr",
     "output_type": "stream",
     "text": [
      "\u001b[32m[I 2022-09-19 16:00:36,154]\u001b[0m Trial 582 finished with value: 252.04 and parameters: {'discount_factor': 0.9456604321822664, 'learning_rate': 0.0935579009247006, 'network_shape': 109}. Best is trial 78 with value: 246.68.\u001b[0m\n"
     ]
    },
    {
     "data": {
      "application/vnd.jupyter.widget-view+json": {
       "model_id": "14c4af83aa374712a5314b8d6ec00616",
       "version_major": 2,
       "version_minor": 0
      },
      "text/plain": [
       "  0%|          | 0/100 [00:00<?, ?it/s]"
      ]
     },
     "metadata": {},
     "output_type": "display_data"
    },
    {
     "name": "stderr",
     "output_type": "stream",
     "text": [
      "\u001b[32m[I 2022-09-19 16:01:00,595]\u001b[0m Trial 583 finished with value: 445.27 and parameters: {'discount_factor': 0.9797490413869896, 'learning_rate': 0.08721366300416936, 'network_shape': 115}. Best is trial 78 with value: 246.68.\u001b[0m\n"
     ]
    },
    {
     "data": {
      "application/vnd.jupyter.widget-view+json": {
       "model_id": "54aabb8a61414bb1b61e5a971f022b6f",
       "version_major": 2,
       "version_minor": 0
      },
      "text/plain": [
       "  0%|          | 0/100 [00:00<?, ?it/s]"
      ]
     },
     "metadata": {},
     "output_type": "display_data"
    },
    {
     "name": "stderr",
     "output_type": "stream",
     "text": [
      "\u001b[32m[I 2022-09-19 16:01:23,002]\u001b[0m Trial 584 finished with value: 631.46 and parameters: {'discount_factor': 0.9280910102816374, 'learning_rate': 0.08163886317605215, 'network_shape': 105}. Best is trial 78 with value: 246.68.\u001b[0m\n"
     ]
    },
    {
     "data": {
      "application/vnd.jupyter.widget-view+json": {
       "model_id": "3ffa50764f13403681ff6e0c926f8636",
       "version_major": 2,
       "version_minor": 0
      },
      "text/plain": [
       "  0%|          | 0/100 [00:00<?, ?it/s]"
      ]
     },
     "metadata": {},
     "output_type": "display_data"
    },
    {
     "name": "stderr",
     "output_type": "stream",
     "text": [
      "\u001b[32m[I 2022-09-19 16:01:43,538]\u001b[0m Trial 585 finished with value: 251.0 and parameters: {'discount_factor': 0.9833382823648802, 'learning_rate': 0.037891264703779425, 'network_shape': 87}. Best is trial 78 with value: 246.68.\u001b[0m\n"
     ]
    },
    {
     "data": {
      "application/vnd.jupyter.widget-view+json": {
       "model_id": "6556fbeb6ca44e528780e7a1467ceb25",
       "version_major": 2,
       "version_minor": 0
      },
      "text/plain": [
       "  0%|          | 0/100 [00:00<?, ?it/s]"
      ]
     },
     "metadata": {},
     "output_type": "display_data"
    },
    {
     "name": "stderr",
     "output_type": "stream",
     "text": [
      "\u001b[32m[I 2022-09-19 16:02:04,501]\u001b[0m Trial 586 finished with value: 634.29 and parameters: {'discount_factor': 0.9860646239718778, 'learning_rate': 0.09169971459735933, 'network_shape': 102}. Best is trial 78 with value: 246.68.\u001b[0m\n"
     ]
    },
    {
     "data": {
      "application/vnd.jupyter.widget-view+json": {
       "model_id": "d7393e7507af45d284229fedb3ae9e78",
       "version_major": 2,
       "version_minor": 0
      },
      "text/plain": [
       "  0%|          | 0/100 [00:00<?, ?it/s]"
      ]
     },
     "metadata": {},
     "output_type": "display_data"
    },
    {
     "name": "stderr",
     "output_type": "stream",
     "text": [
      "\u001b[32m[I 2022-09-19 16:02:25,341]\u001b[0m Trial 587 finished with value: 250.56 and parameters: {'discount_factor': 0.9847108298689085, 'learning_rate': 0.08415543709580696, 'network_shape': 118}. Best is trial 78 with value: 246.68.\u001b[0m\n"
     ]
    },
    {
     "data": {
      "application/vnd.jupyter.widget-view+json": {
       "model_id": "0d3047745d0041dba7e258c1a8c2fc37",
       "version_major": 2,
       "version_minor": 0
      },
      "text/plain": [
       "  0%|          | 0/100 [00:00<?, ?it/s]"
      ]
     },
     "metadata": {},
     "output_type": "display_data"
    },
    {
     "name": "stderr",
     "output_type": "stream",
     "text": [
      "\u001b[32m[I 2022-09-19 16:02:46,274]\u001b[0m Trial 588 finished with value: 441.89 and parameters: {'discount_factor': 0.9770345637024417, 'learning_rate': 0.0890660489432217, 'network_shape': 111}. Best is trial 78 with value: 246.68.\u001b[0m\n"
     ]
    },
    {
     "data": {
      "application/vnd.jupyter.widget-view+json": {
       "model_id": "e63b029f22484610b3510bd7c65897a4",
       "version_major": 2,
       "version_minor": 0
      },
      "text/plain": [
       "  0%|          | 0/100 [00:00<?, ?it/s]"
      ]
     },
     "metadata": {},
     "output_type": "display_data"
    },
    {
     "name": "stderr",
     "output_type": "stream",
     "text": [
      "\u001b[32m[I 2022-09-19 16:03:06,761]\u001b[0m Trial 589 finished with value: 250.31 and parameters: {'discount_factor': 0.9636201209373875, 'learning_rate': 0.04633259619745527, 'network_shape': 29}. Best is trial 78 with value: 246.68.\u001b[0m\n"
     ]
    },
    {
     "data": {
      "application/vnd.jupyter.widget-view+json": {
       "model_id": "9626ea0e9f594a7484fdf156993eb19d",
       "version_major": 2,
       "version_minor": 0
      },
      "text/plain": [
       "  0%|          | 0/100 [00:00<?, ?it/s]"
      ]
     },
     "metadata": {},
     "output_type": "display_data"
    },
    {
     "name": "stderr",
     "output_type": "stream",
     "text": [
      "\u001b[32m[I 2022-09-19 16:03:28,075]\u001b[0m Trial 590 finished with value: 445.73 and parameters: {'discount_factor': 0.9618886736939993, 'learning_rate': 0.04646045343994011, 'network_shape': 30}. Best is trial 78 with value: 246.68.\u001b[0m\n"
     ]
    },
    {
     "data": {
      "application/vnd.jupyter.widget-view+json": {
       "model_id": "cb682a30a20f4a57ae3f3427a3d08973",
       "version_major": 2,
       "version_minor": 0
      },
      "text/plain": [
       "  0%|          | 0/100 [00:00<?, ?it/s]"
      ]
     },
     "metadata": {},
     "output_type": "display_data"
    },
    {
     "name": "stderr",
     "output_type": "stream",
     "text": [
      "\u001b[33m[W 2022-09-19 16:03:36,422]\u001b[0m Trial 591 failed because of the following error: KeyboardInterrupt()\u001b[0m\n",
      "Traceback (most recent call last):\n",
      "  File \"/home/beast/.local/lib/python3.8/site-packages/optuna/study/_optimize.py\", line 196, in _run_trial\n",
      "    value_or_values = func(trial)\n",
      "  File \"/tmp/ipykernel_828/3544524599.py\", line 12, in objective\n",
      "    score = bot.train()\n",
      "  File \"/tmp/ipykernel_828/1221072934.py\", line 70, in train\n",
      "    action, lp = select_action(network, state)\n",
      "  File \"/tmp/ipykernel_828/1221072934.py\", line 158, in select_action\n",
      "    m = Categorical(action_probs)\n",
      "  File \"/home/beast/.local/lib/python3.8/site-packages/torch/distributions/categorical.py\", line 64, in __init__\n",
      "    super(Categorical, self).__init__(batch_shape, validate_args=validate_args)\n",
      "  File \"/home/beast/.local/lib/python3.8/site-packages/torch/distributions/distribution.py\", line 54, in __init__\n",
      "    if not valid.all():\n",
      "KeyboardInterrupt\n"
     ]
    },
    {
     "ename": "KeyboardInterrupt",
     "evalue": "",
     "output_type": "error",
     "traceback": [
      "\u001b[0;31m---------------------------------------------------------------------------\u001b[0m",
      "\u001b[0;31mKeyboardInterrupt\u001b[0m                         Traceback (most recent call last)",
      "Cell \u001b[0;32mIn [7], line 16\u001b[0m\n\u001b[1;32m     13\u001b[0m     \u001b[38;5;28;01mreturn\u001b[39;00m \u001b[38;5;241m-\u001b[39m\u001b[38;5;241m1\u001b[39m \u001b[38;5;241m*\u001b[39m np\u001b[38;5;241m.\u001b[39mmean(score)\n\u001b[1;32m     15\u001b[0m study \u001b[38;5;241m=\u001b[39m optuna\u001b[38;5;241m.\u001b[39mcreate_study()\n\u001b[0;32m---> 16\u001b[0m \u001b[43mstudy\u001b[49m\u001b[38;5;241;43m.\u001b[39;49m\u001b[43moptimize\u001b[49m\u001b[43m(\u001b[49m\u001b[43mobjective\u001b[49m\u001b[43m,\u001b[49m\u001b[43m \u001b[49m\u001b[43mn_trials\u001b[49m\u001b[38;5;241;43m=\u001b[39;49m\u001b[38;5;241;43m1000\u001b[39;49m\u001b[43m)\u001b[49m\n\u001b[1;32m     18\u001b[0m study\u001b[38;5;241m.\u001b[39mbest_params\n",
      "File \u001b[0;32m~/.local/lib/python3.8/site-packages/optuna/study/study.py:419\u001b[0m, in \u001b[0;36mStudy.optimize\u001b[0;34m(self, func, n_trials, timeout, n_jobs, catch, callbacks, gc_after_trial, show_progress_bar)\u001b[0m\n\u001b[1;32m    315\u001b[0m \u001b[38;5;28;01mdef\u001b[39;00m \u001b[38;5;21moptimize\u001b[39m(\n\u001b[1;32m    316\u001b[0m     \u001b[38;5;28mself\u001b[39m,\n\u001b[1;32m    317\u001b[0m     func: ObjectiveFuncType,\n\u001b[0;32m   (...)\u001b[0m\n\u001b[1;32m    324\u001b[0m     show_progress_bar: \u001b[38;5;28mbool\u001b[39m \u001b[38;5;241m=\u001b[39m \u001b[38;5;28;01mFalse\u001b[39;00m,\n\u001b[1;32m    325\u001b[0m ) \u001b[38;5;241m-\u001b[39m\u001b[38;5;241m>\u001b[39m \u001b[38;5;28;01mNone\u001b[39;00m:\n\u001b[1;32m    326\u001b[0m     \u001b[38;5;124;03m\"\"\"Optimize an objective function.\u001b[39;00m\n\u001b[1;32m    327\u001b[0m \n\u001b[1;32m    328\u001b[0m \u001b[38;5;124;03m    Optimization is done by choosing a suitable set of hyperparameter values from a given\u001b[39;00m\n\u001b[0;32m   (...)\u001b[0m\n\u001b[1;32m    416\u001b[0m \u001b[38;5;124;03m            If nested invocation of this method occurs.\u001b[39;00m\n\u001b[1;32m    417\u001b[0m \u001b[38;5;124;03m    \"\"\"\u001b[39;00m\n\u001b[0;32m--> 419\u001b[0m     \u001b[43m_optimize\u001b[49m\u001b[43m(\u001b[49m\n\u001b[1;32m    420\u001b[0m \u001b[43m        \u001b[49m\u001b[43mstudy\u001b[49m\u001b[38;5;241;43m=\u001b[39;49m\u001b[38;5;28;43mself\u001b[39;49m\u001b[43m,\u001b[49m\n\u001b[1;32m    421\u001b[0m \u001b[43m        \u001b[49m\u001b[43mfunc\u001b[49m\u001b[38;5;241;43m=\u001b[39;49m\u001b[43mfunc\u001b[49m\u001b[43m,\u001b[49m\n\u001b[1;32m    422\u001b[0m \u001b[43m        \u001b[49m\u001b[43mn_trials\u001b[49m\u001b[38;5;241;43m=\u001b[39;49m\u001b[43mn_trials\u001b[49m\u001b[43m,\u001b[49m\n\u001b[1;32m    423\u001b[0m \u001b[43m        \u001b[49m\u001b[43mtimeout\u001b[49m\u001b[38;5;241;43m=\u001b[39;49m\u001b[43mtimeout\u001b[49m\u001b[43m,\u001b[49m\n\u001b[1;32m    424\u001b[0m \u001b[43m        \u001b[49m\u001b[43mn_jobs\u001b[49m\u001b[38;5;241;43m=\u001b[39;49m\u001b[43mn_jobs\u001b[49m\u001b[43m,\u001b[49m\n\u001b[1;32m    425\u001b[0m \u001b[43m        \u001b[49m\u001b[43mcatch\u001b[49m\u001b[38;5;241;43m=\u001b[39;49m\u001b[43mcatch\u001b[49m\u001b[43m,\u001b[49m\n\u001b[1;32m    426\u001b[0m \u001b[43m        \u001b[49m\u001b[43mcallbacks\u001b[49m\u001b[38;5;241;43m=\u001b[39;49m\u001b[43mcallbacks\u001b[49m\u001b[43m,\u001b[49m\n\u001b[1;32m    427\u001b[0m \u001b[43m        \u001b[49m\u001b[43mgc_after_trial\u001b[49m\u001b[38;5;241;43m=\u001b[39;49m\u001b[43mgc_after_trial\u001b[49m\u001b[43m,\u001b[49m\n\u001b[1;32m    428\u001b[0m \u001b[43m        \u001b[49m\u001b[43mshow_progress_bar\u001b[49m\u001b[38;5;241;43m=\u001b[39;49m\u001b[43mshow_progress_bar\u001b[49m\u001b[43m,\u001b[49m\n\u001b[1;32m    429\u001b[0m \u001b[43m    \u001b[49m\u001b[43m)\u001b[49m\n",
      "File \u001b[0;32m~/.local/lib/python3.8/site-packages/optuna/study/_optimize.py:66\u001b[0m, in \u001b[0;36m_optimize\u001b[0;34m(study, func, n_trials, timeout, n_jobs, catch, callbacks, gc_after_trial, show_progress_bar)\u001b[0m\n\u001b[1;32m     64\u001b[0m \u001b[38;5;28;01mtry\u001b[39;00m:\n\u001b[1;32m     65\u001b[0m     \u001b[38;5;28;01mif\u001b[39;00m n_jobs \u001b[38;5;241m==\u001b[39m \u001b[38;5;241m1\u001b[39m:\n\u001b[0;32m---> 66\u001b[0m         \u001b[43m_optimize_sequential\u001b[49m\u001b[43m(\u001b[49m\n\u001b[1;32m     67\u001b[0m \u001b[43m            \u001b[49m\u001b[43mstudy\u001b[49m\u001b[43m,\u001b[49m\n\u001b[1;32m     68\u001b[0m \u001b[43m            \u001b[49m\u001b[43mfunc\u001b[49m\u001b[43m,\u001b[49m\n\u001b[1;32m     69\u001b[0m \u001b[43m            \u001b[49m\u001b[43mn_trials\u001b[49m\u001b[43m,\u001b[49m\n\u001b[1;32m     70\u001b[0m \u001b[43m            \u001b[49m\u001b[43mtimeout\u001b[49m\u001b[43m,\u001b[49m\n\u001b[1;32m     71\u001b[0m \u001b[43m            \u001b[49m\u001b[43mcatch\u001b[49m\u001b[43m,\u001b[49m\n\u001b[1;32m     72\u001b[0m \u001b[43m            \u001b[49m\u001b[43mcallbacks\u001b[49m\u001b[43m,\u001b[49m\n\u001b[1;32m     73\u001b[0m \u001b[43m            \u001b[49m\u001b[43mgc_after_trial\u001b[49m\u001b[43m,\u001b[49m\n\u001b[1;32m     74\u001b[0m \u001b[43m            \u001b[49m\u001b[43mreseed_sampler_rng\u001b[49m\u001b[38;5;241;43m=\u001b[39;49m\u001b[38;5;28;43;01mFalse\u001b[39;49;00m\u001b[43m,\u001b[49m\n\u001b[1;32m     75\u001b[0m \u001b[43m            \u001b[49m\u001b[43mtime_start\u001b[49m\u001b[38;5;241;43m=\u001b[39;49m\u001b[38;5;28;43;01mNone\u001b[39;49;00m\u001b[43m,\u001b[49m\n\u001b[1;32m     76\u001b[0m \u001b[43m            \u001b[49m\u001b[43mprogress_bar\u001b[49m\u001b[38;5;241;43m=\u001b[39;49m\u001b[43mprogress_bar\u001b[49m\u001b[43m,\u001b[49m\n\u001b[1;32m     77\u001b[0m \u001b[43m        \u001b[49m\u001b[43m)\u001b[49m\n\u001b[1;32m     78\u001b[0m     \u001b[38;5;28;01melse\u001b[39;00m:\n\u001b[1;32m     79\u001b[0m         \u001b[38;5;28;01mif\u001b[39;00m n_jobs \u001b[38;5;241m==\u001b[39m \u001b[38;5;241m-\u001b[39m\u001b[38;5;241m1\u001b[39m:\n",
      "File \u001b[0;32m~/.local/lib/python3.8/site-packages/optuna/study/_optimize.py:160\u001b[0m, in \u001b[0;36m_optimize_sequential\u001b[0;34m(study, func, n_trials, timeout, catch, callbacks, gc_after_trial, reseed_sampler_rng, time_start, progress_bar)\u001b[0m\n\u001b[1;32m    157\u001b[0m         \u001b[38;5;28;01mbreak\u001b[39;00m\n\u001b[1;32m    159\u001b[0m \u001b[38;5;28;01mtry\u001b[39;00m:\n\u001b[0;32m--> 160\u001b[0m     frozen_trial \u001b[38;5;241m=\u001b[39m \u001b[43m_run_trial\u001b[49m\u001b[43m(\u001b[49m\u001b[43mstudy\u001b[49m\u001b[43m,\u001b[49m\u001b[43m \u001b[49m\u001b[43mfunc\u001b[49m\u001b[43m,\u001b[49m\u001b[43m \u001b[49m\u001b[43mcatch\u001b[49m\u001b[43m)\u001b[49m\n\u001b[1;32m    161\u001b[0m \u001b[38;5;28;01mfinally\u001b[39;00m:\n\u001b[1;32m    162\u001b[0m     \u001b[38;5;66;03m# The following line mitigates memory problems that can be occurred in some\u001b[39;00m\n\u001b[1;32m    163\u001b[0m     \u001b[38;5;66;03m# environments (e.g., services that use computing containers such as CircleCI).\u001b[39;00m\n\u001b[1;32m    164\u001b[0m     \u001b[38;5;66;03m# Please refer to the following PR for further details:\u001b[39;00m\n\u001b[1;32m    165\u001b[0m     \u001b[38;5;66;03m# https://github.com/optuna/optuna/pull/325.\u001b[39;00m\n\u001b[1;32m    166\u001b[0m     \u001b[38;5;28;01mif\u001b[39;00m gc_after_trial:\n",
      "File \u001b[0;32m~/.local/lib/python3.8/site-packages/optuna/study/_optimize.py:234\u001b[0m, in \u001b[0;36m_run_trial\u001b[0;34m(study, func, catch)\u001b[0m\n\u001b[1;32m    227\u001b[0m         \u001b[38;5;28;01massert\u001b[39;00m \u001b[38;5;28;01mFalse\u001b[39;00m, \u001b[38;5;124m\"\u001b[39m\u001b[38;5;124mShould not reach.\u001b[39m\u001b[38;5;124m\"\u001b[39m\n\u001b[1;32m    229\u001b[0m \u001b[38;5;28;01mif\u001b[39;00m (\n\u001b[1;32m    230\u001b[0m     frozen_trial\u001b[38;5;241m.\u001b[39mstate \u001b[38;5;241m==\u001b[39m TrialState\u001b[38;5;241m.\u001b[39mFAIL\n\u001b[1;32m    231\u001b[0m     \u001b[38;5;129;01mand\u001b[39;00m func_err \u001b[38;5;129;01mis\u001b[39;00m \u001b[38;5;129;01mnot\u001b[39;00m \u001b[38;5;28;01mNone\u001b[39;00m\n\u001b[1;32m    232\u001b[0m     \u001b[38;5;129;01mand\u001b[39;00m \u001b[38;5;129;01mnot\u001b[39;00m \u001b[38;5;28misinstance\u001b[39m(func_err, catch)\n\u001b[1;32m    233\u001b[0m ):\n\u001b[0;32m--> 234\u001b[0m     \u001b[38;5;28;01mraise\u001b[39;00m func_err\n\u001b[1;32m    235\u001b[0m \u001b[38;5;28;01mreturn\u001b[39;00m frozen_trial\n",
      "File \u001b[0;32m~/.local/lib/python3.8/site-packages/optuna/study/_optimize.py:196\u001b[0m, in \u001b[0;36m_run_trial\u001b[0;34m(study, func, catch)\u001b[0m\n\u001b[1;32m    194\u001b[0m \u001b[38;5;28;01mwith\u001b[39;00m get_heartbeat_thread(trial\u001b[38;5;241m.\u001b[39m_trial_id, study\u001b[38;5;241m.\u001b[39m_storage):\n\u001b[1;32m    195\u001b[0m     \u001b[38;5;28;01mtry\u001b[39;00m:\n\u001b[0;32m--> 196\u001b[0m         value_or_values \u001b[38;5;241m=\u001b[39m \u001b[43mfunc\u001b[49m\u001b[43m(\u001b[49m\u001b[43mtrial\u001b[49m\u001b[43m)\u001b[49m\n\u001b[1;32m    197\u001b[0m     \u001b[38;5;28;01mexcept\u001b[39;00m exceptions\u001b[38;5;241m.\u001b[39mTrialPruned \u001b[38;5;28;01mas\u001b[39;00m e:\n\u001b[1;32m    198\u001b[0m         \u001b[38;5;66;03m# TODO(mamu): Handle multi-objective cases.\u001b[39;00m\n\u001b[1;32m    199\u001b[0m         state \u001b[38;5;241m=\u001b[39m TrialState\u001b[38;5;241m.\u001b[39mPRUNED\n",
      "Cell \u001b[0;32mIn [7], line 12\u001b[0m, in \u001b[0;36mobjective\u001b[0;34m(trial)\u001b[0m\n\u001b[1;32m      4\u001b[0m bot \u001b[38;5;241m=\u001b[39m PGBot()\n\u001b[1;32m      5\u001b[0m bot\u001b[38;5;241m.\u001b[39mtraining_config(\u001b[38;5;241m*\u001b[39m\u001b[38;5;241m*\u001b[39m{\n\u001b[1;32m      6\u001b[0m     \u001b[38;5;124m'\u001b[39m\u001b[38;5;124mdiscount_factor\u001b[39m\u001b[38;5;124m'\u001b[39m: trial\u001b[38;5;241m.\u001b[39msuggest_float(\u001b[38;5;124m'\u001b[39m\u001b[38;5;124mdiscount_factor\u001b[39m\u001b[38;5;124m'\u001b[39m, \u001b[38;5;241m0.90\u001b[39m, \u001b[38;5;241m0.99\u001b[39m),\n\u001b[1;32m      7\u001b[0m     \u001b[38;5;124m'\u001b[39m\u001b[38;5;124mlearning_rate\u001b[39m\u001b[38;5;124m'\u001b[39m: trial\u001b[38;5;241m.\u001b[39msuggest_float(\u001b[38;5;124m'\u001b[39m\u001b[38;5;124mlearning_rate\u001b[39m\u001b[38;5;124m'\u001b[39m, \u001b[38;5;241m1e-5\u001b[39m, \u001b[38;5;241m1e-1\u001b[39m),\n\u001b[0;32m   (...)\u001b[0m\n\u001b[1;32m     10\u001b[0m     \u001b[38;5;124m'\u001b[39m\u001b[38;5;124mnetwork_shape\u001b[39m\u001b[38;5;124m'\u001b[39m: trial\u001b[38;5;241m.\u001b[39msuggest_int(\u001b[38;5;124m'\u001b[39m\u001b[38;5;124mnetwork_shape\u001b[39m\u001b[38;5;124m'\u001b[39m, \u001b[38;5;241m16\u001b[39m, \u001b[38;5;241m128\u001b[39m),\n\u001b[1;32m     11\u001b[0m                 })\n\u001b[0;32m---> 12\u001b[0m score \u001b[38;5;241m=\u001b[39m \u001b[43mbot\u001b[49m\u001b[38;5;241;43m.\u001b[39;49m\u001b[43mtrain\u001b[49m\u001b[43m(\u001b[49m\u001b[43m)\u001b[49m\n\u001b[1;32m     13\u001b[0m \u001b[38;5;28;01mreturn\u001b[39;00m \u001b[38;5;241m-\u001b[39m\u001b[38;5;241m1\u001b[39m \u001b[38;5;241m*\u001b[39m np\u001b[38;5;241m.\u001b[39mmean(score)\n",
      "Cell \u001b[0;32mIn [5], line 70\u001b[0m, in \u001b[0;36mPGBot.train\u001b[0;34m(self, verbose)\u001b[0m\n\u001b[1;32m     67\u001b[0m env\u001b[38;5;241m.\u001b[39mrender()\n\u001b[1;32m     69\u001b[0m \u001b[38;5;66;03m#select action\u001b[39;00m\n\u001b[0;32m---> 70\u001b[0m action, lp \u001b[38;5;241m=\u001b[39m \u001b[43mselect_action\u001b[49m\u001b[43m(\u001b[49m\u001b[43mnetwork\u001b[49m\u001b[43m,\u001b[49m\u001b[43m \u001b[49m\u001b[43mstate\u001b[49m\u001b[43m)\u001b[49m\n\u001b[1;32m     71\u001b[0m actions_dist\u001b[38;5;241m.\u001b[39mappend(action)\n\u001b[1;32m     73\u001b[0m \u001b[38;5;66;03m#execute action\u001b[39;00m\n",
      "Cell \u001b[0;32mIn [5], line 158\u001b[0m, in \u001b[0;36mselect_action\u001b[0;34m(network, state)\u001b[0m\n\u001b[1;32m    155\u001b[0m action_probs \u001b[38;5;241m=\u001b[39m network(state)\n\u001b[1;32m    157\u001b[0m \u001b[38;5;66;03m#sample an action using the probability distribution\u001b[39;00m\n\u001b[0;32m--> 158\u001b[0m m \u001b[38;5;241m=\u001b[39m \u001b[43mCategorical\u001b[49m\u001b[43m(\u001b[49m\u001b[43maction_probs\u001b[49m\u001b[43m)\u001b[49m\n\u001b[1;32m    159\u001b[0m action \u001b[38;5;241m=\u001b[39m m\u001b[38;5;241m.\u001b[39msample()\n\u001b[1;32m    160\u001b[0m \u001b[38;5;66;03m# print(m, action)\u001b[39;00m\n\u001b[1;32m    161\u001b[0m \n\u001b[1;32m    162\u001b[0m \u001b[38;5;66;03m#return action\u001b[39;00m\n",
      "File \u001b[0;32m~/.local/lib/python3.8/site-packages/torch/distributions/categorical.py:64\u001b[0m, in \u001b[0;36mCategorical.__init__\u001b[0;34m(self, probs, logits, validate_args)\u001b[0m\n\u001b[1;32m     62\u001b[0m \u001b[38;5;28mself\u001b[39m\u001b[38;5;241m.\u001b[39m_num_events \u001b[38;5;241m=\u001b[39m \u001b[38;5;28mself\u001b[39m\u001b[38;5;241m.\u001b[39m_param\u001b[38;5;241m.\u001b[39msize()[\u001b[38;5;241m-\u001b[39m\u001b[38;5;241m1\u001b[39m]\n\u001b[1;32m     63\u001b[0m batch_shape \u001b[38;5;241m=\u001b[39m \u001b[38;5;28mself\u001b[39m\u001b[38;5;241m.\u001b[39m_param\u001b[38;5;241m.\u001b[39msize()[:\u001b[38;5;241m-\u001b[39m\u001b[38;5;241m1\u001b[39m] \u001b[38;5;28;01mif\u001b[39;00m \u001b[38;5;28mself\u001b[39m\u001b[38;5;241m.\u001b[39m_param\u001b[38;5;241m.\u001b[39mndimension() \u001b[38;5;241m>\u001b[39m \u001b[38;5;241m1\u001b[39m \u001b[38;5;28;01melse\u001b[39;00m torch\u001b[38;5;241m.\u001b[39mSize()\n\u001b[0;32m---> 64\u001b[0m \u001b[38;5;28;43msuper\u001b[39;49m\u001b[43m(\u001b[49m\u001b[43mCategorical\u001b[49m\u001b[43m,\u001b[49m\u001b[43m \u001b[49m\u001b[38;5;28;43mself\u001b[39;49m\u001b[43m)\u001b[49m\u001b[38;5;241;43m.\u001b[39;49m\u001b[38;5;21;43m__init__\u001b[39;49m\u001b[43m(\u001b[49m\u001b[43mbatch_shape\u001b[49m\u001b[43m,\u001b[49m\u001b[43m \u001b[49m\u001b[43mvalidate_args\u001b[49m\u001b[38;5;241;43m=\u001b[39;49m\u001b[43mvalidate_args\u001b[49m\u001b[43m)\u001b[49m\n",
      "File \u001b[0;32m~/.local/lib/python3.8/site-packages/torch/distributions/distribution.py:54\u001b[0m, in \u001b[0;36mDistribution.__init__\u001b[0;34m(self, batch_shape, event_shape, validate_args)\u001b[0m\n\u001b[1;32m     52\u001b[0m         value \u001b[38;5;241m=\u001b[39m \u001b[38;5;28mgetattr\u001b[39m(\u001b[38;5;28mself\u001b[39m, param)\n\u001b[1;32m     53\u001b[0m         valid \u001b[38;5;241m=\u001b[39m constraint\u001b[38;5;241m.\u001b[39mcheck(value)\n\u001b[0;32m---> 54\u001b[0m         \u001b[38;5;28;01mif\u001b[39;00m \u001b[38;5;129;01mnot\u001b[39;00m \u001b[43mvalid\u001b[49m\u001b[38;5;241;43m.\u001b[39;49m\u001b[43mall\u001b[49m\u001b[43m(\u001b[49m\u001b[43m)\u001b[49m:\n\u001b[1;32m     55\u001b[0m             \u001b[38;5;28;01mraise\u001b[39;00m \u001b[38;5;167;01mValueError\u001b[39;00m(\n\u001b[1;32m     56\u001b[0m                 \u001b[38;5;124mf\u001b[39m\u001b[38;5;124m\"\u001b[39m\u001b[38;5;124mExpected parameter \u001b[39m\u001b[38;5;132;01m{\u001b[39;00mparam\u001b[38;5;132;01m}\u001b[39;00m\u001b[38;5;124m \u001b[39m\u001b[38;5;124m\"\u001b[39m\n\u001b[1;32m     57\u001b[0m                 \u001b[38;5;124mf\u001b[39m\u001b[38;5;124m\"\u001b[39m\u001b[38;5;124m(\u001b[39m\u001b[38;5;132;01m{\u001b[39;00m\u001b[38;5;28mtype\u001b[39m(value)\u001b[38;5;241m.\u001b[39m\u001b[38;5;18m__name__\u001b[39m\u001b[38;5;132;01m}\u001b[39;00m\u001b[38;5;124m of shape \u001b[39m\u001b[38;5;132;01m{\u001b[39;00m\u001b[38;5;28mtuple\u001b[39m(value\u001b[38;5;241m.\u001b[39mshape)\u001b[38;5;132;01m}\u001b[39;00m\u001b[38;5;124m) \u001b[39m\u001b[38;5;124m\"\u001b[39m\n\u001b[0;32m   (...)\u001b[0m\n\u001b[1;32m     60\u001b[0m                 \u001b[38;5;124mf\u001b[39m\u001b[38;5;124m\"\u001b[39m\u001b[38;5;124mbut found invalid values:\u001b[39m\u001b[38;5;130;01m\\n\u001b[39;00m\u001b[38;5;132;01m{\u001b[39;00mvalue\u001b[38;5;132;01m}\u001b[39;00m\u001b[38;5;124m\"\u001b[39m\n\u001b[1;32m     61\u001b[0m             )\n\u001b[1;32m     62\u001b[0m \u001b[38;5;28msuper\u001b[39m(Distribution, \u001b[38;5;28mself\u001b[39m)\u001b[38;5;241m.\u001b[39m\u001b[38;5;21m__init__\u001b[39m()\n",
      "\u001b[0;31mKeyboardInterrupt\u001b[0m: "
     ]
    }
   ],
   "source": [
    "import optuna\n",
    "\n",
    "def objective(trial):\n",
    "    bot = PGBot()\n",
    "    bot.training_config(**{\n",
    "        'discount_factor': trial.suggest_float('discount_factor', 0.90, 0.99),\n",
    "        'learning_rate': trial.suggest_float('learning_rate', 1e-5, 1e-1),\n",
    "        'num_episodes': 100,\n",
    "        'max_steps': 10000,\n",
    "        'network_shape': trial.suggest_int('network_shape', 16, 128),\n",
    "                    })\n",
    "    score = bot.train()\n",
    "    return -1 * np.mean(score)\n",
    "\n",
    "study = optuna.create_study()\n",
    "study.optimize(objective, n_trials=1000)\n",
    "\n",
    "study.best_params"
   ]
  },
  {
   "cell_type": "code",
   "execution_count": 8,
   "metadata": {},
   "outputs": [
    {
     "data": {
      "text/plain": [
       "{'discount_factor': 0.9589431748343439,\n",
       " 'learning_rate': 0.09167455769715335,\n",
       " 'network_shape': 39}"
      ]
     },
     "execution_count": 8,
     "metadata": {},
     "output_type": "execute_result"
    }
   ],
   "source": [
    "study.best_params"
   ]
  },
  {
   "cell_type": "code",
   "execution_count": null,
   "metadata": {},
   "outputs": [],
   "source": []
  },
  {
   "cell_type": "code",
   "execution_count": null,
   "metadata": {},
   "outputs": [],
   "source": []
  },
  {
   "cell_type": "code",
   "execution_count": null,
   "metadata": {},
   "outputs": [],
   "source": []
  },
  {
   "cell_type": "code",
   "execution_count": null,
   "metadata": {},
   "outputs": [],
   "source": []
  },
  {
   "cell_type": "code",
   "execution_count": null,
   "metadata": {},
   "outputs": [],
   "source": []
  },
  {
   "cell_type": "code",
   "execution_count": null,
   "metadata": {},
   "outputs": [],
   "source": []
  },
  {
   "cell_type": "code",
   "execution_count": null,
   "metadata": {},
   "outputs": [],
   "source": []
  },
  {
   "cell_type": "code",
   "execution_count": null,
   "metadata": {},
   "outputs": [],
   "source": [
    "#discount factor for future utilities\n",
    "DISCOUNT_FACTOR = 0.99\n",
    "\n",
    "#number of episodes to run\n",
    "NUM_EPISODES = 10000\n",
    "\n",
    "#max steps per episode\n",
    "MAX_STEPS = 1000"
   ]
  },
  {
   "cell_type": "code",
   "execution_count": 5,
   "metadata": {},
   "outputs": [],
   "source": [
    "#Using a neural network to learn our policy parameters\n",
    "class PolicyNetwork(nn.Module):\n",
    "    \n",
    "    #Takes in observations and outputs actions\n",
    "    def __init__(self, observation_space, action_space):\n",
    "        super(PolicyNetwork, self).__init__()\n",
    "#         self.input_layer = \n",
    "#         self.relu = nn.ReLU(32, 32)\n",
    "#         self.output_layer = nn.Linear(32, action_space)\n",
    "        self.model = nn.Sequential(\n",
    "            nn.Linear(observation_space, 64),\n",
    "            nn.ReLU(),\n",
    "            nn.Linear(64, 64),\n",
    "            nn.ReLU(),\n",
    "            nn.Linear(64, 64),\n",
    "            nn.ReLU(),\n",
    "            nn.Linear(64, action_space)\n",
    "        )\n",
    "    \n",
    "    #forward pass\n",
    "    def forward(self, x):\n",
    "        #input states\n",
    "#         x = self.input_layer(x)\n",
    "        \n",
    "#         #relu activation\n",
    "#         x = F.relu(x)\n",
    "        \n",
    "#         #actions\n",
    "#         actions = self.output_layer(x)\n",
    "        actions = self.model(x)\n",
    "        \n",
    "        #get softmax for a probability distribution\n",
    "        action_probs = F.softmax(actions, dim=1)\n",
    "        # print(action_probs)\n",
    "        \n",
    "        return action_probs"
   ]
  },
  {
   "cell_type": "code",
   "execution_count": 6,
   "metadata": {},
   "outputs": [],
   "source": [
    "def select_action(network, state):\n",
    "    ''' Selects an action given current state\n",
    "    Args:\n",
    "    - network (Torch NN): network to process state\n",
    "    - state (Array): Array of action space in an environment\n",
    "    \n",
    "    Return:\n",
    "    - (int): action that is selected\n",
    "    - (float): log probability of selecting that action given state and network\n",
    "    '''\n",
    "    #convert state to float tensor, add 1 dimension, allocate tensor on device\n",
    "    state = ObsSpace(**state[0] if isinstance(state, tuple) else state)\n",
    "    unpack_state = list(chain(state.agent, state.target, [state.velocity, state.agent_direction]))\n",
    "    state = torch.Tensor(unpack_state).float().unsqueeze(0).to(DEVICE)\n",
    "    \n",
    "    #use network to predict action probabilities\n",
    "    action_probs = network(state)\n",
    "    \n",
    "    #sample an action using the probability distribution\n",
    "    m = Categorical(action_probs)\n",
    "    action = m.sample()\n",
    "    # print(m, action)\n",
    "    \n",
    "    #return action\n",
    "    return action.item(), m.log_prob(action)"
   ]
  },
  {
   "cell_type": "code",
   "execution_count": 7,
   "metadata": {},
   "outputs": [],
   "source": [
    "#Make environment\n",
    "env = gym.make(\"policy_instances/SimpleArena-v0\")\n",
    "\n",
    "#Init network\n",
    "network = PolicyNetwork(env.shape, env.action_space.n).to(DEVICE)\n",
    "\n",
    "#Init optimizer\n",
    "optimizer = optim.Adam(network.parameters(), lr=1e-4)"
   ]
  },
  {
   "cell_type": "code",
   "execution_count": null,
   "metadata": {},
   "outputs": [],
   "source": []
  },
  {
   "cell_type": "code",
   "execution_count": 8,
   "metadata": {},
   "outputs": [
    {
     "name": "stderr",
     "output_type": "stream",
     "text": [
      "/home/beast/.local/lib/python3.8/site-packages/gym/utils/passive_env_checker.py:165: UserWarning: \u001b[33mWARN: The obs returned by the `reset()` method is not within the observation space.\u001b[0m\n",
      "  logger.warn(f\"{pre} is not within the observation space.\")\n"
     ]
    },
    {
     "data": {
      "text/plain": [
       "(4, tensor([-0.7832], device='cuda:0', grad_fn=<SqueezeBackward1>))"
      ]
     },
     "execution_count": 8,
     "metadata": {},
     "output_type": "execute_result"
    }
   ],
   "source": [
    "state = env.reset()\n",
    "select_action(network, state)"
   ]
  },
  {
   "cell_type": "code",
   "execution_count": 9,
   "metadata": {
    "scrolled": true
   },
   "outputs": [
    {
     "data": {
      "application/vnd.jupyter.widget-view+json": {
       "model_id": "0010276e5f434b2583489cdde6b4f759",
       "version_major": 2,
       "version_minor": 0
      },
      "text/plain": [
       "  0%|          | 0/10000 [00:00<?, ?it/s]"
      ]
     },
     "metadata": {},
     "output_type": "display_data"
    },
    {
     "name": "stderr",
     "output_type": "stream",
     "text": [
      "/home/beast/.local/lib/python3.8/site-packages/gym/utils/passive_env_checker.py:165: UserWarning: \u001b[33mWARN: The obs returned by the `step()` method is not within the observation space.\u001b[0m\n",
      "  logger.warn(f\"{pre} is not within the observation space.\")\n"
     ]
    },
    {
     "name": "stdout",
     "output_type": "stream",
     "text": [
      "Score: 142\n",
      "[(1, 1), (3, 1), (4, 4)]\n",
      "Score: -352\n",
      "[(0, 4), (1, 16), (2, 14), (3, 34), (4, 33)]\n",
      "Score: -379\n",
      "[(0, 8), (1, 16), (2, 16), (3, 24), (4, 37)]\n",
      "Score: 77\n",
      "[(1, 3), (2, 1), (3, 6), (4, 26)]\n",
      "Score: -398\n",
      "[(0, 6), (1, 9), (2, 12), (3, 21), (4, 53)]\n",
      "Score: -303\n",
      "[(0, 7), (1, 22), (2, 11), (3, 21), (4, 40)]\n",
      "Score: -386\n",
      "[(0, 2), (1, 19), (2, 5), (3, 17), (4, 58)]\n",
      "Score: -408\n",
      "[(0, 6), (1, 8), (2, 5), (3, 29), (4, 53)]\n",
      "Score: -374\n",
      "[(0, 3), (1, 16), (2, 12), (3, 17), (4, 53)]\n",
      "Score: -379\n",
      "[(0, 7), (1, 18), (2, 10), (3, 13), (4, 53)]\n",
      "Score: -402\n",
      "[(0, 3), (1, 6), (2, 2), (3, 24), (4, 66)]\n",
      "Score: -396\n",
      "[(0, 5), (1, 12), (2, 2), (3, 14), (4, 68)]\n",
      "Score: -359\n",
      "[(0, 6), (1, 16), (2, 6), (3, 23), (4, 50)]\n",
      "Score: -401\n",
      "[(0, 4), (1, 13), (2, 7), (3, 23), (4, 54)]\n",
      "Score: -381\n",
      "[(0, 3), (1, 17), (2, 14), (3, 21), (4, 46)]\n",
      "Score: -369\n",
      "[(0, 4), (1, 13), (2, 8), (3, 22), (4, 54)]\n",
      "Score: -385\n",
      "[(0, 2), (1, 15), (2, 1), (3, 23), (4, 60)]\n",
      "Score: -385\n",
      "[(0, 5), (1, 12), (2, 10), (3, 17), (4, 57)]\n",
      "Score: -429\n",
      "[(0, 2), (1, 5), (2, 2), (3, 17), (4, 75)]\n",
      "Score: -382\n",
      "[(0, 6), (1, 9), (2, 2), (3, 15), (4, 69)]\n",
      "Score: 17\n",
      "[(0, 4), (1, 6), (2, 3), (3, 19), (4, 43)]\n",
      "Score: -399\n",
      "[(0, 2), (1, 13), (2, 7), (3, 18), (4, 61)]\n",
      "Score: -407\n",
      "[(0, 2), (1, 11), (2, 4), (3, 17), (4, 67)]\n",
      "Score: -353\n",
      "[(0, 5), (1, 14), (2, 9), (3, 28), (4, 45)]\n",
      "Score: -395\n",
      "[(0, 6), (1, 13), (2, 9), (3, 22), (4, 51)]\n",
      "Score: -415\n",
      "[(0, 1), (1, 2), (2, 2), (3, 26), (4, 70)]\n",
      "Score: -422\n",
      "[(0, 2), (1, 8), (2, 2), (3, 18), (4, 71)]\n",
      "Score: 133\n",
      "[(1, 3), (3, 1), (4, 7)]\n",
      "Score: -400\n",
      "[(1, 8), (2, 3), (3, 30), (4, 60)]\n",
      "Score: -370\n",
      "[(0, 5), (1, 10), (2, 3), (3, 23), (4, 60)]\n",
      "Score: 66\n",
      "[(1, 2), (2, 1), (3, 9), (4, 32)]\n",
      "Score: -340\n",
      "[(0, 2), (1, 13), (2, 9), (3, 15), (4, 62)]\n",
      "Score: -391\n",
      "[(0, 5), (1, 12), (2, 6), (3, 15), (4, 63)]\n",
      "Score: -431\n",
      "[(0, 1), (1, 4), (2, 1), (3, 23), (4, 72)]\n",
      "Score: -426\n",
      "[(0, 3), (1, 5), (2, 4), (3, 18), (4, 71)]\n",
      "Score: -395\n",
      "[(0, 4), (1, 11), (2, 9), (3, 25), (4, 52)]\n",
      "Score: -416\n",
      "[(1, 8), (2, 3), (3, 20), (4, 70)]\n",
      "Score: -418\n",
      "[(0, 1), (1, 1), (2, 2), (3, 24), (4, 73)]\n",
      "Score: -408\n",
      "[(0, 3), (1, 11), (2, 4), (3, 23), (4, 60)]\n",
      "Score: -402\n",
      "[(0, 1), (1, 5), (2, 5), (3, 24), (4, 66)]\n",
      "Score: -404\n",
      "[(0, 5), (1, 13), (2, 8), (3, 23), (4, 52)]\n",
      "Score: -387\n",
      "[(0, 4), (1, 11), (2, 6), (3, 16), (4, 64)]\n",
      "Score: -390\n",
      "[(0, 4), (1, 12), (2, 5), (3, 20), (4, 60)]\n",
      "Score: -344\n",
      "[(0, 2), (1, 21), (2, 9), (3, 23), (4, 46)]\n",
      "Score: -412\n",
      "[(0, 2), (1, 7), (2, 7), (3, 21), (4, 64)]\n",
      "Score: -405\n",
      "[(1, 10), (2, 9), (3, 20), (4, 62)]\n",
      "Score: -388\n",
      "[(0, 5), (1, 11), (2, 15), (3, 9), (4, 61)]\n",
      "Score: -346\n",
      "[(0, 6), (1, 20), (2, 13), (3, 12), (4, 50)]\n",
      "Score: -361\n",
      "[(0, 5), (1, 19), (2, 15), (3, 19), (4, 43)]\n",
      "Score: -40\n",
      "[(0, 4), (1, 21), (2, 11), (3, 26), (4, 32)]\n",
      "Score: -372\n",
      "[(0, 5), (1, 23), (2, 11), (3, 13), (4, 49)]\n",
      "Score: -367\n",
      "[(0, 3), (1, 24), (2, 7), (3, 18), (4, 49)]\n",
      "Score: -335\n",
      "[(0, 8), (1, 22), (2, 10), (3, 10), (4, 51)]\n",
      "Score: -359\n",
      "[(0, 9), (1, 22), (2, 9), (3, 16), (4, 45)]\n",
      "Score: -380\n",
      "[(0, 8), (1, 13), (2, 15), (3, 17), (4, 48)]\n",
      "Score: -367\n",
      "[(0, 6), (1, 23), (2, 7), (3, 19), (4, 46)]\n",
      "Score: 80\n",
      "[(0, 2), (1, 10), (2, 7), (3, 6), (4, 14)]\n",
      "Score: -362\n",
      "[(0, 8), (1, 25), (2, 12), (3, 16), (4, 40)]\n",
      "Score: -371\n",
      "[(0, 4), (1, 26), (2, 19), (3, 12), (4, 40)]\n",
      "Score: -382\n",
      "[(0, 4), (1, 19), (2, 9), (3, 22), (4, 47)]\n",
      "Score: -357\n",
      "[(0, 8), (1, 21), (2, 9), (3, 19), (4, 44)]\n",
      "Score: 96\n",
      "[(0, 3), (1, 10), (2, 7), (3, 8), (4, 16)]\n",
      "Score: -357\n",
      "[(0, 6), (1, 21), (2, 9), (3, 19), (4, 46)]\n",
      "Score: -365\n",
      "[(0, 7), (1, 20), (2, 12), (3, 12), (4, 50)]\n",
      "Score: -346\n",
      "[(0, 8), (1, 25), (2, 13), (3, 19), (4, 36)]\n",
      "Score: -360\n",
      "[(0, 7), (1, 16), (2, 11), (3, 15), (4, 52)]\n",
      "Score: -410\n",
      "[(0, 4), (1, 8), (2, 7), (3, 22), (4, 60)]\n",
      "Score: -382\n",
      "[(0, 7), (1, 16), (2, 10), (3, 15), (4, 53)]\n",
      "Score: -339\n",
      "[(0, 9), (1, 25), (2, 9), (3, 20), (4, 38)]\n",
      "Score: -279\n",
      "[(0, 8), (1, 23), (2, 13), (3, 24), (4, 33)]\n",
      "Score: -355\n",
      "[(0, 12), (1, 18), (2, 11), (3, 28), (4, 32)]\n",
      "Score: -355\n",
      "[(0, 6), (1, 30), (2, 14), (3, 19), (4, 32)]\n",
      "Score: -314\n",
      "[(0, 8), (1, 19), (2, 9), (3, 27), (4, 38)]\n",
      "Score: -373\n",
      "[(0, 5), (1, 27), (2, 16), (3, 20), (4, 33)]\n",
      "Score: -348\n",
      "[(0, 9), (1, 31), (2, 16), (3, 14), (4, 31)]\n",
      "Score: -303\n",
      "[(0, 16), (1, 24), (2, 10), (3, 17), (4, 34)]\n",
      "Score: -341\n",
      "[(0, 4), (1, 21), (2, 17), (3, 27), (4, 32)]\n",
      "Score: -349\n",
      "[(0, 12), (1, 19), (2, 8), (3, 18), (4, 44)]\n",
      "Score: -324\n",
      "[(0, 7), (1, 25), (2, 15), (3, 21), (4, 33)]\n",
      "Score: -378\n",
      "[(0, 7), (1, 25), (2, 16), (3, 14), (4, 39)]\n",
      "Score: -371\n",
      "[(0, 10), (1, 22), (2, 18), (3, 27), (4, 24)]\n",
      "Score: -356\n",
      "[(0, 7), (1, 32), (2, 12), (3, 15), (4, 35)]\n",
      "Score: -339\n",
      "[(0, 11), (1, 24), (2, 16), (3, 22), (4, 28)]\n",
      "Score: -300\n",
      "[(0, 15), (1, 31), (2, 12), (3, 17), (4, 26)]\n",
      "Score: -317\n",
      "[(0, 7), (1, 29), (2, 14), (3, 25), (4, 26)]\n",
      "Score: -305\n",
      "[(0, 8), (1, 38), (2, 17), (3, 19), (4, 19)]\n",
      "Score: -320\n",
      "[(0, 14), (1, 25), (2, 13), (3, 16), (4, 33)]\n",
      "Score: -335\n",
      "[(0, 7), (1, 39), (2, 15), (3, 12), (4, 28)]\n",
      "Score: -308\n",
      "[(0, 17), (1, 27), (2, 12), (3, 24), (4, 21)]\n",
      "Score: -370\n",
      "[(0, 10), (1, 26), (2, 13), (3, 21), (4, 31)]\n",
      "Score: -369\n",
      "[(0, 8), (1, 26), (2, 20), (3, 17), (4, 30)]\n",
      "Score: -360\n",
      "[(0, 8), (1, 25), (2, 11), (3, 14), (4, 43)]\n",
      "Score: -332\n",
      "[(0, 9), (1, 32), (2, 16), (3, 20), (4, 24)]\n",
      "Score: -351\n",
      "[(0, 8), (1, 22), (2, 11), (3, 17), (4, 43)]\n",
      "Score: -351\n",
      "[(0, 6), (1, 23), (2, 12), (3, 23), (4, 37)]\n",
      "Score: -360\n",
      "[(0, 9), (1, 27), (2, 10), (3, 8), (4, 47)]\n",
      "Score: -365\n",
      "[(0, 6), (1, 27), (2, 13), (3, 15), (4, 40)]\n",
      "Score: -355\n",
      "[(0, 5), (1, 22), (2, 16), (3, 20), (4, 38)]\n",
      "Score: -353\n",
      "[(0, 11), (1, 31), (2, 13), (3, 14), (4, 32)]\n",
      "Score: -336\n",
      "[(0, 11), (1, 26), (2, 12), (3, 14), (4, 38)]\n",
      "Score: 36\n",
      "[(0, 7), (1, 29), (2, 15), (3, 23), (4, 23)]\n",
      "Score: -328\n",
      "[(0, 8), (1, 33), (2, 19), (3, 12), (4, 29)]\n",
      "Score: -312\n",
      "[(0, 12), (1, 28), (2, 16), (3, 25), (4, 20)]\n",
      "Score: -326\n",
      "[(0, 8), (1, 43), (2, 19), (3, 13), (4, 18)]\n",
      "Score: -319\n",
      "[(0, 12), (1, 25), (2, 18), (3, 21), (4, 25)]\n",
      "Score: -345\n",
      "[(0, 8), (1, 24), (2, 19), (3, 26), (4, 24)]\n",
      "Score: -357\n",
      "[(0, 10), (1, 32), (2, 23), (3, 12), (4, 24)]\n",
      "Score: -314\n",
      "[(0, 8), (1, 37), (2, 12), (3, 20), (4, 24)]\n",
      "Score: -291\n",
      "[(0, 9), (1, 51), (2, 12), (3, 16), (4, 13)]\n",
      "Score: -283\n",
      "[(0, 10), (1, 44), (2, 15), (3, 11), (4, 21)]\n",
      "Score: -328\n",
      "[(0, 8), (1, 31), (2, 20), (3, 14), (4, 28)]\n",
      "Score: -331\n",
      "[(0, 12), (1, 39), (2, 20), (3, 10), (4, 20)]\n",
      "Score: -303\n",
      "[(0, 11), (1, 34), (2, 13), (3, 17), (4, 26)]\n",
      "Score: -306\n",
      "[(0, 15), (1, 33), (2, 15), (3, 18), (4, 20)]\n",
      "Score: -294\n",
      "[(0, 14), (1, 35), (2, 20), (3, 8), (4, 24)]\n",
      "Score: -337\n",
      "[(0, 14), (1, 41), (2, 13), (3, 12), (4, 21)]\n",
      "Score: -312\n",
      "[(0, 9), (1, 40), (2, 12), (3, 20), (4, 20)]\n",
      "Score: -345\n",
      "[(0, 13), (1, 32), (2, 14), (3, 18), (4, 24)]\n",
      "Score: 125\n",
      "[(0, 1), (1, 1), (2, 1), (4, 2)]\n",
      "Score: 69\n",
      "[(0, 2), (1, 10), (2, 3), (3, 2), (4, 1)]\n",
      "Score: -308\n",
      "[(0, 15), (1, 40), (2, 12), (3, 14), (4, 20)]\n",
      "Score: -298\n",
      "[(0, 17), (1, 39), (2, 10), (3, 18), (4, 17)]\n",
      "Score: -331\n",
      "[(0, 11), (1, 41), (2, 19), (3, 16), (4, 14)]\n",
      "Score: -298\n",
      "[(0, 11), (1, 42), (2, 22), (3, 18), (4, 8)]\n",
      "Score: -328\n",
      "[(0, 5), (1, 43), (2, 18), (3, 12), (4, 23)]\n",
      "Score: -330\n",
      "[(0, 14), (1, 39), (2, 24), (3, 11), (4, 13)]\n",
      "Score: -307\n",
      "[(0, 15), (1, 30), (2, 21), (3, 20), (4, 15)]\n",
      "Score: -312\n",
      "[(0, 10), (1, 47), (2, 8), (3, 14), (4, 22)]\n",
      "Score: -304\n",
      "[(0, 18), (1, 49), (2, 11), (3, 8), (4, 15)]\n",
      "Score: -303\n",
      "[(0, 10), (1, 48), (2, 14), (3, 18), (4, 11)]\n",
      "Score: -332\n",
      "[(0, 10), (1, 43), (2, 22), (3, 12), (4, 14)]\n",
      "Score: -345\n",
      "[(0, 14), (1, 34), (2, 20), (3, 11), (4, 22)]\n",
      "Score: -360\n",
      "[(0, 13), (1, 35), (2, 23), (3, 8), (4, 22)]\n",
      "Score: -298\n",
      "[(0, 16), (1, 42), (2, 18), (3, 13), (4, 12)]\n",
      "Score: -295\n",
      "[(0, 14), (1, 46), (2, 17), (3, 14), (4, 10)]\n",
      "Score: -325\n",
      "[(0, 10), (1, 38), (2, 19), (3, 16), (4, 18)]\n",
      "Score: -295\n",
      "[(0, 17), (1, 45), (2, 10), (3, 15), (4, 14)]\n",
      "Score: -292\n",
      "[(0, 11), (1, 40), (2, 16), (3, 13), (4, 21)]\n",
      "Score: -332\n",
      "[(0, 16), (1, 36), (2, 18), (3, 15), (4, 16)]\n",
      "Score: -312\n",
      "[(0, 14), (1, 49), (2, 17), (3, 10), (4, 11)]\n",
      "Score: -316\n",
      "[(0, 12), (1, 50), (2, 17), (3, 10), (4, 12)]\n",
      "Score: -305\n",
      "[(0, 9), (1, 44), (2, 11), (3, 17), (4, 20)]\n",
      "Score: -274\n",
      "[(0, 12), (1, 53), (2, 12), (3, 12), (4, 12)]\n",
      "Score: -290\n",
      "[(0, 16), (1, 36), (2, 13), (3, 18), (4, 18)]\n",
      "Score: -266\n",
      "[(0, 21), (1, 39), (2, 16), (3, 11), (4, 14)]\n",
      "Score: -335\n",
      "[(0, 7), (1, 39), (2, 20), (3, 14), (4, 21)]\n",
      "Score: -324\n",
      "[(0, 20), (1, 37), (2, 17), (3, 10), (4, 17)]\n"
     ]
    },
    {
     "name": "stdout",
     "output_type": "stream",
     "text": [
      "Score: -311\n",
      "[(0, 19), (1, 51), (2, 15), (3, 4), (4, 12)]\n",
      "Score: -292\n",
      "[(0, 19), (1, 49), (2, 7), (3, 11), (4, 15)]\n",
      "Score: 52\n",
      "[(0, 3), (1, 29), (2, 9), (3, 7), (4, 10)]\n",
      "Score: -277\n",
      "[(0, 14), (1, 44), (2, 18), (3, 9), (4, 16)]\n",
      "Score: -501\n",
      "[(0, 11), (1, 47), (2, 17), (3, 10), (4, 16)]\n",
      "Score: -301\n",
      "[(0, 14), (1, 54), (2, 7), (3, 9), (4, 17)]\n",
      "Score: -317\n",
      "[(0, 10), (1, 39), (2, 19), (3, 15), (4, 18)]\n",
      "Score: -311\n",
      "[(0, 11), (1, 50), (2, 12), (3, 16), (4, 12)]\n",
      "Score: -329\n",
      "[(0, 13), (1, 39), (2, 20), (3, 11), (4, 18)]\n",
      "Score: -298\n",
      "[(0, 11), (1, 44), (2, 19), (3, 11), (4, 16)]\n",
      "Score: -25\n",
      "[(0, 9), (1, 49), (2, 11), (3, 11), (4, 15)]\n",
      "Score: -309\n",
      "[(0, 13), (1, 48), (2, 12), (3, 14), (4, 14)]\n",
      "Score: -341\n",
      "[(0, 8), (1, 28), (2, 26), (3, 20), (4, 19)]\n",
      "Score: -325\n",
      "[(0, 11), (1, 51), (2, 17), (3, 10), (4, 12)]\n",
      "Score: -323\n",
      "[(0, 2), (1, 42), (2, 24), (3, 12), (4, 21)]\n",
      "Score: -318\n",
      "[(0, 16), (1, 54), (2, 17), (3, 6), (4, 8)]\n",
      "Score: 11\n",
      "[(0, 6), (1, 32), (2, 17), (3, 7), (4, 11)]\n",
      "Score: -311\n",
      "[(0, 16), (1, 43), (2, 11), (3, 9), (4, 22)]\n",
      "Score: -282\n",
      "[(0, 11), (1, 45), (2, 17), (3, 13), (4, 15)]\n",
      "Score: -317\n",
      "[(0, 9), (1, 37), (2, 21), (3, 18), (4, 16)]\n",
      "Score: -256\n",
      "[(0, 12), (1, 50), (2, 12), (3, 15), (4, 12)]\n",
      "Score: -278\n",
      "[(0, 10), (1, 42), (2, 18), (3, 12), (4, 19)]\n",
      "Score: 134\n",
      "[(1, 5), (2, 3), (3, 1), (4, 2)]\n",
      "Score: -310\n",
      "[(0, 11), (1, 40), (2, 21), (3, 17), (4, 12)]\n",
      "Score: -156\n",
      "[(0, 6), (1, 50), (2, 17), (3, 12), (4, 15)]\n",
      "Score: -304\n",
      "[(0, 10), (1, 50), (2, 19), (3, 8), (4, 14)]\n",
      "Score: -282\n",
      "[(0, 10), (1, 42), (2, 17), (3, 19), (4, 13)]\n",
      "Score: -289\n",
      "[(0, 10), (1, 51), (2, 15), (3, 12), (4, 13)]\n",
      "Score: -288\n",
      "[(0, 12), (1, 45), (2, 15), (3, 13), (4, 16)]\n",
      "Score: 105\n",
      "[(0, 6), (1, 22), (2, 10), (3, 5), (4, 9)]\n",
      "Score: -304\n",
      "[(0, 14), (1, 41), (2, 17), (3, 17), (4, 12)]\n",
      "Score: -295\n",
      "[(0, 13), (1, 52), (2, 6), (3, 9), (4, 21)]\n",
      "Score: -301\n",
      "[(0, 6), (1, 56), (2, 12), (3, 10), (4, 17)]\n",
      "Score: -19\n",
      "[(0, 8), (1, 28), (2, 11), (3, 8), (4, 14)]\n",
      "Score: -294\n",
      "[(0, 9), (1, 50), (2, 16), (3, 10), (4, 16)]\n",
      "Score: -298\n",
      "[(0, 10), (1, 46), (2, 12), (3, 12), (4, 21)]\n",
      "Score: -313\n",
      "[(0, 7), (1, 38), (2, 15), (3, 20), (4, 21)]\n",
      "Score: -290\n",
      "[(0, 7), (1, 54), (2, 16), (3, 13), (4, 11)]\n",
      "Score: -310\n",
      "[(0, 14), (1, 54), (2, 13), (3, 6), (4, 14)]\n",
      "Score: 66\n",
      "[(0, 15), (1, 34), (2, 22), (3, 12), (4, 12)]\n",
      "Score: -319\n",
      "[(0, 15), (1, 43), (2, 17), (3, 11), (4, 15)]\n",
      "Score: -323\n",
      "[(0, 13), (1, 45), (2, 12), (3, 10), (4, 21)]\n",
      "Score: -326\n",
      "[(0, 14), (1, 33), (2, 23), (3, 18), (4, 13)]\n",
      "Score: -309\n",
      "[(0, 16), (1, 35), (2, 15), (3, 19), (4, 16)]\n",
      "Score: -303\n",
      "[(0, 10), (1, 50), (2, 21), (3, 7), (4, 13)]\n",
      "Score: -318\n",
      "[(0, 14), (1, 40), (2, 18), (3, 13), (4, 16)]\n",
      "Score: -332\n",
      "[(0, 11), (1, 43), (2, 19), (3, 10), (4, 18)]\n",
      "Score: -306\n",
      "[(0, 11), (1, 45), (2, 19), (3, 9), (4, 17)]\n",
      "Score: -278\n",
      "[(0, 11), (1, 39), (2, 18), (3, 13), (4, 20)]\n",
      "Score: -306\n",
      "[(0, 16), (1, 42), (2, 14), (3, 10), (4, 19)]\n",
      "Score: -341\n",
      "[(0, 15), (1, 41), (2, 19), (3, 10), (4, 16)]\n",
      "Score: -285\n",
      "[(0, 8), (1, 46), (2, 23), (3, 10), (4, 14)]\n",
      "Score: -320\n",
      "[(0, 14), (1, 43), (2, 16), (3, 10), (4, 18)]\n",
      "Score: -284\n",
      "[(0, 14), (1, 46), (2, 20), (3, 9), (4, 12)]\n",
      "Score: 48\n",
      "[(0, 11), (1, 35), (2, 15), (3, 11), (4, 11)]\n",
      "Score: -306\n",
      "[(0, 20), (1, 38), (2, 12), (3, 10), (4, 21)]\n",
      "Score: 60\n",
      "[(0, 9), (1, 25), (2, 12), (3, 10), (4, 13)]\n",
      "Score: -303\n",
      "[(0, 11), (1, 43), (2, 18), (3, 10), (4, 19)]\n",
      "Score: -319\n",
      "[(0, 16), (1, 37), (2, 18), (3, 6), (4, 24)]\n",
      "Score: -317\n",
      "[(0, 12), (1, 39), (2, 18), (3, 11), (4, 21)]\n",
      "Score: -311\n",
      "[(0, 21), (1, 33), (2, 17), (3, 10), (4, 20)]\n",
      "Score: -322\n",
      "[(0, 12), (1, 39), (2, 13), (3, 16), (4, 21)]\n",
      "Score: -323\n",
      "[(0, 16), (1, 37), (2, 12), (3, 11), (4, 25)]\n",
      "Score: -355\n",
      "[(0, 16), (1, 37), (2, 20), (3, 8), (4, 20)]\n",
      "Score: -290\n",
      "[(0, 12), (1, 47), (2, 16), (3, 11), (4, 15)]\n",
      "Score: -353\n",
      "[(0, 14), (1, 35), (2, 15), (3, 18), (4, 19)]\n",
      "Score: -301\n",
      "[(0, 18), (1, 42), (2, 16), (3, 9), (4, 16)]\n",
      "Score: -307\n",
      "[(0, 8), (1, 43), (2, 21), (3, 10), (4, 19)]\n",
      "Score: -284\n",
      "[(0, 14), (1, 40), (2, 18), (3, 10), (4, 19)]\n",
      "Score: -292\n",
      "[(0, 18), (1, 39), (2, 14), (3, 12), (4, 18)]\n",
      "Score: -307\n",
      "[(0, 16), (1, 41), (2, 10), (3, 14), (4, 20)]\n",
      "Score: -316\n",
      "[(0, 16), (1, 45), (2, 19), (3, 7), (4, 14)]\n",
      "Score: -304\n",
      "[(0, 17), (1, 41), (2, 14), (3, 17), (4, 12)]\n",
      "Score: -313\n",
      "[(0, 12), (1, 47), (2, 20), (3, 8), (4, 14)]\n",
      "Score: -319\n",
      "[(0, 14), (1, 42), (2, 11), (3, 15), (4, 19)]\n",
      "Score: 56\n",
      "[(0, 12), (1, 19), (2, 15), (3, 12), (4, 20)]\n",
      "Score: -295\n",
      "[(0, 19), (1, 43), (2, 15), (3, 13), (4, 11)]\n",
      "Score: -302\n",
      "[(0, 16), (1, 28), (2, 19), (3, 16), (4, 22)]\n",
      "Score: -303\n",
      "[(0, 11), (1, 45), (2, 17), (3, 12), (4, 16)]\n",
      "Score: -293\n",
      "[(0, 14), (1, 36), (2, 21), (3, 17), (4, 13)]\n",
      "Score: -272\n",
      "[(0, 11), (1, 41), (2, 20), (3, 8), (4, 21)]\n",
      "Score: -315\n",
      "[(0, 11), (1, 38), (2, 25), (3, 7), (4, 20)]\n",
      "Score: -326\n",
      "[(0, 16), (1, 36), (2, 20), (3, 8), (4, 21)]\n",
      "Score: -327\n",
      "[(0, 12), (1, 41), (2, 18), (3, 9), (4, 21)]\n",
      "Score: -330\n",
      "[(0, 11), (1, 35), (2, 24), (3, 17), (4, 14)]\n",
      "Score: -312\n",
      "[(0, 16), (1, 42), (2, 29), (3, 6), (4, 8)]\n",
      "Score: -342\n",
      "[(0, 10), (1, 35), (2, 25), (3, 9), (4, 22)]\n",
      "Score: -326\n",
      "[(0, 15), (1, 25), (2, 27), (3, 14), (4, 20)]\n",
      "Score: -346\n",
      "[(0, 10), (1, 29), (2, 23), (3, 14), (4, 25)]\n",
      "Score: -337\n",
      "[(0, 12), (1, 29), (2, 29), (3, 13), (4, 18)]\n",
      "Score: -337\n",
      "[(0, 14), (1, 40), (2, 19), (3, 10), (4, 18)]\n",
      "Score: -307\n",
      "[(0, 11), (1, 44), (2, 29), (3, 7), (4, 10)]\n",
      "Score: -300\n",
      "[(0, 12), (1, 36), (2, 32), (3, 11), (4, 10)]\n",
      "Score: -319\n",
      "[(0, 13), (1, 34), (2, 25), (3, 12), (4, 17)]\n",
      "Score: -261\n",
      "[(0, 19), (1, 34), (2, 27), (3, 12), (4, 9)]\n",
      "Score: -330\n",
      "[(0, 16), (1, 35), (2, 20), (3, 11), (4, 19)]\n",
      "Score: -293\n",
      "[(0, 23), (1, 30), (2, 23), (3, 11), (4, 14)]\n",
      "Score: -302\n",
      "[(0, 13), (1, 39), (2, 28), (3, 7), (4, 14)]\n",
      "Score: -283\n",
      "[(0, 12), (1, 36), (2, 29), (3, 9), (4, 15)]\n",
      "Score: -333\n",
      "[(0, 18), (1, 30), (2, 35), (3, 11), (4, 7)]\n",
      "Score: -301\n",
      "[(0, 18), (1, 24), (2, 29), (3, 17), (4, 13)]\n",
      "Score: -282\n",
      "[(0, 13), (1, 26), (2, 41), (3, 9), (4, 12)]\n",
      "Score: -314\n",
      "[(0, 16), (1, 29), (2, 36), (3, 4), (4, 16)]\n",
      "Score: -370\n",
      "[(0, 14), (1, 27), (2, 32), (3, 11), (4, 17)]\n",
      "Score: -292\n",
      "[(0, 13), (1, 36), (2, 28), (3, 8), (4, 16)]\n",
      "Score: -370\n",
      "[(0, 19), (1, 19), (2, 46), (3, 8), (4, 9)]\n",
      "Score: -338\n",
      "[(0, 16), (1, 23), (2, 27), (3, 18), (4, 17)]\n",
      "Score: -286\n",
      "[(0, 18), (1, 22), (2, 38), (3, 9), (4, 14)]\n",
      "Score: -334\n",
      "[(0, 11), (1, 32), (2, 37), (3, 8), (4, 13)]\n",
      "Score: -331\n",
      "[(0, 22), (1, 24), (2, 32), (3, 9), (4, 14)]\n",
      "Score: -313\n",
      "[(0, 11), (1, 25), (2, 38), (3, 10), (4, 17)]\n",
      "Score: -316\n",
      "[(0, 15), (1, 30), (2, 29), (3, 2), (4, 25)]\n",
      "Score: -288\n",
      "[(0, 17), (1, 28), (2, 33), (3, 5), (4, 18)]\n",
      "Score: -370\n",
      "[(0, 23), (1, 15), (2, 28), (3, 13), (4, 22)]\n",
      "Score: -314\n",
      "[(0, 17), (1, 22), (2, 31), (3, 17), (4, 14)]\n",
      "Score: -323\n",
      "[(0, 15), (1, 36), (2, 26), (3, 5), (4, 19)]\n",
      "Score: -328\n",
      "[(0, 15), (1, 30), (2, 22), (3, 11), (4, 23)]\n",
      "Score: 149\n",
      "[(2, 1), (4, 1)]\n",
      "Score: -311\n",
      "[(0, 13), (1, 34), (2, 23), (3, 14), (4, 17)]\n",
      "Score: -334\n",
      "[(0, 15), (1, 30), (2, 23), (3, 11), (4, 22)]\n",
      "Score: -310\n",
      "[(0, 13), (1, 32), (2, 24), (3, 10), (4, 22)]\n",
      "Score: -281\n",
      "[(0, 13), (1, 45), (2, 13), (3, 13), (4, 17)]\n",
      "Score: -334\n",
      "[(0, 16), (1, 28), (2, 20), (3, 13), (4, 24)]\n",
      "Score: -311\n",
      "[(0, 16), (1, 30), (2, 23), (3, 8), (4, 24)]\n",
      "Score: -347\n",
      "[(0, 15), (1, 28), (2, 24), (3, 11), (4, 23)]\n",
      "Score: 118\n",
      "[(0, 4), (1, 5), (2, 4), (3, 1), (4, 4)]\n",
      "Score: -332\n",
      "[(0, 22), (1, 23), (2, 26), (3, 6), (4, 24)]\n",
      "Score: -284\n",
      "[(0, 20), (1, 33), (2, 19), (3, 14), (4, 15)]\n",
      "Score: -306\n",
      "[(0, 17), (1, 28), (2, 23), (3, 12), (4, 21)]\n",
      "Score: -329\n",
      "[(0, 20), (1, 30), (2, 16), (3, 15), (4, 20)]\n",
      "Score: -316\n",
      "[(0, 17), (1, 26), (2, 25), (3, 14), (4, 19)]\n",
      "Score: -349\n",
      "[(0, 22), (1, 24), (2, 29), (3, 7), (4, 19)]\n",
      "Score: -343\n",
      "[(0, 19), (1, 30), (2, 25), (3, 11), (4, 16)]\n",
      "Score: -317\n",
      "[(0, 16), (1, 31), (2, 18), (3, 13), (4, 23)]\n",
      "Score: -357\n",
      "[(0, 21), (1, 23), (2, 18), (3, 12), (4, 27)]\n",
      "Score: -328\n",
      "[(0, 18), (1, 22), (2, 28), (3, 7), (4, 26)]\n",
      "Score: -292\n",
      "[(0, 25), (1, 36), (2, 17), (3, 5), (4, 18)]\n",
      "Score: -310\n",
      "[(0, 18), (1, 28), (2, 18), (3, 16), (4, 21)]\n",
      "Score: -322\n",
      "[(0, 22), (1, 21), (2, 29), (3, 7), (4, 22)]\n",
      "Score: -329\n",
      "[(0, 23), (1, 24), (2, 19), (3, 11), (4, 24)]\n",
      "Score: -299\n",
      "[(0, 32), (1, 17), (2, 15), (3, 16), (4, 21)]\n",
      "Score: -315\n",
      "[(0, 38), (1, 20), (2, 15), (3, 15), (4, 13)]\n",
      "Score: -310\n",
      "[(0, 31), (1, 19), (2, 17), (3, 11), (4, 23)]\n",
      "Score: -326\n",
      "[(0, 24), (1, 32), (2, 16), (3, 7), (4, 22)]\n"
     ]
    },
    {
     "name": "stdout",
     "output_type": "stream",
     "text": [
      "Score: -322\n",
      "[(0, 21), (1, 25), (2, 20), (3, 10), (4, 25)]\n",
      "Score: -313\n",
      "[(0, 28), (1, 25), (2, 13), (3, 12), (4, 23)]\n",
      "Score: -284\n",
      "[(0, 35), (1, 25), (2, 11), (3, 8), (4, 22)]\n",
      "Score: -314\n",
      "[(0, 27), (1, 25), (2, 13), (3, 9), (4, 27)]\n",
      "Score: -303\n",
      "[(0, 24), (1, 41), (2, 12), (3, 8), (4, 16)]\n",
      "Score: 140\n",
      "[(0, 8), (1, 7), (2, 1), (3, 1), (4, 1)]\n",
      "Score: -308\n",
      "[(0, 26), (1, 30), (2, 17), (3, 11), (4, 17)]\n",
      "Score: -307\n",
      "[(0, 20), (1, 32), (2, 12), (3, 11), (4, 26)]\n",
      "Score: -301\n",
      "[(0, 19), (1, 30), (2, 16), (3, 14), (4, 22)]\n",
      "Score: -304\n",
      "[(0, 24), (1, 39), (2, 14), (3, 11), (4, 13)]\n",
      "Score: -293\n",
      "[(0, 27), (1, 36), (2, 13), (3, 10), (4, 15)]\n",
      "Score: -265\n",
      "[(0, 32), (1, 27), (2, 13), (3, 13), (4, 16)]\n",
      "Score: -265\n",
      "[(0, 21), (1, 48), (2, 10), (3, 8), (4, 14)]\n",
      "Score: -293\n",
      "[(0, 30), (1, 38), (2, 17), (3, 10), (4, 6)]\n",
      "Score: -284\n",
      "[(0, 25), (1, 37), (2, 15), (3, 10), (4, 14)]\n",
      "Score: -314\n",
      "[(0, 37), (1, 26), (2, 14), (3, 10), (4, 14)]\n",
      "Score: -326\n",
      "[(0, 26), (1, 29), (2, 22), (3, 11), (4, 13)]\n",
      "Score: -278\n",
      "[(0, 44), (1, 27), (2, 9), (3, 8), (4, 13)]\n",
      "Score: 75\n",
      "[(0, 30), (1, 23), (2, 12), (3, 6), (4, 17)]\n",
      "Score: -307\n",
      "[(0, 34), (1, 24), (2, 20), (3, 15), (4, 8)]\n",
      "Score: -276\n",
      "[(0, 43), (1, 23), (2, 12), (3, 10), (4, 13)]\n",
      "Score: -282\n",
      "[(0, 34), (1, 24), (2, 9), (3, 14), (4, 20)]\n",
      "Score: -284\n",
      "[(0, 38), (1, 23), (2, 16), (3, 10), (4, 14)]\n",
      "Score: -277\n",
      "[(0, 36), (1, 24), (2, 15), (3, 11), (4, 15)]\n",
      "Score: -299\n",
      "[(0, 43), (1, 24), (2, 14), (3, 7), (4, 13)]\n",
      "Score: 149\n",
      "[(3, 1), (4, 1)]\n",
      "Score: -314\n",
      "[(0, 41), (1, 20), (2, 13), (3, 16), (4, 11)]\n",
      "Score: -276\n",
      "[(0, 42), (1, 36), (2, 4), (3, 9), (4, 10)]\n",
      "Score: -316\n",
      "[(0, 41), (1, 22), (2, 14), (3, 11), (4, 13)]\n",
      "Score: -294\n",
      "[(0, 44), (1, 26), (2, 14), (3, 9), (4, 8)]\n",
      "Score: -316\n",
      "[(0, 34), (1, 21), (2, 13), (3, 12), (4, 21)]\n",
      "Score: -277\n",
      "[(0, 41), (1, 23), (2, 11), (3, 12), (4, 14)]\n",
      "Score: -272\n",
      "[(0, 46), (1, 23), (2, 10), (3, 12), (4, 10)]\n",
      "Score: -288\n",
      "[(0, 45), (1, 19), (2, 13), (3, 9), (4, 15)]\n",
      "Score: -275\n",
      "[(0, 42), (1, 33), (2, 5), (3, 10), (4, 11)]\n",
      "Score: -283\n",
      "[(0, 41), (1, 28), (2, 9), (3, 14), (4, 9)]\n",
      "Score: -264\n",
      "[(0, 51), (1, 29), (2, 8), (3, 8), (4, 5)]\n",
      "Score: -299\n",
      "[(0, 41), (1, 20), (2, 19), (3, 9), (4, 12)]\n",
      "Score: -271\n",
      "[(0, 42), (1, 29), (2, 12), (3, 13), (4, 5)]\n",
      "Score: 106\n",
      "[(0, 9), (1, 7), (2, 3), (3, 5), (4, 10)]\n",
      "Score: -283\n",
      "[(0, 53), (1, 16), (2, 15), (3, 5), (4, 12)]\n",
      "Score: -321\n",
      "[(0, 48), (1, 21), (2, 16), (3, 3), (4, 13)]\n",
      "Score: -260\n",
      "[(0, 45), (1, 26), (2, 11), (3, 13), (4, 6)]\n",
      "Score: -300\n",
      "[(0, 44), (1, 25), (2, 12), (3, 10), (4, 10)]\n",
      "Score: -267\n",
      "[(0, 55), (1, 24), (2, 7), (3, 7), (4, 8)]\n",
      "Score: -320\n",
      "[(0, 42), (1, 22), (2, 12), (3, 7), (4, 18)]\n",
      "Score: -312\n",
      "[(0, 32), (1, 20), (2, 13), (3, 15), (4, 21)]\n",
      "Score: -325\n",
      "[(0, 41), (1, 22), (2, 14), (3, 9), (4, 15)]\n",
      "Score: -265\n",
      "[(0, 41), (1, 20), (2, 20), (3, 9), (4, 11)]\n",
      "Score: -275\n",
      "[(0, 39), (1, 27), (2, 14), (3, 9), (4, 12)]\n",
      "Score: -268\n",
      "[(0, 50), (1, 19), (2, 9), (3, 13), (4, 10)]\n",
      "Score: -311\n",
      "[(0, 39), (1, 15), (2, 16), (3, 19), (4, 12)]\n",
      "Score: 59\n",
      "[(0, 32), (1, 17), (2, 18), (3, 9), (4, 12)]\n",
      "Score: -309\n",
      "[(0, 48), (1, 23), (2, 12), (3, 10), (4, 8)]\n",
      "Score: -285\n",
      "[(0, 48), (1, 20), (2, 12), (3, 12), (4, 9)]\n",
      "Score: -269\n",
      "[(0, 40), (1, 30), (2, 11), (3, 10), (4, 10)]\n",
      "Score: -293\n",
      "[(0, 51), (1, 21), (2, 15), (3, 7), (4, 7)]\n",
      "Score: -264\n",
      "[(0, 47), (1, 23), (2, 15), (3, 7), (4, 9)]\n",
      "Score: -299\n",
      "[(0, 39), (1, 23), (2, 13), (3, 12), (4, 14)]\n",
      "Score: -309\n",
      "[(0, 42), (1, 23), (2, 12), (3, 9), (4, 15)]\n",
      "Score: -309\n",
      "[(0, 33), (1, 22), (2, 11), (3, 15), (4, 20)]\n",
      "Score: -271\n",
      "[(0, 37), (1, 26), (2, 11), (3, 13), (4, 14)]\n",
      "Score: -295\n",
      "[(0, 46), (1, 17), (2, 19), (3, 11), (4, 8)]\n",
      "Score: -253\n",
      "[(0, 41), (1, 26), (2, 11), (3, 9), (4, 14)]\n",
      "Score: -288\n",
      "[(0, 47), (1, 20), (2, 15), (3, 8), (4, 11)]\n",
      "Score: -297\n",
      "[(0, 41), (1, 22), (2, 19), (3, 11), (4, 8)]\n",
      "Score: -244\n",
      "[(0, 39), (1, 31), (2, 11), (3, 10), (4, 10)]\n",
      "Score: -300\n",
      "[(0, 49), (1, 17), (2, 9), (3, 14), (4, 12)]\n",
      "Score: -263\n",
      "[(0, 45), (1, 26), (2, 12), (3, 5), (4, 13)]\n",
      "Score: -276\n",
      "[(0, 46), (1, 21), (2, 9), (3, 12), (4, 13)]\n",
      "Score: -305\n",
      "[(0, 43), (1, 18), (2, 10), (3, 13), (4, 17)]\n",
      "Score: -301\n",
      "[(0, 47), (1, 18), (2, 11), (3, 11), (4, 14)]\n",
      "Score: -339\n",
      "[(0, 30), (1, 18), (2, 22), (3, 12), (4, 19)]\n",
      "Score: -266\n",
      "[(0, 53), (1, 27), (2, 6), (3, 6), (4, 9)]\n",
      "Score: -278\n",
      "[(0, 45), (1, 19), (2, 17), (3, 13), (4, 7)]\n",
      "Score: -251\n",
      "[(0, 50), (1, 25), (2, 10), (3, 7), (4, 9)]\n",
      "Score: -275\n",
      "[(0, 45), (1, 18), (2, 15), (3, 13), (4, 10)]\n",
      "Score: -309\n",
      "[(0, 44), (1, 20), (2, 12), (3, 10), (4, 15)]\n",
      "Score: -314\n",
      "[(0, 44), (1, 20), (2, 15), (3, 12), (4, 10)]\n",
      "Score: -269\n",
      "[(0, 52), (1, 20), (2, 9), (3, 12), (4, 8)]\n",
      "Score: -326\n",
      "[(0, 38), (1, 24), (2, 17), (3, 7), (4, 15)]\n",
      "Score: -289\n",
      "[(0, 46), (1, 13), (2, 18), (3, 11), (4, 13)]\n",
      "Score: -252\n",
      "[(0, 48), (1, 22), (2, 10), (3, 7), (4, 14)]\n",
      "Score: 90\n",
      "[(0, 13), (1, 3), (2, 2), (4, 3)]\n",
      "Score: 72\n",
      "[(0, 10), (1, 2), (2, 4), (3, 5), (4, 3)]\n",
      "Score: 72\n",
      "[(0, 31), (1, 11), (2, 4), (3, 6), (4, 7)]\n",
      "Score: -235\n",
      "[(0, 41), (1, 26), (2, 11), (3, 7), (4, 16)]\n",
      "Score: -257\n",
      "[(0, 48), (1, 21), (2, 12), (3, 7), (4, 13)]\n",
      "Score: -289\n",
      "[(0, 51), (1, 18), (2, 10), (3, 8), (4, 14)]\n",
      "Score: -275\n",
      "[(0, 34), (1, 28), (2, 16), (3, 12), (4, 11)]\n",
      "Score: -307\n",
      "[(0, 43), (1, 14), (2, 15), (3, 16), (4, 13)]\n",
      "Score: -329\n",
      "[(0, 38), (1, 19), (2, 20), (3, 8), (4, 16)]\n",
      "Score: -260\n",
      "[(0, 55), (1, 18), (2, 10), (3, 9), (4, 9)]\n",
      "Score: 127\n",
      "[(0, 11), (1, 5), (2, 8), (3, 1), (4, 4)]\n",
      "Score: -300\n",
      "[(0, 42), (1, 16), (2, 20), (3, 12), (4, 11)]\n",
      "Score: -113\n",
      "[(0, 46), (1, 13), (2, 18), (3, 8), (4, 15)]\n",
      "Score: -256\n",
      "[(0, 44), (1, 14), (2, 19), (3, 15), (4, 9)]\n",
      "Score: -320\n",
      "[(0, 40), (1, 22), (2, 18), (3, 10), (4, 11)]\n",
      "Score: -289\n",
      "[(0, 48), (1, 15), (2, 12), (3, 13), (4, 13)]\n",
      "Score: -242\n",
      "[(0, 48), (1, 13), (2, 15), (3, 14), (4, 11)]\n",
      "Score: -333\n",
      "[(0, 48), (1, 11), (2, 20), (3, 10), (4, 12)]\n",
      "Score: -259\n",
      "[(0, 57), (1, 15), (2, 12), (3, 13), (4, 4)]\n",
      "Score: 113\n",
      "[(0, 31), (1, 14), (2, 6), (3, 5), (4, 8)]\n",
      "Score: -298\n",
      "[(0, 52), (1, 20), (2, 10), (3, 12), (4, 7)]\n",
      "Score: 117\n",
      "[(0, 29), (1, 7), (2, 6), (3, 6), (4, 2)]\n",
      "Score: 137\n",
      "[(0, 19), (1, 6), (2, 2), (3, 3), (4, 2)]\n",
      "Score: -297\n",
      "[(0, 44), (1, 11), (2, 21), (3, 12), (4, 13)]\n",
      "Score: -302\n",
      "[(0, 44), (1, 17), (2, 15), (3, 17), (4, 8)]\n",
      "Score: -274\n",
      "[(0, 48), (1, 20), (2, 12), (3, 13), (4, 8)]\n",
      "Score: -314\n",
      "[(0, 47), (1, 16), (2, 20), (3, 12), (4, 6)]\n",
      "Score: -366\n",
      "[(0, 36), (1, 16), (2, 25), (3, 11), (4, 13)]\n",
      "Score: -312\n",
      "[(0, 53), (1, 16), (2, 15), (3, 6), (4, 11)]\n",
      "Score: -290\n",
      "[(0, 48), (1, 23), (2, 13), (3, 10), (4, 7)]\n",
      "Score: -281\n",
      "[(0, 41), (1, 23), (2, 11), (3, 9), (4, 17)]\n",
      "Score: -276\n",
      "[(0, 42), (1, 26), (2, 12), (3, 14), (4, 7)]\n",
      "Score: -324\n",
      "[(0, 47), (1, 21), (2, 16), (3, 5), (4, 12)]\n",
      "Score: -346\n",
      "[(0, 36), (1, 19), (2, 23), (3, 9), (4, 14)]\n",
      "Score: -261\n",
      "[(0, 51), (1, 21), (2, 13), (3, 11), (4, 5)]\n",
      "Score: -251\n",
      "[(0, 49), (1, 23), (2, 9), (3, 13), (4, 7)]\n",
      "Score: -264\n",
      "[(0, 48), (1, 24), (2, 17), (3, 6), (4, 6)]\n",
      "Score: 59\n",
      "[(0, 17), (1, 8), (2, 5), (3, 3), (4, 4)]\n",
      "Score: -254\n",
      "[(0, 48), (1, 22), (2, 8), (3, 11), (4, 12)]\n",
      "Score: -294\n",
      "[(0, 44), (1, 24), (2, 15), (3, 9), (4, 9)]\n",
      "Score: -335\n",
      "[(0, 42), (1, 19), (2, 20), (3, 8), (4, 12)]\n",
      "Score: -285\n",
      "[(0, 39), (1, 20), (2, 13), (3, 14), (4, 15)]\n",
      "Score: -268\n",
      "[(0, 54), (1, 19), (2, 14), (3, 7), (4, 7)]\n",
      "Score: -267\n",
      "[(0, 52), (1, 20), (2, 12), (3, 8), (4, 9)]\n",
      "Score: -244\n",
      "[(0, 44), (1, 18), (2, 17), (3, 15), (4, 7)]\n",
      "Score: -292\n",
      "[(0, 57), (1, 15), (2, 13), (3, 7), (4, 9)]\n",
      "Score: -256\n",
      "[(0, 50), (1, 20), (2, 9), (3, 11), (4, 11)]\n",
      "Score: -334\n",
      "[(0, 40), (1, 19), (2, 17), (3, 10), (4, 15)]\n",
      "Score: -280\n",
      "[(0, 52), (1, 20), (2, 10), (3, 7), (4, 12)]\n",
      "Score: 106\n",
      "[(0, 12), (1, 5), (2, 11), (3, 10), (4, 9)]\n",
      "Score: -292\n",
      "[(0, 36), (1, 16), (2, 16), (3, 14), (4, 19)]\n",
      "Score: -276\n",
      "[(0, 52), (1, 23), (2, 11), (3, 10), (4, 5)]\n",
      "Score: -342\n",
      "[(0, 55), (1, 14), (2, 10), (3, 13), (4, 9)]\n",
      "Score: -261\n",
      "[(0, 54), (1, 15), (2, 15), (3, 10), (4, 7)]\n",
      "Score: -314\n",
      "[(0, 44), (1, 21), (2, 15), (3, 11), (4, 10)]\n",
      "Score: -306\n",
      "[(0, 45), (1, 17), (2, 19), (3, 7), (4, 13)]\n",
      "Score: -265\n",
      "[(0, 42), (1, 22), (2, 12), (3, 14), (4, 11)]\n",
      "Score: -253\n",
      "[(0, 52), (1, 12), (2, 16), (3, 10), (4, 11)]\n",
      "Score: -318\n",
      "[(0, 49), (1, 15), (2, 22), (3, 6), (4, 9)]\n",
      "Score: -268\n",
      "[(0, 47), (1, 18), (2, 13), (3, 9), (4, 14)]\n",
      "Score: -300\n",
      "[(0, 46), (1, 20), (2, 14), (3, 8), (4, 13)]\n",
      "Score: -288\n",
      "[(0, 49), (1, 18), (2, 14), (3, 9), (4, 11)]\n"
     ]
    },
    {
     "name": "stdout",
     "output_type": "stream",
     "text": [
      "Score: -323\n",
      "[(0, 41), (1, 20), (2, 18), (3, 10), (4, 12)]\n",
      "Score: -285\n",
      "[(0, 54), (1, 18), (2, 10), (3, 7), (4, 12)]\n",
      "Score: -297\n",
      "[(0, 48), (1, 16), (2, 12), (3, 19), (4, 6)]\n",
      "Score: -299\n",
      "[(0, 53), (1, 23), (2, 11), (3, 7), (4, 7)]\n",
      "Score: -283\n",
      "[(0, 59), (1, 12), (2, 10), (3, 9), (4, 11)]\n",
      "Score: -282\n",
      "[(0, 33), (1, 18), (2, 15), (3, 20), (4, 15)]\n",
      "Score: -321\n",
      "[(0, 48), (1, 19), (2, 16), (3, 7), (4, 11)]\n",
      "Score: -296\n",
      "[(0, 47), (1, 24), (2, 13), (3, 7), (4, 10)]\n",
      "Score: -266\n",
      "[(0, 37), (1, 29), (2, 12), (3, 11), (4, 12)]\n",
      "Score: -277\n",
      "[(0, 49), (1, 17), (2, 18), (3, 8), (4, 9)]\n",
      "Score: -278\n",
      "[(0, 42), (1, 23), (2, 12), (3, 12), (4, 12)]\n",
      "Score: 124\n",
      "[(0, 10), (1, 6), (2, 3), (3, 4), (4, 4)]\n",
      "Score: -279\n",
      "[(0, 51), (1, 23), (2, 15), (3, 4), (4, 8)]\n",
      "Score: -271\n",
      "[(0, 47), (1, 23), (2, 14), (3, 8), (4, 9)]\n",
      "Score: -296\n",
      "[(0, 46), (1, 20), (2, 17), (3, 9), (4, 9)]\n",
      "Score: -296\n",
      "[(0, 49), (1, 19), (2, 16), (3, 6), (4, 11)]\n",
      "Score: -283\n",
      "[(0, 47), (1, 20), (2, 20), (3, 6), (4, 8)]\n",
      "Score: -262\n",
      "[(0, 37), (1, 27), (2, 15), (3, 11), (4, 11)]\n",
      "Score: -311\n",
      "[(0, 49), (1, 17), (2, 20), (3, 6), (4, 9)]\n",
      "Score: -309\n",
      "[(0, 46), (1, 28), (2, 16), (3, 6), (4, 5)]\n",
      "Score: -289\n",
      "[(0, 48), (1, 16), (2, 12), (3, 12), (4, 13)]\n",
      "Score: -319\n",
      "[(0, 44), (1, 20), (2, 15), (3, 9), (4, 13)]\n",
      "Score: -267\n",
      "[(0, 40), (1, 27), (2, 10), (3, 10), (4, 14)]\n",
      "Score: -277\n",
      "[(0, 46), (1, 24), (2, 11), (3, 8), (4, 12)]\n",
      "Score: -291\n",
      "[(0, 38), (1, 23), (2, 13), (3, 10), (4, 17)]\n",
      "Score: -233\n",
      "[(0, 47), (1, 33), (2, 7), (3, 5), (4, 9)]\n",
      "Score: -253\n",
      "[(0, 48), (1, 29), (2, 10), (3, 7), (4, 7)]\n",
      "Score: -288\n",
      "[(0, 45), (1, 28), (2, 13), (3, 3), (4, 12)]\n",
      "Score: -331\n",
      "[(0, 40), (1, 23), (2, 18), (3, 9), (4, 11)]\n",
      "Score: -292\n",
      "[(0, 48), (1, 23), (2, 11), (3, 7), (4, 12)]\n",
      "Score: -284\n",
      "[(0, 44), (1, 27), (2, 18), (3, 6), (4, 6)]\n",
      "Score: -253\n",
      "[(0, 46), (1, 28), (2, 14), (3, 6), (4, 7)]\n",
      "Score: -306\n",
      "[(0, 35), (1, 31), (2, 15), (3, 6), (4, 14)]\n",
      "Score: -281\n",
      "[(0, 48), (1, 24), (2, 14), (3, 11), (4, 4)]\n",
      "Score: -263\n",
      "[(0, 40), (1, 23), (2, 18), (3, 10), (4, 10)]\n",
      "Score: -269\n",
      "[(0, 48), (1, 27), (2, 15), (3, 7), (4, 4)]\n",
      "Score: -318\n",
      "[(0, 28), (1, 31), (2, 18), (3, 12), (4, 12)]\n",
      "Score: -291\n",
      "[(0, 37), (1, 30), (2, 16), (3, 9), (4, 9)]\n",
      "Score: -281\n",
      "[(0, 40), (1, 27), (2, 9), (3, 12), (4, 13)]\n",
      "Score: 28\n",
      "[(0, 38), (1, 25), (2, 14), (3, 8), (4, 12)]\n",
      "Score: -261\n",
      "[(0, 38), (1, 32), (2, 16), (3, 8), (4, 7)]\n",
      "Score: -293\n",
      "[(0, 45), (1, 26), (2, 15), (3, 8), (4, 7)]\n",
      "Score: -290\n",
      "[(0, 39), (1, 20), (2, 12), (3, 17), (4, 13)]\n",
      "Score: -293\n",
      "[(0, 39), (1, 21), (2, 20), (3, 12), (4, 9)]\n",
      "Score: -291\n",
      "[(0, 43), (1, 33), (2, 9), (3, 2), (4, 14)]\n",
      "Score: -286\n",
      "[(0, 47), (1, 28), (2, 10), (3, 7), (4, 9)]\n",
      "Score: -285\n",
      "[(0, 39), (1, 24), (2, 13), (3, 10), (4, 15)]\n",
      "Score: -268\n",
      "[(0, 47), (1, 33), (2, 14), (3, 5), (4, 2)]\n",
      "Score: -253\n",
      "[(0, 48), (1, 23), (2, 10), (3, 9), (4, 11)]\n",
      "Score: -227\n",
      "[(0, 48), (1, 29), (2, 8), (3, 9), (4, 7)]\n",
      "Score: -336\n",
      "[(0, 36), (1, 22), (2, 20), (3, 8), (4, 15)]\n",
      "Score: -294\n",
      "[(0, 51), (1, 23), (2, 15), (3, 4), (4, 8)]\n",
      "Score: -285\n",
      "[(0, 47), (1, 21), (2, 11), (3, 9), (4, 13)]\n",
      "Score: -279\n",
      "[(0, 47), (1, 23), (2, 15), (3, 9), (4, 7)]\n",
      "Score: -313\n",
      "[(0, 31), (1, 24), (2, 21), (3, 11), (4, 14)]\n",
      "Score: -279\n",
      "[(0, 44), (1, 22), (2, 13), (3, 12), (4, 10)]\n",
      "Score: -276\n",
      "[(0, 41), (1, 37), (2, 13), (3, 3), (4, 7)]\n",
      "Score: -271\n",
      "[(0, 46), (1, 31), (2, 14), (3, 4), (4, 6)]\n",
      "Score: 83\n",
      "[(0, 12), (1, 3), (2, 2), (4, 2)]\n",
      "Score: -275\n",
      "[(0, 43), (1, 25), (2, 14), (3, 8), (4, 11)]\n",
      "Score: 59\n",
      "[(0, 42), (1, 23), (2, 8), (3, 4), (4, 6)]\n",
      "Score: 98\n",
      "[(0, 14), (1, 10), (2, 3), (3, 5), (4, 10)]\n",
      "Score: -287\n",
      "[(0, 45), (1, 24), (2, 9), (3, 12), (4, 11)]\n",
      "Score: -259\n",
      "[(0, 52), (1, 30), (2, 12), (3, 4), (4, 3)]\n",
      "Score: -277\n",
      "[(0, 40), (1, 25), (2, 11), (3, 12), (4, 13)]\n",
      "Score: -305\n",
      "[(0, 45), (1, 30), (2, 13), (3, 6), (4, 7)]\n",
      "Score: -281\n",
      "[(0, 42), (1, 29), (2, 10), (3, 11), (4, 9)]\n",
      "Score: -289\n",
      "[(0, 59), (1, 24), (2, 6), (3, 6), (4, 6)]\n",
      "Score: -280\n",
      "[(0, 48), (1, 28), (2, 11), (3, 8), (4, 6)]\n",
      "Score: -261\n",
      "[(0, 43), (1, 31), (2, 16), (3, 8), (4, 3)]\n",
      "Score: -298\n",
      "[(0, 33), (1, 28), (2, 12), (3, 12), (4, 16)]\n",
      "Score: -312\n",
      "[(0, 41), (1, 26), (2, 15), (3, 10), (4, 9)]\n",
      "Score: -270\n",
      "[(0, 41), (1, 29), (2, 13), (3, 5), (4, 13)]\n",
      "Score: -247\n",
      "[(0, 44), (1, 29), (2, 12), (3, 6), (4, 10)]\n",
      "Score: -284\n",
      "[(0, 46), (1, 32), (2, 10), (3, 7), (4, 6)]\n",
      "Score: -261\n",
      "[(0, 48), (1, 20), (2, 11), (3, 14), (4, 8)]\n",
      "Score: -311\n",
      "[(0, 42), (1, 24), (2, 12), (3, 6), (4, 17)]\n",
      "Score: -296\n",
      "[(0, 37), (1, 30), (2, 18), (3, 6), (4, 10)]\n",
      "Score: -311\n",
      "[(0, 39), (1, 26), (2, 14), (3, 10), (4, 12)]\n",
      "Score: -305\n",
      "[(0, 45), (1, 22), (2, 21), (3, 9), (4, 4)]\n",
      "Score: -272\n",
      "[(0, 39), (1, 27), (2, 11), (3, 12), (4, 12)]\n",
      "Score: -288\n",
      "[(0, 45), (1, 25), (2, 11), (3, 12), (4, 8)]\n",
      "Score: -283\n",
      "[(0, 41), (1, 29), (2, 13), (3, 9), (4, 9)]\n",
      "Score: -240\n",
      "[(0, 40), (1, 32), (2, 9), (3, 10), (4, 10)]\n",
      "Score: -255\n",
      "[(0, 45), (1, 31), (2, 8), (3, 8), (4, 9)]\n",
      "Score: -287\n",
      "[(0, 38), (1, 29), (2, 11), (3, 13), (4, 10)]\n",
      "Score: -280\n",
      "[(0, 39), (1, 32), (2, 16), (3, 6), (4, 8)]\n",
      "Score: -278\n",
      "[(0, 38), (1, 29), (2, 10), (3, 8), (4, 16)]\n",
      "Score: -309\n",
      "[(0, 40), (1, 31), (2, 11), (3, 7), (4, 12)]\n",
      "Score: -268\n",
      "[(0, 41), (1, 34), (2, 8), (3, 7), (4, 11)]\n",
      "Score: -308\n",
      "[(0, 35), (1, 27), (2, 14), (3, 10), (4, 15)]\n",
      "Score: -245\n",
      "[(0, 45), (1, 29), (2, 9), (3, 10), (4, 8)]\n",
      "Score: -292\n",
      "[(0, 38), (1, 28), (2, 14), (3, 10), (4, 11)]\n",
      "Score: -292\n",
      "[(0, 23), (1, 41), (2, 14), (3, 9), (4, 14)]\n",
      "Score: -293\n",
      "[(0, 32), (1, 39), (2, 12), (3, 5), (4, 13)]\n",
      "Score: -299\n",
      "[(0, 30), (1, 34), (2, 15), (3, 9), (4, 13)]\n",
      "Score: -264\n",
      "[(0, 34), (1, 45), (2, 7), (3, 8), (4, 7)]\n",
      "Score: -265\n",
      "[(0, 39), (1, 39), (2, 6), (3, 5), (4, 12)]\n",
      "Score: -256\n",
      "[(0, 42), (1, 29), (2, 17), (3, 9), (4, 4)]\n",
      "Score: -274\n",
      "[(0, 31), (1, 41), (2, 15), (3, 7), (4, 7)]\n",
      "Score: -287\n",
      "[(0, 31), (1, 36), (2, 14), (3, 10), (4, 10)]\n",
      "Score: -277\n",
      "[(0, 42), (1, 35), (2, 11), (3, 5), (4, 8)]\n",
      "Score: -308\n",
      "[(0, 29), (1, 37), (2, 13), (3, 13), (4, 9)]\n",
      "Score: -317\n",
      "[(0, 30), (1, 32), (2, 17), (3, 12), (4, 10)]\n",
      "Score: -308\n",
      "[(0, 20), (1, 38), (2, 19), (3, 16), (4, 8)]\n",
      "Score: -227\n",
      "[(0, 25), (1, 44), (2, 13), (3, 7), (4, 12)]\n",
      "Score: -298\n",
      "[(0, 25), (1, 47), (2, 11), (3, 6), (4, 12)]\n",
      "Score: -287\n",
      "[(0, 27), (1, 51), (2, 11), (3, 6), (4, 6)]\n",
      "Score: -267\n",
      "[(0, 40), (1, 41), (2, 6), (3, 8), (4, 6)]\n",
      "Score: -297\n",
      "[(0, 30), (1, 41), (2, 9), (3, 4), (4, 17)]\n",
      "Score: -294\n",
      "[(0, 29), (1, 42), (2, 16), (3, 2), (4, 12)]\n",
      "Score: -277\n",
      "[(0, 29), (1, 41), (2, 9), (3, 9), (4, 13)]\n",
      "Score: -310\n",
      "[(0, 25), (1, 41), (2, 19), (3, 6), (4, 10)]\n",
      "Score: -281\n",
      "[(0, 24), (1, 39), (2, 17), (3, 15), (4, 6)]\n",
      "Score: -259\n",
      "[(0, 35), (1, 36), (2, 11), (3, 8), (4, 11)]\n",
      "Score: -289\n",
      "[(0, 29), (1, 42), (2, 9), (3, 4), (4, 17)]\n",
      "Score: -265\n",
      "[(0, 26), (1, 35), (2, 17), (3, 11), (4, 12)]\n",
      "Score: -260\n",
      "[(0, 27), (1, 45), (2, 10), (3, 10), (4, 9)]\n",
      "Score: -273\n",
      "[(0, 28), (1, 41), (2, 14), (3, 9), (4, 9)]\n",
      "Score: -314\n",
      "[(0, 23), (1, 35), (2, 19), (3, 11), (4, 13)]\n",
      "Score: -303\n",
      "[(0, 12), (1, 47), (2, 14), (3, 15), (4, 13)]\n",
      "Score: -275\n",
      "[(0, 24), (1, 51), (2, 7), (3, 8), (4, 11)]\n",
      "Score: -284\n",
      "[(0, 17), (1, 61), (2, 7), (3, 7), (4, 9)]\n",
      "Score: -302\n",
      "[(0, 17), (1, 45), (2, 15), (3, 8), (4, 16)]\n",
      "Score: -298\n",
      "[(0, 16), (1, 50), (2, 16), (3, 10), (4, 9)]\n",
      "Score: -287\n",
      "[(0, 19), (1, 52), (2, 17), (3, 6), (4, 7)]\n",
      "Score: -288\n",
      "[(0, 27), (1, 53), (2, 8), (3, 8), (4, 5)]\n",
      "Score: -285\n",
      "[(0, 16), (1, 47), (2, 20), (3, 8), (4, 10)]\n",
      "Score: -281\n",
      "[(0, 25), (1, 40), (2, 10), (3, 11), (4, 15)]\n",
      "Score: -280\n",
      "[(0, 25), (1, 38), (2, 16), (3, 12), (4, 10)]\n",
      "Score: -257\n",
      "[(0, 28), (1, 41), (2, 15), (3, 10), (4, 7)]\n",
      "Score: -286\n",
      "[(0, 30), (1, 34), (2, 11), (3, 11), (4, 15)]\n",
      "Score: -266\n",
      "[(0, 45), (1, 34), (2, 9), (3, 5), (4, 8)]\n",
      "Score: -294\n",
      "[(0, 41), (1, 32), (2, 13), (3, 10), (4, 5)]\n",
      "Score: -299\n",
      "[(0, 36), (1, 25), (2, 15), (3, 15), (4, 10)]\n",
      "Score: -296\n",
      "[(0, 34), (1, 40), (2, 15), (3, 7), (4, 5)]\n",
      "Score: -286\n",
      "[(0, 47), (1, 22), (2, 10), (3, 12), (4, 10)]\n",
      "Score: -295\n",
      "[(0, 37), (1, 30), (2, 15), (3, 10), (4, 9)]\n",
      "Score: -264\n",
      "[(0, 43), (1, 31), (2, 12), (3, 9), (4, 6)]\n",
      "Score: -312\n",
      "[(0, 40), (1, 26), (2, 16), (3, 6), (4, 13)]\n",
      "Score: -274\n",
      "[(0, 55), (1, 27), (2, 7), (3, 7), (4, 5)]\n",
      "Score: -271\n",
      "[(0, 34), (1, 28), (2, 16), (3, 11), (4, 12)]\n",
      "Score: -274\n",
      "[(0, 48), (1, 26), (2, 9), (3, 8), (4, 10)]\n",
      "Score: -301\n",
      "[(0, 36), (1, 25), (2, 15), (3, 11), (4, 14)]\n",
      "Score: -281\n",
      "[(0, 30), (1, 24), (2, 22), (3, 8), (4, 17)]\n"
     ]
    },
    {
     "name": "stdout",
     "output_type": "stream",
     "text": [
      "Score: -276\n",
      "[(0, 37), (1, 28), (2, 8), (3, 11), (4, 17)]\n",
      "Score: -300\n",
      "[(0, 36), (1, 23), (2, 17), (3, 8), (4, 17)]\n",
      "Score: -287\n",
      "[(0, 47), (1, 19), (2, 21), (3, 8), (4, 6)]\n",
      "Score: -282\n",
      "[(0, 47), (1, 29), (2, 13), (3, 6), (4, 6)]\n",
      "Score: -261\n",
      "[(0, 52), (1, 27), (2, 8), (3, 7), (4, 7)]\n",
      "Score: -271\n",
      "[(0, 50), (1, 23), (2, 8), (3, 12), (4, 8)]\n",
      "Score: -332\n",
      "[(0, 34), (1, 32), (2, 17), (3, 6), (4, 12)]\n",
      "Score: -279\n",
      "[(0, 50), (1, 26), (2, 12), (3, 6), (4, 7)]\n",
      "Score: -285\n",
      "[(0, 33), (1, 27), (2, 17), (3, 8), (4, 16)]\n",
      "Score: -296\n",
      "[(0, 46), (1, 28), (2, 11), (3, 8), (4, 8)]\n",
      "Score: 84\n",
      "[(0, 18), (1, 9), (2, 3), (3, 2), (4, 3)]\n",
      "Score: -299\n",
      "[(0, 44), (1, 24), (2, 13), (3, 9), (4, 11)]\n",
      "Score: -293\n",
      "[(0, 44), (1, 27), (2, 11), (3, 7), (4, 12)]\n",
      "Score: -264\n",
      "[(0, 52), (1, 23), (2, 9), (3, 9), (4, 8)]\n",
      "Score: -296\n",
      "[(0, 50), (1, 20), (2, 13), (3, 11), (4, 7)]\n",
      "Score: -264\n",
      "[(0, 65), (1, 19), (2, 5), (3, 8), (4, 4)]\n",
      "Score: -301\n",
      "[(0, 47), (1, 28), (2, 9), (3, 7), (4, 10)]\n",
      "Score: -259\n",
      "[(0, 54), (1, 22), (2, 5), (3, 11), (4, 9)]\n",
      "Score: -301\n",
      "[(0, 55), (1, 11), (2, 14), (3, 10), (4, 11)]\n",
      "Score: -276\n",
      "[(0, 57), (1, 13), (2, 9), (3, 11), (4, 11)]\n",
      "Score: -264\n",
      "[(0, 47), (1, 20), (2, 12), (3, 10), (4, 12)]\n",
      "Score: -300\n",
      "[(0, 50), (1, 21), (2, 8), (3, 11), (4, 11)]\n",
      "Score: -288\n",
      "[(0, 50), (1, 20), (2, 12), (3, 10), (4, 9)]\n",
      "Score: -256\n",
      "[(0, 46), (1, 19), (2, 16), (3, 11), (4, 9)]\n",
      "Score: -291\n",
      "[(0, 41), (1, 20), (2, 17), (3, 10), (4, 13)]\n",
      "Score: 140\n",
      "[(0, 4), (1, 1), (2, 2), (3, 2), (4, 2)]\n",
      "Score: -306\n",
      "[(0, 51), (1, 26), (2, 11), (3, 8), (4, 5)]\n",
      "Score: -267\n",
      "[(0, 60), (1, 17), (2, 10), (3, 4), (4, 10)]\n",
      "Score: -290\n",
      "[(0, 54), (1, 20), (2, 8), (3, 6), (4, 13)]\n",
      "Score: -294\n",
      "[(0, 54), (1, 18), (2, 14), (3, 9), (4, 6)]\n",
      "Score: -323\n",
      "[(0, 37), (1, 16), (2, 15), (3, 12), (4, 21)]\n",
      "Score: -278\n",
      "[(0, 53), (1, 19), (2, 9), (3, 9), (4, 11)]\n",
      "Score: -253\n",
      "[(0, 50), (1, 27), (2, 11), (3, 7), (4, 6)]\n",
      "Score: -267\n",
      "[(0, 54), (1, 16), (2, 11), (3, 11), (4, 9)]\n",
      "Score: -300\n",
      "[(0, 43), (1, 17), (2, 16), (3, 16), (4, 9)]\n",
      "Score: -299\n",
      "[(0, 54), (1, 17), (2, 13), (3, 8), (4, 9)]\n",
      "Score: -303\n",
      "[(0, 44), (1, 17), (2, 17), (3, 11), (4, 12)]\n",
      "Score: -285\n",
      "[(0, 68), (1, 15), (2, 7), (3, 6), (4, 5)]\n",
      "Score: -269\n",
      "[(0, 52), (1, 19), (2, 17), (3, 5), (4, 8)]\n",
      "Score: -262\n",
      "[(0, 54), (1, 15), (2, 11), (3, 8), (4, 13)]\n",
      "Score: -270\n",
      "[(0, 46), (1, 20), (2, 16), (3, 11), (4, 8)]\n",
      "Score: -286\n",
      "[(0, 47), (1, 13), (2, 16), (3, 14), (4, 11)]\n",
      "Score: -265\n",
      "[(0, 44), (1, 20), (2, 11), (3, 13), (4, 13)]\n",
      "Score: -272\n",
      "[(0, 58), (1, 17), (2, 7), (3, 10), (4, 9)]\n",
      "Score: -270\n",
      "[(0, 56), (1, 24), (2, 9), (3, 9), (4, 3)]\n",
      "Score: -277\n",
      "[(0, 46), (1, 19), (2, 15), (3, 8), (4, 13)]\n",
      "Score: -278\n",
      "[(0, 57), (1, 16), (2, 11), (3, 7), (4, 10)]\n",
      "Score: -308\n",
      "[(0, 58), (1, 10), (2, 10), (3, 10), (4, 13)]\n",
      "Score: -241\n",
      "[(0, 45), (1, 17), (2, 15), (3, 14), (4, 10)]\n",
      "Score: -266\n",
      "[(0, 52), (1, 18), (2, 14), (3, 8), (4, 9)]\n",
      "Score: -289\n",
      "[(0, 45), (1, 24), (2, 17), (3, 7), (4, 8)]\n",
      "Score: -296\n",
      "[(0, 50), (1, 21), (2, 9), (3, 7), (4, 14)]\n",
      "Score: -446\n",
      "[(0, 46), (1, 20), (2, 14), (3, 9), (4, 12)]\n",
      "Score: -255\n",
      "[(0, 57), (1, 19), (2, 11), (3, 7), (4, 7)]\n",
      "Score: -301\n",
      "[(0, 59), (1, 12), (2, 11), (3, 7), (4, 12)]\n",
      "Score: -263\n",
      "[(0, 47), (1, 22), (2, 12), (3, 8), (4, 12)]\n",
      "Score: -299\n",
      "[(0, 54), (1, 17), (2, 12), (3, 8), (4, 10)]\n",
      "Score: -283\n",
      "[(0, 45), (1, 16), (2, 16), (3, 13), (4, 11)]\n",
      "Score: -280\n",
      "[(0, 54), (1, 17), (2, 11), (3, 5), (4, 14)]\n",
      "Score: -257\n",
      "[(0, 50), (1, 23), (2, 15), (3, 6), (4, 7)]\n",
      "Score: -264\n",
      "[(0, 50), (1, 22), (2, 12), (3, 9), (4, 8)]\n",
      "Score: -303\n",
      "[(0, 45), (1, 20), (2, 18), (3, 8), (4, 10)]\n",
      "Score: -301\n",
      "[(0, 43), (1, 22), (2, 12), (3, 5), (4, 19)]\n",
      "Score: -251\n",
      "[(0, 56), (1, 21), (2, 12), (3, 5), (4, 7)]\n",
      "Score: -289\n",
      "[(0, 38), (1, 19), (2, 13), (3, 12), (4, 19)]\n",
      "Score: -307\n",
      "[(0, 56), (1, 18), (2, 10), (3, 5), (4, 12)]\n",
      "Score: -348\n",
      "[(0, 39), (1, 17), (2, 19), (3, 8), (4, 18)]\n",
      "Score: -316\n",
      "[(0, 48), (1, 22), (2, 12), (3, 6), (4, 13)]\n",
      "Score: -282\n",
      "[(0, 53), (1, 14), (2, 13), (3, 8), (4, 13)]\n",
      "Score: -257\n",
      "[(0, 49), (1, 28), (2, 9), (3, 6), (4, 9)]\n",
      "Score: 132\n",
      "[(0, 9), (1, 5), (2, 4), (3, 5), (4, 4)]\n",
      "Score: -318\n",
      "[(0, 46), (1, 22), (2, 16), (3, 7), (4, 10)]\n",
      "Score: -263\n",
      "[(0, 51), (1, 25), (2, 12), (3, 4), (4, 9)]\n",
      "Score: -282\n",
      "[(0, 47), (1, 23), (2, 9), (3, 10), (4, 12)]\n",
      "Score: -270\n",
      "[(0, 35), (1, 21), (2, 18), (3, 8), (4, 19)]\n",
      "Score: -323\n",
      "[(0, 52), (1, 17), (2, 13), (3, 5), (4, 14)]\n",
      "Score: -310\n",
      "[(0, 52), (1, 21), (2, 12), (3, 9), (4, 7)]\n",
      "Score: -253\n",
      "[(0, 58), (1, 19), (2, 7), (3, 10), (4, 7)]\n",
      "Score: -293\n",
      "[(0, 42), (1, 20), (2, 16), (3, 11), (4, 12)]\n",
      "Score: -262\n",
      "[(0, 46), (1, 26), (2, 9), (3, 12), (4, 8)]\n",
      "Score: -289\n",
      "[(0, 51), (1, 17), (2, 11), (3, 11), (4, 11)]\n",
      "Score: -302\n",
      "[(0, 48), (1, 18), (2, 12), (3, 9), (4, 14)]\n",
      "Score: -261\n",
      "[(0, 47), (1, 15), (2, 13), (3, 14), (4, 12)]\n",
      "Score: -290\n",
      "[(0, 47), (1, 20), (2, 10), (3, 7), (4, 17)]\n",
      "Score: -323\n",
      "[(0, 43), (1, 16), (2, 15), (3, 16), (4, 11)]\n",
      "Score: -308\n",
      "[(0, 42), (1, 19), (2, 15), (3, 11), (4, 14)]\n",
      "Score: -294\n",
      "[(0, 56), (1, 16), (2, 9), (3, 11), (4, 9)]\n",
      "Score: -276\n",
      "[(0, 52), (1, 20), (2, 11), (3, 12), (4, 6)]\n",
      "Score: -243\n",
      "[(0, 52), (1, 25), (2, 6), (3, 11), (4, 7)]\n",
      "Score: -299\n",
      "[(0, 55), (1, 22), (2, 9), (3, 6), (4, 9)]\n",
      "Score: -277\n",
      "[(0, 47), (1, 24), (2, 11), (3, 10), (4, 9)]\n",
      "Score: -307\n",
      "[(0, 48), (1, 21), (2, 9), (3, 14), (4, 9)]\n",
      "Score: -244\n",
      "[(0, 52), (1, 25), (2, 7), (3, 11), (4, 6)]\n",
      "Score: -257\n",
      "[(0, 45), (1, 18), (2, 15), (3, 8), (4, 15)]\n",
      "Score: -250\n",
      "[(0, 58), (1, 22), (2, 4), (3, 8), (4, 9)]\n",
      "Score: -256\n",
      "[(0, 50), (1, 29), (2, 12), (3, 7), (4, 3)]\n",
      "Score: -252\n",
      "[(0, 54), (1, 24), (2, 9), (3, 5), (4, 9)]\n",
      "Score: -274\n",
      "[(0, 50), (1, 20), (2, 10), (3, 12), (4, 9)]\n",
      "Score: -314\n",
      "[(0, 43), (1, 12), (2, 22), (3, 10), (4, 14)]\n",
      "Score: -270\n",
      "[(0, 61), (1, 19), (2, 8), (3, 8), (4, 5)]\n",
      "Score: -224\n",
      "[(0, 55), (1, 21), (2, 11), (3, 8), (4, 6)]\n",
      "Score: -310\n",
      "[(0, 39), (1, 19), (2, 10), (3, 14), (4, 19)]\n",
      "Score: -325\n",
      "[(0, 48), (1, 12), (2, 16), (3, 6), (4, 19)]\n",
      "Score: -302\n",
      "[(0, 49), (1, 23), (2, 12), (3, 9), (4, 8)]\n",
      "Score: -314\n",
      "[(0, 38), (1, 18), (2, 13), (3, 16), (4, 16)]\n",
      "Score: -305\n",
      "[(0, 51), (1, 16), (2, 15), (3, 7), (4, 12)]\n",
      "Score: 101\n",
      "[(0, 32), (1, 13), (2, 5), (3, 2), (4, 7)]\n",
      "Score: -312\n",
      "[(0, 49), (1, 18), (2, 7), (3, 11), (4, 16)]\n",
      "Score: -314\n",
      "[(0, 50), (1, 16), (2, 18), (3, 9), (4, 8)]\n",
      "Score: -327\n",
      "[(0, 46), (1, 14), (2, 13), (3, 12), (4, 16)]\n",
      "Score: -318\n",
      "[(0, 45), (1, 17), (2, 14), (3, 9), (4, 16)]\n",
      "Score: -242\n",
      "[(0, 66), (1, 17), (2, 9), (3, 6), (4, 3)]\n",
      "Score: -300\n",
      "[(0, 52), (1, 20), (2, 10), (3, 10), (4, 9)]\n",
      "Score: -271\n",
      "[(0, 57), (1, 15), (2, 14), (3, 8), (4, 7)]\n",
      "Score: -256\n",
      "[(0, 48), (1, 15), (2, 17), (3, 16), (4, 5)]\n",
      "Score: -321\n",
      "[(0, 51), (1, 21), (2, 10), (3, 6), (4, 13)]\n",
      "Score: 1\n",
      "[(0, 20), (1, 3), (2, 6), (3, 4), (4, 7)]\n",
      "Score: -317\n",
      "[(0, 48), (1, 16), (2, 17), (3, 10), (4, 10)]\n",
      "Score: -302\n",
      "[(0, 46), (1, 18), (2, 14), (3, 9), (4, 14)]\n",
      "Score: -307\n",
      "[(0, 44), (1, 23), (2, 8), (3, 9), (4, 17)]\n",
      "Score: -268\n",
      "[(0, 51), (1, 21), (2, 9), (3, 12), (4, 8)]\n",
      "Score: -294\n",
      "[(0, 49), (1, 11), (2, 10), (3, 13), (4, 18)]\n",
      "Score: -302\n",
      "[(0, 51), (1, 21), (2, 13), (3, 7), (4, 9)]\n",
      "Score: -320\n",
      "[(0, 48), (1, 24), (2, 14), (3, 7), (4, 8)]\n",
      "Score: -313\n",
      "[(0, 50), (1, 23), (2, 11), (3, 8), (4, 9)]\n",
      "Score: -284\n",
      "[(0, 52), (1, 20), (2, 17), (3, 3), (4, 9)]\n",
      "Score: -267\n",
      "[(0, 48), (1, 17), (2, 10), (3, 14), (4, 12)]\n",
      "Score: -290\n",
      "[(0, 51), (1, 18), (2, 11), (3, 12), (4, 9)]\n",
      "Score: -249\n",
      "[(0, 58), (1, 17), (2, 8), (3, 8), (4, 10)]\n",
      "Score: -255\n",
      "[(0, 50), (1, 25), (2, 6), (3, 8), (4, 12)]\n",
      "Score: -278\n",
      "[(0, 61), (1, 13), (2, 10), (3, 8), (4, 9)]\n",
      "Score: -279\n",
      "[(0, 48), (1, 23), (2, 13), (3, 7), (4, 10)]\n",
      "Score: -303\n",
      "[(0, 55), (1, 20), (2, 10), (3, 9), (4, 7)]\n",
      "Score: -308\n",
      "[(0, 46), (1, 26), (2, 13), (3, 8), (4, 8)]\n",
      "Score: -283\n",
      "[(0, 45), (1, 19), (2, 12), (3, 8), (4, 17)]\n",
      "Score: -277\n",
      "[(0, 51), (1, 20), (2, 14), (3, 8), (4, 8)]\n",
      "Score: -283\n",
      "[(0, 48), (1, 21), (2, 9), (3, 7), (4, 16)]\n",
      "Score: -273\n",
      "[(0, 48), (1, 23), (2, 7), (3, 9), (4, 14)]\n",
      "Score: -292\n",
      "[(0, 43), (1, 18), (2, 12), (3, 14), (4, 14)]\n",
      "Score: -321\n",
      "[(0, 46), (1, 17), (2, 11), (3, 14), (4, 13)]\n",
      "Score: 147\n",
      "[(0, 11), (1, 4), (2, 1), (3, 1), (4, 2)]\n",
      "Score: 23\n",
      "[(0, 8), (1, 5), (3, 1), (4, 1)]\n",
      "Score: -320\n",
      "[(0, 39), (1, 23), (2, 20), (3, 14), (4, 5)]\n",
      "Score: -312\n",
      "[(0, 39), (1, 26), (2, 13), (3, 11), (4, 12)]\n",
      "Score: -280\n",
      "[(0, 54), (1, 21), (2, 13), (3, 6), (4, 7)]\n",
      "Score: -293\n",
      "[(0, 47), (1, 23), (2, 14), (3, 10), (4, 7)]\n"
     ]
    },
    {
     "name": "stdout",
     "output_type": "stream",
     "text": [
      "Score: -260\n",
      "[(0, 62), (1, 18), (2, 3), (3, 10), (4, 8)]\n",
      "Score: -284\n",
      "[(0, 52), (1, 14), (2, 9), (3, 17), (4, 9)]\n",
      "Score: -327\n",
      "[(0, 48), (1, 22), (2, 13), (3, 7), (4, 11)]\n",
      "Score: -269\n",
      "[(0, 43), (1, 25), (2, 15), (3, 6), (4, 12)]\n",
      "Score: -289\n",
      "[(0, 49), (1, 21), (2, 17), (3, 2), (4, 12)]\n",
      "Score: -286\n",
      "[(0, 47), (1, 28), (2, 13), (3, 5), (4, 8)]\n",
      "Score: -296\n",
      "[(0, 55), (1, 19), (2, 11), (3, 9), (4, 7)]\n",
      "Score: -305\n",
      "[(0, 46), (1, 32), (2, 12), (3, 3), (4, 8)]\n",
      "Score: -252\n",
      "[(0, 52), (1, 26), (2, 11), (3, 5), (4, 7)]\n",
      "Score: -336\n",
      "[(0, 33), (1, 22), (2, 22), (3, 12), (4, 12)]\n",
      "Score: -280\n",
      "[(0, 46), (1, 19), (2, 16), (3, 9), (4, 11)]\n",
      "Score: -280\n",
      "[(0, 45), (1, 27), (2, 12), (3, 4), (4, 13)]\n",
      "Score: -306\n",
      "[(0, 46), (1, 24), (2, 15), (3, 7), (4, 9)]\n",
      "Score: -295\n",
      "[(0, 40), (1, 16), (2, 11), (3, 17), (4, 17)]\n",
      "Score: -281\n",
      "[(0, 58), (1, 20), (2, 9), (3, 8), (4, 6)]\n",
      "Score: -279\n",
      "[(0, 42), (1, 26), (2, 15), (3, 3), (4, 15)]\n",
      "Score: -314\n",
      "[(0, 41), (1, 24), (2, 15), (3, 10), (4, 11)]\n",
      "Score: -269\n",
      "[(0, 44), (1, 19), (2, 17), (3, 10), (4, 11)]\n",
      "Score: -314\n",
      "[(0, 49), (1, 25), (2, 16), (3, 6), (4, 5)]\n",
      "Score: -284\n",
      "[(0, 43), (1, 24), (2, 14), (3, 9), (4, 11)]\n",
      "Score: -239\n",
      "[(0, 45), (1, 28), (2, 14), (3, 6), (4, 8)]\n",
      "Score: -290\n",
      "[(0, 44), (1, 22), (2, 12), (3, 10), (4, 13)]\n",
      "Score: -280\n",
      "[(0, 39), (1, 29), (2, 16), (3, 9), (4, 8)]\n",
      "Score: -282\n",
      "[(0, 45), (1, 22), (2, 21), (3, 6), (4, 7)]\n",
      "Score: -285\n",
      "[(0, 49), (1, 28), (2, 14), (3, 2), (4, 8)]\n",
      "Score: -303\n",
      "[(0, 51), (1, 20), (2, 13), (3, 10), (4, 7)]\n",
      "Score: -298\n",
      "[(0, 61), (1, 16), (2, 10), (3, 4), (4, 10)]\n",
      "Score: -311\n",
      "[(0, 44), (1, 27), (2, 13), (3, 8), (4, 9)]\n",
      "Score: -275\n",
      "[(0, 58), (1, 24), (2, 13), (3, 3), (4, 3)]\n",
      "Score: -313\n",
      "[(0, 48), (1, 28), (2, 11), (3, 5), (4, 9)]\n",
      "Score: -238\n",
      "[(0, 52), (1, 29), (2, 8), (3, 8), (4, 4)]\n",
      "Score: -316\n",
      "[(0, 49), (1, 22), (2, 14), (3, 7), (4, 9)]\n",
      "Score: -346\n",
      "[(0, 46), (1, 30), (2, 12), (3, 8), (4, 5)]\n",
      "Score: -200\n",
      "[(0, 51), (1, 22), (2, 10), (3, 8), (4, 10)]\n",
      "Score: -309\n",
      "[(0, 43), (1, 13), (2, 17), (3, 16), (4, 12)]\n",
      "Score: -279\n",
      "[(0, 54), (1, 26), (2, 7), (3, 9), (4, 5)]\n",
      "Score: -314\n",
      "[(0, 42), (1, 18), (2, 17), (3, 11), (4, 13)]\n",
      "Score: -311\n",
      "[(0, 45), (1, 26), (2, 17), (3, 8), (4, 5)]\n",
      "Score: -270\n",
      "[(0, 41), (1, 24), (2, 15), (3, 9), (4, 12)]\n",
      "Score: -301\n",
      "[(0, 48), (1, 25), (2, 11), (3, 8), (4, 9)]\n",
      "Score: -268\n",
      "[(0, 53), (1, 19), (2, 4), (3, 9), (4, 16)]\n",
      "Score: -253\n",
      "[(0, 50), (1, 25), (2, 9), (3, 7), (4, 10)]\n",
      "Score: -291\n",
      "[(0, 54), (1, 16), (2, 11), (3, 8), (4, 12)]\n",
      "Score: -306\n",
      "[(0, 48), (1, 22), (2, 10), (3, 8), (4, 13)]\n",
      "Score: -308\n",
      "[(0, 40), (1, 17), (2, 18), (3, 8), (4, 18)]\n",
      "Score: -278\n",
      "[(0, 42), (1, 28), (2, 15), (3, 5), (4, 11)]\n",
      "Score: -307\n",
      "[(0, 54), (1, 19), (2, 8), (3, 5), (4, 15)]\n",
      "Score: -285\n",
      "[(0, 53), (1, 27), (2, 9), (3, 4), (4, 8)]\n",
      "Score: -309\n",
      "[(0, 54), (1, 19), (2, 14), (3, 2), (4, 12)]\n",
      "Score: -278\n",
      "[(0, 52), (1, 21), (2, 10), (3, 7), (4, 11)]\n",
      "Score: -296\n",
      "[(0, 57), (1, 18), (2, 12), (3, 7), (4, 7)]\n",
      "Score: -297\n",
      "[(0, 52), (1, 29), (2, 8), (3, 6), (4, 6)]\n",
      "Score: -334\n",
      "[(0, 47), (1, 23), (2, 16), (3, 6), (4, 9)]\n",
      "Score: -257\n",
      "[(0, 42), (1, 34), (2, 11), (3, 8), (4, 6)]\n",
      "Score: -255\n",
      "[(0, 49), (1, 29), (2, 8), (3, 9), (4, 6)]\n",
      "Score: -237\n",
      "[(0, 47), (1, 28), (2, 15), (3, 7), (4, 4)]\n",
      "Score: -281\n",
      "[(0, 47), (1, 23), (2, 16), (3, 6), (4, 9)]\n",
      "Score: -289\n",
      "[(0, 43), (1, 29), (2, 11), (3, 9), (4, 9)]\n",
      "Score: -295\n",
      "[(0, 49), (1, 20), (2, 11), (3, 12), (4, 9)]\n",
      "Score: -279\n",
      "[(0, 47), (1, 20), (2, 15), (3, 10), (4, 9)]\n",
      "Score: -319\n",
      "[(0, 45), (1, 19), (2, 22), (3, 6), (4, 9)]\n",
      "Score: -254\n",
      "[(0, 61), (1, 19), (2, 10), (3, 1), (4, 10)]\n",
      "Score: -257\n",
      "[(0, 45), (1, 21), (2, 9), (3, 14), (4, 12)]\n",
      "Score: -305\n",
      "[(0, 45), (1, 27), (2, 12), (3, 5), (4, 12)]\n",
      "Score: -290\n",
      "[(0, 54), (1, 23), (2, 13), (3, 7), (4, 4)]\n",
      "Score: -294\n",
      "[(0, 53), (1, 17), (2, 13), (3, 8), (4, 10)]\n",
      "Score: -290\n",
      "[(0, 40), (1, 26), (2, 14), (3, 12), (4, 9)]\n",
      "Score: -313\n",
      "[(0, 42), (1, 25), (2, 15), (3, 9), (4, 10)]\n",
      "Score: -261\n",
      "[(0, 51), (1, 20), (2, 8), (3, 14), (4, 8)]\n",
      "Score: -298\n",
      "[(0, 52), (1, 19), (2, 12), (3, 5), (4, 13)]\n",
      "Score: -304\n",
      "[(0, 48), (1, 28), (2, 12), (3, 7), (4, 6)]\n",
      "Score: 109\n",
      "[(0, 12), (1, 6), (2, 9), (3, 9), (4, 6)]\n",
      "Score: -272\n",
      "[(0, 63), (1, 19), (2, 3), (3, 8), (4, 8)]\n",
      "Score: -299\n",
      "[(0, 54), (1, 23), (2, 11), (3, 6), (4, 7)]\n",
      "Score: -289\n",
      "[(0, 47), (1, 22), (2, 11), (3, 7), (4, 14)]\n",
      "Score: -289\n",
      "[(0, 54), (1, 23), (2, 10), (3, 7), (4, 7)]\n",
      "Score: -262\n",
      "[(0, 47), (1, 21), (2, 12), (3, 14), (4, 7)]\n",
      "Score: -315\n",
      "[(0, 48), (1, 21), (2, 11), (3, 8), (4, 13)]\n",
      "Score: -301\n",
      "[(0, 53), (1, 28), (2, 14), (3, 3), (4, 3)]\n",
      "Score: -306\n",
      "[(0, 47), (1, 18), (2, 13), (3, 11), (4, 12)]\n",
      "Score: -272\n",
      "[(0, 51), (1, 25), (2, 13), (3, 8), (4, 4)]\n",
      "Score: 146\n",
      "[(0, 2), (1, 1), (2, 1), (3, 1), (4, 1)]\n",
      "Score: -292\n",
      "[(0, 51), (1, 13), (2, 13), (3, 11), (4, 13)]\n",
      "Score: -279\n",
      "[(0, 53), (1, 22), (2, 13), (3, 3), (4, 10)]\n",
      "Score: -234\n",
      "[(0, 49), (1, 33), (2, 5), (3, 7), (4, 7)]\n",
      "Score: -274\n",
      "[(0, 46), (1, 18), (2, 16), (3, 12), (4, 9)]\n",
      "Score: -280\n",
      "[(0, 46), (1, 24), (2, 15), (3, 6), (4, 10)]\n",
      "Score: -306\n",
      "[(0, 45), (1, 19), (2, 10), (3, 12), (4, 15)]\n",
      "Score: -285\n",
      "[(0, 53), (1, 16), (2, 10), (3, 11), (4, 11)]\n",
      "Score: -309\n",
      "[(0, 40), (1, 23), (2, 20), (3, 6), (4, 12)]\n",
      "Score: -323\n",
      "[(0, 46), (1, 21), (2, 12), (3, 6), (4, 16)]\n",
      "Score: -275\n",
      "[(0, 50), (1, 23), (2, 15), (3, 7), (4, 6)]\n",
      "Score: 111\n",
      "[(0, 36), (1, 22), (2, 7), (3, 8), (4, 4)]\n",
      "Score: 147\n",
      "[(0, 4), (1, 1), (2, 1), (4, 1)]\n",
      "Score: -290\n",
      "[(0, 55), (1, 19), (2, 11), (3, 8), (4, 8)]\n",
      "Score: -270\n",
      "[(0, 45), (1, 20), (2, 15), (3, 6), (4, 15)]\n",
      "Score: -336\n",
      "[(0, 41), (1, 19), (2, 24), (3, 6), (4, 11)]\n",
      "Score: -269\n",
      "[(0, 51), (1, 17), (2, 13), (3, 8), (4, 12)]\n",
      "Score: -308\n",
      "[(0, 50), (1, 18), (2, 8), (3, 9), (4, 16)]\n",
      "Score: -291\n",
      "[(0, 52), (1, 22), (2, 12), (3, 5), (4, 10)]\n",
      "Score: -291\n",
      "[(0, 44), (1, 25), (2, 11), (3, 9), (4, 12)]\n",
      "Score: -261\n",
      "[(0, 42), (1, 31), (2, 12), (3, 10), (4, 6)]\n",
      "Score: -311\n",
      "[(0, 44), (1, 20), (2, 11), (3, 11), (4, 15)]\n",
      "Score: -243\n",
      "[(0, 52), (1, 24), (2, 11), (3, 7), (4, 7)]\n",
      "Score: -272\n",
      "[(0, 43), (1, 25), (2, 19), (3, 5), (4, 9)]\n",
      "Score: -259\n",
      "[(0, 42), (1, 23), (2, 12), (3, 15), (4, 9)]\n",
      "Score: -271\n",
      "[(0, 47), (1, 23), (2, 6), (3, 12), (4, 13)]\n",
      "Score: -275\n",
      "[(0, 55), (1, 23), (2, 10), (3, 8), (4, 5)]\n",
      "Score: -302\n",
      "[(0, 46), (1, 21), (2, 10), (3, 10), (4, 14)]\n",
      "Score: -277\n",
      "[(0, 51), (1, 21), (2, 10), (3, 5), (4, 14)]\n",
      "Score: -224\n",
      "[(0, 50), (1, 29), (2, 14), (3, 5), (4, 3)]\n",
      "Score: -311\n",
      "[(0, 48), (1, 19), (2, 14), (3, 9), (4, 11)]\n",
      "Score: -281\n",
      "[(0, 46), (1, 19), (2, 11), (3, 15), (4, 10)]\n",
      "Score: -291\n",
      "[(0, 56), (1, 22), (2, 10), (3, 4), (4, 9)]\n",
      "Score: -267\n",
      "[(0, 60), (1, 18), (2, 7), (3, 10), (4, 6)]\n",
      "Score: -297\n",
      "[(0, 43), (1, 25), (2, 11), (3, 9), (4, 13)]\n",
      "Score: -275\n",
      "[(0, 45), (1, 22), (2, 9), (3, 13), (4, 12)]\n",
      "Score: -279\n",
      "[(0, 50), (1, 22), (2, 16), (3, 8), (4, 5)]\n",
      "Score: -281\n",
      "[(0, 50), (1, 12), (2, 10), (3, 15), (4, 14)]\n",
      "Score: -272\n",
      "[(0, 52), (1, 15), (2, 13), (3, 12), (4, 9)]\n",
      "Score: -273\n",
      "[(0, 47), (1, 25), (2, 18), (3, 6), (4, 5)]\n",
      "Score: -301\n",
      "[(0, 49), (1, 18), (2, 14), (3, 10), (4, 10)]\n",
      "Score: -243\n",
      "[(0, 43), (1, 26), (2, 10), (3, 11), (4, 11)]\n",
      "Score: -282\n",
      "[(0, 56), (1, 20), (2, 9), (3, 11), (4, 5)]\n",
      "Score: -246\n",
      "[(0, 47), (1, 24), (2, 10), (3, 11), (4, 9)]\n",
      "Score: -257\n",
      "[(0, 40), (1, 26), (2, 14), (3, 12), (4, 9)]\n",
      "Score: -301\n",
      "[(0, 48), (1, 20), (2, 12), (3, 12), (4, 9)]\n",
      "Score: -278\n",
      "[(0, 58), (1, 20), (2, 10), (3, 9), (4, 4)]\n",
      "Score: -264\n",
      "[(0, 54), (1, 20), (2, 18), (3, 7), (4, 2)]\n",
      "Score: -287\n",
      "[(0, 51), (1, 15), (2, 16), (3, 8), (4, 11)]\n",
      "Score: -238\n",
      "[(0, 57), (1, 22), (2, 11), (3, 9), (4, 2)]\n",
      "Score: -238\n",
      "[(0, 41), (1, 16), (2, 14), (3, 17), (4, 13)]\n",
      "Score: -248\n",
      "[(0, 41), (1, 33), (2, 12), (3, 10), (4, 5)]\n",
      "Score: -264\n",
      "[(0, 44), (1, 24), (2, 11), (3, 11), (4, 11)]\n",
      "Score: -283\n",
      "[(0, 54), (1, 13), (2, 14), (3, 7), (4, 13)]\n",
      "Score: -272\n",
      "[(0, 45), (1, 29), (2, 13), (3, 7), (4, 7)]\n",
      "Score: -253\n",
      "[(0, 48), (1, 22), (2, 11), (3, 12), (4, 8)]\n",
      "Score: -312\n",
      "[(0, 52), (1, 17), (2, 16), (3, 6), (4, 10)]\n",
      "Score: -308\n",
      "[(0, 48), (1, 18), (2, 13), (3, 10), (4, 12)]\n",
      "Score: -279\n",
      "[(0, 39), (1, 29), (2, 15), (3, 9), (4, 9)]\n",
      "Score: -230\n",
      "[(0, 48), (1, 14), (2, 21), (3, 7), (4, 11)]\n",
      "Score: -306\n",
      "[(0, 54), (1, 17), (2, 18), (3, 7), (4, 5)]\n",
      "Score: -277\n",
      "[(0, 49), (1, 17), (2, 19), (3, 7), (4, 9)]\n",
      "Score: -276\n",
      "[(0, 50), (1, 25), (2, 12), (3, 10), (4, 4)]\n",
      "Score: -356\n",
      "[(0, 42), (1, 14), (2, 22), (3, 11), (4, 12)]\n",
      "Score: -266\n",
      "[(0, 45), (1, 24), (2, 13), (3, 10), (4, 9)]\n"
     ]
    },
    {
     "name": "stdout",
     "output_type": "stream",
     "text": [
      "Score: -253\n",
      "[(0, 47), (1, 25), (2, 13), (3, 11), (4, 5)]\n",
      "Score: -310\n",
      "[(0, 41), (1, 19), (2, 19), (3, 10), (4, 12)]\n",
      "Score: -257\n",
      "[(0, 57), (1, 28), (2, 7), (3, 6), (4, 3)]\n",
      "Score: -302\n",
      "[(0, 56), (1, 17), (2, 9), (3, 7), (4, 12)]\n",
      "Score: -315\n",
      "[(0, 44), (1, 16), (2, 14), (3, 13), (4, 14)]\n",
      "Score: -265\n",
      "[(0, 54), (1, 20), (2, 9), (3, 7), (4, 11)]\n",
      "Score: -316\n",
      "[(0, 49), (1, 13), (2, 16), (3, 8), (4, 15)]\n",
      "Score: -289\n",
      "[(0, 56), (1, 20), (2, 13), (3, 6), (4, 6)]\n",
      "Score: -262\n",
      "[(0, 49), (1, 28), (2, 8), (3, 5), (4, 11)]\n",
      "Score: -278\n",
      "[(0, 50), (1, 21), (2, 14), (3, 9), (4, 7)]\n",
      "Score: -271\n",
      "[(0, 46), (1, 21), (2, 12), (3, 12), (4, 10)]\n",
      "Score: 60\n",
      "[(0, 49), (1, 12), (2, 11), (3, 12), (4, 12)]\n",
      "Score: -306\n",
      "[(0, 48), (1, 16), (2, 21), (3, 8), (4, 8)]\n",
      "Score: -317\n",
      "[(0, 50), (1, 21), (2, 13), (3, 7), (4, 10)]\n",
      "Score: -284\n",
      "[(0, 47), (1, 17), (2, 13), (3, 9), (4, 15)]\n",
      "Score: -282\n",
      "[(0, 56), (1, 20), (2, 12), (3, 6), (4, 7)]\n",
      "Score: -372\n",
      "[(0, 38), (1, 18), (2, 17), (3, 16), (4, 12)]\n",
      "Score: -269\n",
      "[(0, 58), (1, 19), (2, 10), (3, 5), (4, 9)]\n",
      "Score: -299\n",
      "[(0, 48), (1, 16), (2, 13), (3, 13), (4, 11)]\n",
      "Score: 124\n",
      "[(0, 16), (1, 10), (2, 4), (3, 4), (4, 2)]\n",
      "Score: -239\n",
      "[(0, 55), (1, 22), (2, 8), (3, 9), (4, 7)]\n",
      "Score: -283\n",
      "[(0, 43), (1, 26), (2, 13), (3, 11), (4, 8)]\n",
      "Score: -289\n",
      "[(0, 43), (1, 23), (2, 17), (3, 5), (4, 13)]\n",
      "Score: -273\n",
      "[(0, 61), (1, 18), (2, 11), (3, 3), (4, 8)]\n",
      "Score: -296\n",
      "[(0, 49), (1, 19), (2, 12), (3, 13), (4, 8)]\n",
      "Score: -306\n",
      "[(0, 48), (1, 29), (2, 11), (3, 7), (4, 6)]\n",
      "Score: -244\n",
      "[(0, 52), (1, 19), (2, 9), (3, 8), (4, 13)]\n",
      "Score: -295\n",
      "[(0, 61), (1, 16), (2, 12), (3, 7), (4, 5)]\n",
      "Score: -312\n",
      "[(0, 46), (1, 19), (2, 12), (3, 12), (4, 12)]\n",
      "Score: -269\n",
      "[(0, 54), (1, 15), (2, 13), (3, 8), (4, 11)]\n",
      "Score: -322\n",
      "[(0, 46), (1, 19), (2, 12), (3, 13), (4, 11)]\n",
      "Score: -296\n",
      "[(0, 52), (1, 14), (2, 10), (3, 11), (4, 14)]\n",
      "Score: -297\n",
      "[(0, 51), (1, 17), (2, 12), (3, 13), (4, 8)]\n",
      "Score: -313\n",
      "[(0, 59), (1, 16), (2, 13), (3, 8), (4, 5)]\n",
      "Score: -318\n",
      "[(0, 52), (1, 16), (2, 11), (3, 10), (4, 12)]\n",
      "Score: -297\n",
      "[(0, 57), (1, 14), (2, 13), (3, 8), (4, 9)]\n",
      "Score: 112\n",
      "[(0, 34), (1, 12), (2, 10), (3, 2), (4, 9)]\n",
      "Score: -274\n",
      "[(0, 48), (1, 18), (2, 12), (3, 9), (4, 14)]\n",
      "Score: -242\n",
      "[(0, 64), (1, 15), (2, 8), (3, 8), (4, 6)]\n",
      "Score: -311\n",
      "[(0, 44), (1, 15), (2, 25), (3, 8), (4, 9)]\n",
      "Score: -302\n",
      "[(0, 39), (1, 31), (2, 19), (3, 3), (4, 9)]\n",
      "Score: -312\n",
      "[(0, 41), (1, 15), (2, 13), (3, 17), (4, 15)]\n",
      "Score: -269\n",
      "[(0, 62), (1, 8), (2, 12), (3, 8), (4, 11)]\n",
      "Score: -271\n",
      "[(0, 61), (1, 17), (2, 9), (3, 5), (4, 9)]\n",
      "Score: -299\n",
      "[(0, 64), (1, 17), (2, 6), (3, 5), (4, 9)]\n",
      "Score: -300\n",
      "[(0, 51), (1, 18), (2, 12), (3, 5), (4, 15)]\n",
      "Score: -272\n",
      "[(0, 53), (1, 18), (2, 9), (3, 8), (4, 13)]\n",
      "Score: -293\n",
      "[(0, 45), (1, 14), (2, 18), (3, 7), (4, 17)]\n",
      "Score: -351\n",
      "[(0, 46), (1, 14), (2, 19), (3, 8), (4, 14)]\n",
      "Score: -295\n",
      "[(0, 53), (1, 22), (2, 11), (3, 7), (4, 8)]\n",
      "Score: -238\n",
      "[(0, 46), (1, 10), (2, 16), (3, 18), (4, 11)]\n",
      "Score: -287\n",
      "[(0, 59), (1, 19), (2, 12), (3, 2), (4, 9)]\n",
      "Score: -289\n",
      "[(0, 59), (1, 15), (2, 11), (3, 8), (4, 8)]\n",
      "Score: -287\n",
      "[(0, 64), (1, 21), (2, 8), (3, 4), (4, 4)]\n",
      "Score: -295\n",
      "[(0, 51), (1, 16), (2, 14), (3, 7), (4, 13)]\n",
      "Score: -268\n",
      "[(0, 51), (1, 24), (2, 13), (3, 6), (4, 7)]\n",
      "Score: -269\n",
      "[(0, 59), (1, 20), (2, 11), (3, 6), (4, 5)]\n",
      "Score: -244\n",
      "[(0, 53), (1, 23), (2, 9), (3, 7), (4, 9)]\n",
      "Score: -282\n",
      "[(0, 51), (1, 19), (2, 15), (3, 6), (4, 10)]\n",
      "Score: -271\n",
      "[(0, 54), (1, 18), (2, 15), (3, 9), (4, 5)]\n",
      "Score: -279\n",
      "[(0, 50), (1, 19), (2, 15), (3, 7), (4, 10)]\n",
      "Score: -311\n",
      "[(0, 51), (1, 16), (2, 4), (3, 16), (4, 14)]\n",
      "Score: -286\n",
      "[(0, 51), (1, 19), (2, 13), (3, 12), (4, 6)]\n",
      "Score: -277\n",
      "[(0, 60), (1, 15), (2, 13), (3, 8), (4, 5)]\n",
      "Score: -244\n",
      "[(0, 54), (1, 24), (2, 8), (3, 8), (4, 7)]\n",
      "Score: -240\n",
      "[(0, 52), (1, 21), (2, 12), (3, 9), (4, 7)]\n",
      "Score: -302\n",
      "[(0, 45), (1, 18), (2, 10), (3, 16), (4, 12)]\n",
      "Score: -301\n",
      "[(0, 44), (1, 16), (2, 18), (3, 9), (4, 14)]\n",
      "Score: -315\n",
      "[(0, 45), (1, 23), (2, 17), (3, 8), (4, 8)]\n",
      "Score: -301\n",
      "[(0, 58), (1, 15), (2, 12), (3, 7), (4, 9)]\n",
      "Score: -259\n",
      "[(0, 53), (1, 14), (2, 11), (3, 14), (4, 9)]\n",
      "Score: -249\n",
      "[(0, 62), (1, 13), (2, 9), (3, 10), (4, 7)]\n",
      "Score: -258\n",
      "[(0, 58), (1, 19), (2, 7), (3, 8), (4, 9)]\n",
      "Score: -262\n",
      "[(0, 62), (1, 16), (2, 5), (3, 10), (4, 8)]\n",
      "Score: -305\n",
      "[(0, 54), (1, 14), (2, 14), (3, 8), (4, 11)]\n",
      "Score: -256\n",
      "[(0, 55), (1, 17), (2, 13), (3, 8), (4, 8)]\n",
      "Score: -311\n",
      "[(0, 47), (1, 15), (2, 14), (3, 10), (4, 15)]\n",
      "Score: -314\n",
      "[(0, 63), (1, 19), (2, 6), (3, 4), (4, 9)]\n",
      "Score: -261\n",
      "[(0, 54), (1, 16), (2, 7), (3, 18), (4, 6)]\n",
      "Score: -282\n",
      "[(0, 58), (1, 18), (2, 8), (3, 8), (4, 9)]\n",
      "Score: -302\n",
      "[(0, 56), (1, 18), (2, 10), (3, 7), (4, 10)]\n",
      "Score: -262\n",
      "[(0, 54), (1, 24), (2, 10), (3, 8), (4, 5)]\n",
      "Score: -301\n",
      "[(0, 38), (1, 21), (2, 17), (3, 11), (4, 14)]\n",
      "Score: -306\n",
      "[(0, 53), (1, 25), (2, 8), (3, 9), (4, 6)]\n",
      "Score: -288\n",
      "[(0, 37), (1, 26), (2, 19), (3, 11), (4, 8)]\n",
      "Score: -301\n",
      "[(0, 45), (1, 16), (2, 22), (3, 8), (4, 10)]\n",
      "Score: -247\n",
      "[(0, 59), (1, 20), (2, 12), (3, 6), (4, 4)]\n",
      "Score: -278\n",
      "[(0, 50), (1, 19), (2, 10), (3, 12), (4, 10)]\n",
      "Score: -306\n",
      "[(0, 55), (1, 23), (2, 14), (3, 2), (4, 7)]\n",
      "Score: -282\n",
      "[(0, 44), (1, 16), (2, 14), (3, 10), (4, 17)]\n",
      "Score: -288\n",
      "[(0, 53), (1, 22), (2, 10), (3, 9), (4, 7)]\n",
      "Score: -250\n",
      "[(0, 47), (1, 33), (2, 12), (3, 4), (4, 5)]\n",
      "Score: -282\n",
      "[(0, 52), (1, 26), (2, 10), (3, 7), (4, 6)]\n",
      "Score: -302\n",
      "[(0, 54), (1, 20), (2, 13), (3, 4), (4, 10)]\n",
      "Score: -250\n",
      "[(0, 50), (1, 22), (2, 12), (3, 12), (4, 5)]\n",
      "Score: -258\n",
      "[(0, 59), (1, 19), (2, 4), (3, 6), (4, 13)]\n",
      "Score: -306\n",
      "[(0, 49), (1, 16), (2, 10), (3, 8), (4, 18)]\n",
      "Score: -294\n",
      "[(0, 43), (1, 25), (2, 18), (3, 7), (4, 8)]\n",
      "Score: -269\n",
      "[(0, 57), (1, 18), (2, 12), (3, 5), (4, 9)]\n",
      "Score: -265\n",
      "[(0, 54), (1, 14), (2, 12), (3, 13), (4, 8)]\n",
      "Score: -257\n",
      "[(0, 42), (1, 17), (2, 18), (3, 12), (4, 12)]\n",
      "Score: -295\n",
      "[(0, 57), (1, 14), (2, 15), (3, 9), (4, 6)]\n",
      "Score: -298\n",
      "[(0, 54), (1, 13), (2, 11), (3, 11), (4, 12)]\n",
      "Score: -262\n",
      "[(0, 42), (1, 28), (2, 12), (3, 12), (4, 7)]\n",
      "Score: -290\n",
      "[(0, 55), (1, 25), (2, 8), (3, 8), (4, 5)]\n",
      "Score: -253\n",
      "[(0, 49), (1, 27), (2, 8), (3, 6), (4, 11)]\n",
      "Score: -334\n",
      "[(0, 48), (1, 20), (2, 16), (3, 6), (4, 11)]\n",
      "Score: -295\n",
      "[(0, 43), (1, 19), (2, 18), (3, 10), (4, 11)]\n",
      "Score: -260\n",
      "[(0, 44), (1, 26), (2, 12), (3, 8), (4, 11)]\n",
      "Score: -320\n",
      "[(0, 52), (1, 30), (2, 13), (3, 3), (4, 3)]\n",
      "Score: -297\n",
      "[(0, 57), (1, 18), (2, 10), (3, 6), (4, 10)]\n",
      "Score: -254\n",
      "[(0, 56), (1, 17), (2, 11), (3, 8), (4, 9)]\n",
      "Score: -311\n",
      "[(0, 49), (1, 17), (2, 13), (3, 9), (4, 13)]\n",
      "Score: -275\n",
      "[(0, 48), (1, 23), (2, 11), (3, 9), (4, 10)]\n",
      "Score: -252\n",
      "[(0, 55), (1, 22), (2, 8), (3, 7), (4, 9)]\n",
      "Score: -303\n",
      "[(0, 58), (1, 11), (2, 13), (3, 7), (4, 12)]\n",
      "Score: -279\n",
      "[(0, 54), (1, 20), (2, 9), (3, 13), (4, 5)]\n",
      "Score: -308\n",
      "[(0, 56), (1, 12), (2, 12), (3, 12), (4, 9)]\n",
      "Score: -278\n",
      "[(0, 54), (1, 20), (2, 12), (3, 6), (4, 9)]\n",
      "Score: 116\n",
      "[(0, 13), (1, 5), (2, 2), (3, 2), (4, 10)]\n",
      "Score: -311\n",
      "[(0, 52), (1, 30), (2, 6), (3, 3), (4, 10)]\n",
      "Score: -246\n",
      "[(0, 66), (1, 17), (2, 7), (3, 7), (4, 4)]\n",
      "Score: -292\n",
      "[(0, 48), (1, 18), (2, 15), (3, 6), (4, 14)]\n",
      "Score: 113\n",
      "[(0, 30), (1, 9), (2, 2), (3, 7), (4, 7)]\n",
      "Score: -291\n",
      "[(0, 47), (1, 18), (2, 15), (3, 9), (4, 12)]\n",
      "Score: -310\n",
      "[(0, 53), (1, 17), (2, 20), (3, 4), (4, 7)]\n",
      "Score: -255\n",
      "[(0, 47), (1, 22), (2, 14), (3, 10), (4, 8)]\n",
      "Score: -309\n",
      "[(0, 43), (1, 22), (2, 15), (3, 10), (4, 11)]\n",
      "Score: -265\n",
      "[(0, 58), (1, 12), (2, 13), (3, 8), (4, 10)]\n",
      "Score: -285\n",
      "[(0, 53), (1, 21), (2, 9), (3, 9), (4, 9)]\n",
      "Score: -296\n",
      "[(0, 48), (1, 21), (2, 10), (3, 14), (4, 8)]\n",
      "Score: -261\n",
      "[(0, 53), (1, 16), (2, 11), (3, 12), (4, 9)]\n",
      "Score: 5\n",
      "[(0, 17), (1, 5), (2, 6), (3, 5), (4, 7)]\n",
      "Score: -288\n",
      "[(0, 49), (1, 18), (2, 17), (3, 8), (4, 9)]\n",
      "Score: -320\n",
      "[(0, 48), (1, 18), (2, 14), (3, 11), (4, 10)]\n",
      "Score: -266\n",
      "[(0, 43), (1, 16), (2, 15), (3, 12), (4, 15)]\n",
      "Score: -298\n",
      "[(0, 60), (1, 15), (2, 9), (3, 10), (4, 7)]\n",
      "Score: -300\n",
      "[(0, 47), (1, 15), (2, 12), (3, 14), (4, 13)]\n",
      "Score: -299\n",
      "[(0, 52), (1, 17), (2, 10), (3, 10), (4, 12)]\n",
      "Score: -257\n",
      "[(0, 57), (1, 16), (2, 13), (3, 7), (4, 8)]\n",
      "Score: -328\n",
      "[(0, 38), (1, 18), (2, 24), (3, 10), (4, 11)]\n",
      "Score: -271\n",
      "[(0, 54), (1, 23), (2, 15), (3, 4), (4, 5)]\n",
      "Score: -265\n",
      "[(0, 54), (1, 23), (2, 14), (3, 4), (4, 6)]\n",
      "Score: -251\n",
      "[(0, 50), (1, 17), (2, 16), (3, 12), (4, 6)]\n",
      "Score: -261\n",
      "[(0, 46), (1, 19), (2, 17), (3, 7), (4, 12)]\n",
      "Score: -275\n",
      "[(0, 62), (1, 15), (2, 11), (3, 5), (4, 8)]\n",
      "Score: -268\n"
     ]
    },
    {
     "name": "stdout",
     "output_type": "stream",
     "text": [
      "[(0, 59), (1, 18), (2, 8), (3, 5), (4, 11)]\n",
      "Score: -274\n",
      "[(0, 42), (1, 17), (2, 22), (3, 9), (4, 11)]\n",
      "Score: -260\n",
      "[(0, 49), (1, 19), (2, 7), (3, 7), (4, 19)]\n",
      "Score: -321\n",
      "[(0, 52), (1, 15), (2, 17), (3, 9), (4, 8)]\n",
      "Score: -264\n",
      "[(0, 54), (1, 20), (2, 9), (3, 9), (4, 9)]\n",
      "Score: -300\n",
      "[(0, 42), (1, 24), (2, 12), (3, 10), (4, 13)]\n",
      "Score: -278\n",
      "[(0, 55), (1, 19), (2, 11), (3, 4), (4, 12)]\n",
      "Score: -307\n",
      "[(0, 53), (1, 14), (2, 13), (3, 11), (4, 10)]\n",
      "Score: -297\n",
      "[(0, 53), (1, 15), (2, 14), (3, 7), (4, 12)]\n",
      "Score: -263\n",
      "[(0, 44), (1, 19), (2, 15), (3, 12), (4, 11)]\n",
      "Score: -304\n",
      "[(0, 49), (1, 17), (2, 13), (3, 12), (4, 10)]\n",
      "Score: -283\n",
      "[(0, 51), (1, 23), (2, 11), (3, 5), (4, 11)]\n",
      "Score: -246\n",
      "[(0, 57), (1, 23), (2, 7), (3, 5), (4, 9)]\n",
      "Score: -239\n",
      "[(0, 53), (1, 27), (2, 8), (3, 6), (4, 7)]\n",
      "Score: -270\n",
      "[(0, 56), (1, 15), (2, 11), (3, 9), (4, 10)]\n",
      "Score: 58\n",
      "[(0, 18), (1, 5), (2, 2), (4, 6)]\n",
      "Score: -271\n",
      "[(0, 55), (1, 26), (2, 13), (3, 5), (4, 2)]\n",
      "Score: -269\n",
      "[(0, 41), (1, 21), (2, 14), (3, 12), (4, 13)]\n",
      "Score: -261\n",
      "[(0, 48), (1, 29), (2, 13), (3, 8), (4, 3)]\n",
      "Score: -273\n",
      "[(0, 68), (1, 16), (2, 11), (3, 4), (4, 2)]\n",
      "Score: -279\n",
      "[(0, 44), (1, 21), (2, 15), (3, 8), (4, 13)]\n",
      "Score: -259\n",
      "[(0, 42), (1, 26), (2, 11), (3, 8), (4, 14)]\n",
      "Score: -256\n",
      "[(0, 46), (1, 22), (2, 15), (3, 12), (4, 6)]\n",
      "Score: -329\n",
      "[(0, 45), (1, 23), (2, 15), (3, 6), (4, 12)]\n",
      "Score: -312\n",
      "[(0, 47), (1, 21), (2, 15), (3, 9), (4, 9)]\n",
      "Score: -315\n",
      "[(0, 37), (1, 26), (2, 18), (3, 7), (4, 13)]\n",
      "Score: -282\n",
      "[(0, 54), (1, 30), (2, 8), (3, 5), (4, 4)]\n",
      "Score: -295\n",
      "[(0, 47), (1, 24), (2, 15), (3, 4), (4, 11)]\n",
      "Score: -303\n",
      "[(0, 62), (1, 9), (2, 7), (3, 10), (4, 13)]\n",
      "Score: -302\n",
      "[(0, 49), (1, 24), (2, 14), (3, 5), (4, 9)]\n",
      "Score: -294\n",
      "[(0, 56), (1, 12), (2, 10), (3, 9), (4, 14)]\n",
      "Score: -236\n",
      "[(0, 52), (1, 20), (2, 14), (3, 8), (4, 7)]\n",
      "Score: -304\n",
      "[(0, 49), (1, 19), (2, 15), (3, 10), (4, 8)]\n",
      "Score: -270\n",
      "[(0, 49), (1, 20), (2, 13), (3, 8), (4, 11)]\n",
      "Score: -265\n",
      "[(0, 64), (1, 11), (2, 13), (3, 6), (4, 7)]\n",
      "Score: -324\n",
      "[(0, 51), (1, 17), (2, 14), (3, 4), (4, 15)]\n",
      "Score: 3\n",
      "[(0, 31), (1, 17), (2, 12), (3, 3), (4, 4)]\n",
      "Score: -328\n",
      "[(0, 47), (1, 20), (2, 15), (3, 9), (4, 10)]\n",
      "Score: -269\n",
      "[(0, 40), (1, 25), (2, 14), (3, 11), (4, 11)]\n",
      "Score: -291\n",
      "[(0, 57), (1, 22), (2, 8), (3, 2), (4, 12)]\n",
      "Score: -265\n",
      "[(0, 49), (1, 27), (2, 12), (3, 3), (4, 10)]\n",
      "Score: -289\n",
      "[(0, 39), (1, 16), (2, 14), (3, 14), (4, 18)]\n",
      "Score: -231\n",
      "[(0, 52), (1, 24), (2, 13), (3, 6), (4, 6)]\n",
      "Score: -314\n",
      "[(0, 51), (1, 16), (2, 17), (3, 10), (4, 7)]\n",
      "Score: -301\n",
      "[(0, 48), (1, 22), (2, 7), (3, 15), (4, 9)]\n",
      "Score: -301\n",
      "[(0, 44), (1, 22), (2, 12), (3, 12), (4, 11)]\n",
      "Score: 133\n",
      "[(0, 13), (1, 4), (2, 2), (3, 3), (4, 1)]\n",
      "Score: -256\n",
      "[(0, 59), (1, 21), (2, 9), (3, 3), (4, 9)]\n",
      "Score: -266\n",
      "[(0, 56), (1, 21), (2, 6), (3, 9), (4, 9)]\n",
      "Score: -244\n",
      "[(0, 61), (1, 22), (2, 10), (3, 3), (4, 5)]\n",
      "Score: -305\n",
      "[(0, 55), (1, 20), (2, 12), (3, 7), (4, 7)]\n",
      "Score: -271\n",
      "[(0, 52), (1, 27), (2, 9), (3, 6), (4, 7)]\n",
      "Score: -310\n",
      "[(0, 45), (1, 19), (2, 18), (3, 10), (4, 9)]\n",
      "Score: -248\n",
      "[(0, 53), (1, 28), (2, 12), (3, 4), (4, 4)]\n",
      "Score: -273\n",
      "[(0, 56), (1, 24), (2, 11), (3, 4), (4, 6)]\n",
      "Score: -272\n",
      "[(0, 56), (1, 21), (2, 14), (3, 5), (4, 5)]\n",
      "Score: -249\n",
      "[(0, 53), (1, 27), (2, 10), (3, 4), (4, 7)]\n",
      "Score: -286\n",
      "[(0, 56), (1, 20), (2, 11), (3, 7), (4, 7)]\n",
      "Score: -310\n",
      "[(0, 53), (1, 16), (2, 13), (3, 9), (4, 10)]\n",
      "Score: -302\n",
      "[(0, 42), (1, 20), (2, 16), (3, 13), (4, 10)]\n",
      "Score: -265\n",
      "[(0, 50), (1, 21), (2, 18), (3, 8), (4, 4)]\n",
      "Score: -300\n",
      "[(0, 50), (1, 14), (2, 13), (3, 17), (4, 7)]\n",
      "Score: -297\n",
      "[(0, 40), (1, 19), (2, 17), (3, 10), (4, 15)]\n",
      "Score: -271\n",
      "[(0, 56), (1, 18), (2, 12), (3, 8), (4, 7)]\n",
      "Score: -275\n",
      "[(0, 54), (1, 14), (2, 8), (3, 11), (4, 14)]\n",
      "Score: -290\n",
      "[(0, 44), (1, 26), (2, 15), (3, 8), (4, 8)]\n",
      "Score: -280\n",
      "[(0, 61), (1, 9), (2, 16), (3, 8), (4, 7)]\n",
      "Score: -299\n",
      "[(0, 49), (1, 20), (2, 9), (3, 13), (4, 10)]\n",
      "Score: -254\n",
      "[(0, 59), (1, 21), (2, 11), (3, 7), (4, 3)]\n",
      "Score: -298\n",
      "[(0, 56), (1, 18), (2, 12), (3, 5), (4, 10)]\n",
      "Score: -275\n",
      "[(0, 59), (1, 18), (2, 7), (3, 12), (4, 5)]\n",
      "Score: -283\n",
      "[(0, 45), (1, 22), (2, 14), (3, 9), (4, 11)]\n",
      "Score: -279\n",
      "[(0, 60), (1, 19), (2, 6), (3, 6), (4, 10)]\n",
      "Score: -341\n",
      "[(0, 48), (1, 15), (2, 19), (3, 7), (4, 12)]\n",
      "Score: -230\n",
      "[(0, 61), (1, 21), (2, 7), (3, 7), (4, 5)]\n",
      "Score: -318\n",
      "[(0, 47), (1, 15), (2, 18), (3, 9), (4, 12)]\n",
      "Score: -293\n",
      "[(0, 57), (1, 17), (2, 10), (3, 8), (4, 9)]\n",
      "Score: -258\n",
      "[(0, 46), (1, 20), (2, 17), (3, 7), (4, 11)]\n",
      "Score: -271\n",
      "[(0, 51), (1, 14), (2, 14), (3, 16), (4, 6)]\n",
      "Score: -287\n",
      "[(0, 52), (1, 27), (2, 7), (3, 12), (4, 3)]\n",
      "Score: -238\n",
      "[(0, 61), (1, 21), (2, 9), (3, 4), (4, 6)]\n",
      "Score: -250\n",
      "[(0, 54), (1, 22), (2, 10), (3, 10), (4, 5)]\n",
      "Score: -595\n",
      "[(0, 48), (1, 18), (2, 21), (3, 10), (4, 4)]\n",
      "Score: -257\n",
      "[(0, 49), (1, 27), (2, 10), (3, 5), (4, 10)]\n",
      "Score: -94\n",
      "[(0, 31), (1, 10), (2, 9), (3, 6), (4, 11)]\n",
      "Score: -301\n",
      "[(0, 44), (1, 20), (2, 17), (3, 9), (4, 11)]\n",
      "Score: -272\n",
      "[(0, 49), (1, 23), (2, 13), (3, 8), (4, 8)]\n",
      "Score: -269\n",
      "[(0, 41), (1, 23), (2, 16), (3, 11), (4, 10)]\n",
      "Score: -308\n",
      "[(0, 56), (1, 18), (2, 10), (3, 9), (4, 8)]\n",
      "Score: -262\n",
      "[(0, 46), (1, 26), (2, 11), (3, 7), (4, 11)]\n",
      "Score: -292\n",
      "[(0, 57), (1, 15), (2, 7), (3, 12), (4, 10)]\n",
      "Score: -292\n",
      "[(0, 51), (1, 17), (2, 11), (3, 6), (4, 16)]\n",
      "Score: -297\n",
      "[(0, 52), (1, 23), (2, 13), (3, 6), (4, 7)]\n",
      "Score: -296\n",
      "[(0, 51), (1, 9), (2, 14), (3, 8), (4, 19)]\n",
      "Score: -259\n",
      "[(0, 57), (1, 15), (2, 11), (3, 10), (4, 8)]\n",
      "Score: -293\n",
      "[(0, 50), (1, 21), (2, 11), (3, 8), (4, 11)]\n",
      "Score: -320\n",
      "[(0, 59), (1, 13), (2, 17), (3, 5), (4, 7)]\n",
      "Score: -268\n",
      "[(0, 51), (1, 23), (2, 13), (3, 6), (4, 8)]\n",
      "Score: -280\n",
      "[(0, 53), (1, 21), (2, 6), (3, 12), (4, 9)]\n",
      "Score: -262\n",
      "[(0, 43), (1, 24), (2, 16), (3, 11), (4, 7)]\n",
      "Score: -313\n",
      "[(0, 50), (1, 20), (2, 14), (3, 8), (4, 9)]\n",
      "Score: -290\n",
      "[(0, 53), (1, 17), (2, 15), (3, 10), (4, 6)]\n",
      "Score: -295\n",
      "[(0, 49), (1, 20), (2, 16), (3, 9), (4, 7)]\n",
      "Score: -31\n",
      "[(0, 40), (1, 25), (2, 14), (3, 4), (4, 9)]\n",
      "Score: -325\n",
      "[(0, 44), (1, 23), (2, 15), (3, 6), (4, 13)]\n",
      "Score: -316\n",
      "[(0, 48), (1, 16), (2, 17), (3, 10), (4, 10)]\n",
      "Score: -247\n",
      "[(0, 50), (1, 18), (2, 9), (3, 9), (4, 15)]\n",
      "Score: -239\n",
      "[(0, 51), (1, 28), (2, 10), (3, 7), (4, 5)]\n",
      "Score: -266\n",
      "[(0, 50), (1, 21), (2, 15), (3, 4), (4, 11)]\n",
      "Score: -273\n",
      "[(0, 60), (1, 20), (2, 13), (3, 5), (4, 3)]\n",
      "Score: -288\n",
      "[(0, 55), (1, 21), (2, 10), (3, 10), (4, 5)]\n",
      "Score: -272\n",
      "[(0, 53), (1, 22), (2, 9), (3, 5), (4, 12)]\n",
      "Score: -302\n",
      "[(0, 48), (1, 16), (2, 19), (3, 10), (4, 8)]\n",
      "Score: -306\n",
      "[(0, 46), (1, 26), (2, 13), (3, 6), (4, 10)]\n",
      "Score: -278\n",
      "[(0, 50), (1, 21), (2, 16), (3, 8), (4, 6)]\n",
      "Score: -305\n",
      "[(0, 43), (1, 20), (2, 17), (3, 12), (4, 9)]\n",
      "Score: 119\n",
      "[(0, 38), (1, 22), (2, 5), (3, 4), (4, 6)]\n",
      "Score: -292\n",
      "[(0, 48), (1, 22), (2, 11), (3, 10), (4, 10)]\n",
      "Score: -276\n",
      "[(0, 51), (1, 23), (2, 14), (3, 7), (4, 6)]\n",
      "Score: -276\n",
      "[(0, 47), (1, 23), (2, 7), (3, 10), (4, 14)]\n",
      "Score: -254\n",
      "[(0, 54), (1, 25), (2, 13), (3, 5), (4, 4)]\n",
      "Score: -288\n",
      "[(0, 56), (1, 22), (2, 9), (3, 7), (4, 7)]\n",
      "Score: -292\n",
      "[(0, 47), (1, 27), (2, 16), (3, 1), (4, 10)]\n",
      "Score: -249\n",
      "[(0, 52), (1, 26), (2, 11), (3, 8), (4, 4)]\n",
      "Score: -279\n",
      "[(0, 46), (1, 16), (2, 11), (3, 13), (4, 15)]\n",
      "Score: -237\n",
      "[(0, 50), (1, 24), (2, 15), (3, 5), (4, 7)]\n",
      "Score: -303\n",
      "[(0, 48), (1, 29), (2, 11), (3, 4), (4, 9)]\n",
      "Score: -296\n",
      "[(0, 59), (1, 18), (2, 11), (3, 10), (4, 3)]\n",
      "Score: -248\n",
      "[(0, 42), (1, 27), (2, 10), (3, 9), (4, 13)]\n",
      "Score: -255\n",
      "[(0, 41), (1, 26), (2, 20), (3, 6), (4, 8)]\n",
      "Score: -283\n",
      "[(0, 49), (1, 21), (2, 15), (3, 6), (4, 10)]\n",
      "Score: -282\n",
      "[(0, 47), (1, 24), (2, 15), (3, 6), (4, 9)]\n",
      "Score: -302\n",
      "[(0, 47), (1, 21), (2, 15), (3, 12), (4, 6)]\n",
      "Score: -240\n",
      "[(0, 51), (1, 29), (2, 9), (3, 5), (4, 7)]\n",
      "Score: -263\n",
      "[(0, 54), (1, 17), (2, 11), (3, 11), (4, 8)]\n",
      "Score: -309\n",
      "[(0, 53), (1, 23), (2, 11), (3, 6), (4, 8)]\n",
      "Score: -293\n",
      "[(0, 56), (1, 20), (2, 9), (3, 5), (4, 11)]\n",
      "Score: -292\n",
      "[(0, 46), (1, 21), (2, 12), (3, 11), (4, 11)]\n",
      "Score: -286\n",
      "[(0, 53), (1, 20), (2, 9), (3, 8), (4, 11)]\n",
      "Score: 109\n",
      "[(0, 42), (1, 8), (2, 4), (3, 4), (4, 7)]\n",
      "Score: -313\n",
      "[(0, 47), (1, 21), (2, 16), (3, 9), (4, 8)]\n",
      "Score: -239\n",
      "[(0, 46), (1, 29), (2, 13), (3, 11), (4, 2)]\n",
      "Score: -269\n",
      "[(0, 53), (1, 21), (2, 12), (3, 4), (4, 11)]\n",
      "Score: -303\n",
      "[(0, 42), (1, 23), (2, 16), (3, 7), (4, 13)]\n",
      "Score: -305\n",
      "[(0, 44), (1, 20), (2, 11), (3, 14), (4, 12)]\n",
      "Score: -279\n",
      "[(0, 51), (1, 21), (2, 17), (3, 6), (4, 6)]\n"
     ]
    },
    {
     "name": "stdout",
     "output_type": "stream",
     "text": [
      "Score: -253\n",
      "[(0, 55), (1, 14), (2, 11), (3, 10), (4, 11)]\n",
      "Score: -281\n",
      "[(0, 55), (1, 20), (2, 9), (3, 8), (4, 9)]\n",
      "Score: -308\n",
      "[(0, 49), (1, 19), (2, 12), (3, 15), (4, 6)]\n",
      "Score: -318\n",
      "[(0, 48), (1, 22), (2, 15), (3, 7), (4, 9)]\n",
      "Score: -278\n",
      "[(0, 52), (1, 24), (2, 9), (3, 8), (4, 8)]\n",
      "Score: -293\n",
      "[(0, 55), (1, 16), (2, 11), (3, 8), (4, 11)]\n",
      "Score: -283\n",
      "[(0, 64), (1, 14), (2, 7), (3, 3), (4, 13)]\n",
      "Score: -256\n",
      "[(0, 55), (1, 23), (2, 11), (3, 5), (4, 7)]\n",
      "Score: -299\n",
      "[(0, 41), (1, 29), (2, 16), (3, 6), (4, 9)]\n",
      "Score: -274\n",
      "[(0, 54), (1, 17), (2, 13), (3, 8), (4, 9)]\n",
      "Score: -292\n",
      "[(0, 48), (1, 20), (2, 13), (3, 6), (4, 14)]\n",
      "Score: -295\n",
      "[(0, 54), (1, 19), (2, 11), (3, 8), (4, 9)]\n",
      "Score: -313\n",
      "[(0, 47), (1, 21), (2, 14), (3, 8), (4, 11)]\n",
      "Score: -308\n",
      "[(0, 48), (1, 16), (2, 15), (3, 8), (4, 14)]\n",
      "Score: -292\n",
      "[(0, 39), (1, 22), (2, 18), (3, 9), (4, 13)]\n",
      "Score: -287\n",
      "[(0, 54), (1, 17), (2, 9), (3, 13), (4, 8)]\n",
      "Score: -275\n",
      "[(0, 53), (1, 30), (2, 5), (3, 5), (4, 8)]\n",
      "Score: -303\n",
      "[(0, 61), (1, 18), (2, 11), (3, 5), (4, 6)]\n",
      "Score: -307\n",
      "[(0, 53), (1, 20), (2, 15), (3, 8), (4, 5)]\n",
      "Score: -266\n",
      "[(0, 51), (1, 29), (2, 10), (3, 6), (4, 5)]\n",
      "Score: -259\n",
      "[(0, 56), (1, 24), (2, 10), (3, 6), (4, 5)]\n",
      "Score: -289\n",
      "[(0, 43), (1, 20), (2, 15), (3, 12), (4, 11)]\n",
      "Score: -261\n",
      "[(0, 54), (1, 20), (2, 9), (3, 9), (4, 9)]\n",
      "Score: -252\n",
      "[(0, 52), (1, 32), (2, 8), (3, 4), (4, 5)]\n",
      "Score: -232\n",
      "[(0, 47), (1, 33), (2, 7), (3, 7), (4, 7)]\n",
      "Score: -242\n",
      "[(0, 51), (1, 24), (2, 11), (3, 10), (4, 5)]\n",
      "Score: -227\n",
      "[(0, 46), (1, 25), (2, 15), (3, 8), (4, 7)]\n",
      "Score: -312\n",
      "[(0, 52), (1, 21), (2, 17), (3, 6), (4, 5)]\n",
      "Score: -285\n",
      "[(0, 45), (1, 20), (2, 15), (3, 12), (4, 9)]\n",
      "Score: -285\n",
      "[(0, 46), (1, 29), (2, 7), (3, 10), (4, 9)]\n",
      "Score: -250\n",
      "[(0, 55), (1, 22), (2, 12), (3, 9), (4, 3)]\n",
      "Score: 96\n",
      "[(0, 52), (1, 26), (2, 13), (3, 5), (4, 3)]\n",
      "Score: -269\n",
      "[(0, 49), (1, 19), (2, 14), (3, 5), (4, 14)]\n",
      "Score: -275\n",
      "[(0, 45), (1, 26), (2, 15), (3, 10), (4, 5)]\n",
      "Score: -313\n",
      "[(0, 43), (1, 22), (2, 15), (3, 11), (4, 10)]\n",
      "Score: -264\n",
      "[(0, 50), (1, 29), (2, 7), (3, 4), (4, 11)]\n",
      "Score: -297\n",
      "[(0, 54), (1, 18), (2, 11), (3, 10), (4, 8)]\n",
      "Score: -246\n",
      "[(0, 54), (1, 34), (2, 8), (3, 4), (4, 1)]\n",
      "Score: -319\n",
      "[(0, 44), (1, 11), (2, 16), (3, 11), (4, 19)]\n",
      "Score: -281\n",
      "[(0, 57), (1, 19), (2, 11), (3, 7), (4, 7)]\n",
      "Score: -301\n",
      "[(0, 58), (1, 25), (2, 10), (3, 3), (4, 5)]\n",
      "Score: -310\n",
      "[(0, 49), (1, 19), (2, 15), (3, 7), (4, 11)]\n",
      "Score: -295\n",
      "[(0, 49), (1, 22), (2, 9), (3, 10), (4, 11)]\n",
      "Score: -262\n",
      "[(0, 52), (1, 24), (2, 8), (3, 9), (4, 8)]\n",
      "Score: -266\n",
      "[(0, 60), (1, 20), (2, 5), (3, 7), (4, 9)]\n",
      "Score: -273\n",
      "[(0, 59), (1, 20), (2, 6), (3, 8), (4, 8)]\n",
      "Score: -296\n",
      "[(0, 57), (1, 23), (2, 11), (3, 4), (4, 6)]\n",
      "Score: -233\n",
      "[(0, 54), (1, 29), (2, 9), (3, 2), (4, 7)]\n",
      "Score: -248\n",
      "[(0, 60), (1, 29), (2, 6), (3, 4), (4, 2)]\n",
      "Score: -314\n",
      "[(0, 47), (1, 22), (2, 16), (3, 6), (4, 10)]\n",
      "Score: -262\n",
      "[(0, 48), (1, 27), (2, 9), (3, 9), (4, 8)]\n",
      "Score: -268\n",
      "[(0, 58), (1, 29), (2, 3), (3, 5), (4, 6)]\n",
      "Score: -305\n",
      "[(0, 53), (1, 22), (2, 9), (3, 9), (4, 8)]\n",
      "Score: -261\n",
      "[(0, 52), (1, 30), (2, 10), (3, 6), (4, 3)]\n",
      "Score: -279\n",
      "[(0, 47), (1, 32), (2, 5), (3, 7), (4, 10)]\n",
      "Score: -260\n",
      "[(0, 62), (1, 24), (2, 6), (3, 3), (4, 6)]\n",
      "Score: -263\n",
      "[(0, 52), (1, 27), (2, 13), (3, 2), (4, 7)]\n",
      "Score: -294\n",
      "[(0, 48), (1, 27), (2, 10), (3, 8), (4, 8)]\n",
      "Score: -295\n",
      "[(0, 53), (1, 26), (2, 6), (3, 8), (4, 8)]\n",
      "Score: -244\n",
      "[(0, 52), (1, 27), (2, 10), (3, 6), (4, 6)]\n",
      "Score: -302\n",
      "[(0, 50), (1, 24), (2, 9), (3, 12), (4, 6)]\n",
      "Score: -245\n",
      "[(0, 39), (1, 32), (2, 11), (3, 10), (4, 9)]\n",
      "Score: -241\n",
      "[(0, 51), (1, 30), (2, 8), (3, 6), (4, 6)]\n",
      "Score: -252\n",
      "[(0, 62), (1, 21), (2, 9), (3, 6), (4, 3)]\n",
      "Score: -280\n",
      "[(0, 37), (1, 31), (2, 11), (3, 10), (4, 12)]\n",
      "Score: -259\n",
      "[(0, 42), (1, 31), (2, 7), (3, 7), (4, 14)]\n",
      "Score: -262\n",
      "[(0, 47), (1, 31), (2, 11), (3, 6), (4, 6)]\n",
      "Score: -290\n",
      "[(0, 46), (1, 28), (2, 12), (3, 4), (4, 11)]\n",
      "Score: -288\n",
      "[(0, 57), (1, 27), (2, 7), (3, 3), (4, 7)]\n",
      "Score: -300\n",
      "[(0, 50), (1, 26), (2, 12), (3, 2), (4, 11)]\n",
      "Score: -240\n",
      "[(0, 53), (1, 37), (2, 2), (3, 5), (4, 4)]\n",
      "Score: -263\n",
      "[(0, 28), (1, 28), (2, 14), (3, 15), (4, 16)]\n",
      "Score: -273\n",
      "[(0, 53), (1, 34), (2, 4), (3, 3), (4, 7)]\n",
      "Score: -269\n",
      "[(0, 39), (1, 44), (2, 7), (3, 8), (4, 3)]\n",
      "Score: -260\n",
      "[(0, 44), (1, 38), (2, 4), (3, 8), (4, 7)]\n",
      "Score: -272\n",
      "[(0, 47), (1, 36), (2, 9), (3, 3), (4, 6)]\n",
      "Score: -268\n",
      "[(0, 51), (1, 27), (2, 9), (3, 9), (4, 5)]\n",
      "Score: -293\n",
      "[(0, 37), (1, 32), (2, 12), (3, 10), (4, 10)]\n",
      "Score: -8\n",
      "[(0, 31), (1, 31), (2, 8), (3, 9), (4, 9)]\n",
      "Score: -269\n",
      "[(0, 44), (1, 43), (2, 5), (3, 6), (4, 3)]\n",
      "Score: -306\n",
      "[(0, 39), (1, 34), (2, 12), (3, 6), (4, 10)]\n",
      "Score: -317\n",
      "[(0, 26), (1, 43), (2, 16), (3, 3), (4, 13)]\n",
      "Score: -248\n",
      "[(0, 36), (1, 43), (2, 6), (3, 8), (4, 8)]\n",
      "Score: -282\n",
      "[(0, 37), (1, 43), (2, 12), (3, 6), (4, 3)]\n",
      "Score: -286\n",
      "[(0, 35), (1, 41), (2, 12), (3, 4), (4, 9)]\n",
      "Score: -291\n",
      "[(0, 36), (1, 41), (2, 7), (3, 8), (4, 9)]\n",
      "Score: -205\n",
      "[(0, 35), (1, 45), (2, 10), (3, 6), (4, 5)]\n",
      "Score: -256\n",
      "[(0, 43), (1, 41), (2, 7), (3, 6), (4, 4)]\n",
      "Score: -273\n",
      "[(0, 39), (1, 38), (2, 7), (3, 6), (4, 11)]\n",
      "Score: -269\n",
      "[(0, 40), (1, 34), (2, 14), (3, 6), (4, 7)]\n",
      "Score: -285\n",
      "[(0, 44), (1, 31), (2, 11), (3, 9), (4, 6)]\n",
      "Score: -297\n",
      "[(0, 38), (1, 36), (2, 10), (3, 7), (4, 10)]\n",
      "Score: -271\n",
      "[(0, 38), (1, 38), (2, 8), (3, 7), (4, 10)]\n",
      "Score: -288\n",
      "[(0, 35), (1, 40), (2, 13), (3, 6), (4, 7)]\n",
      "Score: -277\n",
      "[(0, 37), (1, 42), (2, 9), (3, 4), (4, 9)]\n",
      "Score: -283\n",
      "[(0, 37), (1, 46), (2, 6), (3, 6), (4, 6)]\n",
      "Score: -255\n",
      "[(0, 40), (1, 36), (2, 14), (3, 4), (4, 7)]\n",
      "Score: -287\n",
      "[(0, 47), (1, 34), (2, 8), (3, 6), (4, 6)]\n",
      "Score: -265\n",
      "[(0, 54), (1, 31), (2, 6), (3, 6), (4, 4)]\n",
      "Score: -264\n",
      "[(0, 36), (1, 46), (2, 9), (3, 6), (4, 4)]\n",
      "Score: -275\n",
      "[(0, 40), (1, 42), (2, 10), (3, 5), (4, 4)]\n",
      "Score: -308\n",
      "[(0, 28), (1, 44), (2, 12), (3, 7), (4, 10)]\n",
      "Score: -274\n",
      "[(0, 41), (1, 39), (2, 7), (3, 6), (4, 8)]\n",
      "Score: -296\n",
      "[(0, 22), (1, 48), (2, 13), (3, 5), (4, 13)]\n",
      "Score: -248\n",
      "[(0, 37), (1, 47), (2, 6), (3, 4), (4, 7)]\n",
      "Score: -288\n",
      "[(0, 32), (1, 42), (2, 8), (3, 11), (4, 8)]\n",
      "Score: -246\n",
      "[(0, 38), (1, 48), (2, 5), (3, 6), (4, 4)]\n",
      "Score: -277\n",
      "[(0, 37), (1, 38), (2, 14), (3, 6), (4, 6)]\n",
      "Score: -258\n",
      "[(0, 29), (1, 61), (2, 5), (3, 1), (4, 5)]\n",
      "Score: -274\n",
      "[(0, 42), (1, 39), (2, 5), (3, 5), (4, 10)]\n",
      "Score: -270\n",
      "[(0, 37), (1, 43), (2, 3), (3, 4), (4, 14)]\n",
      "Score: -270\n",
      "[(0, 33), (1, 47), (2, 10), (3, 3), (4, 8)]\n",
      "Score: -267\n",
      "[(0, 30), (1, 55), (2, 12), (3, 2), (4, 2)]\n",
      "Score: -282\n",
      "[(0, 42), (1, 33), (2, 14), (3, 7), (4, 5)]\n",
      "Score: -279\n",
      "[(0, 29), (1, 46), (2, 12), (3, 6), (4, 8)]\n",
      "Score: -288\n",
      "[(0, 39), (1, 43), (2, 12), (3, 1), (4, 6)]\n",
      "Score: -282\n",
      "[(0, 35), (1, 37), (2, 12), (3, 9), (4, 8)]\n",
      "Score: -272\n",
      "[(0, 32), (1, 43), (2, 11), (3, 9), (4, 6)]\n",
      "Score: -257\n",
      "[(0, 47), (1, 36), (2, 7), (3, 6), (4, 5)]\n",
      "Score: -254\n",
      "[(0, 32), (1, 41), (2, 15), (3, 8), (4, 5)]\n",
      "Score: -252\n",
      "[(0, 51), (1, 33), (2, 8), (3, 1), (4, 8)]\n",
      "Score: -455\n",
      "[(0, 42), (1, 34), (2, 10), (3, 8), (4, 7)]\n",
      "Score: -291\n",
      "[(0, 37), (1, 42), (2, 14), (3, 2), (4, 6)]\n",
      "Score: -286\n",
      "[(0, 42), (1, 36), (2, 10), (3, 6), (4, 7)]\n",
      "Score: -295\n",
      "[(0, 31), (1, 38), (2, 10), (3, 10), (4, 12)]\n",
      "Score: -260\n",
      "[(0, 52), (1, 31), (2, 7), (3, 6), (4, 5)]\n",
      "Score: -267\n",
      "[(0, 40), (1, 41), (2, 8), (3, 8), (4, 4)]\n",
      "Score: -271\n",
      "[(0, 30), (1, 45), (2, 12), (3, 8), (4, 6)]\n",
      "Score: -266\n",
      "[(0, 32), (1, 50), (2, 12), (3, 3), (4, 4)]\n",
      "Score: -255\n",
      "[(0, 46), (1, 39), (2, 6), (3, 4), (4, 6)]\n",
      "Score: -264\n",
      "[(0, 46), (1, 33), (2, 8), (3, 7), (4, 7)]\n",
      "Score: -261\n",
      "[(0, 46), (1, 32), (2, 9), (3, 7), (4, 7)]\n",
      "Score: -94\n",
      "[(0, 38), (1, 16), (2, 10), (3, 2), (4, 1)]\n",
      "Score: -259\n",
      "[(0, 54), (1, 29), (2, 10), (3, 2), (4, 6)]\n",
      "Score: -295\n",
      "[(0, 50), (1, 25), (2, 12), (3, 2), (4, 12)]\n",
      "Score: 75\n",
      "[(0, 13), (1, 3), (2, 3), (3, 5), (4, 2)]\n",
      "Score: -286\n",
      "[(0, 45), (1, 25), (2, 11), (3, 7), (4, 13)]\n",
      "Score: -268\n",
      "[(0, 50), (1, 30), (2, 4), (3, 7), (4, 10)]\n",
      "Score: -250\n",
      "[(0, 47), (1, 26), (2, 6), (3, 15), (4, 7)]\n",
      "Score: -259\n",
      "[(0, 48), (1, 34), (2, 6), (3, 5), (4, 8)]\n",
      "Score: -307\n",
      "[(0, 47), (1, 31), (2, 7), (3, 9), (4, 7)]\n",
      "Score: -330\n",
      "[(0, 43), (1, 23), (2, 20), (3, 6), (4, 9)]\n",
      "Score: -43\n",
      "[(0, 32), (1, 39), (2, 9), (3, 3), (4, 8)]\n",
      "Score: -248\n",
      "[(0, 38), (1, 35), (2, 13), (3, 7), (4, 8)]\n",
      "Score: -237\n",
      "[(0, 48), (1, 39), (2, 8), (3, 2), (4, 4)]\n",
      "Score: -271\n",
      "[(0, 49), (1, 34), (2, 10), (3, 5), (4, 3)]\n",
      "Score: -297\n",
      "[(0, 41), (1, 30), (2, 10), (3, 7), (4, 13)]\n"
     ]
    },
    {
     "name": "stdout",
     "output_type": "stream",
     "text": [
      "Score: -258\n",
      "[(0, 45), (1, 35), (2, 10), (3, 6), (4, 5)]\n",
      "Score: -323\n",
      "[(0, 41), (1, 30), (2, 17), (3, 3), (4, 10)]\n",
      "Score: -245\n",
      "[(0, 48), (1, 35), (2, 7), (3, 3), (4, 8)]\n",
      "Score: -261\n",
      "[(0, 44), (1, 39), (2, 13), (3, 2), (4, 3)]\n",
      "Score: -268\n",
      "[(0, 47), (1, 33), (2, 10), (3, 4), (4, 7)]\n",
      "Score: -276\n",
      "[(0, 53), (1, 30), (2, 8), (3, 6), (4, 4)]\n",
      "Score: -288\n",
      "[(0, 37), (1, 31), (2, 10), (3, 9), (4, 14)]\n",
      "Score: -264\n",
      "[(0, 51), (1, 33), (2, 2), (3, 10), (4, 5)]\n",
      "Score: -283\n",
      "[(0, 47), (1, 22), (2, 17), (3, 10), (4, 5)]\n",
      "Score: -246\n",
      "[(0, 42), (1, 29), (2, 15), (3, 9), (4, 6)]\n",
      "Score: -253\n",
      "[(0, 55), (1, 30), (2, 8), (3, 3), (4, 5)]\n",
      "Score: -239\n",
      "[(0, 48), (1, 37), (2, 4), (3, 8), (4, 4)]\n",
      "Score: -281\n",
      "[(0, 49), (1, 26), (2, 11), (3, 6), (4, 9)]\n",
      "Score: -248\n",
      "[(0, 52), (1, 34), (2, 9), (3, 4), (4, 2)]\n",
      "Score: -256\n",
      "[(0, 43), (1, 34), (2, 8), (3, 8), (4, 8)]\n",
      "Score: -288\n",
      "[(0, 50), (1, 37), (2, 5), (3, 3), (4, 6)]\n",
      "Score: -272\n",
      "[(0, 49), (1, 30), (2, 9), (3, 5), (4, 8)]\n",
      "Score: -280\n",
      "[(0, 40), (1, 34), (2, 13), (3, 9), (4, 5)]\n",
      "Score: -242\n",
      "[(0, 35), (1, 51), (2, 8), (3, 5), (4, 2)]\n",
      "Score: -290\n",
      "[(0, 37), (1, 37), (2, 12), (3, 4), (4, 11)]\n",
      "Score: -277\n",
      "[(0, 38), (1, 43), (2, 7), (3, 8), (4, 5)]\n",
      "Score: -307\n",
      "[(0, 48), (1, 35), (2, 7), (3, 2), (4, 9)]\n",
      "Score: -290\n",
      "[(0, 43), (1, 36), (2, 10), (3, 5), (4, 7)]\n",
      "Score: -257\n",
      "[(0, 38), (1, 46), (2, 5), (3, 6), (4, 6)]\n",
      "Score: -248\n",
      "[(0, 48), (1, 39), (2, 9), (3, 3), (4, 2)]\n",
      "Score: -242\n",
      "[(0, 48), (1, 38), (2, 7), (3, 6), (4, 2)]\n",
      "Score: -263\n",
      "[(0, 44), (1, 33), (2, 10), (3, 8), (4, 6)]\n",
      "Score: -299\n",
      "[(0, 42), (1, 26), (2, 10), (3, 10), (4, 13)]\n",
      "Score: -260\n",
      "[(0, 50), (1, 32), (2, 7), (3, 6), (4, 6)]\n",
      "Score: -286\n",
      "[(0, 49), (1, 23), (2, 12), (3, 6), (4, 11)]\n",
      "Score: -276\n",
      "[(0, 41), (1, 36), (2, 9), (3, 7), (4, 8)]\n",
      "Score: -270\n",
      "[(0, 38), (1, 40), (2, 11), (3, 6), (4, 6)]\n",
      "Score: -268\n",
      "[(0, 41), (1, 35), (2, 8), (3, 6), (4, 11)]\n",
      "Score: -252\n",
      "[(0, 45), (1, 35), (2, 10), (3, 5), (4, 6)]\n",
      "Score: -280\n",
      "[(0, 40), (1, 35), (2, 13), (3, 8), (4, 5)]\n",
      "Score: -280\n",
      "[(0, 45), (1, 29), (2, 14), (3, 5), (4, 8)]\n",
      "Score: -289\n",
      "[(0, 31), (1, 34), (2, 16), (3, 12), (4, 8)]\n",
      "Score: -362\n",
      "[(0, 53), (1, 25), (2, 10), (3, 6), (4, 7)]\n",
      "Score: -252\n",
      "[(0, 55), (1, 31), (2, 5), (3, 1), (4, 9)]\n",
      "Score: -215\n",
      "[(0, 43), (1, 23), (2, 15), (3, 10), (4, 10)]\n",
      "Score: -251\n",
      "[(0, 40), (1, 31), (2, 11), (3, 8), (4, 11)]\n",
      "Score: -308\n",
      "[(0, 38), (1, 30), (2, 15), (3, 8), (4, 10)]\n",
      "Score: -253\n",
      "[(0, 46), (1, 37), (2, 3), (3, 8), (4, 7)]\n",
      "Score: -274\n",
      "[(0, 47), (1, 29), (2, 13), (3, 6), (4, 6)]\n",
      "Score: -281\n",
      "[(0, 40), (1, 34), (2, 8), (3, 7), (4, 12)]\n",
      "Score: -272\n",
      "[(0, 54), (1, 15), (2, 14), (3, 8), (4, 10)]\n",
      "Score: -313\n",
      "[(0, 41), (1, 24), (2, 16), (3, 11), (4, 9)]\n",
      "Score: -243\n",
      "[(0, 48), (1, 31), (2, 10), (3, 7), (4, 5)]\n",
      "Score: -258\n",
      "[(0, 54), (1, 21), (2, 8), (3, 11), (4, 7)]\n",
      "Score: -297\n",
      "[(0, 51), (1, 21), (2, 13), (3, 6), (4, 10)]\n",
      "Score: -247\n",
      "[(0, 54), (1, 33), (2, 9), (4, 5)]\n",
      "Score: -240\n",
      "[(0, 46), (1, 25), (2, 12), (3, 9), (4, 9)]\n",
      "Score: -266\n",
      "[(0, 49), (1, 29), (2, 13), (3, 7), (4, 3)]\n",
      "Score: -229\n",
      "[(0, 52), (1, 28), (2, 14), (3, 5), (4, 2)]\n",
      "Score: -253\n",
      "[(0, 56), (1, 27), (2, 8), (3, 6), (4, 4)]\n",
      "Score: -293\n",
      "[(0, 51), (1, 18), (2, 11), (3, 9), (4, 12)]\n",
      "Score: -303\n",
      "[(0, 52), (1, 23), (2, 15), (3, 2), (4, 9)]\n",
      "Score: -238\n",
      "[(0, 45), (1, 32), (2, 10), (3, 9), (4, 5)]\n",
      "Score: -240\n",
      "[(0, 59), (1, 19), (2, 7), (3, 10), (4, 6)]\n",
      "Score: -285\n",
      "[(0, 44), (1, 26), (2, 13), (3, 5), (4, 13)]\n",
      "Score: -239\n",
      "[(0, 58), (1, 20), (2, 11), (3, 4), (4, 8)]\n",
      "Score: -286\n",
      "[(0, 51), (1, 29), (2, 12), (3, 4), (4, 5)]\n",
      "Score: -296\n",
      "[(0, 43), (1, 27), (2, 17), (3, 8), (4, 6)]\n",
      "Score: -278\n",
      "[(0, 53), (1, 27), (2, 10), (3, 5), (4, 6)]\n",
      "Score: -220\n",
      "[(0, 46), (1, 31), (2, 14), (3, 4), (4, 6)]\n",
      "Score: -281\n",
      "[(0, 46), (1, 22), (2, 14), (3, 10), (4, 9)]\n",
      "Score: -299\n",
      "[(0, 47), (1, 29), (2, 11), (3, 10), (4, 4)]\n",
      "Score: -272\n",
      "[(0, 44), (1, 23), (2, 8), (3, 10), (4, 16)]\n",
      "Score: -259\n",
      "[(0, 52), (1, 37), (2, 8), (3, 3), (4, 1)]\n",
      "Score: -287\n",
      "[(0, 52), (1, 20), (2, 11), (3, 7), (4, 11)]\n",
      "Score: -259\n",
      "[(0, 57), (1, 26), (2, 7), (3, 5), (4, 6)]\n",
      "Score: -239\n",
      "[(0, 55), (1, 30), (2, 8), (3, 7), (4, 1)]\n",
      "Score: -280\n",
      "[(0, 45), (1, 33), (2, 12), (3, 7), (4, 4)]\n",
      "Score: -298\n",
      "[(0, 50), (1, 26), (2, 12), (3, 7), (4, 6)]\n",
      "Score: -300\n",
      "[(0, 52), (1, 18), (2, 12), (3, 12), (4, 7)]\n",
      "Score: -286\n",
      "[(0, 61), (1, 19), (2, 6), (3, 8), (4, 7)]\n",
      "Score: -237\n",
      "[(0, 50), (1, 33), (2, 10), (3, 1), (4, 7)]\n",
      "Score: -309\n",
      "[(0, 49), (1, 22), (2, 18), (3, 5), (4, 7)]\n",
      "Score: -260\n",
      "[(0, 49), (1, 27), (2, 12), (3, 10), (4, 3)]\n",
      "Score: -303\n",
      "[(0, 45), (1, 31), (2, 17), (3, 2), (4, 6)]\n",
      "Score: -275\n",
      "[(0, 49), (1, 24), (2, 15), (3, 5), (4, 8)]\n",
      "Score: -344\n",
      "[(0, 45), (1, 31), (2, 12), (3, 4), (4, 9)]\n",
      "Score: -254\n",
      "[(0, 52), (1, 31), (2, 7), (3, 4), (4, 7)]\n",
      "Score: -273\n",
      "[(0, 60), (1, 14), (2, 12), (3, 13), (4, 2)]\n",
      "Score: 90\n",
      "[(0, 38), (1, 17), (2, 6), (3, 6), (4, 9)]\n",
      "Score: -267\n",
      "[(0, 50), (1, 22), (2, 13), (3, 7), (4, 9)]\n",
      "Score: -270\n",
      "[(0, 52), (1, 29), (2, 9), (3, 9), (4, 2)]\n",
      "Score: -288\n",
      "[(0, 46), (1, 26), (2, 12), (3, 10), (4, 7)]\n",
      "Score: -284\n",
      "[(0, 46), (1, 24), (2, 15), (3, 7), (4, 9)]\n",
      "Score: -259\n",
      "[(0, 57), (1, 20), (2, 11), (3, 6), (4, 7)]\n",
      "Score: -255\n",
      "[(0, 50), (1, 26), (2, 11), (3, 6), (4, 8)]\n",
      "Score: -251\n",
      "[(0, 53), (1, 32), (2, 5), (3, 5), (4, 6)]\n",
      "Score: -283\n",
      "[(0, 55), (1, 28), (2, 12), (3, 3), (4, 3)]\n",
      "Score: -311\n",
      "[(0, 44), (1, 29), (2, 12), (3, 6), (4, 10)]\n",
      "Score: -271\n",
      "[(0, 58), (1, 16), (2, 12), (3, 10), (4, 5)]\n",
      "Score: -355\n",
      "[(0, 55), (1, 25), (2, 13), (3, 6), (4, 2)]\n",
      "Score: 94\n",
      "[(0, 12), (1, 9), (2, 4), (3, 1), (4, 4)]\n",
      "Score: -294\n",
      "[(0, 41), (1, 27), (2, 13), (3, 13), (4, 7)]\n",
      "Score: -282\n",
      "[(0, 55), (1, 25), (2, 10), (3, 4), (4, 7)]\n",
      "Score: -266\n",
      "[(0, 44), (1, 34), (2, 12), (3, 5), (4, 6)]\n",
      "Score: -313\n",
      "[(0, 49), (1, 22), (2, 15), (3, 8), (4, 7)]\n",
      "Score: -298\n",
      "[(0, 42), (1, 22), (2, 20), (3, 11), (4, 6)]\n",
      "Score: -237\n",
      "[(0, 50), (1, 29), (2, 8), (3, 8), (4, 6)]\n",
      "Score: -277\n",
      "[(0, 46), (1, 34), (2, 12), (3, 7), (4, 2)]\n",
      "Score: -281\n",
      "[(0, 51), (1, 24), (2, 7), (3, 12), (4, 7)]\n",
      "Score: -298\n",
      "[(0, 47), (1, 32), (2, 10), (3, 5), (4, 7)]\n",
      "Score: -248\n",
      "[(0, 53), (1, 31), (2, 7), (3, 4), (4, 6)]\n",
      "Score: -281\n",
      "[(0, 45), (1, 24), (2, 17), (3, 9), (4, 6)]\n",
      "Score: -270\n",
      "[(0, 38), (1, 28), (2, 13), (3, 11), (4, 11)]\n",
      "Score: -239\n",
      "[(0, 49), (1, 26), (2, 12), (3, 3), (4, 11)]\n",
      "Score: -311\n",
      "[(0, 42), (1, 23), (2, 10), (3, 16), (4, 10)]\n",
      "Score: -316\n",
      "[(0, 42), (1, 22), (2, 13), (3, 13), (4, 11)]\n",
      "Score: -264\n",
      "[(0, 55), (1, 39), (2, 3), (3, 2), (4, 2)]\n",
      "Score: -248\n",
      "[(0, 45), (1, 29), (2, 9), (3, 10), (4, 8)]\n",
      "Score: 100\n",
      "[(0, 33), (1, 15), (2, 5), (3, 5), (4, 7)]\n",
      "Score: -274\n",
      "[(0, 50), (1, 27), (2, 14), (3, 4), (4, 6)]\n",
      "Score: -276\n",
      "[(0, 59), (1, 25), (2, 11), (3, 3), (4, 3)]\n",
      "Score: -284\n",
      "[(0, 47), (1, 19), (2, 14), (3, 13), (4, 8)]\n",
      "Score: -305\n",
      "[(0, 41), (1, 34), (2, 14), (3, 7), (4, 5)]\n",
      "Score: -211\n",
      "[(0, 55), (1, 29), (2, 7), (3, 4), (4, 6)]\n",
      "Score: -323\n",
      "[(0, 35), (1, 29), (2, 19), (3, 8), (4, 10)]\n",
      "Score: -276\n",
      "[(0, 37), (1, 26), (2, 14), (3, 13), (4, 11)]\n",
      "Score: -278\n",
      "[(0, 43), (1, 30), (2, 13), (3, 11), (4, 4)]\n",
      "Score: -241\n",
      "[(0, 44), (1, 35), (2, 7), (3, 7), (4, 8)]\n",
      "Score: -261\n",
      "[(0, 43), (1, 29), (2, 10), (3, 9), (4, 10)]\n",
      "Score: -305\n",
      "[(0, 40), (1, 31), (2, 15), (3, 12), (4, 3)]\n",
      "Score: -261\n",
      "[(0, 45), (1, 27), (2, 16), (3, 7), (4, 6)]\n",
      "Score: -314\n",
      "[(0, 37), (1, 29), (2, 13), (3, 10), (4, 12)]\n",
      "Score: -304\n",
      "[(0, 53), (1, 23), (2, 16), (3, 5), (4, 4)]\n",
      "Score: -330\n",
      "[(0, 45), (1, 24), (2, 10), (3, 11), (4, 11)]\n",
      "Score: -277\n",
      "[(0, 39), (1, 26), (2, 20), (3, 8), (4, 8)]\n",
      "Score: -272\n",
      "[(0, 58), (1, 20), (2, 12), (3, 6), (4, 5)]\n",
      "Score: -266\n",
      "[(0, 50), (1, 20), (2, 13), (3, 12), (4, 6)]\n",
      "Score: -274\n",
      "[(0, 61), (1, 23), (2, 9), (3, 5), (4, 3)]\n",
      "Score: -309\n",
      "[(0, 43), (1, 22), (2, 12), (3, 10), (4, 14)]\n",
      "Score: -230\n",
      "[(0, 51), (1, 24), (2, 8), (3, 7), (4, 11)]\n",
      "Score: -291\n",
      "[(0, 40), (1, 22), (2, 17), (3, 12), (4, 10)]\n",
      "Score: -269\n",
      "[(0, 50), (1, 29), (2, 6), (3, 2), (4, 14)]\n",
      "Score: -266\n",
      "[(0, 49), (1, 26), (2, 7), (3, 9), (4, 10)]\n",
      "Score: -244\n",
      "[(0, 53), (1, 29), (2, 8), (3, 6), (4, 5)]\n",
      "Score: -285\n",
      "[(0, 50), (1, 25), (2, 15), (3, 5), (4, 6)]\n",
      "Score: -295\n",
      "[(0, 40), (1, 24), (2, 18), (3, 14), (4, 5)]\n",
      "Score: -283\n",
      "[(0, 49), (1, 28), (2, 12), (3, 7), (4, 5)]\n",
      "Score: -270\n",
      "[(0, 49), (1, 23), (2, 13), (3, 9), (4, 7)]\n",
      "Score: -269\n",
      "[(0, 57), (1, 24), (2, 11), (3, 4), (4, 5)]\n",
      "Score: -252\n",
      "[(0, 43), (1, 25), (2, 12), (3, 14), (4, 7)]\n",
      "Score: -292\n",
      "[(0, 48), (1, 29), (2, 12), (3, 4), (4, 8)]\n"
     ]
    },
    {
     "name": "stdout",
     "output_type": "stream",
     "text": [
      "Score: -278\n",
      "[(0, 50), (1, 33), (2, 6), (3, 6), (4, 6)]\n",
      "Score: -249\n",
      "[(0, 50), (1, 31), (2, 12), (3, 4), (4, 4)]\n",
      "Score: -268\n",
      "[(0, 41), (1, 41), (2, 10), (3, 5), (4, 4)]\n",
      "Score: -294\n",
      "[(0, 52), (1, 29), (2, 10), (3, 3), (4, 7)]\n",
      "Score: -269\n",
      "[(0, 49), (1, 30), (2, 9), (3, 9), (4, 4)]\n",
      "Score: -263\n",
      "[(0, 46), (1, 26), (2, 12), (3, 8), (4, 9)]\n",
      "Score: -234\n",
      "[(0, 49), (1, 34), (2, 8), (3, 2), (4, 8)]\n",
      "Score: -273\n",
      "[(0, 50), (1, 26), (2, 13), (3, 7), (4, 5)]\n",
      "Score: -272\n",
      "[(0, 41), (1, 28), (2, 13), (3, 9), (4, 10)]\n",
      "Score: 29\n",
      "[(0, 35), (1, 18), (2, 11), (3, 2), (4, 7)]\n",
      "Score: -303\n",
      "[(0, 45), (1, 23), (2, 16), (3, 6), (4, 11)]\n",
      "Score: -242\n",
      "[(0, 41), (1, 30), (2, 11), (3, 11), (4, 8)]\n",
      "Score: -301\n",
      "[(0, 47), (1, 22), (2, 10), (3, 11), (4, 11)]\n",
      "Score: -239\n",
      "[(0, 47), (1, 34), (2, 8), (3, 6), (4, 6)]\n",
      "Score: -241\n",
      "[(0, 53), (1, 28), (2, 10), (3, 6), (4, 4)]\n",
      "Score: -306\n",
      "[(0, 44), (1, 23), (2, 19), (3, 10), (4, 5)]\n",
      "Score: -300\n",
      "[(0, 56), (1, 21), (2, 11), (3, 9), (4, 4)]\n",
      "Score: -269\n",
      "[(0, 51), (1, 34), (2, 11), (3, 3), (4, 2)]\n",
      "Score: -263\n",
      "[(0, 56), (1, 25), (2, 2), (3, 8), (4, 10)]\n",
      "Score: -301\n",
      "[(0, 45), (1, 21), (2, 14), (3, 11), (4, 10)]\n",
      "Score: -274\n",
      "[(0, 55), (1, 24), (2, 8), (3, 7), (4, 7)]\n",
      "Score: -268\n",
      "[(0, 56), (1, 19), (2, 8), (3, 8), (4, 10)]\n",
      "Score: -259\n",
      "[(0, 56), (1, 25), (2, 8), (3, 4), (4, 8)]\n",
      "Score: -297\n",
      "[(0, 45), (1, 30), (2, 11), (3, 8), (4, 7)]\n",
      "Score: -281\n",
      "[(0, 48), (1, 31), (2, 12), (3, 5), (4, 5)]\n",
      "Score: -281\n",
      "[(0, 47), (1, 30), (2, 9), (3, 8), (4, 7)]\n",
      "Score: -284\n",
      "[(0, 43), (1, 37), (2, 9), (3, 6), (4, 6)]\n",
      "Score: -286\n",
      "[(0, 56), (1, 16), (2, 8), (3, 12), (4, 9)]\n",
      "Score: -293\n",
      "[(0, 50), (1, 23), (2, 15), (3, 8), (4, 5)]\n",
      "Score: -266\n",
      "[(0, 49), (1, 31), (2, 8), (3, 7), (4, 6)]\n",
      "Score: -256\n",
      "[(0, 41), (1, 36), (2, 11), (3, 5), (4, 8)]\n",
      "Score: -269\n",
      "[(0, 39), (1, 40), (2, 11), (3, 5), (4, 6)]\n",
      "Score: -403\n",
      "[(0, 28), (1, 49), (2, 13), (3, 6), (4, 5)]\n",
      "Score: -291\n",
      "[(0, 38), (1, 37), (2, 15), (3, 4), (4, 7)]\n",
      "Score: -266\n",
      "[(0, 48), (1, 34), (2, 11), (3, 2), (4, 6)]\n",
      "Score: -273\n",
      "[(0, 53), (1, 22), (2, 11), (3, 12), (4, 3)]\n",
      "Score: -297\n",
      "[(0, 44), (1, 28), (2, 12), (3, 9), (4, 8)]\n",
      "Score: -281\n",
      "[(0, 55), (1, 19), (2, 10), (3, 9), (4, 8)]\n",
      "Score: -272\n",
      "[(0, 48), (1, 24), (2, 9), (3, 12), (4, 8)]\n",
      "Score: -279\n",
      "[(0, 56), (1, 18), (2, 11), (3, 6), (4, 10)]\n",
      "Score: -255\n",
      "[(0, 56), (1, 26), (2, 10), (3, 3), (4, 6)]\n",
      "Score: -300\n",
      "[(0, 46), (1, 25), (2, 13), (3, 8), (4, 9)]\n",
      "Score: -291\n",
      "[(0, 38), (1, 35), (2, 13), (3, 9), (4, 6)]\n",
      "Score: -245\n",
      "[(0, 56), (1, 29), (2, 9), (3, 4), (4, 3)]\n",
      "Score: -248\n",
      "[(0, 45), (1, 34), (2, 11), (3, 7), (4, 4)]\n",
      "Score: -338\n",
      "[(0, 41), (1, 19), (2, 13), (3, 14), (4, 14)]\n",
      "Score: -275\n",
      "[(0, 50), (1, 29), (2, 4), (3, 8), (4, 10)]\n",
      "Score: -276\n",
      "[(0, 53), (1, 22), (2, 10), (3, 8), (4, 8)]\n",
      "Score: -225\n",
      "[(0, 58), (1, 24), (2, 11), (3, 3), (4, 5)]\n",
      "Score: -311\n",
      "[(0, 42), (1, 26), (2, 16), (3, 6), (4, 11)]\n",
      "Score: -289\n",
      "[(0, 44), (1, 32), (2, 13), (3, 4), (4, 8)]\n",
      "Score: -275\n",
      "[(0, 51), (1, 25), (2, 10), (3, 8), (4, 7)]\n",
      "Score: -277\n",
      "[(0, 56), (1, 27), (2, 8), (3, 3), (4, 7)]\n",
      "Score: -294\n",
      "[(0, 52), (1, 26), (2, 7), (3, 5), (4, 11)]\n",
      "Score: -322\n",
      "[(0, 46), (1, 15), (2, 22), (3, 6), (4, 12)]\n",
      "Score: -257\n",
      "[(0, 43), (1, 27), (2, 13), (3, 10), (4, 8)]\n",
      "Score: -239\n",
      "[(0, 50), (1, 33), (2, 10), (3, 6), (4, 2)]\n",
      "Score: -305\n",
      "[(0, 48), (1, 28), (2, 7), (3, 5), (4, 13)]\n",
      "Score: -269\n",
      "[(0, 37), (1, 28), (2, 13), (3, 9), (4, 14)]\n",
      "Score: -270\n",
      "[(0, 48), (1, 24), (2, 13), (3, 9), (4, 7)]\n",
      "Score: -307\n",
      "[(0, 53), (1, 21), (2, 10), (3, 3), (4, 14)]\n",
      "Score: -294\n",
      "[(0, 57), (1, 21), (2, 8), (3, 5), (4, 10)]\n",
      "Score: -275\n",
      "[(0, 51), (1, 21), (2, 16), (3, 7), (4, 6)]\n",
      "Score: -250\n",
      "[(0, 47), (1, 23), (2, 9), (3, 12), (4, 10)]\n",
      "Score: -294\n",
      "[(0, 50), (1, 18), (2, 17), (3, 4), (4, 12)]\n",
      "Score: -259\n",
      "[(0, 48), (1, 31), (2, 16), (3, 2), (4, 4)]\n",
      "Score: -261\n",
      "[(0, 67), (1, 17), (2, 9), (3, 6), (4, 2)]\n",
      "Score: -244\n",
      "[(0, 58), (1, 20), (2, 8), (3, 7), (4, 8)]\n",
      "Score: -309\n",
      "[(0, 53), (1, 24), (2, 11), (3, 6), (4, 7)]\n",
      "Score: -268\n",
      "[(0, 61), (1, 20), (2, 12), (3, 5), (4, 3)]\n",
      "Score: -268\n",
      "[(0, 43), (1, 33), (2, 10), (3, 11), (4, 4)]\n",
      "Score: -252\n",
      "[(0, 43), (1, 25), (2, 17), (3, 9), (4, 7)]\n",
      "Score: -298\n",
      "[(0, 50), (1, 31), (2, 15), (3, 3), (4, 2)]\n",
      "Score: -295\n",
      "[(0, 51), (1, 29), (2, 13), (3, 6), (4, 2)]\n",
      "Score: -334\n",
      "[(0, 39), (1, 27), (2, 18), (3, 8), (4, 9)]\n",
      "Score: -299\n",
      "[(0, 46), (1, 25), (2, 16), (3, 8), (4, 6)]\n",
      "Score: -253\n",
      "[(0, 40), (1, 33), (2, 10), (3, 10), (4, 8)]\n",
      "Score: -305\n",
      "[(0, 53), (1, 24), (2, 12), (3, 2), (4, 10)]\n",
      "Score: -246\n",
      "[(0, 52), (1, 23), (2, 19), (3, 3), (4, 4)]\n",
      "Score: -286\n",
      "[(0, 45), (1, 20), (2, 16), (3, 8), (4, 12)]\n",
      "Score: -287\n",
      "[(0, 51), (1, 15), (2, 16), (3, 13), (4, 6)]\n",
      "Score: -315\n",
      "[(0, 49), (1, 24), (2, 13), (3, 7), (4, 8)]\n",
      "Score: -275\n",
      "[(0, 63), (1, 18), (2, 8), (3, 6), (4, 6)]\n",
      "Score: -245\n",
      "[(0, 48), (1, 21), (2, 16), (3, 10), (4, 6)]\n",
      "Score: -321\n",
      "[(0, 43), (1, 22), (2, 15), (3, 5), (4, 16)]\n",
      "Score: -284\n",
      "[(0, 54), (1, 16), (2, 10), (3, 10), (4, 11)]\n",
      "Score: -277\n",
      "[(0, 44), (1, 19), (2, 10), (3, 13), (4, 15)]\n",
      "Score: -285\n",
      "[(0, 49), (1, 20), (2, 15), (3, 6), (4, 11)]\n",
      "Score: -318\n",
      "[(0, 50), (1, 17), (2, 15), (3, 7), (4, 12)]\n",
      "Score: -290\n",
      "[(0, 53), (1, 21), (2, 10), (3, 10), (4, 7)]\n",
      "Score: -258\n",
      "[(0, 55), (1, 30), (2, 7), (3, 1), (4, 8)]\n",
      "Score: -316\n",
      "[(0, 46), (1, 21), (2, 18), (3, 8), (4, 8)]\n",
      "Score: -262\n",
      "[(0, 54), (1, 19), (2, 15), (3, 5), (4, 8)]\n",
      "Score: -314\n",
      "[(0, 49), (1, 19), (2, 16), (3, 8), (4, 9)]\n",
      "Score: -245\n",
      "[(0, 53), (1, 19), (2, 11), (3, 10), (4, 8)]\n",
      "Score: -301\n",
      "[(0, 47), (1, 24), (2, 12), (3, 12), (4, 6)]\n",
      "Score: -330\n",
      "[(0, 40), (1, 24), (2, 18), (3, 8), (4, 11)]\n",
      "Score: 43\n",
      "[(0, 32), (1, 10), (2, 6), (3, 4), (4, 6)]\n",
      "Score: -251\n",
      "[(0, 50), (1, 24), (2, 12), (3, 7), (4, 8)]\n",
      "Score: -259\n",
      "[(0, 60), (1, 17), (2, 8), (3, 9), (4, 7)]\n",
      "Score: -271\n",
      "[(0, 53), (1, 21), (2, 10), (3, 7), (4, 10)]\n",
      "Score: -261\n",
      "[(0, 58), (1, 23), (2, 7), (3, 8), (4, 5)]\n",
      "Score: -303\n",
      "[(0, 44), (1, 23), (2, 18), (3, 10), (4, 6)]\n",
      "Score: -283\n",
      "[(0, 53), (1, 20), (2, 13), (3, 13), (4, 2)]\n",
      "Score: -275\n",
      "[(0, 52), (1, 24), (2, 15), (3, 5), (4, 5)]\n",
      "Score: -307\n",
      "[(0, 53), (1, 20), (2, 16), (3, 6), (4, 6)]\n",
      "Score: -341\n",
      "[(0, 54), (1, 17), (2, 15), (3, 6), (4, 9)]\n",
      "Score: -293\n",
      "[(0, 56), (1, 17), (2, 11), (3, 13), (4, 4)]\n",
      "Score: -277\n",
      "[(0, 41), (1, 26), (2, 14), (3, 7), (4, 13)]\n",
      "Score: -285\n",
      "[(0, 58), (1, 23), (2, 10), (3, 5), (4, 5)]\n",
      "Score: -274\n",
      "[(0, 55), (1, 20), (2, 14), (3, 6), (4, 6)]\n",
      "Score: -295\n",
      "[(0, 40), (1, 21), (2, 20), (3, 11), (4, 9)]\n",
      "Score: -263\n",
      "[(0, 53), (1, 23), (2, 13), (3, 8), (4, 4)]\n",
      "Score: 94\n",
      "[(0, 11), (1, 1), (2, 2), (3, 1), (4, 1)]\n",
      "Score: -259\n",
      "[(0, 53), (1, 25), (2, 9), (3, 5), (4, 9)]\n",
      "Score: -252\n",
      "[(0, 57), (1, 19), (2, 11), (3, 8), (4, 6)]\n",
      "Score: -402\n",
      "[(0, 55), (1, 17), (2, 8), (3, 10), (4, 11)]\n",
      "Score: -301\n",
      "[(0, 53), (1, 26), (2, 12), (3, 7), (4, 3)]\n",
      "Score: 82\n",
      "[(0, 37), (1, 13), (2, 10), (3, 10), (4, 11)]\n",
      "Score: -285\n",
      "[(0, 56), (1, 18), (2, 12), (3, 7), (4, 8)]\n",
      "Score: -259\n",
      "[(0, 62), (1, 17), (2, 10), (3, 6), (4, 6)]\n",
      "Score: -251\n",
      "[(0, 49), (1, 22), (2, 14), (3, 4), (4, 12)]\n",
      "Score: -307\n",
      "[(0, 53), (1, 23), (2, 14), (3, 5), (4, 6)]\n",
      "Score: -312\n",
      "[(0, 46), (1, 14), (2, 17), (3, 11), (4, 13)]\n",
      "Score: -269\n",
      "[(0, 47), (1, 24), (2, 12), (3, 6), (4, 12)]\n",
      "Score: -254\n",
      "[(0, 48), (1, 24), (2, 12), (3, 9), (4, 8)]\n",
      "Score: -240\n",
      "[(0, 59), (1, 17), (2, 11), (3, 5), (4, 9)]\n",
      "Score: -310\n",
      "[(0, 51), (1, 19), (2, 16), (3, 9), (4, 6)]\n",
      "Score: -291\n",
      "[(0, 59), (1, 14), (2, 13), (3, 12), (4, 3)]\n",
      "Score: -307\n",
      "[(0, 51), (1, 20), (2, 12), (3, 6), (4, 12)]\n",
      "Score: -310\n",
      "[(0, 52), (1, 15), (2, 20), (3, 7), (4, 7)]\n",
      "Score: -302\n",
      "[(0, 46), (1, 16), (2, 21), (3, 11), (4, 7)]\n",
      "Score: 140\n",
      "[(0, 18), (1, 3), (2, 2), (3, 2), (4, 1)]\n",
      "Score: -288\n",
      "[(0, 56), (1, 22), (2, 10), (3, 5), (4, 8)]\n",
      "Score: -282\n",
      "[(0, 58), (1, 19), (2, 14), (3, 8), (4, 2)]\n",
      "Score: -304\n",
      "[(0, 48), (1, 24), (2, 16), (3, 4), (4, 9)]\n",
      "Score: -300\n",
      "[(0, 54), (1, 22), (2, 13), (3, 9), (4, 3)]\n",
      "Score: -289\n",
      "[(0, 44), (1, 17), (2, 14), (3, 9), (4, 17)]\n",
      "Score: -285\n",
      "[(0, 48), (1, 17), (2, 21), (3, 5), (4, 10)]\n",
      "Score: -289\n",
      "[(0, 54), (1, 18), (2, 8), (3, 13), (4, 8)]\n",
      "Score: -304\n",
      "[(0, 55), (1, 17), (2, 15), (3, 10), (4, 4)]\n",
      "Score: -306\n",
      "[(0, 50), (1, 19), (2, 16), (3, 9), (4, 7)]\n",
      "Score: -248\n",
      "[(0, 58), (1, 14), (2, 12), (3, 7), (4, 10)]\n",
      "Score: -323\n",
      "[(0, 48), (1, 21), (2, 19), (3, 10), (4, 3)]\n",
      "Score: -292\n",
      "[(0, 46), (1, 20), (2, 12), (3, 9), (4, 14)]\n",
      "Score: -309\n",
      "[(0, 52), (1, 17), (2, 8), (3, 10), (4, 14)]\n"
     ]
    },
    {
     "name": "stdout",
     "output_type": "stream",
     "text": [
      "Score: -292\n",
      "[(0, 43), (1, 21), (2, 15), (3, 5), (4, 17)]\n",
      "Score: -272\n",
      "[(0, 50), (1, 15), (2, 18), (3, 13), (4, 5)]\n",
      "Score: -323\n",
      "[(0, 54), (1, 14), (2, 19), (3, 5), (4, 9)]\n",
      "Score: -253\n",
      "[(0, 48), (1, 25), (2, 14), (3, 7), (4, 7)]\n",
      "Score: -317\n",
      "[(0, 49), (1, 18), (2, 15), (3, 10), (4, 9)]\n",
      "Score: -282\n",
      "[(0, 60), (1, 13), (2, 12), (3, 9), (4, 7)]\n",
      "Score: -285\n",
      "[(0, 60), (1, 16), (2, 13), (3, 6), (4, 6)]\n",
      "Score: -302\n",
      "[(0, 48), (1, 19), (2, 14), (3, 12), (4, 8)]\n",
      "Score: -289\n",
      "[(0, 64), (1, 15), (2, 9), (3, 8), (4, 5)]\n",
      "Score: -235\n",
      "[(0, 52), (1, 19), (2, 15), (3, 7), (4, 8)]\n",
      "Score: -243\n",
      "[(0, 57), (1, 22), (2, 6), (3, 13), (4, 3)]\n",
      "Score: -272\n",
      "[(0, 58), (1, 12), (2, 10), (3, 8), (4, 13)]\n",
      "Score: -294\n",
      "[(0, 60), (1, 8), (2, 16), (3, 11), (4, 6)]\n",
      "Score: -275\n",
      "[(0, 57), (1, 16), (2, 15), (3, 6), (4, 7)]\n",
      "Score: -280\n",
      "[(0, 59), (1, 14), (2, 15), (3, 7), (4, 6)]\n",
      "Score: -299\n",
      "[(0, 61), (1, 11), (2, 13), (3, 10), (4, 6)]\n",
      "Score: -293\n",
      "[(0, 56), (1, 15), (2, 8), (3, 12), (4, 10)]\n",
      "Score: -255\n",
      "[(0, 58), (1, 23), (2, 9), (3, 7), (4, 4)]\n",
      "Score: -309\n",
      "[(0, 54), (1, 15), (2, 9), (3, 11), (4, 12)]\n",
      "Score: -265\n",
      "[(0, 56), (1, 16), (2, 10), (3, 9), (4, 10)]\n",
      "Score: 64\n",
      "[(0, 39), (1, 21), (2, 7), (3, 11), (4, 9)]\n",
      "Score: -257\n",
      "[(0, 61), (1, 14), (2, 11), (3, 12), (4, 3)]\n",
      "Score: -295\n",
      "[(0, 51), (1, 15), (2, 11), (3, 13), (4, 11)]\n",
      "Score: -246\n",
      "[(0, 54), (1, 22), (2, 11), (3, 8), (4, 6)]\n",
      "Score: -263\n",
      "[(0, 54), (1, 14), (2, 15), (3, 10), (4, 8)]\n",
      "Score: -275\n",
      "[(0, 54), (1, 16), (2, 13), (3, 11), (4, 7)]\n",
      "Score: -296\n",
      "[(0, 55), (1, 18), (2, 12), (3, 7), (4, 9)]\n",
      "Score: -281\n",
      "[(0, 52), (1, 19), (2, 15), (3, 5), (4, 10)]\n",
      "Score: -335\n",
      "[(0, 44), (1, 16), (2, 14), (3, 12), (4, 15)]\n",
      "Score: -246\n",
      "[(0, 52), (1, 16), (2, 13), (3, 7), (4, 13)]\n",
      "Score: 112\n",
      "[(0, 30), (1, 7), (2, 2), (4, 2)]\n",
      "Score: -245\n",
      "[(0, 60), (1, 15), (2, 11), (3, 9), (4, 6)]\n",
      "Score: -285\n",
      "[(0, 54), (1, 22), (2, 8), (3, 9), (4, 8)]\n",
      "Score: -280\n",
      "[(0, 57), (1, 21), (2, 10), (3, 4), (4, 9)]\n",
      "Score: -302\n",
      "[(0, 46), (1, 19), (2, 13), (3, 12), (4, 11)]\n",
      "Score: -305\n",
      "[(0, 57), (1, 15), (2, 9), (3, 7), (4, 13)]\n",
      "Score: -294\n",
      "[(0, 54), (1, 12), (2, 14), (3, 13), (4, 8)]\n",
      "Score: -328\n",
      "[(0, 54), (1, 18), (2, 18), (3, 5), (4, 6)]\n",
      "Score: -314\n",
      "[(0, 42), (1, 14), (2, 15), (3, 11), (4, 19)]\n",
      "Score: -286\n",
      "[(0, 47), (1, 19), (2, 14), (3, 9), (4, 12)]\n",
      "Score: -316\n",
      "[(0, 49), (1, 18), (2, 20), (3, 9), (4, 5)]\n",
      "Score: -279\n",
      "[(0, 54), (1, 17), (2, 14), (3, 10), (4, 6)]\n",
      "Score: -266\n",
      "[(0, 50), (1, 15), (2, 14), (3, 12), (4, 10)]\n",
      "Score: -261\n",
      "[(0, 58), (1, 22), (2, 10), (3, 7), (4, 4)]\n",
      "Score: -268\n",
      "[(0, 59), (1, 16), (2, 14), (3, 6), (4, 6)]\n",
      "Score: -265\n",
      "[(0, 65), (1, 14), (2, 9), (3, 3), (4, 10)]\n",
      "Score: -306\n",
      "[(0, 50), (1, 18), (2, 16), (3, 6), (4, 11)]\n",
      "Score: -328\n",
      "[(0, 43), (1, 11), (2, 15), (3, 12), (4, 20)]\n",
      "Score: -304\n",
      "[(0, 57), (1, 17), (2, 11), (3, 7), (4, 9)]\n",
      "Score: -294\n",
      "[(0, 59), (1, 17), (2, 9), (3, 4), (4, 12)]\n",
      "Score: -301\n",
      "[(0, 62), (1, 12), (2, 10), (3, 6), (4, 11)]\n",
      "Score: 132\n",
      "[(0, 43), (1, 12), (2, 8), (3, 2), (4, 6)]\n",
      "Score: -243\n",
      "[(0, 47), (1, 23), (2, 11), (3, 8), (4, 12)]\n",
      "Score: -293\n",
      "[(0, 46), (1, 12), (2, 20), (3, 13), (4, 10)]\n",
      "Score: -304\n",
      "[(0, 54), (1, 17), (2, 13), (3, 6), (4, 11)]\n",
      "Score: -291\n",
      "[(0, 59), (1, 10), (2, 11), (3, 10), (4, 11)]\n",
      "Score: -282\n",
      "[(0, 52), (1, 20), (2, 7), (3, 14), (4, 8)]\n",
      "Score: -308\n",
      "[(0, 47), (1, 17), (2, 16), (3, 11), (4, 10)]\n",
      "Score: -249\n",
      "[(0, 59), (1, 16), (2, 10), (3, 8), (4, 8)]\n",
      "Score: -286\n",
      "[(0, 55), (1, 13), (2, 15), (3, 10), (4, 8)]\n",
      "Score: -287\n",
      "[(0, 57), (1, 19), (2, 9), (3, 7), (4, 9)]\n",
      "Score: -321\n",
      "[(0, 54), (1, 11), (2, 17), (3, 6), (4, 13)]\n",
      "Score: 134\n",
      "[(0, 12), (1, 3), (2, 2), (3, 4), (4, 4)]\n",
      "Score: -221\n",
      "[(0, 73), (1, 14), (2, 8), (3, 6)]\n",
      "Score: -271\n",
      "[(0, 62), (1, 11), (2, 12), (3, 9), (4, 7)]\n",
      "Score: -283\n",
      "[(0, 57), (1, 20), (2, 11), (3, 7), (4, 6)]\n",
      "Score: -302\n",
      "[(0, 51), (1, 17), (2, 13), (3, 6), (4, 14)]\n",
      "Score: -345\n",
      "[(0, 52), (1, 9), (2, 23), (3, 9), (4, 8)]\n",
      "Score: -295\n",
      "[(0, 63), (1, 14), (2, 8), (3, 7), (4, 9)]\n",
      "Score: -263\n",
      "[(0, 63), (1, 19), (2, 9), (3, 7), (4, 3)]\n",
      "Score: -284\n",
      "[(0, 58), (1, 18), (2, 11), (3, 5), (4, 9)]\n",
      "Score: -263\n",
      "[(0, 62), (1, 15), (2, 12), (3, 9), (4, 3)]\n",
      "Score: -289\n",
      "[(0, 64), (1, 15), (2, 9), (3, 9), (4, 4)]\n",
      "Score: -298\n",
      "[(0, 55), (1, 15), (2, 15), (3, 6), (4, 10)]\n",
      "Score: -256\n",
      "[(0, 56), (1, 18), (2, 9), (3, 10), (4, 8)]\n",
      "Score: -271\n",
      "[(0, 62), (1, 17), (2, 9), (3, 7), (4, 6)]\n",
      "Score: -257\n",
      "[(0, 54), (1, 15), (2, 14), (3, 8), (4, 10)]\n",
      "Score: -282\n",
      "[(0, 58), (1, 16), (2, 10), (3, 7), (4, 10)]\n",
      "Score: -269\n",
      "[(0, 52), (1, 18), (2, 8), (3, 12), (4, 11)]\n",
      "Score: -305\n",
      "[(0, 52), (1, 20), (2, 13), (3, 9), (4, 7)]\n",
      "Score: -294\n",
      "[(0, 56), (1, 18), (2, 11), (3, 6), (4, 10)]\n",
      "Score: -303\n",
      "[(0, 54), (1, 20), (2, 11), (3, 9), (4, 7)]\n",
      "Score: -270\n",
      "[(0, 64), (1, 10), (2, 10), (3, 13), (4, 4)]\n",
      "Score: -260\n",
      "[(0, 53), (1, 22), (2, 5), (3, 11), (4, 10)]\n",
      "Score: -284\n",
      "[(0, 55), (1, 18), (2, 13), (3, 7), (4, 8)]\n",
      "Score: -283\n",
      "[(0, 45), (1, 24), (2, 19), (3, 4), (4, 9)]\n",
      "Score: -317\n",
      "[(0, 55), (1, 14), (2, 14), (3, 7), (4, 11)]\n",
      "Score: -294\n",
      "[(0, 62), (1, 14), (2, 8), (3, 9), (4, 8)]\n",
      "Score: -277\n",
      "[(0, 57), (1, 15), (2, 13), (3, 7), (4, 9)]\n",
      "Score: -287\n",
      "[(0, 54), (1, 15), (2, 15), (3, 8), (4, 9)]\n",
      "Score: -263\n",
      "[(0, 51), (1, 22), (2, 13), (3, 7), (4, 8)]\n",
      "Score: -291\n",
      "[(0, 49), (1, 15), (2, 13), (3, 10), (4, 14)]\n",
      "Score: -276\n",
      "[(0, 63), (1, 13), (2, 12), (3, 3), (4, 10)]\n",
      "Score: -285\n",
      "[(0, 57), (1, 14), (2, 14), (3, 6), (4, 10)]\n",
      "Score: -307\n",
      "[(0, 56), (1, 17), (2, 11), (3, 7), (4, 10)]\n",
      "Score: -269\n",
      "[(0, 70), (1, 11), (2, 12), (3, 6), (4, 2)]\n",
      "Score: -284\n",
      "[(0, 59), (1, 15), (2, 12), (3, 6), (4, 9)]\n",
      "Score: -281\n",
      "[(0, 59), (1, 17), (2, 9), (3, 6), (4, 10)]\n",
      "Score: -287\n",
      "[(0, 61), (1, 16), (2, 9), (3, 7), (4, 8)]\n",
      "Score: -283\n",
      "[(0, 65), (1, 16), (2, 9), (3, 5), (4, 6)]\n",
      "Score: -314\n",
      "[(0, 59), (1, 13), (2, 17), (3, 7), (4, 5)]\n",
      "Score: -276\n",
      "[(0, 53), (1, 16), (2, 15), (3, 8), (4, 9)]\n",
      "Score: -259\n",
      "[(0, 48), (1, 20), (2, 12), (3, 7), (4, 14)]\n",
      "Score: -283\n",
      "[(0, 55), (1, 17), (2, 12), (3, 8), (4, 9)]\n",
      "Score: -258\n",
      "[(0, 57), (1, 16), (2, 11), (3, 8), (4, 9)]\n",
      "Score: -269\n",
      "[(0, 64), (1, 10), (2, 10), (3, 11), (4, 6)]\n",
      "Score: -287\n",
      "[(0, 61), (1, 18), (2, 9), (3, 7), (4, 6)]\n",
      "Score: -271\n",
      "[(0, 57), (1, 14), (2, 13), (3, 7), (4, 10)]\n",
      "Score: -258\n",
      "[(0, 67), (1, 15), (2, 7), (3, 8), (4, 4)]\n",
      "Score: -255\n",
      "[(0, 57), (1, 17), (2, 14), (3, 6), (4, 7)]\n",
      "Score: -274\n",
      "[(0, 53), (1, 19), (2, 9), (3, 7), (4, 13)]\n",
      "Score: -288\n",
      "[(0, 64), (1, 8), (2, 9), (3, 9), (4, 11)]\n",
      "Score: -296\n",
      "[(0, 58), (1, 11), (2, 15), (3, 5), (4, 12)]\n",
      "Score: -311\n",
      "[(0, 52), (1, 16), (2, 15), (3, 6), (4, 12)]\n",
      "Score: -265\n",
      "[(0, 53), (1, 20), (2, 17), (3, 2), (4, 9)]\n",
      "Score: -317\n",
      "[(0, 52), (1, 16), (2, 11), (3, 7), (4, 15)]\n",
      "Score: -281\n",
      "[(0, 60), (1, 17), (2, 11), (3, 7), (4, 6)]\n",
      "Score: -273\n",
      "[(0, 63), (1, 16), (2, 7), (3, 8), (4, 7)]\n",
      "Score: -279\n",
      "[(0, 53), (1, 20), (2, 11), (3, 7), (4, 10)]\n",
      "Score: -317\n",
      "[(0, 57), (1, 18), (2, 13), (3, 5), (4, 8)]\n",
      "Score: -269\n",
      "[(0, 53), (1, 16), (2, 10), (3, 10), (4, 12)]\n",
      "Score: -238\n",
      "[(0, 47), (1, 17), (2, 15), (3, 8), (4, 14)]\n",
      "Score: -234\n",
      "[(0, 64), (1, 13), (2, 9), (3, 7), (4, 8)]\n",
      "Score: -327\n",
      "[(0, 42), (1, 14), (2, 23), (3, 10), (4, 12)]\n",
      "Score: -253\n",
      "[(0, 49), (1, 16), (2, 13), (3, 11), (4, 12)]\n",
      "Score: 21\n",
      "[(0, 14), (1, 2), (2, 2), (3, 1), (4, 2)]\n",
      "Score: -325\n",
      "[(0, 56), (1, 16), (2, 12), (3, 8), (4, 9)]\n",
      "Score: -258\n",
      "[(0, 66), (1, 15), (2, 7), (3, 6), (4, 7)]\n",
      "Score: -283\n",
      "[(0, 61), (1, 14), (2, 6), (3, 10), (4, 10)]\n",
      "Score: -326\n",
      "[(0, 49), (1, 13), (2, 17), (3, 10), (4, 12)]\n",
      "Score: -300\n",
      "[(0, 54), (1, 24), (2, 10), (3, 9), (4, 4)]\n",
      "Score: -277\n",
      "[(0, 59), (1, 10), (2, 11), (3, 8), (4, 13)]\n",
      "Score: -312\n",
      "[(0, 54), (1, 14), (2, 12), (3, 8), (4, 13)]\n",
      "Score: -288\n",
      "[(0, 50), (1, 16), (2, 15), (3, 10), (4, 10)]\n",
      "Score: -294\n",
      "[(0, 52), (1, 20), (2, 14), (3, 5), (4, 10)]\n",
      "Score: 127\n",
      "[(0, 12), (1, 2), (2, 2), (3, 4), (4, 6)]\n",
      "Score: -297\n",
      "[(0, 64), (1, 11), (2, 10), (3, 9), (4, 7)]\n",
      "Score: -285\n",
      "[(0, 55), (1, 16), (2, 8), (3, 11), (4, 11)]\n",
      "Score: -322\n",
      "[(0, 52), (1, 14), (2, 12), (3, 10), (4, 13)]\n",
      "Score: -308\n",
      "[(0, 53), (1, 15), (2, 19), (3, 9), (4, 5)]\n",
      "Score: -271\n",
      "[(0, 57), (1, 13), (2, 7), (3, 9), (4, 15)]\n",
      "Score: -48\n",
      "[(0, 25), (1, 4), (2, 5), (3, 1), (4, 3)]\n",
      "Score: -279\n",
      "[(0, 58), (1, 17), (2, 13), (3, 4), (4, 9)]\n",
      "Score: -288\n",
      "[(0, 56), (1, 12), (2, 11), (3, 10), (4, 12)]\n",
      "Score: -288\n",
      "[(0, 56), (1, 13), (2, 10), (3, 10), (4, 12)]\n",
      "Score: -249\n",
      "[(0, 52), (1, 12), (2, 14), (3, 15), (4, 8)]\n"
     ]
    },
    {
     "name": "stdout",
     "output_type": "stream",
     "text": [
      "Score: -289\n",
      "[(0, 58), (1, 11), (2, 8), (3, 10), (4, 14)]\n",
      "Score: 34\n",
      "[(0, 17), (1, 6), (2, 12), (3, 8), (4, 12)]\n",
      "Score: -307\n",
      "[(0, 46), (1, 19), (2, 12), (3, 12), (4, 12)]\n",
      "Score: -311\n",
      "[(0, 45), (1, 18), (2, 19), (3, 11), (4, 8)]\n",
      "Score: -290\n",
      "[(0, 57), (1, 13), (2, 14), (3, 12), (4, 5)]\n",
      "Score: -299\n",
      "[(0, 58), (1, 12), (2, 16), (3, 7), (4, 8)]\n",
      "Score: -321\n",
      "[(0, 52), (1, 15), (2, 15), (3, 10), (4, 9)]\n",
      "Score: -292\n",
      "[(0, 38), (1, 18), (2, 15), (3, 14), (4, 16)]\n",
      "Score: -337\n",
      "[(0, 43), (1, 18), (2, 15), (3, 11), (4, 14)]\n",
      "Score: -274\n",
      "[(0, 57), (1, 13), (2, 8), (3, 11), (4, 12)]\n",
      "Score: -292\n",
      "[(0, 57), (1, 17), (2, 12), (3, 7), (4, 8)]\n",
      "Score: -280\n",
      "[(0, 55), (1, 18), (2, 10), (3, 7), (4, 11)]\n",
      "Score: -319\n",
      "[(0, 55), (1, 12), (2, 14), (3, 7), (4, 13)]\n",
      "Score: -294\n",
      "[(0, 56), (1, 11), (2, 14), (3, 13), (4, 7)]\n",
      "Score: -286\n",
      "[(0, 49), (1, 15), (2, 16), (3, 13), (4, 8)]\n",
      "Score: -252\n",
      "[(0, 50), (1, 14), (2, 11), (3, 10), (4, 16)]\n",
      "Score: -246\n",
      "[(0, 71), (1, 11), (2, 7), (3, 9), (4, 3)]\n",
      "Score: -280\n",
      "[(0, 57), (1, 15), (2, 13), (3, 5), (4, 11)]\n",
      "Score: -304\n",
      "[(0, 62), (1, 8), (2, 15), (3, 10), (4, 6)]\n",
      "Score: -272\n",
      "[(0, 58), (1, 12), (2, 10), (3, 12), (4, 9)]\n",
      "Score: -252\n",
      "[(0, 51), (1, 16), (2, 13), (3, 10), (4, 11)]\n",
      "Score: -288\n",
      "[(0, 55), (1, 10), (2, 9), (3, 16), (4, 11)]\n",
      "Score: -292\n",
      "[(0, 59), (1, 13), (2, 10), (3, 13), (4, 6)]\n",
      "Score: -315\n",
      "[(0, 62), (1, 17), (2, 13), (3, 4), (4, 5)]\n",
      "Score: -278\n",
      "[(0, 55), (1, 12), (2, 11), (3, 11), (4, 12)]\n",
      "Score: -286\n",
      "[(0, 49), (1, 15), (2, 12), (3, 16), (4, 9)]\n",
      "Score: 94\n",
      "[(0, 26), (1, 13), (2, 8), (3, 6), (4, 8)]\n",
      "Score: -260\n",
      "[(0, 60), (1, 24), (2, 10), (3, 5), (4, 2)]\n",
      "Score: -291\n",
      "[(0, 54), (1, 17), (2, 15), (3, 10), (4, 5)]\n",
      "Score: -281\n",
      "[(0, 62), (1, 12), (2, 12), (3, 3), (4, 12)]\n",
      "Score: -290\n",
      "[(0, 42), (1, 20), (2, 16), (3, 11), (4, 12)]\n",
      "Score: -283\n",
      "[(0, 61), (1, 14), (2, 10), (3, 7), (4, 9)]\n",
      "Score: -266\n",
      "[(0, 60), (1, 11), (2, 14), (3, 8), (4, 8)]\n",
      "Score: -331\n",
      "[(0, 52), (1, 11), (2, 13), (3, 8), (4, 17)]\n",
      "Score: -283\n",
      "[(0, 61), (1, 18), (2, 10), (3, 5), (4, 7)]\n",
      "Score: -280\n",
      "[(0, 48), (1, 21), (2, 9), (3, 9), (4, 14)]\n",
      "Score: -296\n",
      "[(0, 58), (1, 14), (2, 13), (3, 8), (4, 8)]\n",
      "Score: -289\n",
      "[(0, 56), (1, 16), (2, 11), (3, 8), (4, 10)]\n",
      "Score: -283\n",
      "[(0, 53), (1, 22), (2, 7), (3, 13), (4, 6)]\n",
      "Score: -300\n",
      "[(0, 56), (1, 14), (2, 13), (3, 10), (4, 8)]\n",
      "Score: -310\n",
      "[(0, 58), (1, 13), (2, 12), (3, 9), (4, 9)]\n",
      "Score: -344\n",
      "[(0, 49), (1, 18), (2, 17), (3, 5), (4, 12)]\n",
      "Score: -281\n",
      "[(0, 44), (1, 13), (2, 16), (3, 14), (4, 14)]\n",
      "Score: -239\n",
      "[(0, 49), (1, 9), (2, 17), (3, 13), (4, 10)]\n",
      "Score: -290\n",
      "[(0, 54), (1, 18), (2, 13), (3, 6), (4, 10)]\n",
      "Score: -311\n",
      "[(0, 59), (1, 18), (2, 8), (3, 5), (4, 11)]\n",
      "Score: -283\n",
      "[(0, 56), (1, 13), (2, 11), (3, 10), (4, 11)]\n",
      "Score: -244\n",
      "[(0, 63), (1, 13), (2, 13), (3, 8), (4, 4)]\n",
      "Score: -283\n",
      "[(0, 44), (1, 15), (2, 14), (3, 15), (4, 13)]\n",
      "Score: -289\n",
      "[(0, 49), (1, 19), (2, 12), (3, 9), (4, 12)]\n",
      "Score: -312\n",
      "[(0, 44), (1, 20), (2, 12), (3, 14), (4, 11)]\n",
      "Score: -281\n",
      "[(0, 50), (1, 21), (2, 12), (3, 7), (4, 11)]\n",
      "Score: -390\n",
      "[(0, 52), (1, 20), (2, 12), (3, 7), (4, 10)]\n",
      "Score: -296\n",
      "[(0, 50), (1, 12), (2, 19), (3, 9), (4, 11)]\n",
      "Score: -319\n",
      "[(0, 46), (1, 14), (2, 16), (3, 13), (4, 12)]\n",
      "Score: -274\n",
      "[(0, 50), (1, 16), (2, 16), (3, 8), (4, 11)]\n",
      "Score: -294\n",
      "[(0, 56), (1, 20), (2, 10), (3, 9), (4, 6)]\n",
      "Score: -306\n",
      "[(0, 57), (1, 13), (2, 11), (3, 10), (4, 10)]\n",
      "Score: -288\n",
      "[(0, 57), (1, 15), (2, 13), (3, 8), (4, 8)]\n",
      "Score: -235\n",
      "[(0, 57), (1, 21), (2, 10), (3, 6), (4, 7)]\n",
      "Score: 14\n",
      "[(0, 10), (1, 4), (2, 2), (3, 2), (4, 2)]\n",
      "Score: -284\n",
      "[(0, 63), (1, 21), (2, 7), (3, 5), (4, 5)]\n",
      "Score: -245\n",
      "[(0, 63), (1, 18), (2, 11), (3, 3), (4, 6)]\n",
      "Score: -261\n",
      "[(0, 65), (1, 14), (2, 10), (3, 5), (4, 7)]\n",
      "Score: -304\n",
      "[(0, 56), (1, 18), (2, 12), (3, 6), (4, 9)]\n",
      "Score: -308\n",
      "[(0, 58), (1, 16), (2, 13), (3, 7), (4, 7)]\n",
      "Score: -274\n",
      "[(0, 58), (1, 21), (2, 9), (3, 6), (4, 7)]\n",
      "Score: -266\n",
      "[(0, 52), (1, 20), (2, 15), (3, 5), (4, 9)]\n",
      "Score: -289\n",
      "[(0, 61), (1, 12), (2, 11), (3, 9), (4, 8)]\n",
      "Score: -243\n",
      "[(0, 57), (1, 14), (2, 11), (3, 10), (4, 9)]\n",
      "Score: -330\n",
      "[(0, 52), (1, 19), (2, 19), (3, 4), (4, 7)]\n",
      "Score: -237\n",
      "[(0, 58), (1, 21), (2, 11), (3, 6), (4, 5)]\n",
      "Score: -228\n",
      "[(0, 62), (1, 17), (2, 9), (3, 6), (4, 7)]\n",
      "Score: -279\n",
      "[(0, 63), (1, 18), (2, 7), (3, 6), (4, 7)]\n",
      "Score: -271\n",
      "[(0, 70), (1, 12), (2, 7), (3, 8), (4, 4)]\n",
      "Score: -302\n",
      "[(0, 61), (1, 19), (2, 7), (3, 5), (4, 9)]\n",
      "Score: -297\n",
      "[(0, 50), (1, 13), (2, 9), (3, 16), (4, 13)]\n",
      "Score: -264\n",
      "[(0, 60), (1, 9), (2, 13), (3, 15), (4, 4)]\n",
      "Score: -279\n",
      "[(0, 64), (1, 14), (2, 12), (3, 4), (4, 7)]\n",
      "Score: -284\n",
      "[(0, 58), (1, 14), (2, 5), (3, 10), (4, 14)]\n",
      "Score: -273\n",
      "[(0, 57), (1, 13), (2, 9), (3, 12), (4, 10)]\n",
      "Score: -301\n",
      "[(0, 63), (1, 16), (2, 8), (3, 7), (4, 7)]\n",
      "Score: -309\n",
      "[(0, 52), (1, 15), (2, 14), (3, 8), (4, 12)]\n",
      "Score: -303\n",
      "[(0, 51), (1, 21), (2, 9), (3, 7), (4, 13)]\n",
      "Score: -312\n",
      "[(0, 62), (1, 16), (2, 8), (3, 4), (4, 11)]\n",
      "Score: -277\n",
      "[(0, 59), (1, 22), (2, 10), (3, 5), (4, 5)]\n",
      "Score: -323\n",
      "[(0, 58), (1, 9), (2, 16), (3, 8), (4, 10)]\n",
      "Score: -264\n",
      "[(0, 55), (1, 19), (2, 10), (3, 13), (4, 4)]\n",
      "Score: -13\n",
      "[(0, 33), (1, 10), (2, 5), (3, 7), (4, 5)]\n",
      "Score: -293\n",
      "[(0, 50), (1, 13), (2, 19), (3, 13), (4, 6)]\n",
      "Score: -309\n",
      "[(0, 61), (1, 14), (2, 15), (3, 5), (4, 6)]\n",
      "Score: -305\n",
      "[(0, 61), (1, 14), (2, 9), (3, 7), (4, 10)]\n",
      "Score: -328\n",
      "[(0, 51), (1, 17), (2, 13), (3, 9), (4, 11)]\n",
      "Score: -310\n",
      "[(0, 57), (1, 17), (2, 9), (3, 4), (4, 14)]\n",
      "Score: -276\n",
      "[(0, 65), (1, 12), (2, 6), (3, 9), (4, 9)]\n",
      "Score: 89\n",
      "[(0, 29), (1, 8), (2, 7), (3, 6), (4, 5)]\n",
      "Score: -329\n",
      "[(0, 53), (1, 16), (2, 17), (3, 5), (4, 10)]\n",
      "Score: -281\n",
      "[(0, 62), (1, 20), (2, 10), (3, 4), (4, 5)]\n",
      "Score: -268\n",
      "[(0, 52), (1, 22), (2, 10), (3, 7), (4, 10)]\n",
      "Score: -243\n",
      "[(0, 66), (1, 19), (2, 8), (3, 5), (4, 3)]\n",
      "Score: -276\n",
      "[(0, 70), (1, 8), (2, 10), (3, 8), (4, 5)]\n",
      "Score: -285\n",
      "[(0, 63), (1, 16), (2, 16), (3, 3), (4, 3)]\n",
      "Score: -304\n",
      "[(0, 52), (1, 14), (2, 14), (3, 12), (4, 9)]\n",
      "Score: -282\n",
      "[(0, 62), (1, 12), (2, 10), (3, 7), (4, 10)]\n",
      "Score: -242\n",
      "[(0, 69), (1, 15), (2, 7), (3, 5), (4, 5)]\n",
      "Score: -302\n",
      "[(0, 55), (1, 17), (2, 10), (3, 11), (4, 8)]\n",
      "Score: -290\n",
      "[(0, 63), (1, 13), (2, 12), (3, 8), (4, 5)]\n",
      "Score: -273\n",
      "[(0, 52), (1, 21), (2, 15), (3, 10), (4, 3)]\n",
      "Score: -307\n",
      "[(0, 55), (1, 22), (2, 11), (3, 7), (4, 6)]\n",
      "Score: -318\n",
      "[(0, 60), (1, 14), (2, 14), (3, 5), (4, 8)]\n",
      "Score: 122\n",
      "[(0, 10), (1, 4), (2, 3), (3, 4), (4, 6)]\n",
      "Score: -291\n",
      "[(0, 57), (1, 13), (2, 13), (3, 8), (4, 10)]\n",
      "Score: -263\n",
      "[(0, 56), (1, 21), (2, 13), (3, 5), (4, 6)]\n",
      "Score: -289\n",
      "[(0, 60), (1, 15), (2, 9), (3, 5), (4, 12)]\n",
      "Score: -267\n",
      "[(0, 55), (1, 18), (2, 8), (3, 11), (4, 9)]\n",
      "Score: -314\n",
      "[(0, 52), (1, 22), (2, 14), (3, 7), (4, 6)]\n",
      "Score: -278\n",
      "[(0, 55), (1, 18), (2, 11), (3, 6), (4, 11)]\n",
      "Score: -299\n",
      "[(0, 40), (1, 24), (2, 18), (3, 10), (4, 9)]\n",
      "Score: -312\n",
      "[(0, 47), (1, 20), (2, 9), (3, 12), (4, 13)]\n",
      "Score: 106\n",
      "[(0, 36), (1, 8), (2, 1), (3, 9), (4, 4)]\n",
      "Score: -267\n",
      "[(0, 58), (1, 20), (2, 12), (3, 6), (4, 5)]\n",
      "Score: -327\n",
      "[(0, 46), (1, 17), (2, 18), (3, 11), (4, 9)]\n",
      "Score: -320\n",
      "[(0, 40), (1, 15), (2, 14), (3, 15), (4, 17)]\n",
      "Score: -279\n",
      "[(0, 49), (1, 24), (2, 11), (3, 9), (4, 8)]\n",
      "Score: -282\n",
      "[(0, 58), (1, 18), (2, 10), (3, 9), (4, 6)]\n",
      "Score: -306\n",
      "[(0, 57), (1, 15), (2, 11), (3, 8), (4, 10)]\n",
      "Score: -297\n",
      "[(0, 49), (1, 18), (2, 15), (3, 11), (4, 8)]\n",
      "Score: -260\n",
      "[(0, 50), (1, 23), (2, 13), (3, 9), (4, 6)]\n"
     ]
    },
    {
     "ename": "KeyboardInterrupt",
     "evalue": "",
     "output_type": "error",
     "traceback": [
      "\u001b[0;31m---------------------------------------------------------------------------\u001b[0m",
      "\u001b[0;31mKeyboardInterrupt\u001b[0m                         Traceback (most recent call last)",
      "Cell \u001b[0;32mIn [9], line 19\u001b[0m\n\u001b[1;32m     16\u001b[0m env\u001b[38;5;241m.\u001b[39mrender()\n\u001b[1;32m     18\u001b[0m \u001b[38;5;66;03m#select action\u001b[39;00m\n\u001b[0;32m---> 19\u001b[0m action, lp \u001b[38;5;241m=\u001b[39m \u001b[43mselect_action\u001b[49m\u001b[43m(\u001b[49m\u001b[43mnetwork\u001b[49m\u001b[43m,\u001b[49m\u001b[43m \u001b[49m\u001b[43mstate\u001b[49m\u001b[43m)\u001b[49m\n\u001b[1;32m     20\u001b[0m actions_dist\u001b[38;5;241m.\u001b[39mappend(action)\n\u001b[1;32m     22\u001b[0m \u001b[38;5;66;03m#execute action\u001b[39;00m\n",
      "Cell \u001b[0;32mIn [6], line 17\u001b[0m, in \u001b[0;36mselect_action\u001b[0;34m(network, state)\u001b[0m\n\u001b[1;32m     14\u001b[0m state \u001b[38;5;241m=\u001b[39m torch\u001b[38;5;241m.\u001b[39mTensor(unpack_state)\u001b[38;5;241m.\u001b[39mfloat()\u001b[38;5;241m.\u001b[39munsqueeze(\u001b[38;5;241m0\u001b[39m)\u001b[38;5;241m.\u001b[39mto(DEVICE)\n\u001b[1;32m     16\u001b[0m \u001b[38;5;66;03m#use network to predict action probabilities\u001b[39;00m\n\u001b[0;32m---> 17\u001b[0m action_probs \u001b[38;5;241m=\u001b[39m \u001b[43mnetwork\u001b[49m\u001b[43m(\u001b[49m\u001b[43mstate\u001b[49m\u001b[43m)\u001b[49m\n\u001b[1;32m     19\u001b[0m \u001b[38;5;66;03m#sample an action using the probability distribution\u001b[39;00m\n\u001b[1;32m     20\u001b[0m m \u001b[38;5;241m=\u001b[39m Categorical(action_probs)\n",
      "File \u001b[0;32m~/.local/lib/python3.8/site-packages/torch/nn/modules/module.py:1130\u001b[0m, in \u001b[0;36mModule._call_impl\u001b[0;34m(self, *input, **kwargs)\u001b[0m\n\u001b[1;32m   1126\u001b[0m \u001b[38;5;66;03m# If we don't have any hooks, we want to skip the rest of the logic in\u001b[39;00m\n\u001b[1;32m   1127\u001b[0m \u001b[38;5;66;03m# this function, and just call forward.\u001b[39;00m\n\u001b[1;32m   1128\u001b[0m \u001b[38;5;28;01mif\u001b[39;00m \u001b[38;5;129;01mnot\u001b[39;00m (\u001b[38;5;28mself\u001b[39m\u001b[38;5;241m.\u001b[39m_backward_hooks \u001b[38;5;129;01mor\u001b[39;00m \u001b[38;5;28mself\u001b[39m\u001b[38;5;241m.\u001b[39m_forward_hooks \u001b[38;5;129;01mor\u001b[39;00m \u001b[38;5;28mself\u001b[39m\u001b[38;5;241m.\u001b[39m_forward_pre_hooks \u001b[38;5;129;01mor\u001b[39;00m _global_backward_hooks\n\u001b[1;32m   1129\u001b[0m         \u001b[38;5;129;01mor\u001b[39;00m _global_forward_hooks \u001b[38;5;129;01mor\u001b[39;00m _global_forward_pre_hooks):\n\u001b[0;32m-> 1130\u001b[0m     \u001b[38;5;28;01mreturn\u001b[39;00m \u001b[43mforward_call\u001b[49m\u001b[43m(\u001b[49m\u001b[38;5;241;43m*\u001b[39;49m\u001b[38;5;28;43minput\u001b[39;49m\u001b[43m,\u001b[49m\u001b[43m \u001b[49m\u001b[38;5;241;43m*\u001b[39;49m\u001b[38;5;241;43m*\u001b[39;49m\u001b[43mkwargs\u001b[49m\u001b[43m)\u001b[49m\n\u001b[1;32m   1131\u001b[0m \u001b[38;5;66;03m# Do not call functions when jit is used\u001b[39;00m\n\u001b[1;32m   1132\u001b[0m full_backward_hooks, non_full_backward_hooks \u001b[38;5;241m=\u001b[39m [], []\n",
      "Cell \u001b[0;32mIn [5], line 30\u001b[0m, in \u001b[0;36mPolicyNetwork.forward\u001b[0;34m(self, x)\u001b[0m\n\u001b[1;32m     21\u001b[0m     \u001b[38;5;28;01mdef\u001b[39;00m \u001b[38;5;21mforward\u001b[39m(\u001b[38;5;28mself\u001b[39m, x):\n\u001b[1;32m     22\u001b[0m         \u001b[38;5;66;03m#input states\u001b[39;00m\n\u001b[1;32m     23\u001b[0m \u001b[38;5;66;03m#         x = self.input_layer(x)\u001b[39;00m\n\u001b[0;32m   (...)\u001b[0m\n\u001b[1;32m     28\u001b[0m \u001b[38;5;66;03m#         #actions\u001b[39;00m\n\u001b[1;32m     29\u001b[0m \u001b[38;5;66;03m#         actions = self.output_layer(x)\u001b[39;00m\n\u001b[0;32m---> 30\u001b[0m         actions \u001b[38;5;241m=\u001b[39m \u001b[38;5;28;43mself\u001b[39;49m\u001b[38;5;241;43m.\u001b[39;49m\u001b[43mmodel\u001b[49m\u001b[43m(\u001b[49m\u001b[43mx\u001b[49m\u001b[43m)\u001b[49m\n\u001b[1;32m     32\u001b[0m         \u001b[38;5;66;03m#get softmax for a probability distribution\u001b[39;00m\n\u001b[1;32m     33\u001b[0m         action_probs \u001b[38;5;241m=\u001b[39m F\u001b[38;5;241m.\u001b[39msoftmax(actions, dim\u001b[38;5;241m=\u001b[39m\u001b[38;5;241m1\u001b[39m)\n",
      "File \u001b[0;32m~/.local/lib/python3.8/site-packages/torch/nn/modules/module.py:1130\u001b[0m, in \u001b[0;36mModule._call_impl\u001b[0;34m(self, *input, **kwargs)\u001b[0m\n\u001b[1;32m   1126\u001b[0m \u001b[38;5;66;03m# If we don't have any hooks, we want to skip the rest of the logic in\u001b[39;00m\n\u001b[1;32m   1127\u001b[0m \u001b[38;5;66;03m# this function, and just call forward.\u001b[39;00m\n\u001b[1;32m   1128\u001b[0m \u001b[38;5;28;01mif\u001b[39;00m \u001b[38;5;129;01mnot\u001b[39;00m (\u001b[38;5;28mself\u001b[39m\u001b[38;5;241m.\u001b[39m_backward_hooks \u001b[38;5;129;01mor\u001b[39;00m \u001b[38;5;28mself\u001b[39m\u001b[38;5;241m.\u001b[39m_forward_hooks \u001b[38;5;129;01mor\u001b[39;00m \u001b[38;5;28mself\u001b[39m\u001b[38;5;241m.\u001b[39m_forward_pre_hooks \u001b[38;5;129;01mor\u001b[39;00m _global_backward_hooks\n\u001b[1;32m   1129\u001b[0m         \u001b[38;5;129;01mor\u001b[39;00m _global_forward_hooks \u001b[38;5;129;01mor\u001b[39;00m _global_forward_pre_hooks):\n\u001b[0;32m-> 1130\u001b[0m     \u001b[38;5;28;01mreturn\u001b[39;00m \u001b[43mforward_call\u001b[49m\u001b[43m(\u001b[49m\u001b[38;5;241;43m*\u001b[39;49m\u001b[38;5;28;43minput\u001b[39;49m\u001b[43m,\u001b[49m\u001b[43m \u001b[49m\u001b[38;5;241;43m*\u001b[39;49m\u001b[38;5;241;43m*\u001b[39;49m\u001b[43mkwargs\u001b[49m\u001b[43m)\u001b[49m\n\u001b[1;32m   1131\u001b[0m \u001b[38;5;66;03m# Do not call functions when jit is used\u001b[39;00m\n\u001b[1;32m   1132\u001b[0m full_backward_hooks, non_full_backward_hooks \u001b[38;5;241m=\u001b[39m [], []\n",
      "File \u001b[0;32m~/.local/lib/python3.8/site-packages/torch/nn/modules/container.py:139\u001b[0m, in \u001b[0;36mSequential.forward\u001b[0;34m(self, input)\u001b[0m\n\u001b[1;32m    137\u001b[0m \u001b[38;5;28;01mdef\u001b[39;00m \u001b[38;5;21mforward\u001b[39m(\u001b[38;5;28mself\u001b[39m, \u001b[38;5;28minput\u001b[39m):\n\u001b[1;32m    138\u001b[0m     \u001b[38;5;28;01mfor\u001b[39;00m module \u001b[38;5;129;01min\u001b[39;00m \u001b[38;5;28mself\u001b[39m:\n\u001b[0;32m--> 139\u001b[0m         \u001b[38;5;28minput\u001b[39m \u001b[38;5;241m=\u001b[39m \u001b[43mmodule\u001b[49m\u001b[43m(\u001b[49m\u001b[38;5;28;43minput\u001b[39;49m\u001b[43m)\u001b[49m\n\u001b[1;32m    140\u001b[0m     \u001b[38;5;28;01mreturn\u001b[39;00m \u001b[38;5;28minput\u001b[39m\n",
      "File \u001b[0;32m~/.local/lib/python3.8/site-packages/torch/nn/modules/module.py:1130\u001b[0m, in \u001b[0;36mModule._call_impl\u001b[0;34m(self, *input, **kwargs)\u001b[0m\n\u001b[1;32m   1126\u001b[0m \u001b[38;5;66;03m# If we don't have any hooks, we want to skip the rest of the logic in\u001b[39;00m\n\u001b[1;32m   1127\u001b[0m \u001b[38;5;66;03m# this function, and just call forward.\u001b[39;00m\n\u001b[1;32m   1128\u001b[0m \u001b[38;5;28;01mif\u001b[39;00m \u001b[38;5;129;01mnot\u001b[39;00m (\u001b[38;5;28mself\u001b[39m\u001b[38;5;241m.\u001b[39m_backward_hooks \u001b[38;5;129;01mor\u001b[39;00m \u001b[38;5;28mself\u001b[39m\u001b[38;5;241m.\u001b[39m_forward_hooks \u001b[38;5;129;01mor\u001b[39;00m \u001b[38;5;28mself\u001b[39m\u001b[38;5;241m.\u001b[39m_forward_pre_hooks \u001b[38;5;129;01mor\u001b[39;00m _global_backward_hooks\n\u001b[1;32m   1129\u001b[0m         \u001b[38;5;129;01mor\u001b[39;00m _global_forward_hooks \u001b[38;5;129;01mor\u001b[39;00m _global_forward_pre_hooks):\n\u001b[0;32m-> 1130\u001b[0m     \u001b[38;5;28;01mreturn\u001b[39;00m \u001b[43mforward_call\u001b[49m\u001b[43m(\u001b[49m\u001b[38;5;241;43m*\u001b[39;49m\u001b[38;5;28;43minput\u001b[39;49m\u001b[43m,\u001b[49m\u001b[43m \u001b[49m\u001b[38;5;241;43m*\u001b[39;49m\u001b[38;5;241;43m*\u001b[39;49m\u001b[43mkwargs\u001b[49m\u001b[43m)\u001b[49m\n\u001b[1;32m   1131\u001b[0m \u001b[38;5;66;03m# Do not call functions when jit is used\u001b[39;00m\n\u001b[1;32m   1132\u001b[0m full_backward_hooks, non_full_backward_hooks \u001b[38;5;241m=\u001b[39m [], []\n",
      "File \u001b[0;32m~/.local/lib/python3.8/site-packages/torch/nn/modules/linear.py:114\u001b[0m, in \u001b[0;36mLinear.forward\u001b[0;34m(self, input)\u001b[0m\n\u001b[1;32m    113\u001b[0m \u001b[38;5;28;01mdef\u001b[39;00m \u001b[38;5;21mforward\u001b[39m(\u001b[38;5;28mself\u001b[39m, \u001b[38;5;28minput\u001b[39m: Tensor) \u001b[38;5;241m-\u001b[39m\u001b[38;5;241m>\u001b[39m Tensor:\n\u001b[0;32m--> 114\u001b[0m     \u001b[38;5;28;01mreturn\u001b[39;00m \u001b[43mF\u001b[49m\u001b[38;5;241;43m.\u001b[39;49m\u001b[43mlinear\u001b[49m\u001b[43m(\u001b[49m\u001b[38;5;28;43minput\u001b[39;49m\u001b[43m,\u001b[49m\u001b[43m \u001b[49m\u001b[38;5;28;43mself\u001b[39;49m\u001b[38;5;241;43m.\u001b[39;49m\u001b[43mweight\u001b[49m\u001b[43m,\u001b[49m\u001b[43m \u001b[49m\u001b[38;5;28;43mself\u001b[39;49m\u001b[38;5;241;43m.\u001b[39;49m\u001b[43mbias\u001b[49m\u001b[43m)\u001b[49m\n",
      "\u001b[0;31mKeyboardInterrupt\u001b[0m: "
     ]
    }
   ],
   "source": [
    "#track scores\n",
    "scores = []\n",
    "\n",
    "#iterate through episodes\n",
    "for episode in tqdm(range(NUM_EPISODES)):\n",
    "    \n",
    "    #reset environment, initiable variables\n",
    "    state = env.reset()\n",
    "    rewards = []\n",
    "    log_probs = []\n",
    "    score = 0\n",
    "    actions_dist = []\n",
    "    \n",
    "    #generate episode\n",
    "    for step in range(MAX_STEPS):\n",
    "        env.render()\n",
    "        \n",
    "        #select action\n",
    "        action, lp = select_action(network, state)\n",
    "        actions_dist.append(action)\n",
    "        \n",
    "        #execute action\n",
    "        new_state, reward, done, _, _ = env.step(action)\n",
    "        \n",
    "        #track episode score\n",
    "        score += reward\n",
    "        \n",
    "        #store reward and log probability\n",
    "        rewards.append(reward)\n",
    "        log_probs.append(lp)\n",
    "        \n",
    "        #end episode\n",
    "        if done:\n",
    "            break\n",
    "        \n",
    "        #move into new state\n",
    "        state = new_state\n",
    "    \n",
    "    #append score\n",
    "    scores.append(score)\n",
    "    print('Score:', score)\n",
    "        \n",
    "    #Calculate Gt (cumulative discounted rewards)\n",
    "    discounted_rewards = []\n",
    "    \n",
    "    #track cumulative reward\n",
    "    total_r = .0\n",
    "    \n",
    "    #iterate rewards from Gt to G0\n",
    "    for r in reversed(rewards):\n",
    "        # print(type(r), type(total_r), type(DISCOUNT_FACTOR), type(total_r ** DISCOUNT_FACTOR))\n",
    "        # print(r, total_r, DISCOUNT_FACTOR, total_r ** DISCOUNT_FACTOR)\n",
    "        \n",
    "        #Base case: G(T) = r(T)\n",
    "        #Recursive: G(t) = r(t) + G(t+1)^DISCOUNT\n",
    "        if total_r < 0:\n",
    "            total_r = r - np.abs(total_r) ** DISCOUNT_FACTOR\n",
    "        else:\n",
    "            total_r = r + total_r ** DISCOUNT_FACTOR\n",
    "        \n",
    "        #append to discounted rewards\n",
    "        discounted_rewards.append(total_r)\n",
    "    \n",
    "    #reverse discounted rewards\n",
    "    rewards = torch.tensor(discounted_rewards).to(DEVICE)\n",
    "    rewards = torch.flip(rewards, [0])\n",
    "    \n",
    "    #adjusting policy parameters with gradient ascent\n",
    "    loss = []\n",
    "    for r, lp in zip(rewards, log_probs):\n",
    "        #we add a negative sign since network will perform gradient descent and we are doing gradient ascent with REINFORCE\n",
    "        loss.append(-r * lp)\n",
    "    \n",
    "        \n",
    "    #Backpropagation\n",
    "    optimizer.zero_grad()\n",
    "    sum(loss).backward()\n",
    "    # print('Loss:', sum(loss))\n",
    "    print(list(zip(*np.unique(actions_dist, return_counts=True))))\n",
    "    optimizer.step()\n",
    "\n",
    "env.close()"
   ]
  },
  {
   "cell_type": "code",
   "execution_count": null,
   "metadata": {},
   "outputs": [],
   "source": [
    "import matplotlib.pyplot as plt\n",
    "from sklearn.linear_model import LinearRegression\n",
    "import seaborn as sns\n",
    "import numpy as np\n",
    "\n",
    "sns.set()\n",
    "\n",
    "plt.plot(scores)\n",
    "plt.ylabel('score')\n",
    "plt.xlabel('episodes')\n",
    "plt.title('Training score of SimpleArena with REINFORCE')\n",
    "\n",
    "reg = LinearRegression().fit(np.arange(len(scores)).reshape(-1, 1), np.array(scores).reshape(-1, 1))\n",
    "y_pred = reg.predict(np.arange(len(scores)).reshape(-1, 1))\n",
    "plt.plot(y_pred)\n",
    "plt.show()"
   ]
  },
  {
   "cell_type": "code",
   "execution_count": null,
   "metadata": {},
   "outputs": [],
   "source": [
    "done = False\n",
    "state = env.reset()\n",
    "scores = []\n",
    "\n",
    "for _ in range(10):\n",
    "    state = env.reset()\n",
    "    done = False\n",
    "    score = 0\n",
    "    while not done:\n",
    "        # env.render()\n",
    "        action = env.action_space.sample()\n",
    "        new_state, reward, done, info, _ = env.step(action)\n",
    "        score += reward\n",
    "        state = new_state\n",
    "    scores.append(score)\n",
    "env.close()"
   ]
  },
  {
   "cell_type": "code",
   "execution_count": null,
   "metadata": {},
   "outputs": [],
   "source": [
    "done = False\n",
    "state = env.reset()\n",
    "scores = []\n",
    "\n",
    "for _ in tqdm(range(50)):\n",
    "    state = env.reset()\n",
    "    done = False\n",
    "    score = 0\n",
    "    while not done:\n",
    "        env.render()\n",
    "        action, lp = select_action(network, state)\n",
    "        new_state, reward, done, info, _ = env.step(action)\n",
    "        print(state, action)\n",
    "        score += reward\n",
    "        state = new_state\n",
    "    scores.append(score)\n",
    "env.close()"
   ]
  },
  {
   "cell_type": "code",
   "execution_count": null,
   "metadata": {},
   "outputs": [],
   "source": [
    "np.array(scores).mean()"
   ]
  },
  {
   "cell_type": "code",
   "execution_count": null,
   "metadata": {},
   "outputs": [],
   "source": []
  },
  {
   "cell_type": "code",
   "execution_count": null,
   "metadata": {},
   "outputs": [],
   "source": [
    "done = False\n",
    "state = env.reset()\n",
    "scores = []\n",
    "\n",
    "for _ in tqdm(range(50)):\n",
    "    state = env.reset()\n",
    "    done = False\n",
    "    score = 0\n",
    "    while not done:\n",
    "        env.render()\n",
    "        action, lp = select_action(network, state)\n",
    "        new_state, reward, done, info, _ = env.step(action)\n",
    "        print(state, action)\n",
    "        score += reward\n",
    "        state = new_state\n",
    "    scores.append(score)\n",
    "env.close()"
   ]
  },
  {
   "cell_type": "code",
   "execution_count": null,
   "metadata": {},
   "outputs": [],
   "source": []
  }
 ],
 "metadata": {
  "kernelspec": {
   "display_name": "Python 3 (ipykernel)",
   "language": "python",
   "name": "python3"
  },
  "language_info": {
   "codemirror_mode": {
    "name": "ipython",
    "version": 3
   },
   "file_extension": ".py",
   "mimetype": "text/x-python",
   "name": "python",
   "nbconvert_exporter": "python",
   "pygments_lexer": "ipython3",
   "version": "3.8.10"
  }
 },
 "nbformat": 4,
 "nbformat_minor": 4
}
