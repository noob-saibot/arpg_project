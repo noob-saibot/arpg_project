{
 "cells": [
  {
   "cell_type": "code",
   "execution_count": 1,
   "id": "19346ebe",
   "metadata": {},
   "outputs": [],
   "source": [
    "from collections import deque\n",
    "import random\n",
    "\n",
    "import gym\n",
    "import numpy as np\n",
    "import torch\n",
    "import torch.nn as nn\n",
    "import torch.nn.functional as F\n",
    "import torch.optim as optim\n",
    "from torch.distributions import Categorical\n",
    "from tqdm import tqdm"
   ]
  },
  {
   "cell_type": "code",
   "execution_count": 2,
   "id": "0568aba3",
   "metadata": {},
   "outputs": [],
   "source": [
    "env = gym.make('CartPole-v1')\n",
    "env.reset()\n",
    "\n",
    "discount_factor = 0.95\n",
    "eps = 0.5\n",
    "eps_min = 0.01\n",
    "eps_decay = 0.99\n",
    "learning_rate = 0.8\n",
    "num_episodes = 50\n",
    "batch_size = 32"
   ]
  },
  {
   "cell_type": "code",
   "execution_count": 3,
   "id": "8a1a17ec",
   "metadata": {},
   "outputs": [
    {
     "name": "stderr",
     "output_type": "stream",
     "text": [
      "100%|█████████████████████████████████████████████████████████████████████████████████| 50/50 [00:00<00:00, 5097.35it/s]\n"
     ]
    }
   ],
   "source": [
    "scores = []\n",
    "memory = deque(maxlen=2000)\n",
    "\n",
    "for i in tqdm(range(num_episodes), position=0, leave=True):\n",
    "    state = env.reset()\n",
    "    done = False\n",
    "    score = 0\n",
    "    #while game not ended\n",
    "    while not done:\n",
    "        new_state, reward, done, _, _ = env.step(env.action_space.sample())\n",
    "        score += reward\n",
    "        state = new_state\n",
    "    scores.append(score)"
   ]
  },
  {
   "cell_type": "code",
   "execution_count": 4,
   "id": "08caa5d0",
   "metadata": {},
   "outputs": [],
   "source": [
    "#device to run model on \n",
    "DEVICE = \"cuda\" if torch.cuda.is_available() else \"cpu\"\n",
    "\n",
    "#Using a neural network to learn our policy parameters\n",
    "class QLearningNetwork(nn.Module):\n",
    "    \n",
    "    #Takes in observations and outputs actions\n",
    "    def __init__(self, observation_space, action_space):\n",
    "        super(QLearningNetwork, self).__init__()\n",
    "        self.model = nn.Sequential(\n",
    "            nn.Linear(observation_space, 32),\n",
    "            nn.ReLU(),\n",
    "            nn.Linear(32, 32),\n",
    "            nn.ReLU(),\n",
    "            nn.Linear(32, action_space)\n",
    "        )\n",
    "    \n",
    "    #forward pass\n",
    "    def forward(self, x):\n",
    "        return self.model(x)"
   ]
  },
  {
   "cell_type": "code",
   "execution_count": 5,
   "id": "47c25f2f",
   "metadata": {},
   "outputs": [],
   "source": [
    "#Init network\n",
    "model = QLearningNetwork(env.observation_space.shape[0], env.action_space.n).to(DEVICE)\n",
    "\n",
    "loss_fn = nn.MSELoss()\n",
    "optimizer = optim.Adam(model.parameters(), lr=1e-3)"
   ]
  },
  {
   "cell_type": "code",
   "execution_count": 6,
   "id": "2e7d3eeb",
   "metadata": {},
   "outputs": [],
   "source": [
    "def select_action(network, state):\n",
    "    ''' Selects an action given current state\n",
    "    Args:\n",
    "    - network (Torch NN): network to process state\n",
    "    - state (Array): Array of action space in an environment\n",
    "    \n",
    "    Return:\n",
    "    - (int): action that is selected\n",
    "    - (float): log probability of selecting that action given state and network\n",
    "    '''\n",
    "    #convert state to float tensor, add 1 dimension, allocate tensor on device\n",
    "    if isinstance(state, tuple):\n",
    "        state = state[0]\n",
    "    state = torch.from_numpy(state).float().unsqueeze(0).to(DEVICE)\n",
    "    \n",
    "    #use network to predict action probabilities\n",
    "    q_vals = network(state)\n",
    "    \n",
    "    #sample an action using the probability distribution\n",
    "    action = torch.argmax(q_vals)\n",
    "    max_value = torch.max(q_vals)\n",
    "    \n",
    "    #return action\n",
    "    return action.item(), q_vals, max_value"
   ]
  },
  {
   "cell_type": "code",
   "execution_count": 7,
   "id": "30b2aeed",
   "metadata": {},
   "outputs": [
    {
     "name": "stderr",
     "output_type": "stream",
     "text": [
      "100%|███████████████████████████████████████████████████████████████████████████████████| 50/50 [22:40<00:00, 27.21s/it]\n"
     ]
    }
   ],
   "source": [
    "scores = []\n",
    "\n",
    "memory = deque(maxlen=4000)\n",
    "\n",
    "for i in tqdm(range(num_episodes), position=0, leave=True):\n",
    "    state = env.reset()\n",
    "    done = False\n",
    "    eps *= eps_decay\n",
    "    score = 0\n",
    "    #while game not ended\n",
    "    while not done:\n",
    "        env.render()\n",
    "        if isinstance(state, tuple):\n",
    "            state = state[0]\n",
    "        #choose move with epsilon greedy\n",
    "        if np.random.random() < eps:\n",
    "            #exploration\n",
    "            action = np.random.randint(0, env.action_space.n)\n",
    "        else:\n",
    "            #exploitation\n",
    "            #use expand_dims here to add a dimension for input layer\n",
    "#             q_vals = model(state_torch)#.to('cpu').detach().numpy()\n",
    "#             action = torch.argmax(q_vals).item()\n",
    "            action = select_action(model, np.expand_dims(state, axis=0))[0]\n",
    "        \n",
    "        #execute move\n",
    "        new_state, reward, done, _, _ = env.step(action)\n",
    "        score += reward\n",
    "        \n",
    "        #modify reward so it scales with pole angle. Pole angle range [-0.418, 0.418]\n",
    "        reward = 1 - abs(state[2])/0.418\n",
    "        \n",
    "        #memorize\n",
    "        memory.append([np.expand_dims(state, axis=0), action, reward, np.expand_dims(new_state, axis=0), done])\n",
    "        \n",
    "        #update\n",
    "        #instead of training every state, we train in batch_size\n",
    "        if len(memory) > batch_size:\n",
    "            #sample batch_size so model could be fit on any random states in memory not just the latest state\n",
    "            minibatch = random.sample(memory, batch_size)\n",
    "            \n",
    "            #iterate through the sampled batch\n",
    "            for b_state, b_action, b_reward, b_new_state, b_done in minibatch:\n",
    "                #if current game is done then target = reward cuz theres no future utility\n",
    "                if b_done:\n",
    "                    target = b_reward\n",
    "                else:\n",
    "                    #what we think the state's q_val should be, reward + discounted future utility\n",
    "                    target = b_reward + discount_factor * select_action(model, b_new_state)[2]\n",
    "                \n",
    "                #what we thought the current state's q_val should be\n",
    "                target_vector = select_action(model, b_state)[1]\n",
    "                \n",
    "                #update the target_vector \n",
    "                target_vector[0][0][b_action] = target\n",
    "                \n",
    "                #instead of finding temporal difference between new q_val and old q_val, we train the model by giving it the new q_val\n",
    "                # and let the network do the updating \n",
    "                #train the model with the batch\n",
    "                loss = loss_fn(select_action(model, b_state)[1], target_vector)\n",
    "                optimizer.zero_grad()\n",
    "                loss.backward()\n",
    "                \n",
    "#                 for param in model.parameters():\n",
    "#                     print(param.grad.data.sum())\n",
    "                \n",
    "                step = optimizer.step()\n",
    "\n",
    "            #update epsilon\n",
    "            if eps > eps_min:\n",
    "                eps *= eps_decay\n",
    "                \n",
    "        #new state\n",
    "        state = new_state\n",
    "    scores.append(score)"
   ]
  },
  {
   "cell_type": "code",
   "execution_count": 8,
   "id": "2e1debfc",
   "metadata": {},
   "outputs": [
    {
     "data": {
      "text/plain": [
       "[<matplotlib.lines.Line2D at 0x7fa31f3ad340>]"
      ]
     },
     "execution_count": 8,
     "metadata": {},
     "output_type": "execute_result"
    },
    {
     "data": {
      "image/png": "[encoded data removed]",
      "text/plain": [
       "<Figure size 640x480 with 1 Axes>"
      ]
     },
     "metadata": {},
     "output_type": "display_data"
    }
   ],
   "source": [
    "import matplotlib.pyplot as plt\n",
    "from sklearn.linear_model import LinearRegression\n",
    "\n",
    "plt.plot(scores)\n",
    "plt.ylabel('score')\n",
    "plt.xlabel('episodes')\n",
    "plt.title('Score of RL Agent over episodes')\n",
    "\n",
    "reg = LinearRegression().fit(np.arange(len(scores)).reshape(-1, 1), np.array(scores).reshape(-1, 1))\n",
    "y_pred = reg.predict(np.arange(len(scores)).reshape(-1, 1))\n",
    "plt.plot(y_pred)"
   ]
  },
  {
   "cell_type": "code",
   "execution_count": 9,
   "id": "801f47ee",
   "metadata": {},
   "outputs": [],
   "source": [
    "scores = []\n",
    "while len(scores) < 50:\n",
    "    state = env.reset()\n",
    "    done = False\n",
    "    score = 0\n",
    "    while not done:\n",
    "        score += 1\n",
    "#            env.render()\n",
    "        action = select_action(model, state)[0]\n",
    "\n",
    "        new_state, _, done, _,_ = env.step(action)\n",
    "        state = new_state\n",
    "    scores.append(score)"
   ]
  },
  {
   "cell_type": "code",
   "execution_count": 10,
   "id": "d6f21913",
   "metadata": {},
   "outputs": [
    {
     "data": {
      "text/plain": [
       "294.46"
      ]
     },
     "execution_count": 10,
     "metadata": {},
     "output_type": "execute_result"
    }
   ],
   "source": [
    "np.array(scores).mean()"
   ]
  },
  {
   "cell_type": "code",
   "execution_count": null,
   "id": "7945b148",
   "metadata": {},
   "outputs": [],
   "source": []
  }
 ],
 "metadata": {
  "kernelspec": {
   "display_name": "Python 3 (ipykernel)",
   "language": "python",
   "name": "python3"
  },
  "language_info": {
   "codemirror_mode": {
    "name": "ipython",
    "version": 3
   },
   "file_extension": ".py",
   "mimetype": "text/x-python",
   "name": "python",
   "nbconvert_exporter": "python",
   "pygments_lexer": "ipython3",
   "version": "3.8.10"
  }
 },
 "nbformat": 4,
 "nbformat_minor": 5
}
