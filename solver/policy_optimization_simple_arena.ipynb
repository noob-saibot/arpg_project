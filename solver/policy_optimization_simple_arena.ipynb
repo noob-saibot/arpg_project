{
 "cells": [
  {
   "cell_type": "code",
   "execution_count": 1,
   "metadata": {},
   "outputs": [],
   "source": [
    "import torch\n",
    "import torch.nn as nn\n",
    "import torch.nn.functional as F\n",
    "import torch.optim as optim\n",
    "from torch.distributions import Categorical, Normal, MultivariateNormal\n",
    "from collections import namedtuple\n",
    "from typing import NamedTuple\n",
    "from itertools import chain\n",
    "\n",
    "import gym\n",
    "from tqdm import tqdm_notebook\n",
    "import numpy as np\n",
    "from collections import deque\n",
    "from copy import deepcopy"
   ]
  },
  {
   "cell_type": "code",
   "execution_count": 2,
   "metadata": {},
   "outputs": [],
   "source": [
    "from policy_generator.policy_instances.envs.simple_arena import ActionSpace"
   ]
  },
  {
   "cell_type": "code",
   "execution_count": 3,
   "metadata": {},
   "outputs": [],
   "source": [
    "#device to run model on \n",
    "DEVICE = \"cuda\" if torch.cuda.is_available() else \"cpu\"\n",
    "DEVICE = 'cpu'"
   ]
  },
  {
   "cell_type": "code",
   "execution_count": 4,
   "metadata": {},
   "outputs": [],
   "source": [
    "class ObsSpace(NamedTuple):\n",
    "    agent: np.ndarray\n",
    "    agent_direction: int\n",
    "    target: np.ndarray\n",
    "    velocity: int\n",
    "        \n",
    "def unpack_state(state):\n",
    "    state = ObsSpace(**state[0] if isinstance(state, tuple) else state)\n",
    "    unpack_state = list(chain(state.agent, state.target, [state.velocity, state.agent_direction]))\n",
    "    state = torch.Tensor(unpack_state).float().unsqueeze(0).to(DEVICE)\n",
    "    return state"
   ]
  },
  {
   "cell_type": "code",
   "execution_count": 5,
   "metadata": {},
   "outputs": [],
   "source": [
    "#class for actor-critic network\n",
    "class ActorCriticNetwork(nn.Module):\n",
    "    \n",
    "    def __init__(self, obs_space, action_space):\n",
    "        '''\n",
    "        Args:\n",
    "        - obs_space (int): observation space\n",
    "        - action_space (int): action space\n",
    "        \n",
    "        '''\n",
    "        super(ActorCriticNetwork, self).__init__()\n",
    "        self.action_space = action_space\n",
    "        # self.action_std = action_std\n",
    "\n",
    "        self.actor = nn.Sequential(\n",
    "                            nn.Linear(obs_space, 64),\n",
    "                            nn.Tanh(),\n",
    "                            nn.Linear(64, 64),\n",
    "                            nn.Tanh(),\n",
    "                            nn.Linear(64, action_space),\n",
    "                            nn.Tanh())\n",
    "\n",
    "        self.critic = nn.Sequential(\n",
    "                        nn.Linear(obs_space, 64),\n",
    "                        nn.Tanh(),\n",
    "                        nn.Linear(64, 64),\n",
    "                        nn.Tanh(),\n",
    "                        nn.Linear(64, 1))\n",
    "        \n",
    "    def forward(self):\n",
    "        ''' Not implemented since we call the individual actor and critc networks for forward pass\n",
    "        '''\n",
    "        raise NotImplementedError\n",
    "        \n",
    "    def select_action(self, state):\n",
    "        ''' Selects an action given current state\n",
    "        Args:\n",
    "        - network (Torch NN): network to process state\n",
    "        - state (Array): Array of action space in an environment\n",
    "\n",
    "        Return:\n",
    "        - (int): action that is selected\n",
    "        - (float): log probability of selecting that action given state and network\n",
    "        '''\n",
    "    \n",
    "        #convert state to float tensor, add 1 dimension, allocate tensor on device\n",
    "        state = unpack_state(state)\n",
    "\n",
    "        #use network to predict action probabilities\n",
    "        actions = self.actor(state)\n",
    "\n",
    "        #sample an action using the Gaussian distribution\n",
    "        m = Normal(actions, 0.1)\n",
    "        actions = m.sample()\n",
    "        # print(np.argmax(actions.detach().numpy()))\n",
    "\n",
    "        #return action\n",
    "        return np.argmax(actions.detach().numpy()), m.log_prob(actions)\n",
    "    \n",
    "    def evaluate_action(self, states, actions):\n",
    "        ''' Get log probability and entropy of an action taken in given state\n",
    "        Args:\n",
    "        - states (Array): array of states to be evaluated\n",
    "        - actions (Array): array of actions to be evaluated\n",
    "        \n",
    "        '''\n",
    "        \n",
    "        #convert state to float tensor, add 1 dimension, allocate tensor on device\n",
    "        states_tensor = torch.stack([unpack_state(state) for state in states]).squeeze(1)\n",
    "\n",
    "        #use network to predict action probabilities\n",
    "        actions = self.actor(states_tensor)\n",
    "\n",
    "        #get probability distribution\n",
    "        m = Normal(actions, 0.1)\n",
    "\n",
    "        #return log_prob and entropy\n",
    "        return m.log_prob(torch.Tensor(actions)), m.entropy()"
   ]
  },
  {
   "cell_type": "code",
   "execution_count": null,
   "metadata": {},
   "outputs": [],
   "source": []
  },
  {
   "cell_type": "code",
   "execution_count": 6,
   "metadata": {},
   "outputs": [],
   "source": [
    "#Proximal Policy Optimization\n",
    "class PPO_policy():\n",
    "    \n",
    "    def __init__(self, γ, ϵ, β, δ, c1, c2, k_epoch, obs_space, action_space, α_θ, αv):\n",
    "        '''\n",
    "        Args:\n",
    "        - γ (float): discount factor\n",
    "        - ϵ (float): soft surrogate objective constraint\n",
    "        - β (float): KL (Kullback–Leibler) penalty \n",
    "        - δ (float): KL divergence adaptive target\n",
    "        - c1 (float): value loss weight\n",
    "        - c2 (float): entropy weight\n",
    "        - k_epoch (int): number of epochs to optimize\n",
    "        - obs_space (int): observation space\n",
    "        - action_space (int): action space\n",
    "        - α_θ (float): actor learning rate\n",
    "        - αv (float): critic learning rate\n",
    "        \n",
    "        '''\n",
    "        self.γ = γ\n",
    "        self.ϵ = ϵ\n",
    "        self.β = β\n",
    "        self.δ = δ\n",
    "        self.c1 = c1\n",
    "        self.c2 = c2\n",
    "        self.k_epoch = k_epoch\n",
    "        self.actor_critic = ActorCriticNetwork(obs_space, action_space)\n",
    "        self.optimizer = torch.optim.Adam([\n",
    "            {'params': self.actor_critic.actor.parameters(), 'lr': α_θ},\n",
    "            {'params': self.actor_critic.critic.parameters(), 'lr': αv}\n",
    "        ])\n",
    "        \n",
    "        #buffer to store current batch\n",
    "        self.batch = []\n",
    "    \n",
    "    def process_rewards(self, rewards, terminals):\n",
    "        ''' Converts our rewards history into cumulative discounted rewards\n",
    "        Args:\n",
    "        - rewards (Array): array of rewards \n",
    "\n",
    "        Returns:\n",
    "        - G (Array): array of cumulative discounted rewards\n",
    "        '''\n",
    "        #Calculate Gt (cumulative discounted rewards)\n",
    "        G = []\n",
    "\n",
    "        #track cumulative reward\n",
    "        total_r = 0\n",
    "\n",
    "        #iterate rewards from Gt to G0\n",
    "        for r, done in zip(reversed(rewards), reversed(terminals)):\n",
    "\n",
    "            #Base case: G(T) = r(T)\n",
    "            #Recursive: G(t) = r(t) + G(t+1)^DISCOUNT\n",
    "            total_r = r + total_r * self.γ\n",
    "\n",
    "            #no future rewards if current step is terminal\n",
    "            if done:\n",
    "                total_r = r\n",
    "\n",
    "            #add to front of G\n",
    "            G.insert(0, total_r)\n",
    "\n",
    "        #whitening rewards\n",
    "        G = torch.tensor(G)\n",
    "        G = (G - G.mean())/G.std()\n",
    "\n",
    "        return G\n",
    "    \n",
    "    def kl_divergence(self, old_lps, new_lps):\n",
    "        ''' Calculate distance between two distributions with KL divergence\n",
    "        Args:\n",
    "        - old_lps (Array): array of old policy log probabilities\n",
    "        - new_lps (Array): array of new policy log probabilities\n",
    "        '''\n",
    "        \n",
    "        #track kl divergence\n",
    "        total = 0\n",
    "        \n",
    "        #sum up divergence for all actions\n",
    "        for old_lp, new_lp in zip(old_lps, new_lps):\n",
    "            \n",
    "            #same as old_lp * log(old_prob/new_prob) cuz of log rules\n",
    "            total += old_lp * (old_lp - new_lp)\n",
    "\n",
    "        return total\n",
    "    \n",
    "    \n",
    "    def penalty_update(self):\n",
    "        ''' Update policy using surrogate objective with adaptive KL penalty\n",
    "        '''\n",
    "        \n",
    "        #get items from current batch\n",
    "        states = [sample[0] for sample in self.batch]\n",
    "        actions = [sample[1] for sample in self.batch]\n",
    "        rewards = [sample[2] for sample in self.batch]\n",
    "        old_lps = [sample[3] for sample in self.batch]\n",
    "        terminals = [sample[4] for sample in self.batch]\n",
    "\n",
    "        #calculate cumulative discounted rewards\n",
    "        Gt = self.process_rewards(rewards, terminals)\n",
    "\n",
    "        #track divergence\n",
    "        divergence = 0\n",
    "\n",
    "        #perform k-epoch update\n",
    "        for epoch in range(self.k_epoch):\n",
    "\n",
    "            #get ratio\n",
    "            new_lps, entropies = self.actor_critic.evaluate_action(states, actions)\n",
    "            #same as new_prob / old_prob\n",
    "            ratios = torch.exp(new_lps - torch.Tensor(old_lps))\n",
    "\n",
    "            #compute advantages\n",
    "            states_tensor = torch.stack([unpack_state(state) for state in states]).squeeze(1)\n",
    "            vals = self.actor_critic.critic(states_tensor).squeeze(1).detach()\n",
    "            advantages = Gt - vals\n",
    "\n",
    "            #get loss with adaptive kl penalty\n",
    "            divergence = self.kl_divergence(old_lps, new_lps).detach()\n",
    "            loss = -ratios * advantages + self.β * divergence\n",
    "\n",
    "            #SGD via Adam\n",
    "            self.optimizer.zero_grad()\n",
    "            loss.mean().backward()\n",
    "            self.optimizer.step()\n",
    "\n",
    "        #update adaptive penalty\n",
    "        if divergence >= 1.5 * self.δ:\n",
    "            self.β *= 2\n",
    "        elif divergence <= self.δ / 1.5:\n",
    "            self.β /= 2\n",
    "        \n",
    "        #clear batch buffer\n",
    "        self.batch = []\n",
    "            \n",
    "    def clipped_update(self):\n",
    "        ''' Update policy using clipped surrogate objective\n",
    "        '''\n",
    "        #get items from trajectory\n",
    "        states = [sample[0] for sample in self.batch]\n",
    "        actions = [sample[1] for sample in self.batch]\n",
    "        rewards = [sample[2] for sample in self.batch]\n",
    "        old_lps = [sample[3] for sample in self.batch]\n",
    "        terminals = [sample[4] for sample in self.batch]\n",
    "\n",
    "        #calculate cumulative discounted rewards\n",
    "        Gt = self.process_rewards(rewards, terminals)\n",
    "\n",
    "        #perform k-epoch update\n",
    "        for epoch in range(self.k_epoch):\n",
    "\n",
    "            #get ratio\n",
    "            new_lps, entropies = self.actor_critic.evaluate_action(states, actions)\n",
    "\n",
    "            ratios = torch.exp(new_lps - torch.stack(old_lps).squeeze(1).detach())\n",
    "\n",
    "            #compute advantages\n",
    "            states_tensor = torch.stack([unpack_state(state) for state in states]).squeeze(1)\n",
    "            vals = self.actor_critic.critic(states_tensor).squeeze(1).detach()\n",
    "            advantages = Gt - vals\n",
    "\n",
    "            #clip surrogate objective\n",
    "            surrogate1 = torch.clamp(ratios, min=1 - self.ϵ, max=1 + self.ϵ) * advantages.unsqueeze(0).T\n",
    "            surrogate2 = ratios * advantages.unsqueeze(0).T\n",
    "\n",
    "            #loss, flip signs since this is gradient descent\n",
    "            loss =  -torch.min(surrogate1, surrogate2) + self.c1 * F.mse_loss(Gt, vals) - self.c2 * entropies\n",
    "\n",
    "            self.optimizer.zero_grad()\n",
    "            loss.mean().backward()\n",
    "            self.optimizer.step()\n",
    "        \n",
    "        #clear batch buffer\n",
    "        self.batch = []"
   ]
  },
  {
   "cell_type": "code",
   "execution_count": 7,
   "metadata": {},
   "outputs": [],
   "source": [
    "#Make environment\n",
    "env = gym.make('policy_instances/SimpleArena-v0')\n",
    "\n",
    "#seeds\n",
    "np.random.seed(2)\n",
    "# env.seed(2)\n",
    "torch.manual_seed(2)\n",
    "\n",
    "#environment parameters\n",
    "obs_space = env.shape\n",
    "action_space = env.action_space.n"
   ]
  },
  {
   "cell_type": "code",
   "execution_count": 8,
   "metadata": {},
   "outputs": [],
   "source": [
    "ppo_policy = PPO_policy(γ=0.99, ϵ=0.2, β=1, δ=0.01, c1=0.5, c2=0.01, k_epoch=40, \n",
    "                        obs_space=obs_space, action_space=action_space, α_θ = 1e-5, αv = 1e-5)"
   ]
  },
  {
   "cell_type": "code",
   "execution_count": 9,
   "metadata": {},
   "outputs": [],
   "source": [
    "state = env.reset()"
   ]
  },
  {
   "cell_type": "code",
   "execution_count": 10,
   "metadata": {},
   "outputs": [],
   "source": [
    "actions_mean = ppo_policy.actor_critic.actor(unpack_state(state))"
   ]
  },
  {
   "cell_type": "code",
   "execution_count": 11,
   "metadata": {},
   "outputs": [
    {
     "data": {
      "text/plain": [
       "tensor([[-0.2007,  0.0983, -0.0886, -0.0645,  0.0816]],\n",
       "       grad_fn=<TanhBackward0>)"
      ]
     },
     "execution_count": 11,
     "metadata": {},
     "output_type": "execute_result"
    }
   ],
   "source": [
    "actions_mean"
   ]
  },
  {
   "cell_type": "code",
   "execution_count": 12,
   "metadata": {},
   "outputs": [],
   "source": [
    "#Experiment/Policy Hyperparameters\n",
    "\n",
    "#number of steps to train\n",
    "TRAIN_STEPS = 100000\n",
    "\n",
    "#max steps per episode\n",
    "MAX_STEPS = 500\n",
    "\n",
    "#batch training size\n",
    "BATCH_SIZE = 1600\n",
    "\n",
    "#solved environment score\n",
    "SOLVED_SCORE = 195"
   ]
  },
  {
   "cell_type": "code",
   "execution_count": 13,
   "metadata": {},
   "outputs": [
    {
     "name": "stderr",
     "output_type": "stream",
     "text": [
      "/tmp/ipykernel_1624/1694157310.py:13: TqdmDeprecationWarning: This function will be removed in tqdm==5.0.0\n",
      "Please use `tqdm.notebook.tqdm` instead of `tqdm.tqdm_notebook`\n",
      "  for step in tqdm_notebook(range(1, TRAIN_STEPS)):\n"
     ]
    },
    {
     "data": {
      "application/vnd.jupyter.widget-view+json": {
       "model_id": "d7da4729177046bda319f6f89aecb97d",
       "version_major": 2,
       "version_minor": 0
      },
      "text/plain": [
       "  0%|          | 0/99999 [00:00<?, ?it/s]"
      ]
     },
     "metadata": {},
     "output_type": "display_data"
    },
    {
     "name": "stderr",
     "output_type": "stream",
     "text": [
      "/home/beast/.local/lib/python3.8/site-packages/gym/utils/passive_env_checker.py:165: UserWarning: \u001b[33mWARN: The obs returned by the `step()` method is not within the observation space.\u001b[0m\n",
      "  logger.warn(f\"{pre} is not within the observation space.\")\n"
     ]
    }
   ],
   "source": [
    "#track scores\n",
    "scores = []\n",
    "\n",
    "#recent 100 scores\n",
    "recent_scores = deque(maxlen=100)\n",
    "\n",
    "#reset environment, initiable variables\n",
    "state = env.reset()\n",
    "curr_step = 0\n",
    "score = 0\n",
    "\n",
    "#run training loop\n",
    "for step in tqdm_notebook(range(1, TRAIN_STEPS)):\n",
    "    \n",
    "    #env.render()\n",
    "    curr_step += 1\n",
    "\n",
    "    #select action\n",
    "    action, lp = ppo_policy.actor_critic.select_action(state)\n",
    "\n",
    "    #execute action\n",
    "    new_state, reward, done, _, _ = env.step(action)\n",
    "    \n",
    "    #track rewards\n",
    "    score += reward\n",
    "\n",
    "    #store into trajectory\n",
    "    ppo_policy.batch.append([state, action, reward, lp, done])\n",
    "\n",
    "    #optimize surrogate\n",
    "    if step % BATCH_SIZE == 0:\n",
    "        ppo_policy.clipped_update()\n",
    "\n",
    "    #end episode\n",
    "    if done or curr_step >= MAX_STEPS:\n",
    "        state = env.reset()\n",
    "        curr_step = 0\n",
    "        scores.append(score)\n",
    "        recent_scores.append(score)\n",
    "        score = 0\n",
    "        continue\n",
    "        \n",
    "    #check if solved environment, early stopping\n",
    "    if len(recent_scores) >= 100 and np.array(recent_scores).mean() >= SOLVED_SCORE:\n",
    "        break\n",
    "\n",
    "    #move into new state\n",
    "    state = new_state    "
   ]
  },
  {
   "cell_type": "code",
   "execution_count": 14,
   "metadata": {},
   "outputs": [
    {
     "data": {
      "image/png": "[encoded data removed]",
      "text/plain": [
       "<Figure size 640x480 with 1 Axes>"
      ]
     },
     "metadata": {},
     "output_type": "display_data"
    }
   ],
   "source": [
    "import matplotlib.pyplot as plt\n",
    "from sklearn.linear_model import LinearRegression\n",
    "import seaborn as sns\n",
    "import numpy as np\n",
    "\n",
    "sns.set()\n",
    "\n",
    "plt.plot(scores)\n",
    "plt.ylabel('score')\n",
    "plt.xlabel('episodes')\n",
    "plt.title('Training score of SimpleArena with Clipped Surrogate Objective PPO')\n",
    "\n",
    "reg = LinearRegression().fit(np.arange(len(scores)).reshape(-1, 1), np.array(scores).reshape(-1, 1))\n",
    "y_pred = reg.predict(np.arange(len(scores)).reshape(-1, 1))\n",
    "plt.plot(y_pred)\n",
    "plt.show()"
   ]
  },
  {
   "cell_type": "code",
   "execution_count": 18,
   "metadata": {},
   "outputs": [
    {
     "name": "stderr",
     "output_type": "stream",
     "text": [
      "/tmp/ipykernel_1624/1252809515.py:7: TqdmDeprecationWarning: This function will be removed in tqdm==5.0.0\n",
      "Please use `tqdm.notebook.tqdm` instead of `tqdm.tqdm_notebook`\n",
      "  for _ in tqdm_notebook(range(50)):\n"
     ]
    },
    {
     "data": {
      "application/vnd.jupyter.widget-view+json": {
       "model_id": "ae29370ce81a455d82bb41815407abcc",
       "version_major": 2,
       "version_minor": 0
      },
      "text/plain": [
       "  0%|          | 0/50 [00:00<?, ?it/s]"
      ]
     },
     "metadata": {},
     "output_type": "display_data"
    }
   ],
   "source": [
    "#evaluate policy\n",
    "\n",
    "done = False\n",
    "state = env.reset()\n",
    "scores = []\n",
    "\n",
    "for _ in tqdm_notebook(range(50)):\n",
    "    state = env.reset()\n",
    "    done = False\n",
    "    score = 0\n",
    "    while not done:\n",
    "        #env.render()\n",
    "        action, lp = ppo_policy.actor_critic.select_action(state)\n",
    "        new_state, reward, done, info, _ = env.step(env.action_space.sample())\n",
    "        score += reward\n",
    "        state = new_state\n",
    "    scores.append(score)\n",
    "env.close()"
   ]
  },
  {
   "cell_type": "code",
   "execution_count": 19,
   "metadata": {},
   "outputs": [
    {
     "data": {
      "text/plain": [
       "-7.86"
      ]
     },
     "execution_count": 19,
     "metadata": {},
     "output_type": "execute_result"
    }
   ],
   "source": [
    "np.array(scores).mean()"
   ]
  },
  {
   "cell_type": "code",
   "execution_count": 20,
   "metadata": {},
   "outputs": [],
   "source": [
    "env.close()"
   ]
  },
  {
   "cell_type": "code",
   "execution_count": 3,
   "metadata": {},
   "outputs": [],
   "source": [
    "#Make environment\n",
    "env = gym.make('LunarLanderContinuous-v2')\n"
   ]
  },
  {
   "cell_type": "code",
   "execution_count": 4,
   "metadata": {},
   "outputs": [
    {
     "data": {
      "text/plain": [
       "(array([-0.00618267,  1.4192958 , -0.62625325,  0.37224102,  0.00717097,\n",
       "         0.14185576,  0.        ,  0.        ], dtype=float32),\n",
       " {})"
      ]
     },
     "execution_count": 4,
     "metadata": {},
     "output_type": "execute_result"
    }
   ],
   "source": [
    "env.reset()"
   ]
  },
  {
   "cell_type": "code",
   "execution_count": 5,
   "metadata": {},
   "outputs": [
    {
     "ename": "IndexError",
     "evalue": "invalid index to scalar variable.",
     "output_type": "error",
     "traceback": [
      "\u001b[0;31m---------------------------------------------------------------------------\u001b[0m",
      "\u001b[0;31mIndexError\u001b[0m                                Traceback (most recent call last)",
      "Cell \u001b[0;32mIn [5], line 1\u001b[0m\n\u001b[0;32m----> 1\u001b[0m \u001b[43menv\u001b[49m\u001b[38;5;241;43m.\u001b[39;49m\u001b[43mstep\u001b[49m\u001b[43m(\u001b[49m\u001b[38;5;241;43m1\u001b[39;49m\u001b[43m)\u001b[49m\n",
      "File \u001b[0;32m~/.local/lib/python3.8/site-packages/gym/wrappers/time_limit.py:50\u001b[0m, in \u001b[0;36mTimeLimit.step\u001b[0;34m(self, action)\u001b[0m\n\u001b[1;32m     39\u001b[0m \u001b[38;5;28;01mdef\u001b[39;00m \u001b[38;5;21mstep\u001b[39m(\u001b[38;5;28mself\u001b[39m, action):\n\u001b[1;32m     40\u001b[0m     \u001b[38;5;124;03m\"\"\"Steps through the environment and if the number of steps elapsed exceeds ``max_episode_steps`` then truncate.\u001b[39;00m\n\u001b[1;32m     41\u001b[0m \n\u001b[1;32m     42\u001b[0m \u001b[38;5;124;03m    Args:\u001b[39;00m\n\u001b[0;32m   (...)\u001b[0m\n\u001b[1;32m     48\u001b[0m \n\u001b[1;32m     49\u001b[0m \u001b[38;5;124;03m    \"\"\"\u001b[39;00m\n\u001b[0;32m---> 50\u001b[0m     observation, reward, terminated, truncated, info \u001b[38;5;241m=\u001b[39m \u001b[38;5;28;43mself\u001b[39;49m\u001b[38;5;241;43m.\u001b[39;49m\u001b[43menv\u001b[49m\u001b[38;5;241;43m.\u001b[39;49m\u001b[43mstep\u001b[49m\u001b[43m(\u001b[49m\u001b[43maction\u001b[49m\u001b[43m)\u001b[49m\n\u001b[1;32m     51\u001b[0m     \u001b[38;5;28mself\u001b[39m\u001b[38;5;241m.\u001b[39m_elapsed_steps \u001b[38;5;241m+\u001b[39m\u001b[38;5;241m=\u001b[39m \u001b[38;5;241m1\u001b[39m\n\u001b[1;32m     53\u001b[0m     \u001b[38;5;28;01mif\u001b[39;00m \u001b[38;5;28mself\u001b[39m\u001b[38;5;241m.\u001b[39m_elapsed_steps \u001b[38;5;241m>\u001b[39m\u001b[38;5;241m=\u001b[39m \u001b[38;5;28mself\u001b[39m\u001b[38;5;241m.\u001b[39m_max_episode_steps:\n",
      "File \u001b[0;32m~/.local/lib/python3.8/site-packages/gym/wrappers/order_enforcing.py:37\u001b[0m, in \u001b[0;36mOrderEnforcing.step\u001b[0;34m(self, action)\u001b[0m\n\u001b[1;32m     35\u001b[0m \u001b[38;5;28;01mif\u001b[39;00m \u001b[38;5;129;01mnot\u001b[39;00m \u001b[38;5;28mself\u001b[39m\u001b[38;5;241m.\u001b[39m_has_reset:\n\u001b[1;32m     36\u001b[0m     \u001b[38;5;28;01mraise\u001b[39;00m ResetNeeded(\u001b[38;5;124m\"\u001b[39m\u001b[38;5;124mCannot call env.step() before calling env.reset()\u001b[39m\u001b[38;5;124m\"\u001b[39m)\n\u001b[0;32m---> 37\u001b[0m \u001b[38;5;28;01mreturn\u001b[39;00m \u001b[38;5;28;43mself\u001b[39;49m\u001b[38;5;241;43m.\u001b[39;49m\u001b[43menv\u001b[49m\u001b[38;5;241;43m.\u001b[39;49m\u001b[43mstep\u001b[49m\u001b[43m(\u001b[49m\u001b[43maction\u001b[49m\u001b[43m)\u001b[49m\n",
      "File \u001b[0;32m~/.local/lib/python3.8/site-packages/gym/wrappers/env_checker.py:37\u001b[0m, in \u001b[0;36mPassiveEnvChecker.step\u001b[0;34m(self, action)\u001b[0m\n\u001b[1;32m     35\u001b[0m \u001b[38;5;28;01mif\u001b[39;00m \u001b[38;5;28mself\u001b[39m\u001b[38;5;241m.\u001b[39mchecked_step \u001b[38;5;129;01mis\u001b[39;00m \u001b[38;5;28;01mFalse\u001b[39;00m:\n\u001b[1;32m     36\u001b[0m     \u001b[38;5;28mself\u001b[39m\u001b[38;5;241m.\u001b[39mchecked_step \u001b[38;5;241m=\u001b[39m \u001b[38;5;28;01mTrue\u001b[39;00m\n\u001b[0;32m---> 37\u001b[0m     \u001b[38;5;28;01mreturn\u001b[39;00m \u001b[43menv_step_passive_checker\u001b[49m\u001b[43m(\u001b[49m\u001b[38;5;28;43mself\u001b[39;49m\u001b[38;5;241;43m.\u001b[39;49m\u001b[43menv\u001b[49m\u001b[43m,\u001b[49m\u001b[43m \u001b[49m\u001b[43maction\u001b[49m\u001b[43m)\u001b[49m\n\u001b[1;32m     38\u001b[0m \u001b[38;5;28;01melse\u001b[39;00m:\n\u001b[1;32m     39\u001b[0m     \u001b[38;5;28;01mreturn\u001b[39;00m \u001b[38;5;28mself\u001b[39m\u001b[38;5;241m.\u001b[39menv\u001b[38;5;241m.\u001b[39mstep(action)\n",
      "File \u001b[0;32m~/.local/lib/python3.8/site-packages/gym/utils/passive_env_checker.py:214\u001b[0m, in \u001b[0;36menv_step_passive_checker\u001b[0;34m(env, action)\u001b[0m\n\u001b[1;32m    212\u001b[0m \u001b[38;5;124;03m\"\"\"A passive check for the environment step, investigating the returning data then returning the data unchanged.\"\"\"\u001b[39;00m\n\u001b[1;32m    213\u001b[0m \u001b[38;5;66;03m# We don't check the action as for some environments then out-of-bounds values can be given\u001b[39;00m\n\u001b[0;32m--> 214\u001b[0m result \u001b[38;5;241m=\u001b[39m \u001b[43menv\u001b[49m\u001b[38;5;241;43m.\u001b[39;49m\u001b[43mstep\u001b[49m\u001b[43m(\u001b[49m\u001b[43maction\u001b[49m\u001b[43m)\u001b[49m\n\u001b[1;32m    215\u001b[0m \u001b[38;5;28;01massert\u001b[39;00m \u001b[38;5;28misinstance\u001b[39m(\n\u001b[1;32m    216\u001b[0m     result, \u001b[38;5;28mtuple\u001b[39m\n\u001b[1;32m    217\u001b[0m ), \u001b[38;5;124mf\u001b[39m\u001b[38;5;124m\"\u001b[39m\u001b[38;5;124mExpects step result to be a tuple, actual type: \u001b[39m\u001b[38;5;132;01m{\u001b[39;00m\u001b[38;5;28mtype\u001b[39m(result)\u001b[38;5;132;01m}\u001b[39;00m\u001b[38;5;124m\"\u001b[39m\n\u001b[1;32m    218\u001b[0m \u001b[38;5;28;01mif\u001b[39;00m \u001b[38;5;28mlen\u001b[39m(result) \u001b[38;5;241m==\u001b[39m \u001b[38;5;241m4\u001b[39m:\n",
      "File \u001b[0;32m~/.local/lib/python3.8/site-packages/gym/envs/box2d/lunar_lander.py:492\u001b[0m, in \u001b[0;36mLunarLander.step\u001b[0;34m(self, action)\u001b[0m\n\u001b[1;32m    489\u001b[0m dispersion \u001b[38;5;241m=\u001b[39m [\u001b[38;5;28mself\u001b[39m\u001b[38;5;241m.\u001b[39mnp_random\u001b[38;5;241m.\u001b[39muniform(\u001b[38;5;241m-\u001b[39m\u001b[38;5;241m1.0\u001b[39m, \u001b[38;5;241m+\u001b[39m\u001b[38;5;241m1.0\u001b[39m) \u001b[38;5;241m/\u001b[39m SCALE \u001b[38;5;28;01mfor\u001b[39;00m _ \u001b[38;5;129;01min\u001b[39;00m \u001b[38;5;28mrange\u001b[39m(\u001b[38;5;241m2\u001b[39m)]\n\u001b[1;32m    491\u001b[0m m_power \u001b[38;5;241m=\u001b[39m \u001b[38;5;241m0.0\u001b[39m\n\u001b[0;32m--> 492\u001b[0m \u001b[38;5;28;01mif\u001b[39;00m (\u001b[38;5;28mself\u001b[39m\u001b[38;5;241m.\u001b[39mcontinuous \u001b[38;5;129;01mand\u001b[39;00m \u001b[43maction\u001b[49m\u001b[43m[\u001b[49m\u001b[38;5;241;43m0\u001b[39;49m\u001b[43m]\u001b[49m \u001b[38;5;241m>\u001b[39m \u001b[38;5;241m0.0\u001b[39m) \u001b[38;5;129;01mor\u001b[39;00m (\n\u001b[1;32m    493\u001b[0m     \u001b[38;5;129;01mnot\u001b[39;00m \u001b[38;5;28mself\u001b[39m\u001b[38;5;241m.\u001b[39mcontinuous \u001b[38;5;129;01mand\u001b[39;00m action \u001b[38;5;241m==\u001b[39m \u001b[38;5;241m2\u001b[39m\n\u001b[1;32m    494\u001b[0m ):\n\u001b[1;32m    495\u001b[0m     \u001b[38;5;66;03m# Main engine\u001b[39;00m\n\u001b[1;32m    496\u001b[0m     \u001b[38;5;28;01mif\u001b[39;00m \u001b[38;5;28mself\u001b[39m\u001b[38;5;241m.\u001b[39mcontinuous:\n\u001b[1;32m    497\u001b[0m         m_power \u001b[38;5;241m=\u001b[39m (np\u001b[38;5;241m.\u001b[39mclip(action[\u001b[38;5;241m0\u001b[39m], \u001b[38;5;241m0.0\u001b[39m, \u001b[38;5;241m1.0\u001b[39m) \u001b[38;5;241m+\u001b[39m \u001b[38;5;241m1.0\u001b[39m) \u001b[38;5;241m*\u001b[39m \u001b[38;5;241m0.5\u001b[39m  \u001b[38;5;66;03m# 0.5..1.0\u001b[39;00m\n",
      "\u001b[0;31mIndexError\u001b[0m: invalid index to scalar variable."
     ]
    }
   ],
   "source": [
    "env.step(1)"
   ]
  },
  {
   "cell_type": "code",
   "execution_count": null,
   "metadata": {},
   "outputs": [],
   "source": []
  }
 ],
 "metadata": {
  "kernelspec": {
   "display_name": "Python 3 (ipykernel)",
   "language": "python",
   "name": "python3"
  },
  "language_info": {
   "codemirror_mode": {
    "name": "ipython",
    "version": 3
   },
   "file_extension": ".py",
   "mimetype": "text/x-python",
   "name": "python",
   "nbconvert_exporter": "python",
   "pygments_lexer": "ipython3",
   "version": "3.8.10"
  }
 },
 "nbformat": 4,
 "nbformat_minor": 5
}
